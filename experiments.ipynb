{
 "cells": [
  {
   "cell_type": "code",
   "execution_count": 1,
   "id": "089f6034",
   "metadata": {},
   "outputs": [],
   "source": [
    "%load_ext autoreload\n",
    "%autoreload 2"
   ]
  },
  {
   "cell_type": "code",
   "execution_count": 2,
   "id": "5b423de3",
   "metadata": {},
   "outputs": [
    {
     "name": "stderr",
     "output_type": "stream",
     "text": [
      "/network/lustre/dtlake01/aramis/users/sasha.collin/miniconda3/envs/venv/lib/python3.7/site-packages/nilearn/datasets/__init__.py:90: FutureWarning: Fetchers from the nilearn.datasets module will be updated in version 0.9 to return python strings instead of bytes and Pandas dataframes instead of Numpy arrays.\n",
      "  \"Numpy arrays.\", FutureWarning)\n"
     ]
    }
   ],
   "source": [
    "import torch\n",
    "import torchvision\n",
    "import numpy as np\n",
    "from nilearn import plotting\n",
    "import clinicadl\n",
    "import pandas as pd\n",
    "import matplotlib.pyplot as plt\n",
    "from torchinfo import summary\n",
    "from sklearn.metrics import log_loss\n",
    "from collections import OrderedDict\n",
    "from PIL import Image\n",
    "from tqdm import tqdm\n",
    "from math import floor\n",
    "import random\n",
    "import time\n",
    "import os\n",
    "import json\n",
    "import re\n",
    "\n",
    "# torch\n",
    "import torch.nn as nn\n",
    "import torch.nn.functional as F\n",
    "import torch.optim as optim\n",
    "\n",
    "# clinicaDL\n",
    "from clinicadl.tools.tsv.data_split import create_split\n",
    "from clinicadl.tools.deep_learning.data import generate_sampler, return_dataset, MRIDataset, get_transforms\n",
    "from torch.utils.data import DataLoader\n",
    "from clinicadl.tools.deep_learning.cnn_utils import train, get_criterion, test\n",
    "from clinicadl.tools.deep_learning.models.random import RandomArchitecture\n",
    "from clinicadl.tools.deep_learning import EarlyStopping\n",
    "\n",
    "import matplotlib as mpl\n",
    "from mpl_toolkits.mplot3d import Axes3D\n",
    "import numpy as np\n",
    "import matplotlib.pyplot as plt\n",
    "\n",
    "# visualization\n",
    "from scipy.ndimage import zoom\n",
    "import itkwidgets\n",
    "from ipywidgets import interact, interactive, IntSlider, ToggleButtons\n",
    "import matplotlib.pyplot as plt\n",
    "\n",
    "%matplotlib inline"
   ]
  },
  {
   "cell_type": "code",
   "execution_count": 3,
   "id": "6d32fc9a",
   "metadata": {},
   "outputs": [],
   "source": [
    "# ignore warnings\n",
    "import warnings\n",
    "warnings.filterwarnings('ignore')"
   ]
  },
  {
   "cell_type": "code",
   "execution_count": 4,
   "id": "c73f81ad",
   "metadata": {},
   "outputs": [],
   "source": [
    "from tools.explanations.evaluation import *\n",
    "from tools.explanations.GradCam import *\n",
    "from tools.explanations.guided_backprop import *\n",
    "from train.train_CNN import *\n",
    "from tools.callbacks import *\n",
    "from tools.data import *\n",
    "from tools.explanations.visualization import *\n",
    "from tools.models.CN5_FC3_3D import *\n",
    "from tools.settings import *"
   ]
  },
  {
   "cell_type": "code",
   "execution_count": 5,
   "id": "29293b59",
   "metadata": {},
   "outputs": [],
   "source": [
    "data_path = '/network/lustre/dtlake01/aramis/datasets/adni/caps/caps_v2021.tsv'\n",
    "summary_path = '/network/lustre/dtlake01/aramis/datasets/adni/caps/caps_v2021_summary.tsv'\n",
    "# df_data = pd.read_csv(data_path,sep='\\t',nrows=10)\n",
    "# df_summary = pd.read_csv(summary_path,sep='\\t',nrows=10)"
   ]
  },
  {
   "cell_type": "code",
   "execution_count": 6,
   "id": "a61834a8",
   "metadata": {},
   "outputs": [],
   "source": [
    "pipeline_name='t1-volume'\n",
    "atlas_id='AAL2'"
   ]
  },
  {
   "cell_type": "markdown",
   "id": "eb619243",
   "metadata": {},
   "source": [
    "# Train Single CNN"
   ]
  },
  {
   "cell_type": "markdown",
   "id": "bc1e3401",
   "metadata": {
    "heading_collapsed": true
   },
   "source": [
    "## Initialization"
   ]
  },
  {
   "cell_type": "code",
   "execution_count": 1,
   "id": "a67523b0",
   "metadata": {
    "code_folding": [],
    "hidden": true
   },
   "outputs": [
    {
     "ename": "NameError",
     "evalue": "name 'os' is not defined",
     "output_type": "error",
     "traceback": [
      "\u001b[0;31m---------------------------------------------------------------------------\u001b[0m",
      "\u001b[0;31mNameError\u001b[0m                                 Traceback (most recent call last)",
      "\u001b[0;32m<ipython-input-1-e2bcfac46448>\u001b[0m in \u001b[0;36m<module>\u001b[0;34m\u001b[0m\n\u001b[1;32m      2\u001b[0m \u001b[0mcaps_directory\u001b[0m \u001b[0;34m=\u001b[0m \u001b[0;34m'/network/lustre/dtlake01/aramis/datasets/adni/caps/caps_v2021/'\u001b[0m\u001b[0;34m\u001b[0m\u001b[0;34m\u001b[0m\u001b[0m\n\u001b[1;32m      3\u001b[0m \u001b[0mbatch_size\u001b[0m \u001b[0;34m=\u001b[0m \u001b[0;36m16\u001b[0m\u001b[0;34m\u001b[0m\u001b[0;34m\u001b[0m\u001b[0m\n\u001b[0;32m----> 4\u001b[0;31m \u001b[0mnum_workers\u001b[0m \u001b[0;34m=\u001b[0m \u001b[0mos\u001b[0m\u001b[0;34m.\u001b[0m\u001b[0mcpu_count\u001b[0m\u001b[0;34m(\u001b[0m\u001b[0;34m)\u001b[0m\u001b[0;34m\u001b[0m\u001b[0;34m\u001b[0m\u001b[0m\n\u001b[0m\u001b[1;32m      5\u001b[0m \u001b[0mlearning_rate\u001b[0m \u001b[0;34m=\u001b[0m \u001b[0;36m1e-4\u001b[0m\u001b[0;34m\u001b[0m\u001b[0;34m\u001b[0m\u001b[0m\n\u001b[1;32m      6\u001b[0m \u001b[0mweight_decay\u001b[0m \u001b[0;34m=\u001b[0m \u001b[0;36m1e-4\u001b[0m\u001b[0;34m\u001b[0m\u001b[0;34m\u001b[0m\u001b[0m\n",
      "\u001b[0;31mNameError\u001b[0m: name 'os' is not defined"
     ]
    }
   ],
   "source": [
    "# global parameters\n",
    "caps_directory = '/network/lustre/dtlake01/aramis/datasets/adni/caps/caps_v2021/'\n",
    "batch_size = 16\n",
    "num_workers = os.cpu_count()\n",
    "learning_rate = 1e-4\n",
    "weight_decay = 1e-4"
   ]
  },
  {
   "cell_type": "code",
   "execution_count": null,
   "id": "efac0b65",
   "metadata": {
    "code_folding": [],
    "hidden": true,
    "scrolled": true
   },
   "outputs": [],
   "source": [
    "# load dataframes\n",
    "AD = pd.read_csv('subjects/AD.tsv',sep='\\t')\n",
    "CN = pd.read_csv('subjects/CN.tsv',sep='\\t')\n",
    "\n",
    "# remove samples with NaN\n",
    "AD.drop(AD[AD.isna().sum(axis=1) > 0].index, inplace=True)\n",
    "CN.drop(CN[CN.isna().sum(axis=1) > 0].index, inplace=True)\n",
    "\n",
    "# split data between training and validation sets\n",
    "training_df, valid_df = create_split('AD', AD, 'diagnosis',0.2)\n",
    "df_CN = create_split('CN', CN, 'diagnosis',0.2)\n",
    "training_df = training_df.append(df_CN[0]).reset_index().iloc[np.array([0,1,2,-1,-2,-3])]\n",
    "valid_df = valid_df.append(df_CN[1]).reset_index().iloc[np.array([0,1,2,-1,-2,-3])]\n",
    "\n",
    "# drop index column\n",
    "training_df.drop(columns = ['index'], inplace=True)\n",
    "valid_df.drop(columns = ['index'], inplace=True)\n",
    "\n",
    "train_transforms, all_transforms = get_transforms('image', minmaxnormalization=True, data_augmentation=None )\n",
    "# fetch volumetric data\n",
    "stds, df_add_data = fetch_add_data(training_df)\n",
    "\n",
    "# all_transforms = torchvision.transforms.Compose([])"
   ]
  },
  {
   "cell_type": "code",
   "execution_count": null,
   "id": "fa898c26",
   "metadata": {
    "hidden": true
   },
   "outputs": [],
   "source": [
    "data_train = MRIDatasetImage(caps_directory, training_df, df_add_data=df_add_data,all_transformations=all_transforms) #train_transformations=all_transforms\n",
    "data_valid = MRIDatasetImage(caps_directory, valid_df, df_add_data=df_add_data, all_transformations=all_transforms) #train_transformations=all_transforms,\n",
    "\n",
    "\n",
    "# sampler\n",
    "train_sampler = generate_sampler(data_train)\n",
    "valid_sampler = generate_sampler(data_valid)\n",
    "# loaders\n",
    "train_loader = DataLoader(data_train,\n",
    "                         batch_size=batch_size,\n",
    "                         sampler=train_sampler,\n",
    "                         num_workers=num_workers,\n",
    "                         pin_memory=True)\n",
    "\n",
    "valid_loader = DataLoader(data_valid,\n",
    "                         batch_size=batch_size,\n",
    "                         sampler=valid_sampler,\n",
    "                         num_workers=num_workers,\n",
    "                         pin_memory=True)"
   ]
  },
  {
   "cell_type": "markdown",
   "id": "fe9be74e",
   "metadata": {
    "heading_collapsed": true
   },
   "source": [
    "## Training"
   ]
  },
  {
   "cell_type": "code",
   "execution_count": null,
   "id": "47b66241",
   "metadata": {
    "hidden": true,
    "scrolled": true
   },
   "outputs": [],
   "source": [
    "# get sample\n",
    "sample = data_train[0]\n",
    "# build model\n",
    "model = Net(sample, [8, 16, 32, 64, 128])\n",
    "# if torch.cuda.is_available():\n",
    "#     print(\"To cuda\")\n",
    "#     model.cuda()\n",
    "model.summary(batch_size=16)"
   ]
  },
  {
   "cell_type": "code",
   "execution_count": null,
   "id": "27816173",
   "metadata": {
    "hidden": true
   },
   "outputs": [],
   "source": [
    "# optimizer\n",
    "optimizer = optim.Adam(model.parameters(), lr=1e-4)\n",
    "# record losses\n",
    "train_losses = dict()\n",
    "test_losses = dict()\n",
    "\n",
    "# callbacks\n",
    "ES = EarlyStopping(patience=5)\n",
    "MC = ModelCheckpoint()\n",
    "\n",
    "print(\"Beginning of the training\")\n",
    "\n",
    "# training\n",
    "for epoch in range(2):\n",
    "    update_dict(train_losses, train(epoch, model, optimizer, train_loader, to_cuda=True))\n",
    "    update_dict(test_losses, test(model, valid_loader, to_cuda=True, rescaling=stds))"
   ]
  },
  {
   "cell_type": "code",
   "execution_count": null,
   "id": "d70ff3f9",
   "metadata": {
    "hidden": true
   },
   "outputs": [],
   "source": [
    "for k in range(1,5):\n",
    "    print(np.linalg.norm(getattr(getattr(model,'branch' + str(k)), 'b' + str(k) + '-conv').weight.grad.data.cpu()))"
   ]
  },
  {
   "cell_type": "markdown",
   "id": "497c3703",
   "metadata": {
    "heading_collapsed": true
   },
   "source": [
    "## Loss visualization"
   ]
  },
  {
   "cell_type": "code",
   "execution_count": null,
   "id": "8f08832b",
   "metadata": {
    "code_folding": [],
    "hidden": true
   },
   "outputs": [],
   "source": [
    "def plot_losses(dict_losses, title=\"\"):\n",
    "    \"\"\"\n",
    "    Plot the different losses.\n",
    "    \n",
    "    Args:\n",
    "        dict_losses: dictionnary of losses\n",
    "    \"\"\"\n",
    "    plt.figure()\n",
    "    plt.title(title)\n",
    "    for key in dict_losses.keys():\n",
    "        plt.plot(dict_losses[key], label=key)\n",
    "    plt.legend()\n",
    "    plt.show()\n",
    "    \n",
    "def plot_tensor(X):\n",
    "    x = np.transpose(X[0], (1,2,0))\n",
    "    x = (x-x.min())/x.max()\n",
    "    plt.imshow(x)"
   ]
  },
  {
   "cell_type": "code",
   "execution_count": null,
   "id": "8fb76b5b",
   "metadata": {
    "hidden": true
   },
   "outputs": [],
   "source": [
    "metric_path = 'results/models/model_5/'\n",
    "\n",
    "train_metrics = pd.read_csv(metric_path + 'train_losses.csv')\n",
    "test_metrics = pd.read_csv(metric_path + 'val_losses.csv')"
   ]
  },
  {
   "cell_type": "code",
   "execution_count": null,
   "id": "a1d51b84",
   "metadata": {
    "hidden": true
   },
   "outputs": [],
   "source": [
    "plot_losses(train_metrics[['disease']], \"Training losses\")"
   ]
  },
  {
   "cell_type": "code",
   "execution_count": null,
   "id": "6f7f6ecb",
   "metadata": {
    "hidden": true
   },
   "outputs": [],
   "source": [
    "plot_losses(test_metrics[['disease']], \"Val losses\")"
   ]
  },
  {
   "cell_type": "markdown",
   "id": "02cce37e",
   "metadata": {},
   "source": [
    "## Explanations"
   ]
  },
  {
   "cell_type": "code",
   "execution_count": null,
   "id": "93691a10",
   "metadata": {},
   "outputs": [],
   "source": [
    "args = dict()\n",
    "args['dataset'] = 'val'\n",
    "args['preprocessing'] = 't1-linear'\n",
    "args['convolutions'] = [8,16,32,64,128]\n",
    "args['dropout'] = 0.2\n",
    "args['model_path'] = 'results/models/model_85'\n",
    "\n",
    "\n",
    "caps_directory = '/network/lustre/dtlake01/aramis/datasets/adni/caps/caps_v2021/'\n",
    "path = 'results/models/model_85/'\n",
    "training_df = pd.read_csv(os.path.join(args['model_path'], 'training_df.csv'))\n",
    "valid_df = pd.read_csv(os.path.join(args['model_path'], 'valid_df.csv'))\n",
    "\n",
    "# get transformations\n",
    "train_transforms, all_transforms = get_transforms('image', minmaxnormalization=True, data_augmentation=None)\n",
    "\n",
    "# fetch volumetric data (useless in practice)\n",
    "stds, df_add_data = fetch_add_data(training_df)\n",
    "\n",
    "# build data loader\n",
    "if args['dataset'] == 'train':\n",
    "    data_loader = MRIDatasetImage(caps_directory, training_df, df_add_data=df_add_data,\n",
    "                                  preprocessing=args['preprocessing'], all_transformations=all_transforms)\n",
    "elif args['dataset'] == 'val':\n",
    "    data_loader = MRIDatasetImage(caps_directory, valid_df, df_add_data=df_add_data, preprocessing=args['preprocessing'],\n",
    "                                  all_transformations=all_transforms)\n",
    "else:\n",
    "    raise Exception('No dataset.')\n",
    "\n",
    "# get sample\n",
    "sample = data_loader[0]\n",
    "# build model\n",
    "model = Net(sample, args['convolutions'], args['dropout'], False).cuda()\n",
    "# load pretrained weights on validation set\n",
    "saved_data = torch.load(os.path.join(args['model_path'], 'test_best_model.pt'))\n",
    "model.load_state_dict(saved_data['model_state_dict'])\n",
    "\n",
    "# initialize interpretability method\n",
    "GC = GradCam(model)"
   ]
  },
  {
   "cell_type": "markdown",
   "id": "0e021030",
   "metadata": {
    "heading_collapsed": true
   },
   "source": [
    "### old"
   ]
  },
  {
   "cell_type": "code",
   "execution_count": null,
   "id": "e00eba71",
   "metadata": {
    "hidden": true
   },
   "outputs": [],
   "source": [
    "sample = data_train[0]\n",
    "img = sample['image'].float()\n",
    "img.shape"
   ]
  },
  {
   "cell_type": "code",
   "execution_count": null,
   "id": "eb37b136",
   "metadata": {
    "hidden": true
   },
   "outputs": [],
   "source": [
    "# load model\n",
    "saved_data = torch.load(os.path.join(path, 'test_best_model.pt'))\n",
    "\n",
    "model.load_state_dict(saved_data['model_state_dict'])\n",
    "\n",
    "# select one image\n",
    "img = sample['image'].float()\n",
    "\n",
    "mode = 'cuda'\n",
    "if mode == 'cuda':\n",
    "    model = model.cuda()\n",
    "    img = img.cuda()\n",
    "else:\n",
    "    model = model.cpu()\n",
    "    img = img.cpu()"
   ]
  },
  {
   "cell_type": "code",
   "execution_count": null,
   "id": "ea83d9d8",
   "metadata": {
    "hidden": true
   },
   "outputs": [],
   "source": [
    "ar = np.load('results/models/model_19/attribution_maps/GC/val/age/sub-ADNI002S1018_ses-M00.npy')"
   ]
  },
  {
   "cell_type": "markdown",
   "id": "f6bda604",
   "metadata": {
    "heading_collapsed": true
   },
   "source": [
    "### Loss visualization"
   ]
  },
  {
   "cell_type": "code",
   "execution_count": null,
   "id": "ed9a8726",
   "metadata": {
    "hidden": true
   },
   "outputs": [],
   "source": [
    "saved_data = torch.load('results/models/model_19/last_model.pt')"
   ]
  },
  {
   "cell_type": "code",
   "execution_count": null,
   "id": "fba39a1f",
   "metadata": {
    "hidden": true
   },
   "outputs": [],
   "source": [
    "saved_data.keys()"
   ]
  },
  {
   "cell_type": "code",
   "execution_count": null,
   "id": "2a47e586",
   "metadata": {
    "hidden": true
   },
   "outputs": [],
   "source": [
    "train_metrics = saved_data['val_metrics']"
   ]
  },
  {
   "cell_type": "code",
   "execution_count": null,
   "id": "1124cbad",
   "metadata": {
    "hidden": true
   },
   "outputs": [],
   "source": [
    "train_metrics['b3_MeanSquaredError']"
   ]
  },
  {
   "cell_type": "code",
   "execution_count": null,
   "id": "0cd877ad",
   "metadata": {
    "hidden": true
   },
   "outputs": [],
   "source": [
    "pd.DataFrame(train_metrics)['b3_MeanSquaredError'].plot()"
   ]
  },
  {
   "cell_type": "markdown",
   "id": "9f7496f0",
   "metadata": {
    "heading_collapsed": true
   },
   "source": [
    "### Guided Backpropagation"
   ]
  },
  {
   "cell_type": "code",
   "execution_count": null,
   "id": "fcbb3ab1",
   "metadata": {
    "hidden": true,
    "scrolled": true
   },
   "outputs": [],
   "source": [
    "GBP = GuidedBackprop(model)\n",
    "attention_maps = GBP.generate_gradients(img)"
   ]
  },
  {
   "cell_type": "code",
   "execution_count": null,
   "id": "55feea14",
   "metadata": {
    "hidden": true
   },
   "outputs": [],
   "source": [
    "visualize_explanations(img.cpu(), attention_maps)"
   ]
  },
  {
   "cell_type": "markdown",
   "id": "79bbf4a1",
   "metadata": {
    "heading_collapsed": true
   },
   "source": [
    "### GradCAM"
   ]
  },
  {
   "cell_type": "code",
   "execution_count": null,
   "id": "453f2de9",
   "metadata": {
    "hidden": true,
    "scrolled": true
   },
   "outputs": [],
   "source": [
    "a0 = time.time()\n",
    "GC = GradCam(model)\n",
    "img = sample['image']\n",
    "attentions = GC.get_explanations(img.cuda(), resize=False, to_cpu=True)\n",
    "print(time.time() - a0)"
   ]
  },
  {
   "cell_type": "code",
   "execution_count": null,
   "id": "bc97343c",
   "metadata": {
    "hidden": true
   },
   "outputs": [],
   "source": [
    "a0 = time.time()\n",
    "model.cuda()\n",
    "GC = GradCam(model)\n",
    "img = data_loader[1]['image']\n",
    "attentions = GC.generate_cam(img.cuda(), branch='branch1', resize=True, to_cpu=True)\n",
    "print(time.time() - a0)"
   ]
  },
  {
   "cell_type": "code",
   "execution_count": null,
   "id": "484f71c8",
   "metadata": {
    "hidden": true
   },
   "outputs": [],
   "source": [
    "visualize_explanations(img, {'branch1':attentions}, targets='disease')"
   ]
  },
  {
   "cell_type": "code",
   "execution_count": null,
   "id": "c9c11aca",
   "metadata": {
    "hidden": true,
    "scrolled": false
   },
   "outputs": [],
   "source": [
    "# for key in attentions:\n",
    "#     attentions[key] = attentions[key].cpu()\n",
    "visualize_explanations(img, attentions) #, targets='volumes')"
   ]
  },
  {
   "cell_type": "code",
   "execution_count": null,
   "id": "33b69953",
   "metadata": {
    "hidden": true
   },
   "outputs": [],
   "source": [
    "a0 = time.time()\n",
    "GC = GradCam(model.cuda(), target_layer='conv2')\n",
    "img = sample['image'].float()\n",
    "attentions = GC.get_explanations(img.cuda(), resize=True, to_cpu=True)\n",
    "print(time.time() - a0)"
   ]
  },
  {
   "cell_type": "code",
   "execution_count": null,
   "id": "fca37236",
   "metadata": {
    "hidden": true
   },
   "outputs": [],
   "source": [
    "visualize_explanations(img, attentions)"
   ]
  },
  {
   "cell_type": "code",
   "execution_count": null,
   "id": "ab791723",
   "metadata": {
    "hidden": true
   },
   "outputs": [],
   "source": [
    "visualize_explanations(img, attentions, targets='disease')"
   ]
  },
  {
   "cell_type": "markdown",
   "id": "6006ddc6",
   "metadata": {
    "heading_collapsed": true
   },
   "source": [
    "### max-sensitivity"
   ]
  },
  {
   "cell_type": "code",
   "execution_count": null,
   "id": "62552349",
   "metadata": {
    "hidden": true
   },
   "outputs": [],
   "source": [
    "a,b,c,d = [], [], [], []\n",
    "n_max = 500\n",
    "step = 20\n",
    "for k in tqdm(range(1, n_max, step)):\n",
    "    np.random.seed(0)\n",
    "    random.seed(0)\n",
    "    torch.manual_seed(0)\n",
    "    resu = max_sensitivity(img, GC, k)\n",
    "    a.append(resu['branch1'])\n",
    "    b.append(resu['branch2'])\n",
    "    c.append(resu['branch3'])\n",
    "    d.append(resu['branch4'])"
   ]
  },
  {
   "cell_type": "code",
   "execution_count": null,
   "id": "6ca86141",
   "metadata": {
    "hidden": true
   },
   "outputs": [],
   "source": [
    "t = time.time()\n",
    "max_sensitivity(img, GC, N=1)\n",
    "print(time.time() - t)"
   ]
  },
  {
   "cell_type": "code",
   "execution_count": null,
   "id": "2d4ed76d",
   "metadata": {
    "hidden": true,
    "scrolled": true
   },
   "outputs": [],
   "source": [
    "for elem in (a, b, c ,d):\n",
    "    plt.figure()\n",
    "    plt.plot(np.arange(1,n_max,step), elem)"
   ]
  },
  {
   "cell_type": "markdown",
   "id": "8fe7be98",
   "metadata": {
    "heading_collapsed": true
   },
   "source": [
    "### MoRF"
   ]
  },
  {
   "cell_type": "code",
   "execution_count": null,
   "id": "709d3410",
   "metadata": {
    "hidden": true
   },
   "outputs": [],
   "source": [
    "attention = attentions['branch1']"
   ]
  },
  {
   "cell_type": "code",
   "execution_count": null,
   "id": "9ee8e733",
   "metadata": {
    "hidden": true
   },
   "outputs": [],
   "source": [
    "ids = np.unravel_index(np.argsort(-attention, axis=None), attention.shape)"
   ]
  },
  {
   "cell_type": "code",
   "execution_count": null,
   "id": "92c76b26",
   "metadata": {
    "hidden": true
   },
   "outputs": [],
   "source": [
    "batch_size = 16\n",
    "group_size = 20000\n",
    "batch_X = torch.tile(img[None,...], (batch_size,1,1,1,1))\n",
    "for k in range(1, batch_size):\n",
    "    index = k*group_size\n",
    "    batch_X[k,0,ids[0][:index], ids[1][:index], ids[2][:index]] = 0"
   ]
  },
  {
   "cell_type": "code",
   "execution_count": null,
   "id": "3715326f",
   "metadata": {
    "hidden": true
   },
   "outputs": [],
   "source": [
    "model2 = model.cpu()"
   ]
  },
  {
   "cell_type": "code",
   "execution_count": null,
   "id": "d31e5b58",
   "metadata": {
    "hidden": true
   },
   "outputs": [],
   "source": [
    "resu = model2(batch_X)"
   ]
  },
  {
   "cell_type": "code",
   "execution_count": null,
   "id": "5e5a2c89",
   "metadata": {
    "hidden": true
   },
   "outputs": [],
   "source": [
    "img = sample['image'].float()\n",
    "np.prod(img.shape)//8"
   ]
  },
  {
   "cell_type": "code",
   "execution_count": null,
   "id": "cde01433",
   "metadata": {
    "hidden": true
   },
   "outputs": [],
   "source": [
    "def MoRF(X, model, exp_method, K=None, group_size=20000, AUC=False, batch_size=16, to_cuda=False):\n",
    "    \"\"\"\n",
    "    Most relevant first: measures the reliability of an explanation by testing \n",
    "    how fast the output decreases, while we progressively remove information (e.g., perturb pixels) \n",
    "    from the input 𝑥𝑥 (e.g., image), that appears as the most relevant by the explanation.\n",
    "    Args:\n",
    "        X: tensor, brain image, with shape (1, n_channels, depth, height, width). The two first dimensions\n",
    "            are optional.\n",
    "        exp_method: explanation method. Must have a get_explanations(self, input_image) attribute function\n",
    "            which takes an image as input and returns a dictionary mapping branches to explanation maps\n",
    "        K: number of group of relevant pixels to remove\n",
    "        group_size: int, size of a group of pixels to remove\n",
    "        AUC: bool. If True: compute and return area under the curve obtained after removing successively \n",
    "            the K most relevant pixels.\n",
    "        batch_size: int, number of images passed to the model each time\n",
    "            \n",
    "    TO DO:\n",
    "        - add several methods to perturb pixels\n",
    "    \"\"\"\n",
    "    if to_cuda and torch.cuda.is_available():\n",
    "        X = X.cuda()\n",
    "        \n",
    "    if K is None:\n",
    "        K = np.prod(X.shape)//8\n",
    "    \n",
    "    # reshpae X if necessary\n",
    "    while len(X.shape) < 5:\n",
    "        X = X[None,...]\n",
    "    \n",
    "    # original predictions\n",
    "    preds = model(X)\n",
    "    # explanations for original image\n",
    "    expls = exp_method.get_explanations(X, resize=True)\n",
    "    # explanations for new images\n",
    "    new_preds = dict()\n",
    "    \n",
    "    # def update_dict\n",
    "    \n",
    "    for target in expls:\n",
    "        # Indices of the sorted elements of the explanations:\n",
    "        ids = np.unravel_index(np.argsort(-expls[target], axis=None), expls[target].shape)\n",
    "    \n",
    "        if AUC:\n",
    "            # number of \n",
    "            removed_pixels = 0\n",
    "            while removed_pixels < K:\n",
    "                # create batch of images\n",
    "                bs = min(batch_size,(K - removed_pixels)%group_size)\n",
    "                batch_X = torch.tile(X, (bs,1,1,1,1))\n",
    "                for k in range(1, batch_size):\n",
    "                    index = k*group_size\n",
    "                    batch_X[k,0,ids[0][:index], ids[1][:index], ids[2][:index]] = 0\n",
    "                    new_preds[target] = model(batch_X)\n",
    "        else:\n",
    "            # compute MoRF removing the K most relevant pixels\n",
    "            batch_X = X.copy()\n",
    "            batch_X[0,0,ids[0][:K], ids[1][:K], ids[2][:K]]\n",
    "            new_preds[target] = model(batch_X)\n",
    "        "
   ]
  },
  {
   "cell_type": "markdown",
   "id": "0550cff1",
   "metadata": {},
   "source": [
    "### Explanations analysis"
   ]
  },
  {
   "cell_type": "code",
   "execution_count": 7,
   "id": "b31f0ca1",
   "metadata": {},
   "outputs": [],
   "source": [
    "from tools.explanations.analysis.utils import *\n",
    "from tools.settings import *\n",
    "import nibabel as nib\n",
    "from tools.data import *\n",
    "import ast\n",
    "import collections"
   ]
  },
  {
   "cell_type": "code",
   "execution_count": 8,
   "id": "6ff994d5",
   "metadata": {},
   "outputs": [],
   "source": [
    "atlas_tsv, atlas_map = load_atlas()\n",
    "atlas_tsv = pd.read_csv('atlas/atlas-AAL2_space-MNI152NLin2009cSym_dseg.csv')\n",
    "atlas_tsv.roi_value = atlas_tsv.roi_value.apply(ast.literal_eval)"
   ]
  },
  {
   "cell_type": "code",
   "execution_count": null,
   "id": "909a6bf7",
   "metadata": {},
   "outputs": [],
   "source": [
    "# https://stackoverflow.com/questions/9786102/how-do-i-parallelize-a-simple-python-loop"
   ]
  },
  {
   "cell_type": "code",
   "execution_count": 227,
   "id": "5acfe72a",
   "metadata": {
    "collapsed": true
   },
   "outputs": [
    {
     "name": "stderr",
     "output_type": "stream",
     "text": [
      "\r",
      "0it [00:00, ?it/s]"
     ]
    },
    {
     "name": "stdout",
     "output_type": "stream",
     "text": [
      "NaN was found\n"
     ]
    },
    {
     "name": "stderr",
     "output_type": "stream",
     "text": [
      "3it [00:16,  5.91s/it]"
     ]
    },
    {
     "name": "stdout",
     "output_type": "stream",
     "text": [
      "NaN was found\n",
      "NaN was found\n"
     ]
    },
    {
     "name": "stderr",
     "output_type": "stream",
     "text": [
      "10it [00:58,  6.97s/it]"
     ]
    },
    {
     "name": "stdout",
     "output_type": "stream",
     "text": [
      "NaN was found\n"
     ]
    },
    {
     "name": "stderr",
     "output_type": "stream",
     "text": [
      "18it [01:56,  7.94s/it]"
     ]
    },
    {
     "name": "stdout",
     "output_type": "stream",
     "text": [
      "NaN was found\n",
      "NaN was found\n",
      "NaN was found\n"
     ]
    },
    {
     "name": "stderr",
     "output_type": "stream",
     "text": [
      "27it [02:46,  7.20s/it]"
     ]
    },
    {
     "name": "stdout",
     "output_type": "stream",
     "text": [
      "NaN was found\n",
      "NaN was found\n"
     ]
    },
    {
     "name": "stderr",
     "output_type": "stream",
     "text": [
      "33it [03:20,  6.70s/it]"
     ]
    },
    {
     "name": "stdout",
     "output_type": "stream",
     "text": [
      "NaN was found\n"
     ]
    },
    {
     "name": "stderr",
     "output_type": "stream",
     "text": [
      "36it [03:36,  6.27s/it]"
     ]
    },
    {
     "name": "stdout",
     "output_type": "stream",
     "text": [
      "NaN was found\n"
     ]
    },
    {
     "name": "stderr",
     "output_type": "stream",
     "text": [
      "39it [03:53,  6.08s/it]"
     ]
    },
    {
     "name": "stdout",
     "output_type": "stream",
     "text": [
      "NaN was found\n",
      "NaN was found\n"
     ]
    },
    {
     "name": "stderr",
     "output_type": "stream",
     "text": [
      "47it [04:43,  7.28s/it]"
     ]
    },
    {
     "name": "stdout",
     "output_type": "stream",
     "text": [
      "NaN was found\n"
     ]
    },
    {
     "name": "stderr",
     "output_type": "stream",
     "text": [
      "\r",
      "49it [04:51,  5.95s/it]"
     ]
    },
    {
     "name": "stdout",
     "output_type": "stream",
     "text": [
      "NaN was found\n"
     ]
    },
    {
     "name": "stderr",
     "output_type": "stream",
     "text": [
      "54it [05:25,  6.96s/it]"
     ]
    },
    {
     "name": "stdout",
     "output_type": "stream",
     "text": [
      "NaN was found\n",
      "NaN was found\n"
     ]
    },
    {
     "name": "stderr",
     "output_type": "stream",
     "text": [
      "79it [08:36,  8.33s/it]"
     ]
    },
    {
     "name": "stdout",
     "output_type": "stream",
     "text": [
      "NaN was found\n"
     ]
    },
    {
     "name": "stderr",
     "output_type": "stream",
     "text": [
      "82it [08:53,  6.88s/it]"
     ]
    },
    {
     "name": "stdout",
     "output_type": "stream",
     "text": [
      "NaN was found\n"
     ]
    },
    {
     "name": "stderr",
     "output_type": "stream",
     "text": [
      "89it [09:43,  7.75s/it]"
     ]
    },
    {
     "name": "stdout",
     "output_type": "stream",
     "text": [
      "NaN was found\n"
     ]
    },
    {
     "name": "stderr",
     "output_type": "stream",
     "text": [
      "96it [10:33,  7.87s/it]"
     ]
    },
    {
     "name": "stdout",
     "output_type": "stream",
     "text": [
      "NaN was found\n"
     ]
    },
    {
     "name": "stderr",
     "output_type": "stream",
     "text": [
      "\r",
      "98it [10:41,  6.22s/it]"
     ]
    },
    {
     "name": "stdout",
     "output_type": "stream",
     "text": [
      "NaN was found\n",
      "NaN was found\n"
     ]
    },
    {
     "name": "stderr",
     "output_type": "stream",
     "text": [
      "\r",
      "101it [10:50,  4.54s/it]"
     ]
    },
    {
     "name": "stdout",
     "output_type": "stream",
     "text": [
      "NaN was found\n"
     ]
    },
    {
     "name": "stderr",
     "output_type": "stream",
     "text": [
      "\r",
      "103it [10:58,  4.42s/it]"
     ]
    },
    {
     "name": "stdout",
     "output_type": "stream",
     "text": [
      "NaN was found\n",
      "NaN was found\n"
     ]
    },
    {
     "name": "stderr",
     "output_type": "stream",
     "text": [
      "\r",
      "106it [11:06,  3.76s/it]"
     ]
    },
    {
     "name": "stdout",
     "output_type": "stream",
     "text": [
      "NaN was found\n",
      "NaN was found\n",
      "NaN was found\n"
     ]
    },
    {
     "name": "stderr",
     "output_type": "stream",
     "text": [
      "113it [11:40,  5.20s/it]"
     ]
    },
    {
     "name": "stdout",
     "output_type": "stream",
     "text": [
      "NaN was found\n"
     ]
    },
    {
     "name": "stderr",
     "output_type": "stream",
     "text": [
      "\r",
      "115it [11:48,  4.85s/it]"
     ]
    },
    {
     "name": "stdout",
     "output_type": "stream",
     "text": [
      "NaN was found\n"
     ]
    },
    {
     "name": "stderr",
     "output_type": "stream",
     "text": [
      "120it [12:21,  6.53s/it]"
     ]
    },
    {
     "name": "stdout",
     "output_type": "stream",
     "text": [
      "NaN was found\n"
     ]
    },
    {
     "name": "stderr",
     "output_type": "stream",
     "text": [
      "\r",
      "122it [12:30,  5.58s/it]"
     ]
    },
    {
     "name": "stdout",
     "output_type": "stream",
     "text": [
      "NaN was found\n"
     ]
    },
    {
     "name": "stderr",
     "output_type": "stream",
     "text": [
      "135it [14:10,  8.23s/it]"
     ]
    },
    {
     "name": "stdout",
     "output_type": "stream",
     "text": [
      "NaN was found\n"
     ]
    },
    {
     "name": "stderr",
     "output_type": "stream",
     "text": [
      "\r",
      "137it [14:18,  6.37s/it]"
     ]
    },
    {
     "name": "stdout",
     "output_type": "stream",
     "text": [
      "NaN was found\n"
     ]
    },
    {
     "name": "stderr",
     "output_type": "stream",
     "text": [
      "143it [15:00,  7.41s/it]"
     ]
    },
    {
     "name": "stdout",
     "output_type": "stream",
     "text": [
      "NaN was found\n",
      "NaN was found\n"
     ]
    },
    {
     "name": "stderr",
     "output_type": "stream",
     "text": [
      "152it [15:58,  6.31s/it]\n",
      "152it [21:05,  8.32s/it]\n"
     ]
    }
   ],
   "source": [
    "# path = 'results/models/model_85/attribution_maps/GC/val/'\n",
    "for target in ['sex', 'disease']:\n",
    "    output_path = path + target\n",
    "    raw_scores, normalized_scores = compute_scores(output_path, atlas_tsv, atlas_map)\n",
    "    raw_scores.to_csv(os.path.join(output_path, 'raw_scores.csv'), index=False)\n",
    "    normalized_scores.to_csv(os.path.join(output_path, 'normalized_scores.csv'), index=False)"
   ]
  },
  {
   "cell_type": "code",
   "execution_count": 12,
   "id": "06860dad",
   "metadata": {},
   "outputs": [],
   "source": [
    "normalized_scores = pd.read_csv('results/models/model_85/attribution_maps/GC/val/disease/normalized_scores.csv')"
   ]
  },
  {
   "cell_type": "markdown",
   "id": "9d3f64ac",
   "metadata": {},
   "source": [
    "#### Determine prediction classification (TP, TN, FP, FN)"
   ]
  },
  {
   "cell_type": "code",
   "execution_count": 62,
   "id": "d9ae7797",
   "metadata": {},
   "outputs": [],
   "source": [
    "prediction_path = 'results/models/model_85/predictions/'\n",
    "dataset = 'val'"
   ]
  },
  {
   "cell_type": "code",
   "execution_count": 63,
   "id": "ae02089f",
   "metadata": {},
   "outputs": [],
   "source": [
    "raw_target_df = pd.read_csv(os.path.join(prediction_path, dataset, 'raw_target_df.csv'))"
   ]
  },
  {
   "cell_type": "code",
   "execution_count": 65,
   "id": "06fad2bf",
   "metadata": {
    "scrolled": true
   },
   "outputs": [
    {
     "data": {
      "text/html": [
       "<div>\n",
       "<style scoped>\n",
       "    .dataframe tbody tr th:only-of-type {\n",
       "        vertical-align: middle;\n",
       "    }\n",
       "\n",
       "    .dataframe tbody tr th {\n",
       "        vertical-align: top;\n",
       "    }\n",
       "\n",
       "    .dataframe thead th {\n",
       "        text-align: right;\n",
       "    }\n",
       "</style>\n",
       "<table border=\"1\" class=\"dataframe\">\n",
       "  <thead>\n",
       "    <tr style=\"text-align: right;\">\n",
       "      <th></th>\n",
       "      <th>participant_id</th>\n",
       "      <th>session_id</th>\n",
       "      <th>sex</th>\n",
       "      <th>age</th>\n",
       "      <th>diagnosis</th>\n",
       "      <th>t1-volume_group-adni2021_atlas-AAL2_ROI-Precentral_L_intensity</th>\n",
       "      <th>t1-volume_group-adni2021_atlas-AAL2_ROI-Precentral_R_intensity</th>\n",
       "      <th>t1-volume_group-adni2021_atlas-AAL2_ROI-Frontal_Sup_2_L_intensity</th>\n",
       "      <th>t1-volume_group-adni2021_atlas-AAL2_ROI-Frontal_Sup_2_R_intensity</th>\n",
       "      <th>t1-volume_group-adni2021_atlas-AAL2_ROI-Frontal_Mid_2_L_intensity</th>\n",
       "      <th>...</th>\n",
       "      <th>t1-volume_group-adni2021_atlas-AAL2_ROI-Cerebelum_10_L_intensity</th>\n",
       "      <th>t1-volume_group-adni2021_atlas-AAL2_ROI-Cerebelum_10_R_intensity</th>\n",
       "      <th>t1-volume_group-adni2021_atlas-AAL2_ROI-Vermis_1_2_intensity</th>\n",
       "      <th>t1-volume_group-adni2021_atlas-AAL2_ROI-Vermis_3_intensity</th>\n",
       "      <th>t1-volume_group-adni2021_atlas-AAL2_ROI-Vermis_4_5_intensity</th>\n",
       "      <th>t1-volume_group-adni2021_atlas-AAL2_ROI-Vermis_6_intensity</th>\n",
       "      <th>t1-volume_group-adni2021_atlas-AAL2_ROI-Vermis_7_intensity</th>\n",
       "      <th>t1-volume_group-adni2021_atlas-AAL2_ROI-Vermis_8_intensity</th>\n",
       "      <th>t1-volume_group-adni2021_atlas-AAL2_ROI-Vermis_9_intensity</th>\n",
       "      <th>t1-volume_group-adni2021_atlas-AAL2_ROI-Vermis_10_intensity</th>\n",
       "    </tr>\n",
       "  </thead>\n",
       "  <tbody>\n",
       "    <tr>\n",
       "      <th>0</th>\n",
       "      <td>sub-ADNI002S0413</td>\n",
       "      <td>ses-M00</td>\n",
       "      <td>F</td>\n",
       "      <td>76.3</td>\n",
       "      <td>CN</td>\n",
       "      <td>0.289195</td>\n",
       "      <td>0.248282</td>\n",
       "      <td>0.339565</td>\n",
       "      <td>0.340654</td>\n",
       "      <td>0.428153</td>\n",
       "      <td>...</td>\n",
       "      <td>0.179977</td>\n",
       "      <td>0.162893</td>\n",
       "      <td>0.382374</td>\n",
       "      <td>0.364972</td>\n",
       "      <td>0.354212</td>\n",
       "      <td>0.374121</td>\n",
       "      <td>0.478052</td>\n",
       "      <td>0.538415</td>\n",
       "      <td>0.497866</td>\n",
       "      <td>0.109024</td>\n",
       "    </tr>\n",
       "    <tr>\n",
       "      <th>1</th>\n",
       "      <td>sub-ADNI002S0938</td>\n",
       "      <td>ses-M00</td>\n",
       "      <td>F</td>\n",
       "      <td>82.2</td>\n",
       "      <td>AD</td>\n",
       "      <td>0.279763</td>\n",
       "      <td>0.234646</td>\n",
       "      <td>0.322333</td>\n",
       "      <td>0.304597</td>\n",
       "      <td>0.373458</td>\n",
       "      <td>...</td>\n",
       "      <td>0.195122</td>\n",
       "      <td>0.229672</td>\n",
       "      <td>0.403181</td>\n",
       "      <td>0.345966</td>\n",
       "      <td>0.359286</td>\n",
       "      <td>0.352479</td>\n",
       "      <td>0.418945</td>\n",
       "      <td>0.496761</td>\n",
       "      <td>0.473018</td>\n",
       "      <td>0.088387</td>\n",
       "    </tr>\n",
       "    <tr>\n",
       "      <th>2</th>\n",
       "      <td>sub-ADNI002S1018</td>\n",
       "      <td>ses-M00</td>\n",
       "      <td>F</td>\n",
       "      <td>70.7</td>\n",
       "      <td>AD</td>\n",
       "      <td>0.215983</td>\n",
       "      <td>0.214251</td>\n",
       "      <td>0.306787</td>\n",
       "      <td>0.274551</td>\n",
       "      <td>0.333121</td>\n",
       "      <td>...</td>\n",
       "      <td>0.167548</td>\n",
       "      <td>0.174426</td>\n",
       "      <td>0.261631</td>\n",
       "      <td>0.323841</td>\n",
       "      <td>0.372529</td>\n",
       "      <td>0.366813</td>\n",
       "      <td>0.478527</td>\n",
       "      <td>0.581594</td>\n",
       "      <td>0.525799</td>\n",
       "      <td>0.083975</td>\n",
       "    </tr>\n",
       "    <tr>\n",
       "      <th>3</th>\n",
       "      <td>sub-ADNI002S4213</td>\n",
       "      <td>ses-M00</td>\n",
       "      <td>F</td>\n",
       "      <td>78.0</td>\n",
       "      <td>CN</td>\n",
       "      <td>0.268274</td>\n",
       "      <td>0.237009</td>\n",
       "      <td>0.315219</td>\n",
       "      <td>0.286915</td>\n",
       "      <td>0.345175</td>\n",
       "      <td>...</td>\n",
       "      <td>0.155046</td>\n",
       "      <td>0.131744</td>\n",
       "      <td>0.236573</td>\n",
       "      <td>0.285974</td>\n",
       "      <td>0.337698</td>\n",
       "      <td>0.373752</td>\n",
       "      <td>0.437476</td>\n",
       "      <td>0.518783</td>\n",
       "      <td>0.478556</td>\n",
       "      <td>0.090324</td>\n",
       "    </tr>\n",
       "    <tr>\n",
       "      <th>4</th>\n",
       "      <td>sub-ADNI003S0907</td>\n",
       "      <td>ses-M00</td>\n",
       "      <td>F</td>\n",
       "      <td>88.6</td>\n",
       "      <td>CN</td>\n",
       "      <td>0.230468</td>\n",
       "      <td>0.193997</td>\n",
       "      <td>0.275975</td>\n",
       "      <td>0.271593</td>\n",
       "      <td>0.335883</td>\n",
       "      <td>...</td>\n",
       "      <td>0.192042</td>\n",
       "      <td>0.186225</td>\n",
       "      <td>0.309303</td>\n",
       "      <td>0.326790</td>\n",
       "      <td>0.378575</td>\n",
       "      <td>0.342048</td>\n",
       "      <td>0.446941</td>\n",
       "      <td>0.582178</td>\n",
       "      <td>0.593406</td>\n",
       "      <td>0.115957</td>\n",
       "    </tr>\n",
       "    <tr>\n",
       "      <th>...</th>\n",
       "      <td>...</td>\n",
       "      <td>...</td>\n",
       "      <td>...</td>\n",
       "      <td>...</td>\n",
       "      <td>...</td>\n",
       "      <td>...</td>\n",
       "      <td>...</td>\n",
       "      <td>...</td>\n",
       "      <td>...</td>\n",
       "      <td>...</td>\n",
       "      <td>...</td>\n",
       "      <td>...</td>\n",
       "      <td>...</td>\n",
       "      <td>...</td>\n",
       "      <td>...</td>\n",
       "      <td>...</td>\n",
       "      <td>...</td>\n",
       "      <td>...</td>\n",
       "      <td>...</td>\n",
       "      <td>...</td>\n",
       "      <td>...</td>\n",
       "    </tr>\n",
       "    <tr>\n",
       "      <th>147</th>\n",
       "      <td>sub-ADNI153S4151</td>\n",
       "      <td>ses-M00</td>\n",
       "      <td>M</td>\n",
       "      <td>72.2</td>\n",
       "      <td>CN</td>\n",
       "      <td>0.204728</td>\n",
       "      <td>0.207604</td>\n",
       "      <td>0.285315</td>\n",
       "      <td>0.274339</td>\n",
       "      <td>0.336186</td>\n",
       "      <td>...</td>\n",
       "      <td>0.120101</td>\n",
       "      <td>0.157637</td>\n",
       "      <td>0.211964</td>\n",
       "      <td>0.298151</td>\n",
       "      <td>0.342503</td>\n",
       "      <td>0.328159</td>\n",
       "      <td>0.397387</td>\n",
       "      <td>0.502567</td>\n",
       "      <td>0.461697</td>\n",
       "      <td>0.072606</td>\n",
       "    </tr>\n",
       "    <tr>\n",
       "      <th>148</th>\n",
       "      <td>sub-ADNI168S6049</td>\n",
       "      <td>ses-M00</td>\n",
       "      <td>F</td>\n",
       "      <td>72.9</td>\n",
       "      <td>CN</td>\n",
       "      <td>0.278112</td>\n",
       "      <td>0.274857</td>\n",
       "      <td>0.331084</td>\n",
       "      <td>0.299415</td>\n",
       "      <td>0.353940</td>\n",
       "      <td>...</td>\n",
       "      <td>0.204870</td>\n",
       "      <td>0.210233</td>\n",
       "      <td>0.243693</td>\n",
       "      <td>0.271942</td>\n",
       "      <td>0.342902</td>\n",
       "      <td>0.366867</td>\n",
       "      <td>0.401688</td>\n",
       "      <td>0.496676</td>\n",
       "      <td>0.539885</td>\n",
       "      <td>0.088863</td>\n",
       "    </tr>\n",
       "    <tr>\n",
       "      <th>149</th>\n",
       "      <td>sub-ADNI341S6494</td>\n",
       "      <td>ses-M00</td>\n",
       "      <td>M</td>\n",
       "      <td>66.4</td>\n",
       "      <td>CN</td>\n",
       "      <td>0.307072</td>\n",
       "      <td>0.282003</td>\n",
       "      <td>0.335052</td>\n",
       "      <td>0.343989</td>\n",
       "      <td>0.425009</td>\n",
       "      <td>...</td>\n",
       "      <td>0.150955</td>\n",
       "      <td>0.154261</td>\n",
       "      <td>0.343905</td>\n",
       "      <td>0.348374</td>\n",
       "      <td>0.401477</td>\n",
       "      <td>0.444035</td>\n",
       "      <td>0.511953</td>\n",
       "      <td>0.591644</td>\n",
       "      <td>0.524247</td>\n",
       "      <td>0.098943</td>\n",
       "    </tr>\n",
       "    <tr>\n",
       "      <th>150</th>\n",
       "      <td>sub-ADNI941S4066</td>\n",
       "      <td>ses-M00</td>\n",
       "      <td>F</td>\n",
       "      <td>78.7</td>\n",
       "      <td>CN</td>\n",
       "      <td>0.228801</td>\n",
       "      <td>0.197578</td>\n",
       "      <td>0.283059</td>\n",
       "      <td>0.260597</td>\n",
       "      <td>0.309413</td>\n",
       "      <td>...</td>\n",
       "      <td>0.189336</td>\n",
       "      <td>0.172083</td>\n",
       "      <td>0.231366</td>\n",
       "      <td>0.270102</td>\n",
       "      <td>0.349102</td>\n",
       "      <td>0.387850</td>\n",
       "      <td>0.470855</td>\n",
       "      <td>0.553824</td>\n",
       "      <td>0.564345</td>\n",
       "      <td>0.088406</td>\n",
       "    </tr>\n",
       "    <tr>\n",
       "      <th>151</th>\n",
       "      <td>sub-ADNI941S4255</td>\n",
       "      <td>ses-M00</td>\n",
       "      <td>M</td>\n",
       "      <td>72.4</td>\n",
       "      <td>CN</td>\n",
       "      <td>0.321638</td>\n",
       "      <td>0.272161</td>\n",
       "      <td>0.384838</td>\n",
       "      <td>0.332268</td>\n",
       "      <td>0.389459</td>\n",
       "      <td>...</td>\n",
       "      <td>0.151194</td>\n",
       "      <td>0.139753</td>\n",
       "      <td>0.283261</td>\n",
       "      <td>0.318056</td>\n",
       "      <td>0.343426</td>\n",
       "      <td>0.368582</td>\n",
       "      <td>0.420291</td>\n",
       "      <td>0.563689</td>\n",
       "      <td>0.569706</td>\n",
       "      <td>0.101986</td>\n",
       "    </tr>\n",
       "  </tbody>\n",
       "</table>\n",
       "<p>152 rows × 125 columns</p>\n",
       "</div>"
      ],
      "text/plain": [
       "       participant_id session_id sex   age diagnosis  \\\n",
       "0    sub-ADNI002S0413    ses-M00   F  76.3        CN   \n",
       "1    sub-ADNI002S0938    ses-M00   F  82.2        AD   \n",
       "2    sub-ADNI002S1018    ses-M00   F  70.7        AD   \n",
       "3    sub-ADNI002S4213    ses-M00   F  78.0        CN   \n",
       "4    sub-ADNI003S0907    ses-M00   F  88.6        CN   \n",
       "..                ...        ...  ..   ...       ...   \n",
       "147  sub-ADNI153S4151    ses-M00   M  72.2        CN   \n",
       "148  sub-ADNI168S6049    ses-M00   F  72.9        CN   \n",
       "149  sub-ADNI341S6494    ses-M00   M  66.4        CN   \n",
       "150  sub-ADNI941S4066    ses-M00   F  78.7        CN   \n",
       "151  sub-ADNI941S4255    ses-M00   M  72.4        CN   \n",
       "\n",
       "     t1-volume_group-adni2021_atlas-AAL2_ROI-Precentral_L_intensity  \\\n",
       "0                                             0.289195                \n",
       "1                                             0.279763                \n",
       "2                                             0.215983                \n",
       "3                                             0.268274                \n",
       "4                                             0.230468                \n",
       "..                                                 ...                \n",
       "147                                           0.204728                \n",
       "148                                           0.278112                \n",
       "149                                           0.307072                \n",
       "150                                           0.228801                \n",
       "151                                           0.321638                \n",
       "\n",
       "     t1-volume_group-adni2021_atlas-AAL2_ROI-Precentral_R_intensity  \\\n",
       "0                                             0.248282                \n",
       "1                                             0.234646                \n",
       "2                                             0.214251                \n",
       "3                                             0.237009                \n",
       "4                                             0.193997                \n",
       "..                                                 ...                \n",
       "147                                           0.207604                \n",
       "148                                           0.274857                \n",
       "149                                           0.282003                \n",
       "150                                           0.197578                \n",
       "151                                           0.272161                \n",
       "\n",
       "     t1-volume_group-adni2021_atlas-AAL2_ROI-Frontal_Sup_2_L_intensity  \\\n",
       "0                                             0.339565                   \n",
       "1                                             0.322333                   \n",
       "2                                             0.306787                   \n",
       "3                                             0.315219                   \n",
       "4                                             0.275975                   \n",
       "..                                                 ...                   \n",
       "147                                           0.285315                   \n",
       "148                                           0.331084                   \n",
       "149                                           0.335052                   \n",
       "150                                           0.283059                   \n",
       "151                                           0.384838                   \n",
       "\n",
       "     t1-volume_group-adni2021_atlas-AAL2_ROI-Frontal_Sup_2_R_intensity  \\\n",
       "0                                             0.340654                   \n",
       "1                                             0.304597                   \n",
       "2                                             0.274551                   \n",
       "3                                             0.286915                   \n",
       "4                                             0.271593                   \n",
       "..                                                 ...                   \n",
       "147                                           0.274339                   \n",
       "148                                           0.299415                   \n",
       "149                                           0.343989                   \n",
       "150                                           0.260597                   \n",
       "151                                           0.332268                   \n",
       "\n",
       "     t1-volume_group-adni2021_atlas-AAL2_ROI-Frontal_Mid_2_L_intensity  ...  \\\n",
       "0                                             0.428153                  ...   \n",
       "1                                             0.373458                  ...   \n",
       "2                                             0.333121                  ...   \n",
       "3                                             0.345175                  ...   \n",
       "4                                             0.335883                  ...   \n",
       "..                                                 ...                  ...   \n",
       "147                                           0.336186                  ...   \n",
       "148                                           0.353940                  ...   \n",
       "149                                           0.425009                  ...   \n",
       "150                                           0.309413                  ...   \n",
       "151                                           0.389459                  ...   \n",
       "\n",
       "     t1-volume_group-adni2021_atlas-AAL2_ROI-Cerebelum_10_L_intensity  \\\n",
       "0                                             0.179977                  \n",
       "1                                             0.195122                  \n",
       "2                                             0.167548                  \n",
       "3                                             0.155046                  \n",
       "4                                             0.192042                  \n",
       "..                                                 ...                  \n",
       "147                                           0.120101                  \n",
       "148                                           0.204870                  \n",
       "149                                           0.150955                  \n",
       "150                                           0.189336                  \n",
       "151                                           0.151194                  \n",
       "\n",
       "     t1-volume_group-adni2021_atlas-AAL2_ROI-Cerebelum_10_R_intensity  \\\n",
       "0                                             0.162893                  \n",
       "1                                             0.229672                  \n",
       "2                                             0.174426                  \n",
       "3                                             0.131744                  \n",
       "4                                             0.186225                  \n",
       "..                                                 ...                  \n",
       "147                                           0.157637                  \n",
       "148                                           0.210233                  \n",
       "149                                           0.154261                  \n",
       "150                                           0.172083                  \n",
       "151                                           0.139753                  \n",
       "\n",
       "     t1-volume_group-adni2021_atlas-AAL2_ROI-Vermis_1_2_intensity  \\\n",
       "0                                             0.382374              \n",
       "1                                             0.403181              \n",
       "2                                             0.261631              \n",
       "3                                             0.236573              \n",
       "4                                             0.309303              \n",
       "..                                                 ...              \n",
       "147                                           0.211964              \n",
       "148                                           0.243693              \n",
       "149                                           0.343905              \n",
       "150                                           0.231366              \n",
       "151                                           0.283261              \n",
       "\n",
       "     t1-volume_group-adni2021_atlas-AAL2_ROI-Vermis_3_intensity  \\\n",
       "0                                             0.364972            \n",
       "1                                             0.345966            \n",
       "2                                             0.323841            \n",
       "3                                             0.285974            \n",
       "4                                             0.326790            \n",
       "..                                                 ...            \n",
       "147                                           0.298151            \n",
       "148                                           0.271942            \n",
       "149                                           0.348374            \n",
       "150                                           0.270102            \n",
       "151                                           0.318056            \n",
       "\n",
       "     t1-volume_group-adni2021_atlas-AAL2_ROI-Vermis_4_5_intensity  \\\n",
       "0                                             0.354212              \n",
       "1                                             0.359286              \n",
       "2                                             0.372529              \n",
       "3                                             0.337698              \n",
       "4                                             0.378575              \n",
       "..                                                 ...              \n",
       "147                                           0.342503              \n",
       "148                                           0.342902              \n",
       "149                                           0.401477              \n",
       "150                                           0.349102              \n",
       "151                                           0.343426              \n",
       "\n",
       "     t1-volume_group-adni2021_atlas-AAL2_ROI-Vermis_6_intensity  \\\n",
       "0                                             0.374121            \n",
       "1                                             0.352479            \n",
       "2                                             0.366813            \n",
       "3                                             0.373752            \n",
       "4                                             0.342048            \n",
       "..                                                 ...            \n",
       "147                                           0.328159            \n",
       "148                                           0.366867            \n",
       "149                                           0.444035            \n",
       "150                                           0.387850            \n",
       "151                                           0.368582            \n",
       "\n",
       "     t1-volume_group-adni2021_atlas-AAL2_ROI-Vermis_7_intensity  \\\n",
       "0                                             0.478052            \n",
       "1                                             0.418945            \n",
       "2                                             0.478527            \n",
       "3                                             0.437476            \n",
       "4                                             0.446941            \n",
       "..                                                 ...            \n",
       "147                                           0.397387            \n",
       "148                                           0.401688            \n",
       "149                                           0.511953            \n",
       "150                                           0.470855            \n",
       "151                                           0.420291            \n",
       "\n",
       "     t1-volume_group-adni2021_atlas-AAL2_ROI-Vermis_8_intensity  \\\n",
       "0                                             0.538415            \n",
       "1                                             0.496761            \n",
       "2                                             0.581594            \n",
       "3                                             0.518783            \n",
       "4                                             0.582178            \n",
       "..                                                 ...            \n",
       "147                                           0.502567            \n",
       "148                                           0.496676            \n",
       "149                                           0.591644            \n",
       "150                                           0.553824            \n",
       "151                                           0.563689            \n",
       "\n",
       "     t1-volume_group-adni2021_atlas-AAL2_ROI-Vermis_9_intensity  \\\n",
       "0                                             0.497866            \n",
       "1                                             0.473018            \n",
       "2                                             0.525799            \n",
       "3                                             0.478556            \n",
       "4                                             0.593406            \n",
       "..                                                 ...            \n",
       "147                                           0.461697            \n",
       "148                                           0.539885            \n",
       "149                                           0.524247            \n",
       "150                                           0.564345            \n",
       "151                                           0.569706            \n",
       "\n",
       "     t1-volume_group-adni2021_atlas-AAL2_ROI-Vermis_10_intensity  \n",
       "0                                             0.109024            \n",
       "1                                             0.088387            \n",
       "2                                             0.083975            \n",
       "3                                             0.090324            \n",
       "4                                             0.115957            \n",
       "..                                                 ...            \n",
       "147                                           0.072606            \n",
       "148                                           0.088863            \n",
       "149                                           0.098943            \n",
       "150                                           0.088406            \n",
       "151                                           0.101986            \n",
       "\n",
       "[152 rows x 125 columns]"
      ]
     },
     "execution_count": 65,
     "metadata": {},
     "output_type": "execute_result"
    }
   ],
   "source": [
    "raw_target_df"
   ]
  },
  {
   "cell_type": "code",
   "execution_count": 74,
   "id": "51721dd9",
   "metadata": {},
   "outputs": [],
   "source": [
    "ID = np.load(os.path.join(prediction_path, dataset, 'id.npy'))\n",
    "disease_preds = np.load(os.path.join(prediction_path, dataset, 'disease.npy'))\n",
    "age_preds = np.load(os.path.join(prediction_path, dataset, 'age.npy'))\n",
    "sex_preds = np.load(os.path.join(prediction_path, dataset, 'sex.npy'))"
   ]
  },
  {
   "cell_type": "code",
   "execution_count": 77,
   "id": "f8d364f5",
   "metadata": {},
   "outputs": [
    {
     "data": {
      "text/html": [
       "<div>\n",
       "<style scoped>\n",
       "    .dataframe tbody tr th:only-of-type {\n",
       "        vertical-align: middle;\n",
       "    }\n",
       "\n",
       "    .dataframe tbody tr th {\n",
       "        vertical-align: top;\n",
       "    }\n",
       "\n",
       "    .dataframe thead th {\n",
       "        text-align: right;\n",
       "    }\n",
       "</style>\n",
       "<table border=\"1\" class=\"dataframe\">\n",
       "  <thead>\n",
       "    <tr style=\"text-align: right;\">\n",
       "      <th></th>\n",
       "      <th>participant_id</th>\n",
       "      <th>session_id</th>\n",
       "      <th>diagnosis</th>\n",
       "      <th>age</th>\n",
       "      <th>sex</th>\n",
       "    </tr>\n",
       "  </thead>\n",
       "  <tbody>\n",
       "    <tr>\n",
       "      <th>0</th>\n",
       "      <td>sub-ADNI002S0413</td>\n",
       "      <td>ses-M00</td>\n",
       "      <td>0.013132</td>\n",
       "      <td>73.259195</td>\n",
       "      <td>0.999999</td>\n",
       "    </tr>\n",
       "    <tr>\n",
       "      <th>1</th>\n",
       "      <td>sub-ADNI002S0938</td>\n",
       "      <td>ses-M00</td>\n",
       "      <td>0.999927</td>\n",
       "      <td>74.600219</td>\n",
       "      <td>0.999766</td>\n",
       "    </tr>\n",
       "    <tr>\n",
       "      <th>2</th>\n",
       "      <td>sub-ADNI002S1018</td>\n",
       "      <td>ses-M00</td>\n",
       "      <td>0.854560</td>\n",
       "      <td>72.431760</td>\n",
       "      <td>0.999964</td>\n",
       "    </tr>\n",
       "    <tr>\n",
       "      <th>3</th>\n",
       "      <td>sub-ADNI002S4213</td>\n",
       "      <td>ses-M00</td>\n",
       "      <td>0.034378</td>\n",
       "      <td>70.290193</td>\n",
       "      <td>0.999735</td>\n",
       "    </tr>\n",
       "    <tr>\n",
       "      <th>4</th>\n",
       "      <td>sub-ADNI003S0907</td>\n",
       "      <td>ses-M00</td>\n",
       "      <td>0.994402</td>\n",
       "      <td>78.920839</td>\n",
       "      <td>0.998719</td>\n",
       "    </tr>\n",
       "    <tr>\n",
       "      <th>...</th>\n",
       "      <td>...</td>\n",
       "      <td>...</td>\n",
       "      <td>...</td>\n",
       "      <td>...</td>\n",
       "      <td>...</td>\n",
       "    </tr>\n",
       "    <tr>\n",
       "      <th>147</th>\n",
       "      <td>sub-ADNI153S4151</td>\n",
       "      <td>ses-M00</td>\n",
       "      <td>0.005366</td>\n",
       "      <td>75.837286</td>\n",
       "      <td>0.000002</td>\n",
       "    </tr>\n",
       "    <tr>\n",
       "      <th>148</th>\n",
       "      <td>sub-ADNI168S6049</td>\n",
       "      <td>ses-M00</td>\n",
       "      <td>0.011471</td>\n",
       "      <td>69.064390</td>\n",
       "      <td>1.000000</td>\n",
       "    </tr>\n",
       "    <tr>\n",
       "      <th>149</th>\n",
       "      <td>sub-ADNI341S6494</td>\n",
       "      <td>ses-M00</td>\n",
       "      <td>0.002178</td>\n",
       "      <td>70.406171</td>\n",
       "      <td>0.000163</td>\n",
       "    </tr>\n",
       "    <tr>\n",
       "      <th>150</th>\n",
       "      <td>sub-ADNI941S4066</td>\n",
       "      <td>ses-M00</td>\n",
       "      <td>0.653854</td>\n",
       "      <td>70.715454</td>\n",
       "      <td>0.999995</td>\n",
       "    </tr>\n",
       "    <tr>\n",
       "      <th>151</th>\n",
       "      <td>sub-ADNI941S4255</td>\n",
       "      <td>ses-M00</td>\n",
       "      <td>0.198491</td>\n",
       "      <td>74.904725</td>\n",
       "      <td>0.000013</td>\n",
       "    </tr>\n",
       "  </tbody>\n",
       "</table>\n",
       "<p>152 rows × 5 columns</p>\n",
       "</div>"
      ],
      "text/plain": [
       "       participant_id session_id  diagnosis        age       sex\n",
       "0    sub-ADNI002S0413    ses-M00   0.013132  73.259195  0.999999\n",
       "1    sub-ADNI002S0938    ses-M00   0.999927  74.600219  0.999766\n",
       "2    sub-ADNI002S1018    ses-M00   0.854560  72.431760  0.999964\n",
       "3    sub-ADNI002S4213    ses-M00   0.034378  70.290193  0.999735\n",
       "4    sub-ADNI003S0907    ses-M00   0.994402  78.920839  0.998719\n",
       "..                ...        ...        ...        ...       ...\n",
       "147  sub-ADNI153S4151    ses-M00   0.005366  75.837286  0.000002\n",
       "148  sub-ADNI168S6049    ses-M00   0.011471  69.064390  1.000000\n",
       "149  sub-ADNI341S6494    ses-M00   0.002178  70.406171  0.000163\n",
       "150  sub-ADNI941S4066    ses-M00   0.653854  70.715454  0.999995\n",
       "151  sub-ADNI941S4255    ses-M00   0.198491  74.904725  0.000013\n",
       "\n",
       "[152 rows x 5 columns]"
      ]
     },
     "execution_count": 77,
     "metadata": {},
     "output_type": "execute_result"
    }
   ],
   "source": [
    "df_preds = pd.DataFrame({'participant_id': ID[:,0], \n",
    "                       'session_id': ID[:,1], \n",
    "                       'diagnosis': disease_preds.flatten(),\n",
    "                       'age': age_preds.flatten(),\n",
    "                       'sex': sex_preds.flatten()})\n",
    "df_preds"
   ]
  },
  {
   "cell_type": "code",
   "execution_count": null,
   "id": "c43a255e",
   "metadata": {},
   "outputs": [],
   "source": []
  },
  {
   "cell_type": "markdown",
   "id": "559760c2",
   "metadata": {
    "heading_collapsed": true
   },
   "source": [
    "#### old"
   ]
  },
  {
   "cell_type": "code",
   "execution_count": null,
   "id": "95a6be40",
   "metadata": {
    "hidden": true
   },
   "outputs": [],
   "source": [
    "att_map = np.load(os.path.join('results/models/model_85/attribution_maps/GC/val/age', 'sub-ADNI007S4488_ses-M00.npy'))\n",
    "resized_att_map = zoom(att_map, atlas_map.shape/ np.array(att_map.shape))"
   ]
  },
  {
   "cell_type": "code",
   "execution_count": 234,
   "id": "2757a0a9",
   "metadata": {
    "hidden": true
   },
   "outputs": [
    {
     "name": "stderr",
     "output_type": "stream",
     "text": [
      "152it [00:05, 25.90it/s]"
     ]
    },
    {
     "name": "stdout",
     "output_type": "stream",
     "text": [
      "0.0\n"
     ]
    },
    {
     "name": "stderr",
     "output_type": "stream",
     "text": [
      "\n"
     ]
    }
   ],
   "source": [
    "# sanity check: check if no attention map has NaNs\n",
    "counter = 0\n",
    "data_path = 'results/models/model_85/attribution_maps/GC/val/volumes/1'\n",
    "files = [file for file in os.listdir(data_path) if os.path.splitext(file)[1] == '.npy']\n",
    "for k, file in tqdm(enumerate(files)):\n",
    "    map_ = np.load(os.path.join(data_path, file))\n",
    "    nans = np.isnan(map_).sum()\n",
    "    if nans>0:\n",
    "        counter+=1\n",
    "        \n",
    "print(counter/len(files))"
   ]
  },
  {
   "cell_type": "code",
   "execution_count": 21,
   "id": "cfba600e",
   "metadata": {
    "hidden": true
   },
   "outputs": [],
   "source": [
    "df_test = pd.read_csv('results/models/model_85/predictions/test/raw_target_df.csv')\n",
    "df_val = pd.read_csv('results/models/model_85/predictions/val/raw_target_df.csv')"
   ]
  },
  {
   "cell_type": "code",
   "execution_count": 25,
   "id": "99894ab5",
   "metadata": {
    "hidden": true
   },
   "outputs": [],
   "source": [
    "def check_columns(index):\n",
    "    l = []\n",
    "    for k in range(5,len(index)):\n",
    "        l.append(index[k].split('ROI')[1].split('_intensity')[0].strip('_|-').split('_L'))\n",
    "    return l"
   ]
  },
  {
   "cell_type": "code",
   "execution_count": 30,
   "id": "246c5091",
   "metadata": {
    "hidden": true
   },
   "outputs": [
    {
     "name": "stdout",
     "output_type": "stream",
     "text": [
      "102 Cerebelum_6_L_9 Cerebelum_6_L\n"
     ]
    }
   ],
   "source": [
    "l1 = check_columns(df_test.columns)\n",
    "l2 = check_columns(df_val.columns)\n",
    "for k in range(len(l1)):\n",
    "    if l1[k] != l2[k]:\n",
    "        print(k, l1[k], l2[k])"
   ]
  },
  {
   "cell_type": "markdown",
   "id": "1a89dc28",
   "metadata": {
    "heading_collapsed": true
   },
   "source": [
    "# random"
   ]
  },
  {
   "cell_type": "code",
   "execution_count": null,
   "id": "4c8a1bc3",
   "metadata": {
    "hidden": true
   },
   "outputs": [],
   "source": [
    "losses = pd.read_csv('train_losses_3D_2.csv')\n",
    "test_losses = pd.read_csv('val_losses_3D_2.csv')"
   ]
  },
  {
   "cell_type": "code",
   "execution_count": null,
   "id": "65649095",
   "metadata": {
    "hidden": true
   },
   "outputs": [],
   "source": [
    "losses"
   ]
  },
  {
   "cell_type": "code",
   "execution_count": null,
   "id": "7f319ae7",
   "metadata": {
    "hidden": true
   },
   "outputs": [],
   "source": [
    "plt.plot(test_losses[['disease', 'volumes', 'age', 'sex']])\n",
    "plt.ylim([0,150])\n",
    "plt.legend(['disease', 'volumes', 'age', 'sex'])"
   ]
  },
  {
   "cell_type": "code",
   "execution_count": null,
   "id": "8991ce04",
   "metadata": {
    "hidden": true
   },
   "outputs": [],
   "source": [
    "plt.plot(losses[['disease', 'volumes', 'age', 'sex']])\n",
    "plt.legend(['disease', 'volumes', 'age', 'sex'])"
   ]
  },
  {
   "cell_type": "code",
   "execution_count": null,
   "id": "4a09078e",
   "metadata": {
    "hidden": true
   },
   "outputs": [],
   "source": [
    "import torch\n",
    "from pprint import pprint\n",
    "from torchmetrics import MetricCollection, Accuracy, Precision, Recall\n",
    "target = torch.tensor([0, 1, 0, 1, 0, 1, 0, 1])\n",
    "preds = torch.tensor([1, 1, 1, 0, 1, 1, 1, 1])\n",
    "metrics = MetricCollection([Accuracy(),\n",
    "                            Precision(num_classes=2, average='micro'),\n",
    "                            Recall(num_classes=3, average='macro')])\n",
    "metrics(preds, target)"
   ]
  },
  {
   "cell_type": "markdown",
   "id": "c01d00a1",
   "metadata": {
    "heading_collapsed": true
   },
   "source": [
    "# assess gradient norms"
   ]
  },
  {
   "cell_type": "markdown",
   "id": "2e1a728b",
   "metadata": {
    "heading_collapsed": true,
    "hidden": true
   },
   "source": [
    "### Old method"
   ]
  },
  {
   "cell_type": "code",
   "execution_count": null,
   "id": "c4813001",
   "metadata": {
    "hidden": true
   },
   "outputs": [],
   "source": [
    "def get_gradient_norms(model): \n",
    "    path = 'results/models/model_{}/log.out'.format(model)\n",
    "    \n",
    "    file = None\n",
    "    with open(path, 'r') as f:\n",
    "        file = f.read()\n",
    "\n",
    "    data = [ s[36:] for s in file.split('\\n') if 'STDOUT' in s]\n",
    "    data = [ s for k,s in enumerate(data[1:]) if data[k] == 'GRADIENT']\n",
    "    data = np.array(data, dtype=np.float32)\n",
    "    return data\n",
    "\n",
    "def compute_metrics(data, name):\n",
    "    dict_ = {'mean': data.mean(),\n",
    "             'min': data.min(),\n",
    "             'max': data.max(), \n",
    "             'std': data.std(), \n",
    "             'median': np.median(data)}\n",
    "    return pd.DataFrame(dict_, index=[name])\n",
    "\n",
    "def get_all_metrics():\n",
    "    df = None\n",
    "    for k in range(4):\n",
    "        data = get_gradient_norms(9+k)\n",
    "        if df is None:\n",
    "            df = compute_metrics(data,BRANCH2TARGET['branch' + str(k+1)])\n",
    "        else:\n",
    "            df = df.combine_first(compute_metrics(data,BRANCH2TARGET['branch' + str(k+1)]))\n",
    "    return df\n",
    "\n",
    "def plot_training(model):\n",
    "    fig, ax = plt.subplots(1,4,figsize=(16,4))\n",
    "    for k, target in enumerate(TARGET2BRANCH):\n",
    "        df_train = pd.read_csv('results/models/model_{}/train_losses.csv'.format(model))\n",
    "        df_val = pd.read_csv('results/models/model_{}/val_losses.csv'.format(model))\n",
    "        ax[k].plot(getattr(df_train, target), label='train')\n",
    "        ax[k].plot(getattr(df_val, target), label='val')\n",
    "        ax[k].set_title(target)\n",
    "    plt.legend()\n",
    "        "
   ]
  },
  {
   "cell_type": "code",
   "execution_count": null,
   "id": "23d09e46",
   "metadata": {
    "hidden": true
   },
   "outputs": [],
   "source": [
    "df = get_all_metrics()\n",
    "df"
   ]
  },
  {
   "cell_type": "code",
   "execution_count": null,
   "id": "7707fc1d",
   "metadata": {
    "hidden": true
   },
   "outputs": [],
   "source": [
    "weights = (1/df['mean']).to_numpy()\n",
    "weights = weights/weights.sum()\n",
    "weights"
   ]
  },
  {
   "cell_type": "code",
   "execution_count": null,
   "id": "d9c4639e",
   "metadata": {
    "hidden": true
   },
   "outputs": [],
   "source": [
    "plot_training(model=5)"
   ]
  },
  {
   "cell_type": "code",
   "execution_count": null,
   "id": "8996e6bb",
   "metadata": {
    "hidden": true,
    "scrolled": true
   },
   "outputs": [],
   "source": [
    "pd.read_csv('results/models/model_{}/val_losses.csv'.format(7))"
   ]
  },
  {
   "cell_type": "markdown",
   "id": "f54c05fa",
   "metadata": {
    "heading_collapsed": true,
    "hidden": true
   },
   "source": [
    "### New method"
   ]
  },
  {
   "cell_type": "code",
   "execution_count": null,
   "id": "abc7020e",
   "metadata": {
    "hidden": true
   },
   "outputs": [],
   "source": [
    "absolute_path = '/network/lustre/dtlake01/aramis/users/sasha.collin/interpretability-dl-ndd/results/models'\n",
    "models = ['model_' + str(k) for k in range(21, 25)]\n",
    "models = ['model_' + str(k) for k in [70, 73, 75, 76]]"
   ]
  },
  {
   "cell_type": "code",
   "execution_count": null,
   "id": "45af67bf",
   "metadata": {
    "hidden": true
   },
   "outputs": [],
   "source": [
    "dfs = [pd.read_csv(os.path.join(absolute_path, model, 'gradient_norms.csv')) for model in models]"
   ]
  },
  {
   "cell_type": "code",
   "execution_count": null,
   "id": "5ee98b80",
   "metadata": {
    "hidden": true
   },
   "outputs": [],
   "source": [
    "norms = pd.concat(dfs, axis=1)\n",
    "for key in TARGET2BRANCH.keys():\n",
    "    norms.rename(columns={'gradient_norms_' + key: key}, inplace=True)"
   ]
  },
  {
   "cell_type": "code",
   "execution_count": null,
   "id": "707145dd",
   "metadata": {
    "hidden": true,
    "scrolled": true
   },
   "outputs": [],
   "source": [
    "stats = norms.describe()\n",
    "stats"
   ]
  },
  {
   "cell_type": "code",
   "execution_count": null,
   "id": "408c6c60",
   "metadata": {
    "hidden": true
   },
   "outputs": [],
   "source": [
    "stats.loc['mean']"
   ]
  },
  {
   "cell_type": "code",
   "execution_count": null,
   "id": "dbf1d4a6",
   "metadata": {
    "hidden": true
   },
   "outputs": [],
   "source": [
    "avg_norms = norms.rolling(window=153).mean()[0::153]\n",
    "scaled_avg_norms = avg_norms/stats.loc['mean']"
   ]
  },
  {
   "cell_type": "code",
   "execution_count": null,
   "id": "cba65f33",
   "metadata": {
    "hidden": true
   },
   "outputs": [],
   "source": [
    "avg_norms.plot()"
   ]
  },
  {
   "cell_type": "code",
   "execution_count": null,
   "id": "defb1b2b",
   "metadata": {
    "hidden": true
   },
   "outputs": [],
   "source": [
    "scaled_avg_norms.plot()"
   ]
  },
  {
   "cell_type": "code",
   "execution_count": null,
   "id": "bf03dd43",
   "metadata": {
    "hidden": true
   },
   "outputs": [],
   "source": [
    "scale_parameters = 1/stats.loc['mean']\n",
    "scale_parameters = scale_parameters/scale_parameters.sum()*4\n",
    "scale_parameters"
   ]
  },
  {
   "cell_type": "markdown",
   "id": "6ebec180",
   "metadata": {
    "hidden": true
   },
   "source": [
    "nohup python training.py -bs 16 -lw 1.054807 1.607432 0.370006 0.967756 -d 0.2 &\n",
    "nohup python training.py -e 100 --patience 100 -bs 16 -d 0.5 -lwp results/models/loss_weights.npy &"
   ]
  },
  {
   "cell_type": "code",
   "execution_count": null,
   "id": "d3b0e571",
   "metadata": {
    "hidden": true
   },
   "outputs": [],
   "source": [
    "# loss_weights = np.array([1.054807, 1.607432, 0.370006, 0.967756])\n",
    "loss_weights = scale_parameters.to_numpy()"
   ]
  },
  {
   "cell_type": "code",
   "execution_count": null,
   "id": "3673dfc6",
   "metadata": {
    "hidden": true
   },
   "outputs": [],
   "source": [
    "np.save('results/models/loss_weights_t1l_without_bn.npy', loss_weights.astype(np.float32))"
   ]
  },
  {
   "cell_type": "markdown",
   "id": "4eb9f97d",
   "metadata": {
    "heading_collapsed": true
   },
   "source": [
    "# Age investigation"
   ]
  },
  {
   "cell_type": "code",
   "execution_count": null,
   "id": "c05f54fe",
   "metadata": {
    "hidden": true
   },
   "outputs": [],
   "source": [
    "df = pd.concat([training_df, valid_df], ignore_index=True)\n",
    "df2 = df_add_data.merge(df, on =['participant_id', 'session_id'], how='right')"
   ]
  },
  {
   "cell_type": "code",
   "execution_count": null,
   "id": "e22c7107",
   "metadata": {
    "hidden": true
   },
   "outputs": [],
   "source": [
    "plt.title('Age Distribution')\n",
    "plt.hist(training_df.age, label='training')\n",
    "plt.hist(valid_df.age, label='validation')\n",
    "plt.xlabel('age')\n",
    "plt.legend()"
   ]
  },
  {
   "cell_type": "markdown",
   "id": "49d71685",
   "metadata": {
    "heading_collapsed": true
   },
   "source": [
    "# Results investigation"
   ]
  },
  {
   "cell_type": "code",
   "execution_count": null,
   "id": "1064b625",
   "metadata": {
    "hidden": true,
    "scrolled": true
   },
   "outputs": [],
   "source": [
    "absolute_path = '/network/lustre/dtlake01/aramis/users/sasha.collin/interpretability-dl-ndd/results/models'\n",
    "models = [ model for model in os.listdir(absolute_path) if 'model' in model ]\n",
    "dicts = []\n",
    "for model in models:\n",
    "    f = open(os.path.join(absolute_path, model, 'commandline.json'),)\n",
    "    d = json.load(f)\n",
    "    d.update({'model': int(model[6:])})\n",
    "    dicts.append(d)\n",
    "parameters = pd.DataFrame(dicts)\n",
    "parameters.sort_values('model', inplace=True)\n",
    "parameters.to_csv('results/models/summary.csv', index=False)\n",
    "parameters"
   ]
  },
  {
   "cell_type": "code",
   "execution_count": null,
   "id": "1c17ed8f",
   "metadata": {
    "hidden": true
   },
   "outputs": [],
   "source": [
    "parameters[-15:]"
   ]
  },
  {
   "cell_type": "markdown",
   "id": "efcf5624",
   "metadata": {
    "hidden": true
   },
   "source": [
    "## performances"
   ]
  },
  {
   "cell_type": "code",
   "execution_count": 44,
   "id": "e9ff1cae",
   "metadata": {
    "hidden": true
   },
   "outputs": [],
   "source": [
    "def get_performances(models):\n",
    "    \"\"\"\n",
    "    Params:\n",
    "        - models: list of ints (model numbers)\n",
    "    \"\"\"\n",
    "    if type(models) != list:\n",
    "        models = [models]\n",
    "    \n",
    "    best_performances = pd.DataFrame({'model': []})\n",
    "    for model in models:\n",
    "        try:\n",
    "            performances = pd.read_csv('results/models/model_{}/test_metrics.csv'.format(model))\n",
    "        except:\n",
    "            saved_data = torch.load('results/models/model_{}/last_model.pt'.format(model))\n",
    "            performances = pd.DataFrame(saved_data['val_metrics'])\n",
    "        best_performances = best_performances.append(performances[performances.test == performances.test.min()])\n",
    "    best_performances.reset_index(inplace=True)\n",
    "    #best_performances.drop(columns=['index'], inplace=True)\n",
    "    best_performances['model'] = models\n",
    "    return best_performances"
   ]
  },
  {
   "cell_type": "code",
   "execution_count": 45,
   "id": "ec8e6005",
   "metadata": {
    "hidden": true
   },
   "outputs": [
    {
     "data": {
      "text/html": [
       "<div>\n",
       "<style scoped>\n",
       "    .dataframe tbody tr th:only-of-type {\n",
       "        vertical-align: middle;\n",
       "    }\n",
       "\n",
       "    .dataframe tbody tr th {\n",
       "        vertical-align: top;\n",
       "    }\n",
       "\n",
       "    .dataframe thead th {\n",
       "        text-align: right;\n",
       "    }\n",
       "</style>\n",
       "<table border=\"1\" class=\"dataframe\">\n",
       "  <thead>\n",
       "    <tr style=\"text-align: right;\">\n",
       "      <th></th>\n",
       "      <th>index</th>\n",
       "      <th>model</th>\n",
       "      <th>disease</th>\n",
       "      <th>volumes</th>\n",
       "      <th>age</th>\n",
       "      <th>sex</th>\n",
       "      <th>test</th>\n",
       "      <th>b1_Accuracy</th>\n",
       "      <th>b1_F1</th>\n",
       "      <th>b1_AUROC</th>\n",
       "      <th>b2_MeanSquaredError</th>\n",
       "      <th>b2_R2Score</th>\n",
       "      <th>b3_MeanSquaredError</th>\n",
       "      <th>b3_R2Score</th>\n",
       "      <th>b4_Accuracy</th>\n",
       "      <th>b4_F1</th>\n",
       "      <th>b4_AUROC</th>\n",
       "    </tr>\n",
       "  </thead>\n",
       "  <tbody>\n",
       "    <tr>\n",
       "      <th>0</th>\n",
       "      <td>20</td>\n",
       "      <td>72</td>\n",
       "      <td>0.090923</td>\n",
       "      <td>0.221217</td>\n",
       "      <td>0.173681</td>\n",
       "      <td>0.052454</td>\n",
       "      <td>0.538274</td>\n",
       "      <td>0.888158</td>\n",
       "      <td>0.888889</td>\n",
       "      <td>0.946354</td>\n",
       "      <td>0.051961</td>\n",
       "      <td>0.341011</td>\n",
       "      <td>5.832608</td>\n",
       "      <td>0.326477</td>\n",
       "      <td>0.934211</td>\n",
       "      <td>0.933333</td>\n",
       "      <td>0.990303</td>\n",
       "    </tr>\n",
       "    <tr>\n",
       "      <th>1</th>\n",
       "      <td>17</td>\n",
       "      <td>77</td>\n",
       "      <td>0.100209</td>\n",
       "      <td>0.226368</td>\n",
       "      <td>0.176956</td>\n",
       "      <td>0.032029</td>\n",
       "      <td>0.459013</td>\n",
       "      <td>0.894737</td>\n",
       "      <td>0.888889</td>\n",
       "      <td>0.936458</td>\n",
       "      <td>0.052569</td>\n",
       "      <td>0.325496</td>\n",
       "      <td>5.887350</td>\n",
       "      <td>0.313775</td>\n",
       "      <td>0.953947</td>\n",
       "      <td>0.954839</td>\n",
       "      <td>0.991861</td>\n",
       "    </tr>\n",
       "    <tr>\n",
       "      <th>2</th>\n",
       "      <td>13</td>\n",
       "      <td>78</td>\n",
       "      <td>0.087246</td>\n",
       "      <td>0.252608</td>\n",
       "      <td>0.187973</td>\n",
       "      <td>0.041201</td>\n",
       "      <td>0.493580</td>\n",
       "      <td>0.868421</td>\n",
       "      <td>0.864865</td>\n",
       "      <td>0.930035</td>\n",
       "      <td>0.055642</td>\n",
       "      <td>0.247357</td>\n",
       "      <td>6.067847</td>\n",
       "      <td>0.271053</td>\n",
       "      <td>0.934211</td>\n",
       "      <td>0.933333</td>\n",
       "      <td>0.990823</td>\n",
       "    </tr>\n",
       "    <tr>\n",
       "      <th>3</th>\n",
       "      <td>13</td>\n",
       "      <td>79</td>\n",
       "      <td>0.099093</td>\n",
       "      <td>0.242389</td>\n",
       "      <td>0.203839</td>\n",
       "      <td>0.027808</td>\n",
       "      <td>0.478227</td>\n",
       "      <td>0.855263</td>\n",
       "      <td>0.842857</td>\n",
       "      <td>0.903472</td>\n",
       "      <td>0.054445</td>\n",
       "      <td>0.277635</td>\n",
       "      <td>6.318741</td>\n",
       "      <td>0.209525</td>\n",
       "      <td>0.947368</td>\n",
       "      <td>0.948718</td>\n",
       "      <td>0.993420</td>\n",
       "    </tr>\n",
       "    <tr>\n",
       "      <th>4</th>\n",
       "      <td>53</td>\n",
       "      <td>80</td>\n",
       "      <td>0.097928</td>\n",
       "      <td>0.237659</td>\n",
       "      <td>0.163061</td>\n",
       "      <td>0.033962</td>\n",
       "      <td>0.532610</td>\n",
       "      <td>0.855263</td>\n",
       "      <td>0.857143</td>\n",
       "      <td>0.930382</td>\n",
       "      <td>0.053951</td>\n",
       "      <td>0.291082</td>\n",
       "      <td>5.651477</td>\n",
       "      <td>0.367660</td>\n",
       "      <td>0.960526</td>\n",
       "      <td>0.960526</td>\n",
       "      <td>0.990649</td>\n",
       "    </tr>\n",
       "    <tr>\n",
       "      <th>5</th>\n",
       "      <td>6</td>\n",
       "      <td>81</td>\n",
       "      <td>0.103611</td>\n",
       "      <td>0.229576</td>\n",
       "      <td>0.184643</td>\n",
       "      <td>0.033362</td>\n",
       "      <td>0.551193</td>\n",
       "      <td>0.848684</td>\n",
       "      <td>0.832117</td>\n",
       "      <td>0.912326</td>\n",
       "      <td>0.053112</td>\n",
       "      <td>0.314953</td>\n",
       "      <td>6.013856</td>\n",
       "      <td>0.283967</td>\n",
       "      <td>0.947368</td>\n",
       "      <td>0.948052</td>\n",
       "      <td>0.989437</td>\n",
       "    </tr>\n",
       "    <tr>\n",
       "      <th>6</th>\n",
       "      <td>70</td>\n",
       "      <td>83</td>\n",
       "      <td>0.172959</td>\n",
       "      <td>0.230539</td>\n",
       "      <td>0.181573</td>\n",
       "      <td>0.006916</td>\n",
       "      <td>0.591986</td>\n",
       "      <td>0.526316</td>\n",
       "      <td>0.000000</td>\n",
       "      <td>0.500000</td>\n",
       "      <td>0.053107</td>\n",
       "      <td>0.312330</td>\n",
       "      <td>5.963646</td>\n",
       "      <td>0.295874</td>\n",
       "      <td>0.986842</td>\n",
       "      <td>0.986842</td>\n",
       "      <td>1.000000</td>\n",
       "    </tr>\n",
       "    <tr>\n",
       "      <th>7</th>\n",
       "      <td>51</td>\n",
       "      <td>85</td>\n",
       "      <td>0.116838</td>\n",
       "      <td>0.210712</td>\n",
       "      <td>0.177086</td>\n",
       "      <td>0.034424</td>\n",
       "      <td>0.461780</td>\n",
       "      <td>0.842105</td>\n",
       "      <td>0.844156</td>\n",
       "      <td>0.921528</td>\n",
       "      <td>0.050627</td>\n",
       "      <td>0.371804</td>\n",
       "      <td>5.889508</td>\n",
       "      <td>0.313272</td>\n",
       "      <td>0.953947</td>\n",
       "      <td>0.955414</td>\n",
       "      <td>0.993420</td>\n",
       "    </tr>\n",
       "  </tbody>\n",
       "</table>\n",
       "</div>"
      ],
      "text/plain": [
       "   index  model   disease   volumes       age       sex      test  \\\n",
       "0     20     72  0.090923  0.221217  0.173681  0.052454  0.538274   \n",
       "1     17     77  0.100209  0.226368  0.176956  0.032029  0.459013   \n",
       "2     13     78  0.087246  0.252608  0.187973  0.041201  0.493580   \n",
       "3     13     79  0.099093  0.242389  0.203839  0.027808  0.478227   \n",
       "4     53     80  0.097928  0.237659  0.163061  0.033962  0.532610   \n",
       "5      6     81  0.103611  0.229576  0.184643  0.033362  0.551193   \n",
       "6     70     83  0.172959  0.230539  0.181573  0.006916  0.591986   \n",
       "7     51     85  0.116838  0.210712  0.177086  0.034424  0.461780   \n",
       "\n",
       "   b1_Accuracy     b1_F1  b1_AUROC  b2_MeanSquaredError  b2_R2Score  \\\n",
       "0     0.888158  0.888889  0.946354             0.051961    0.341011   \n",
       "1     0.894737  0.888889  0.936458             0.052569    0.325496   \n",
       "2     0.868421  0.864865  0.930035             0.055642    0.247357   \n",
       "3     0.855263  0.842857  0.903472             0.054445    0.277635   \n",
       "4     0.855263  0.857143  0.930382             0.053951    0.291082   \n",
       "5     0.848684  0.832117  0.912326             0.053112    0.314953   \n",
       "6     0.526316  0.000000  0.500000             0.053107    0.312330   \n",
       "7     0.842105  0.844156  0.921528             0.050627    0.371804   \n",
       "\n",
       "   b3_MeanSquaredError  b3_R2Score  b4_Accuracy     b4_F1  b4_AUROC  \n",
       "0             5.832608    0.326477     0.934211  0.933333  0.990303  \n",
       "1             5.887350    0.313775     0.953947  0.954839  0.991861  \n",
       "2             6.067847    0.271053     0.934211  0.933333  0.990823  \n",
       "3             6.318741    0.209525     0.947368  0.948718  0.993420  \n",
       "4             5.651477    0.367660     0.960526  0.960526  0.990649  \n",
       "5             6.013856    0.283967     0.947368  0.948052  0.989437  \n",
       "6             5.963646    0.295874     0.986842  0.986842  1.000000  \n",
       "7             5.889508    0.313272     0.953947  0.955414  0.993420  "
      ]
     },
     "execution_count": 45,
     "metadata": {},
     "output_type": "execute_result"
    }
   ],
   "source": [
    "perf = get_performances([72, 77, 78, 79, 80, 81, 83, 85])\n",
    "perf"
   ]
  },
  {
   "cell_type": "code",
   "execution_count": 47,
   "id": "b20b8e4d",
   "metadata": {
    "hidden": true
   },
   "outputs": [],
   "source": [
    "perf['R2Score'] = perf['b2_R2Score'] + perf['b3_R2Score']\n",
    "perf['total_test'] = perf['disease'] + perf['volumes'] + perf['age'] + perf['sex']"
   ]
  },
  {
   "cell_type": "code",
   "execution_count": 48,
   "id": "e9a77920",
   "metadata": {
    "hidden": true
   },
   "outputs": [
    {
     "data": {
      "text/html": [
       "<div>\n",
       "<style scoped>\n",
       "    .dataframe tbody tr th:only-of-type {\n",
       "        vertical-align: middle;\n",
       "    }\n",
       "\n",
       "    .dataframe tbody tr th {\n",
       "        vertical-align: top;\n",
       "    }\n",
       "\n",
       "    .dataframe thead th {\n",
       "        text-align: right;\n",
       "    }\n",
       "</style>\n",
       "<table border=\"1\" class=\"dataframe\">\n",
       "  <thead>\n",
       "    <tr style=\"text-align: right;\">\n",
       "      <th></th>\n",
       "      <th>index</th>\n",
       "      <th>model</th>\n",
       "      <th>disease</th>\n",
       "      <th>volumes</th>\n",
       "      <th>age</th>\n",
       "      <th>sex</th>\n",
       "      <th>test</th>\n",
       "      <th>b1_Accuracy</th>\n",
       "      <th>b1_F1</th>\n",
       "      <th>b1_AUROC</th>\n",
       "      <th>b2_MeanSquaredError</th>\n",
       "      <th>b2_R2Score</th>\n",
       "      <th>b3_MeanSquaredError</th>\n",
       "      <th>b3_R2Score</th>\n",
       "      <th>b4_Accuracy</th>\n",
       "      <th>b4_F1</th>\n",
       "      <th>b4_AUROC</th>\n",
       "      <th>R2Score</th>\n",
       "      <th>total_test</th>\n",
       "    </tr>\n",
       "  </thead>\n",
       "  <tbody>\n",
       "    <tr>\n",
       "      <th>0</th>\n",
       "      <td>20</td>\n",
       "      <td>72</td>\n",
       "      <td>0.090923</td>\n",
       "      <td>0.221217</td>\n",
       "      <td>0.173681</td>\n",
       "      <td>0.052454</td>\n",
       "      <td>0.538274</td>\n",
       "      <td>0.888158</td>\n",
       "      <td>0.888889</td>\n",
       "      <td>0.946354</td>\n",
       "      <td>0.051961</td>\n",
       "      <td>0.341011</td>\n",
       "      <td>5.832608</td>\n",
       "      <td>0.326477</td>\n",
       "      <td>0.934211</td>\n",
       "      <td>0.933333</td>\n",
       "      <td>0.990303</td>\n",
       "      <td>0.667488</td>\n",
       "      <td>0.538274</td>\n",
       "    </tr>\n",
       "    <tr>\n",
       "      <th>1</th>\n",
       "      <td>17</td>\n",
       "      <td>77</td>\n",
       "      <td>0.100209</td>\n",
       "      <td>0.226368</td>\n",
       "      <td>0.176956</td>\n",
       "      <td>0.032029</td>\n",
       "      <td>0.459013</td>\n",
       "      <td>0.894737</td>\n",
       "      <td>0.888889</td>\n",
       "      <td>0.936458</td>\n",
       "      <td>0.052569</td>\n",
       "      <td>0.325496</td>\n",
       "      <td>5.887350</td>\n",
       "      <td>0.313775</td>\n",
       "      <td>0.953947</td>\n",
       "      <td>0.954839</td>\n",
       "      <td>0.991861</td>\n",
       "      <td>0.639271</td>\n",
       "      <td>0.535562</td>\n",
       "    </tr>\n",
       "    <tr>\n",
       "      <th>2</th>\n",
       "      <td>13</td>\n",
       "      <td>78</td>\n",
       "      <td>0.087246</td>\n",
       "      <td>0.252608</td>\n",
       "      <td>0.187973</td>\n",
       "      <td>0.041201</td>\n",
       "      <td>0.493580</td>\n",
       "      <td>0.868421</td>\n",
       "      <td>0.864865</td>\n",
       "      <td>0.930035</td>\n",
       "      <td>0.055642</td>\n",
       "      <td>0.247357</td>\n",
       "      <td>6.067847</td>\n",
       "      <td>0.271053</td>\n",
       "      <td>0.934211</td>\n",
       "      <td>0.933333</td>\n",
       "      <td>0.990823</td>\n",
       "      <td>0.518409</td>\n",
       "      <td>0.569029</td>\n",
       "    </tr>\n",
       "    <tr>\n",
       "      <th>3</th>\n",
       "      <td>13</td>\n",
       "      <td>79</td>\n",
       "      <td>0.099093</td>\n",
       "      <td>0.242389</td>\n",
       "      <td>0.203839</td>\n",
       "      <td>0.027808</td>\n",
       "      <td>0.478227</td>\n",
       "      <td>0.855263</td>\n",
       "      <td>0.842857</td>\n",
       "      <td>0.903472</td>\n",
       "      <td>0.054445</td>\n",
       "      <td>0.277635</td>\n",
       "      <td>6.318741</td>\n",
       "      <td>0.209525</td>\n",
       "      <td>0.947368</td>\n",
       "      <td>0.948718</td>\n",
       "      <td>0.993420</td>\n",
       "      <td>0.487160</td>\n",
       "      <td>0.573129</td>\n",
       "    </tr>\n",
       "    <tr>\n",
       "      <th>4</th>\n",
       "      <td>53</td>\n",
       "      <td>80</td>\n",
       "      <td>0.097928</td>\n",
       "      <td>0.237659</td>\n",
       "      <td>0.163061</td>\n",
       "      <td>0.033962</td>\n",
       "      <td>0.532610</td>\n",
       "      <td>0.855263</td>\n",
       "      <td>0.857143</td>\n",
       "      <td>0.930382</td>\n",
       "      <td>0.053951</td>\n",
       "      <td>0.291082</td>\n",
       "      <td>5.651477</td>\n",
       "      <td>0.367660</td>\n",
       "      <td>0.960526</td>\n",
       "      <td>0.960526</td>\n",
       "      <td>0.990649</td>\n",
       "      <td>0.658741</td>\n",
       "      <td>0.532610</td>\n",
       "    </tr>\n",
       "    <tr>\n",
       "      <th>5</th>\n",
       "      <td>6</td>\n",
       "      <td>81</td>\n",
       "      <td>0.103611</td>\n",
       "      <td>0.229576</td>\n",
       "      <td>0.184643</td>\n",
       "      <td>0.033362</td>\n",
       "      <td>0.551193</td>\n",
       "      <td>0.848684</td>\n",
       "      <td>0.832117</td>\n",
       "      <td>0.912326</td>\n",
       "      <td>0.053112</td>\n",
       "      <td>0.314953</td>\n",
       "      <td>6.013856</td>\n",
       "      <td>0.283967</td>\n",
       "      <td>0.947368</td>\n",
       "      <td>0.948052</td>\n",
       "      <td>0.989437</td>\n",
       "      <td>0.598920</td>\n",
       "      <td>0.551193</td>\n",
       "    </tr>\n",
       "    <tr>\n",
       "      <th>6</th>\n",
       "      <td>70</td>\n",
       "      <td>83</td>\n",
       "      <td>0.172959</td>\n",
       "      <td>0.230539</td>\n",
       "      <td>0.181573</td>\n",
       "      <td>0.006916</td>\n",
       "      <td>0.591986</td>\n",
       "      <td>0.526316</td>\n",
       "      <td>0.000000</td>\n",
       "      <td>0.500000</td>\n",
       "      <td>0.053107</td>\n",
       "      <td>0.312330</td>\n",
       "      <td>5.963646</td>\n",
       "      <td>0.295874</td>\n",
       "      <td>0.986842</td>\n",
       "      <td>0.986842</td>\n",
       "      <td>1.000000</td>\n",
       "      <td>0.608203</td>\n",
       "      <td>0.591986</td>\n",
       "    </tr>\n",
       "    <tr>\n",
       "      <th>7</th>\n",
       "      <td>51</td>\n",
       "      <td>85</td>\n",
       "      <td>0.116838</td>\n",
       "      <td>0.210712</td>\n",
       "      <td>0.177086</td>\n",
       "      <td>0.034424</td>\n",
       "      <td>0.461780</td>\n",
       "      <td>0.842105</td>\n",
       "      <td>0.844156</td>\n",
       "      <td>0.921528</td>\n",
       "      <td>0.050627</td>\n",
       "      <td>0.371804</td>\n",
       "      <td>5.889508</td>\n",
       "      <td>0.313272</td>\n",
       "      <td>0.953947</td>\n",
       "      <td>0.955414</td>\n",
       "      <td>0.993420</td>\n",
       "      <td>0.685075</td>\n",
       "      <td>0.539059</td>\n",
       "    </tr>\n",
       "  </tbody>\n",
       "</table>\n",
       "</div>"
      ],
      "text/plain": [
       "   index  model   disease   volumes       age       sex      test  \\\n",
       "0     20     72  0.090923  0.221217  0.173681  0.052454  0.538274   \n",
       "1     17     77  0.100209  0.226368  0.176956  0.032029  0.459013   \n",
       "2     13     78  0.087246  0.252608  0.187973  0.041201  0.493580   \n",
       "3     13     79  0.099093  0.242389  0.203839  0.027808  0.478227   \n",
       "4     53     80  0.097928  0.237659  0.163061  0.033962  0.532610   \n",
       "5      6     81  0.103611  0.229576  0.184643  0.033362  0.551193   \n",
       "6     70     83  0.172959  0.230539  0.181573  0.006916  0.591986   \n",
       "7     51     85  0.116838  0.210712  0.177086  0.034424  0.461780   \n",
       "\n",
       "   b1_Accuracy     b1_F1  b1_AUROC  b2_MeanSquaredError  b2_R2Score  \\\n",
       "0     0.888158  0.888889  0.946354             0.051961    0.341011   \n",
       "1     0.894737  0.888889  0.936458             0.052569    0.325496   \n",
       "2     0.868421  0.864865  0.930035             0.055642    0.247357   \n",
       "3     0.855263  0.842857  0.903472             0.054445    0.277635   \n",
       "4     0.855263  0.857143  0.930382             0.053951    0.291082   \n",
       "5     0.848684  0.832117  0.912326             0.053112    0.314953   \n",
       "6     0.526316  0.000000  0.500000             0.053107    0.312330   \n",
       "7     0.842105  0.844156  0.921528             0.050627    0.371804   \n",
       "\n",
       "   b3_MeanSquaredError  b3_R2Score  b4_Accuracy     b4_F1  b4_AUROC   R2Score  \\\n",
       "0             5.832608    0.326477     0.934211  0.933333  0.990303  0.667488   \n",
       "1             5.887350    0.313775     0.953947  0.954839  0.991861  0.639271   \n",
       "2             6.067847    0.271053     0.934211  0.933333  0.990823  0.518409   \n",
       "3             6.318741    0.209525     0.947368  0.948718  0.993420  0.487160   \n",
       "4             5.651477    0.367660     0.960526  0.960526  0.990649  0.658741   \n",
       "5             6.013856    0.283967     0.947368  0.948052  0.989437  0.598920   \n",
       "6             5.963646    0.295874     0.986842  0.986842  1.000000  0.608203   \n",
       "7             5.889508    0.313272     0.953947  0.955414  0.993420  0.685075   \n",
       "\n",
       "   total_test  \n",
       "0    0.538274  \n",
       "1    0.535562  \n",
       "2    0.569029  \n",
       "3    0.573129  \n",
       "4    0.532610  \n",
       "5    0.551193  \n",
       "6    0.591986  \n",
       "7    0.539059  "
      ]
     },
     "execution_count": 48,
     "metadata": {},
     "output_type": "execute_result"
    }
   ],
   "source": [
    "perf"
   ]
  },
  {
   "cell_type": "code",
   "execution_count": null,
   "id": "7769facb",
   "metadata": {
    "hidden": true
   },
   "outputs": [],
   "source": [
    "model = 'model_72'\n",
    "train_csv = pd.read_csv('results/models/{}/train_metrics.csv'.format(model))\n",
    "val_csv = pd.read_csv('results/models/{}/test_metrics.csv'.format(model))"
   ]
  },
  {
   "cell_type": "code",
   "execution_count": null,
   "id": "82b3178c",
   "metadata": {
    "hidden": true
   },
   "outputs": [],
   "source": [
    "val_csv['test'].plot()\n",
    "train_csv['train'].plot()"
   ]
  },
  {
   "cell_type": "code",
   "execution_count": null,
   "id": "2cdee562",
   "metadata": {
    "hidden": true
   },
   "outputs": [],
   "source": [
    "val = pd.read_csv('/network/lustre/dtlake01/aramis/users/sasha.collin/interpretability-dl-ndd/results/models/model_19/test_metrics.csv')\n",
    "val"
   ]
  },
  {
   "cell_type": "code",
   "execution_count": null,
   "id": "36ff4762",
   "metadata": {
    "hidden": true
   },
   "outputs": [],
   "source": [
    "val[val.test == val.test.min()]"
   ]
  },
  {
   "cell_type": "code",
   "execution_count": null,
   "id": "7e19bc16",
   "metadata": {
    "hidden": true
   },
   "outputs": [],
   "source": [
    "val[val.test == val.test.min()]"
   ]
  },
  {
   "cell_type": "code",
   "execution_count": null,
   "id": "87eb9330",
   "metadata": {
    "hidden": true
   },
   "outputs": [],
   "source": [
    "val[val.test == val.test.min()]"
   ]
  },
  {
   "cell_type": "markdown",
   "id": "7d606636",
   "metadata": {
    "heading_collapsed": true,
    "hidden": true
   },
   "source": [
    "## other"
   ]
  },
  {
   "cell_type": "code",
   "execution_count": null,
   "id": "d18da0ed",
   "metadata": {
    "hidden": true
   },
   "outputs": [],
   "source": [
    "#path = 'network/lustre/dtlake01/aramis/users/sasha.collin/interpretability-dl-ndd/results/models/model_32'\n",
    "model = 'model_26'\n",
    "training_df = pd.read_csv('/network/lustre/dtlake01/aramis/users/sasha.collin/interpretability-dl-ndd/results/models/{}/training_df.csv'.format(model))\n",
    "valid_df = pd.read_csv('/network/lustre/dtlake01/aramis/users/sasha.collin/interpretability-dl-ndd/results/models/{}/valid_df.csv'.format(model))\n",
    "\n",
    "train_transforms, all_transforms = get_transforms('image', minmaxnormalization=True, data_augmentation=None)\n",
    "# fetch volumetric data\n",
    "stds, df_add_data = fetch_add_data(training_df)"
   ]
  },
  {
   "cell_type": "code",
   "execution_count": null,
   "id": "49bfb00b",
   "metadata": {
    "hidden": true
   },
   "outputs": [],
   "source": [
    "caps_directory = '/network/lustre/dtlake01/aramis/datasets/adni/caps/caps_v2021/'\n",
    "# build MRI datasets\n",
    "data_train = MRIDatasetImage(caps_directory, training_df, df_add_data=df_add_data, preprocessing='t1-volume',\n",
    "                             all_transformations=all_transforms)  # train_transformations=all_transforms\n",
    "data_valid = MRIDatasetImage(caps_directory, valid_df, df_add_data=df_add_data, preprocessing='t1-volume',\n",
    "                             all_transformations=all_transforms)  # train_transformations=all_transforms,"
   ]
  },
  {
   "cell_type": "code",
   "execution_count": null,
   "id": "94d1ef9b",
   "metadata": {
    "hidden": true
   },
   "outputs": [],
   "source": [
    "batch_size = 8\n",
    "\n",
    "valid_loader = DataLoader(data_valid,\n",
    "                          batch_size=batch_size,\n",
    "                          shuffle=False,\n",
    "                          num_workers=8,\n",
    "                          pin_memory=True)\n",
    "\n",
    "train_loader = DataLoader(data_train,\n",
    "                          batch_size=batch_size,\n",
    "                          shuffle=False,\n",
    "                          num_workers=8,\n",
    "                          pin_memory=True)"
   ]
  },
  {
   "cell_type": "code",
   "execution_count": null,
   "id": "59e8db73",
   "metadata": {
    "hidden": true
   },
   "outputs": [],
   "source": [
    "model = 'model_26'\n",
    "saved_data = torch.load(os.path.join('/network/lustre/dtlake01/aramis/users/sasha.collin/interpretability-dl-ndd/results/models/' + model, 'last_model.pt'))\n",
    "# get sample\n",
    "sample = data_train[0]\n",
    "# build model\n",
    "model = Net(sample, [8, 16, 32, 64, 128], 0.3).cuda()\n",
    "# load pretrained weights on validation set\n",
    "# saved_data = torch.load(os.path.join(args.model_path, 'test_best_model.pt'))\n",
    "model.load_state_dict(saved_data['model_state_dict'])"
   ]
  },
  {
   "cell_type": "code",
   "execution_count": null,
   "id": "03b62c31",
   "metadata": {
    "hidden": true
   },
   "outputs": [],
   "source": [
    "model.train()\n",
    "model.training"
   ]
  },
  {
   "cell_type": "code",
   "execution_count": null,
   "id": "18a154de",
   "metadata": {
    "hidden": true
   },
   "outputs": [],
   "source": [
    "model.summary()"
   ]
  },
  {
   "cell_type": "code",
   "execution_count": null,
   "id": "5aca88ce",
   "metadata": {
    "hidden": true
   },
   "outputs": [],
   "source": [
    "resu = test(model,\n",
    "     valid_loader,\n",
    "     loss_weights= [1, 1, 1, 1], #np.array([1.054807, 1.607432, 0.370006, 0.967756]),\n",
    "     to_cuda=True,\n",
    "     rescaling=stds,\n",
    "     compute_metrics=True,\n",
    "     eval_mode=False)"
   ]
  },
  {
   "cell_type": "code",
   "execution_count": null,
   "id": "a2d81e20",
   "metadata": {
    "hidden": true
   },
   "outputs": [],
   "source": [
    "resu"
   ]
  },
  {
   "cell_type": "code",
   "execution_count": null,
   "id": "da0f5915",
   "metadata": {
    "hidden": true
   },
   "outputs": [],
   "source": [
    "saved_data = torch.load(os.path.join('/network/lustre/dtlake01/aramis/users/sasha.collin/interpretability-dl-ndd/results/models/' + 'model_63', 'last_model.pt'))"
   ]
  },
  {
   "cell_type": "code",
   "execution_count": null,
   "id": "02a33fe4",
   "metadata": {
    "hidden": true
   },
   "outputs": [],
   "source": [
    "pd.DataFrame(saved_data['train_metrics'])"
   ]
  },
  {
   "cell_type": "markdown",
   "id": "cda74480",
   "metadata": {
    "heading_collapsed": true,
    "hidden": true
   },
   "source": [
    "## investigating df_add_data"
   ]
  },
  {
   "cell_type": "code",
   "execution_count": null,
   "id": "b1b27b65",
   "metadata": {
    "hidden": true
   },
   "outputs": [],
   "source": [
    "# paths\n",
    "data_path = '/network/lustre/dtlake01/aramis/datasets/adni/caps/caps_v2021.tsv'\n",
    "summary_path = '/network/lustre/dtlake01/aramis/datasets/adni/caps/caps_v2021_summary.tsv'\n",
    "\n",
    "# fetch indexes\n",
    "df_summary = pd.read_csv(summary_path, sep='\\t')\n",
    "df_summary = df_summary[(df_summary.pipeline_name == pipeline_name) & (df_summary.atlas_id == atlas_id)]\n",
    "first_column_name = df_summary.first_column_name.item()\n",
    "last_column_name = df_summary.last_column_name.item()\n",
    "print('First column name: ', first_column_name)\n",
    "print('Last column name: ', last_column_name)\n",
    "df_data = pd.read_csv(data_path, sep='\\t', nrows=1)\n",
    "first_column_index = df_data.columns.get_loc(first_column_name)\n",
    "last_column_index = df_data.columns.get_loc(last_column_name)\n",
    "\n",
    "# other data to fetch\n",
    "col_names = ['participant_id', 'session_id', 'sex', 'age']\n",
    "add_indexes = [df_data.columns.get_loc(col_name) for col_name in col_names]\n",
    "\n",
    "# compute df_add_data\n",
    "# add 1 to first_column_index to ignore background\n",
    "used_columns = np.hstack([add_indexes, np.arange(first_column_index + 1, last_column_index + 1)]).flatten()\n",
    "df_add_data = pd.read_csv(data_path, sep='\\t', usecols=used_columns).dropna(axis=0, how='any')\n",
    "print(df_add_data.head())"
   ]
  },
  {
   "cell_type": "code",
   "execution_count": null,
   "id": "2f94dbfa",
   "metadata": {
    "hidden": true
   },
   "outputs": [],
   "source": [
    "# normalization using only statistics from training data\n",
    "temp_df = pd.merge(training_data[['participant_id', 'session_id']],\n",
    "                   df_add_data, on=['participant_id', 'session_id'], how='left')"
   ]
  },
  {
   "cell_type": "code",
   "execution_count": null,
   "id": "b5d4bd35",
   "metadata": {
    "hidden": true
   },
   "outputs": [],
   "source": [
    "scalar_cols = [col for col in temp_df.columns if col not in ['participant_id', 'session_id', 'sex']]\n",
    "# df_add_data[scalar_cols] contains only scalar columns with (patient, session) from training set\n",
    "means, stds = temp_df[scalar_cols].mean(), temp_df[scalar_cols].std()\n",
    "df_add_data[scalar_cols] = (df_add_data[scalar_cols] - means) / stds"
   ]
  },
  {
   "cell_type": "code",
   "execution_count": null,
   "id": "acee23d6",
   "metadata": {
    "hidden": true
   },
   "outputs": [],
   "source": [
    "df_add_data[scalar_cols]"
   ]
  },
  {
   "cell_type": "code",
   "execution_count": null,
   "id": "0aa03385",
   "metadata": {
    "hidden": true
   },
   "outputs": [],
   "source": [
    "pd.read_csv('/network/lustre/dtlake01/aramis/users/sasha.collin/interpretability-dl-ndd/results/models/model_39/train_metrics.csv')"
   ]
  },
  {
   "cell_type": "code",
   "execution_count": null,
   "id": "4a086874",
   "metadata": {
    "hidden": true
   },
   "outputs": [],
   "source": [
    "pd.read_csv('/network/lustre/dtlake01/aramis/users/sasha.collin/interpretability-dl-ndd/results/models/model_39/test_metrics.csv')"
   ]
  },
  {
   "cell_type": "markdown",
   "id": "80aac055",
   "metadata": {
    "heading_collapsed": true
   },
   "source": [
    "# Hyperparameters tuning"
   ]
  },
  {
   "cell_type": "code",
   "execution_count": null,
   "id": "0d193995",
   "metadata": {
    "hidden": true
   },
   "outputs": [],
   "source": [
    "path = 'results/models'\n",
    "model_numbers = np.arange(47, 51)"
   ]
  },
  {
   "cell_type": "code",
   "execution_count": null,
   "id": "5174288e",
   "metadata": {
    "hidden": true
   },
   "outputs": [],
   "source": [
    "dfs = [pd.read_csv(os.path.join(path, 'model_' + str(k), 'test_metrics.csv')) for k in model_numbers]\n",
    "dfs_train = [pd.read_csv(os.path.join(path, 'model_' + str(k), 'train_metrics.csv')) for k in model_numbers]"
   ]
  },
  {
   "cell_type": "code",
   "execution_count": null,
   "id": "075b53bb",
   "metadata": {
    "hidden": true
   },
   "outputs": [],
   "source": [
    "for k in range(4):\n",
    "    print(dfs_train[k]['train'].min(), dfs_train[k]['b2_R2Score'].max(), dfs_train[k]['b3_R2Score'].max())"
   ]
  },
  {
   "cell_type": "code",
   "execution_count": null,
   "id": "15bbcdf1",
   "metadata": {
    "hidden": true
   },
   "outputs": [],
   "source": [
    "for k in range(4):\n",
    "    print(dfs[k]['test'].min(), dfs[k]['b2_R2Score'].max(), dfs[k]['b3_R2Score'].max())"
   ]
  },
  {
   "cell_type": "markdown",
   "id": "d217f5be",
   "metadata": {},
   "source": [
    "# AIBL"
   ]
  },
  {
   "cell_type": "code",
   "execution_count": null,
   "id": "bab63037",
   "metadata": {},
   "outputs": [],
   "source": []
  },
  {
   "cell_type": "markdown",
   "id": "99854d6c",
   "metadata": {},
   "source": [
    "# RANDOM"
   ]
  },
  {
   "cell_type": "markdown",
   "id": "ed4cbb3a",
   "metadata": {},
   "source": [
    "I am using working with the file '/network/lustre/dtlake01/aramis/datasets/adni/caps/caps_v2021.tsv' and using the 't1-volume' pipeline and the atlas 'AAL2'.\n",
    "6267 samples (i.e. couples (participant_id, session_id)) do not have any volume value (i.e. NaN). 1 sample has no sex value and 1178 samples have no age values.\n"
   ]
  }
 ],
 "metadata": {
  "kernelspec": {
   "display_name": "Python 3",
   "language": "python",
   "name": "python3"
  },
  "language_info": {
   "codemirror_mode": {
    "name": "ipython",
    "version": 3
   },
   "file_extension": ".py",
   "mimetype": "text/x-python",
   "name": "python",
   "nbconvert_exporter": "python",
   "pygments_lexer": "ipython3",
   "version": "3.7.10"
  }
 },
 "nbformat": 4,
 "nbformat_minor": 5
}
