{
 "cells": [
  {
   "cell_type": "code",
   "execution_count": 1,
   "id": "089f6034",
   "metadata": {},
   "outputs": [],
   "source": [
    "%load_ext autoreload\n",
    "%autoreload 2"
   ]
  },
  {
   "cell_type": "code",
   "execution_count": 2,
   "id": "5b423de3",
   "metadata": {},
   "outputs": [
    {
     "name": "stderr",
     "output_type": "stream",
     "text": [
      "/network/lustre/dtlake01/aramis/users/sasha.collin/miniconda3/envs/venv/lib/python3.7/site-packages/nilearn/datasets/__init__.py:90: FutureWarning: Fetchers from the nilearn.datasets module will be updated in version 0.9 to return python strings instead of bytes and Pandas dataframes instead of Numpy arrays.\n",
      "  \"Numpy arrays.\", FutureWarning)\n"
     ]
    }
   ],
   "source": [
    "import torch\n",
    "import torchvision\n",
    "import numpy as np\n",
    "from nilearn import plotting\n",
    "import clinicadl\n",
    "import pandas as pd\n",
    "import matplotlib.pyplot as plt\n",
    "from torchsummary import summary\n",
    "from sklearn.metrics import log_loss\n",
    "from collections import OrderedDict\n",
    "from PIL import Image\n",
    "from tqdm import tqdm\n",
    "from math import floor\n",
    "import random\n",
    "import time\n",
    "\n",
    "# torch\n",
    "import torch.nn as nn\n",
    "import torch.nn.functional as F\n",
    "import torch.optim as optim\n",
    "\n",
    "# clinicaDL\n",
    "from clinicadl.tools.tsv.data_split import create_split\n",
    "from clinicadl.tools.deep_learning.data import generate_sampler, return_dataset, MRIDataset, MRIDatasetImage, MRIDatasetSlice, get_transforms\n",
    "from torch.utils.data import DataLoader\n",
    "from clinicadl.tools.deep_learning.cnn_utils import train, get_criterion, test\n",
    "from clinicadl.tools.deep_learning.models.random import RandomArchitecture\n",
    "from clinicadl.tools.deep_learning import EarlyStopping\n",
    "\n",
    "import matplotlib as mpl\n",
    "from mpl_toolkits.mplot3d import Axes3D\n",
    "import numpy as np\n",
    "import matplotlib.pyplot as plt\n",
    "\n",
    "# visualization\n",
    "from scipy.ndimage import zoom\n",
    "import itkwidgets\n",
    "from ipywidgets import interact, interactive, IntSlider, ToggleButtons\n",
    "import matplotlib.pyplot as plt\n",
    "\n",
    "%matplotlib inline"
   ]
  },
  {
   "cell_type": "code",
   "execution_count": 3,
   "id": "6d32fc9a",
   "metadata": {},
   "outputs": [],
   "source": [
    "# ignore warnings\n",
    "import warnings\n",
    "warnings.filterwarnings('ignore')"
   ]
  },
  {
   "cell_type": "code",
   "execution_count": 4,
   "id": "c73f81ad",
   "metadata": {},
   "outputs": [],
   "source": [
    "from tools.explanations.evaluation import *\n",
    "from tools.explanations.GradCam import *\n",
    "from train.train_CNN import *\n",
    "from tools.callbacks import *\n",
    "from tools.data import *\n",
    "from tools.explanations.visualization import *\n",
    "from tools.models.CN5_FC3_3D import *"
   ]
  },
  {
   "cell_type": "code",
   "execution_count": 5,
   "id": "29293b59",
   "metadata": {},
   "outputs": [],
   "source": [
    "data_path = '/network/lustre/dtlake01/aramis/datasets/adni/caps/caps_v2021.tsv'\n",
    "summary_path = '/network/lustre/dtlake01/aramis/datasets/adni/caps/caps_v2021_summary.tsv'\n",
    "df_data = pd.read_csv(data_path,sep='\\t',nrows=10)\n",
    "df_summary = pd.read_csv(summary_path,sep='\\t',nrows=10)"
   ]
  },
  {
   "cell_type": "code",
   "execution_count": 6,
   "id": "f3899621",
   "metadata": {},
   "outputs": [
    {
     "data": {
      "text/plain": [
       "torch.Size([1, 169, 208, 179])"
      ]
     },
     "execution_count": 6,
     "metadata": {},
     "output_type": "execute_result"
    }
   ],
   "source": [
    "file = '/network/lustre/dtlake01/aramis/datasets/adni/caps/caps_v2021/subjects/sub-ADNI052S1251/ses-M00/deeplearning_prepare_data/image_based/t1_linear/sub-ADNI052S1251_ses-M00_T1w_space-MNI152NLin2009cSym_desc-Crop_res-1x1x1_T1w.pt'\n",
    "ts = torch.load(file)\n",
    "ts.shape"
   ]
  },
  {
   "cell_type": "code",
   "execution_count": 7,
   "id": "ac337024",
   "metadata": {},
   "outputs": [],
   "source": [
    "input_type = ''\n",
    "network_type = ''\n",
    "caps_directory = ''\n",
    "preprocessing = ''\n",
    "tsv_path = ''"
   ]
  },
  {
   "cell_type": "markdown",
   "id": "8b548628",
   "metadata": {},
   "source": [
    "# Iterator"
   ]
  },
  {
   "cell_type": "markdown",
   "id": "eb619243",
   "metadata": {},
   "source": [
    "# Train Single CNN"
   ]
  },
  {
   "cell_type": "markdown",
   "id": "bc1e3401",
   "metadata": {
    "heading_collapsed": true
   },
   "source": [
    "## Initialization"
   ]
  },
  {
   "cell_type": "code",
   "execution_count": 8,
   "id": "a67523b0",
   "metadata": {
    "code_folding": [],
    "hidden": true
   },
   "outputs": [],
   "source": [
    "# global parameters\n",
    "caps_directory = '/network/lustre/dtlake01/aramis/datasets/adni/caps/caps_v2021/'\n",
    "batch_size = 4\n",
    "num_workers = 1\n",
    "loss = 'default'\n",
    "optimizer_name = 'Adam'\n",
    "learning_rate = 1e-4\n",
    "weight_decay = 1e-4"
   ]
  },
  {
   "cell_type": "code",
   "execution_count": 9,
   "id": "efac0b65",
   "metadata": {
    "code_folding": [],
    "hidden": true,
    "scrolled": true
   },
   "outputs": [
    {
     "name": "stderr",
     "output_type": "stream",
     "text": [
      "DEBUG:root:p_age=0.40, p_sex=0.9672\n",
      "DEBUG:root:p_age=0.26, p_sex=0.8667\n",
      "DEBUG:root:p_age=0.99, p_sex=0.8941\n",
      "INFO:root:Split for diagnosis AD was found after 3 trials\n",
      "DEBUG:root:p_age=0.51, p_sex=0.8558\n",
      "DEBUG:root:p_age=0.35, p_sex=0.9954\n",
      "DEBUG:root:p_age=0.04, p_sex=0.9954\n",
      "DEBUG:root:p_age=0.97, p_sex=0.8212\n",
      "INFO:root:Split for diagnosis CN was found after 4 trials\n"
     ]
    }
   ],
   "source": [
    "# fold iterator\n",
    "fold_iterator = range(2)\n",
    "\n",
    "# load dataframes\n",
    "AD = pd.read_csv('subjects/AD.tsv',sep='\\t')\n",
    "CN = pd.read_csv('subjects/CN.tsv',sep='\\t')\n",
    "\n",
    "# remove samples with NaN\n",
    "AD.drop(AD[AD.isna().sum(axis=1) > 0].index, inplace=True)\n",
    "CN.drop(CN[CN.isna().sum(axis=1) > 0].index, inplace=True)\n",
    "\n",
    "# split data between training and validation sets\n",
    "training_df, valid_df = create_split('AD', AD, 'diagnosis',0.2)\n",
    "df_CN = create_split('CN', CN, 'diagnosis',0.2)\n",
    "training_df = training_df.append(df_CN[0]).reset_index()#.iloc[np.array([0,1,2,-1,-2,-3])]\n",
    "valid_df = valid_df.append(df_CN[1]).reset_index()#.iloc[np.array([0,1,2,-1,-2,-3])]\n",
    "\n",
    "# drop index column\n",
    "training_df.drop(columns = ['index'], inplace=True)\n",
    "valid_df.drop(columns = ['index'], inplace=True)\n",
    "\n",
    "train_transforms, all_transforms = get_transforms('image', minmaxnormalization=True, data_augmentation=None )\n",
    "# fetch volumetric data\n",
    "df_add_data = fetch_add_data(training_df)\n",
    "\n",
    "# all_transforms = torchvision.transforms.Compose([])"
   ]
  },
  {
   "cell_type": "code",
   "execution_count": 10,
   "id": "fa898c26",
   "metadata": {
    "hidden": true
   },
   "outputs": [],
   "source": [
    "data_train = MRIDatasetImage(caps_directory, training_df, df_add_data=df_add_data,all_transformations=all_transforms) #train_transformations=all_transforms\n",
    "data_valid = MRIDatasetImage(caps_directory, valid_df, df_add_data=df_add_data, all_transformations=all_transforms) #train_transformations=all_transforms,\n",
    "\n",
    "\n",
    "# sampler\n",
    "train_sampler = generate_sampler(data_train)\n",
    "valid_sampler = generate_sampler(data_valid)\n",
    "# loaders\n",
    "train_loader = DataLoader(data_train,\n",
    "                         batch_size=batch_size,\n",
    "                         sampler=train_sampler,\n",
    "                         num_workers=num_workers,\n",
    "                         pin_memory=True)\n",
    "\n",
    "valid_loader = DataLoader(data_valid,\n",
    "                         batch_size=batch_size,\n",
    "                         sampler=valid_sampler,\n",
    "                         num_workers=num_workers,\n",
    "                         pin_memory=True)"
   ]
  },
  {
   "cell_type": "markdown",
   "id": "fe9be74e",
   "metadata": {},
   "source": [
    "## Training"
   ]
  },
  {
   "cell_type": "code",
   "execution_count": 11,
   "id": "47b66241",
   "metadata": {
    "scrolled": true
   },
   "outputs": [
    {
     "name": "stdout",
     "output_type": "stream",
     "text": [
      "To cuda\n",
      "----------------------------------------------------------------\n",
      "        Layer (type)               Output Shape         Param #\n",
      "================================================================\n",
      "            Conv3d-1     [-1, 8, 167, 206, 177]             224\n",
      "              ReLU-2     [-1, 8, 167, 206, 177]               0\n",
      "       BatchNorm3d-3     [-1, 8, 167, 206, 177]              16\n",
      "         MaxPool3d-4       [-1, 8, 83, 103, 88]               0\n",
      "            Conv3d-5      [-1, 16, 81, 101, 86]           3,472\n",
      "              ReLU-6      [-1, 16, 81, 101, 86]               0\n",
      "       BatchNorm3d-7      [-1, 16, 81, 101, 86]              32\n",
      "         MaxPool3d-8       [-1, 16, 40, 50, 43]               0\n",
      "            Conv3d-9       [-1, 32, 38, 48, 41]          13,856\n",
      "             ReLU-10       [-1, 32, 38, 48, 41]               0\n",
      "      BatchNorm3d-11       [-1, 32, 38, 48, 41]              64\n",
      "        MaxPool3d-12       [-1, 32, 19, 24, 20]               0\n",
      "           Conv3d-13       [-1, 64, 17, 22, 18]          55,360\n",
      "             ReLU-14       [-1, 64, 17, 22, 18]               0\n",
      "      BatchNorm3d-15       [-1, 64, 17, 22, 18]             128\n",
      "        MaxPool3d-16         [-1, 64, 8, 11, 9]               0\n",
      "           Conv3d-17         [-1, 128, 6, 9, 7]         221,312\n",
      "             ReLU-18         [-1, 128, 6, 9, 7]               0\n",
      "      BatchNorm3d-19         [-1, 128, 6, 9, 7]             256\n",
      "        MaxPool3d-20         [-1, 128, 3, 4, 3]               0\n",
      "          Flatten-21                 [-1, 4608]               0\n",
      "           Linear-22                   [-1, 32]         147,488\n",
      "             ReLU-23                   [-1, 32]               0\n",
      "      BatchNorm1d-24                   [-1, 32]              64\n",
      "          Dropout-25                   [-1, 32]               0\n",
      "           Linear-26                   [-1, 16]             528\n",
      "             ReLU-27                   [-1, 16]               0\n",
      "      BatchNorm1d-28                   [-1, 16]              32\n",
      "          Dropout-29                   [-1, 16]               0\n",
      "           Linear-30                    [-1, 1]              17\n",
      "          Sigmoid-31                    [-1, 1]               0\n",
      "           Conv3d-32         [-1, 128, 6, 9, 7]         221,312\n",
      "             ReLU-33         [-1, 128, 6, 9, 7]               0\n",
      "      BatchNorm3d-34         [-1, 128, 6, 9, 7]             256\n",
      "        MaxPool3d-35         [-1, 128, 3, 4, 3]               0\n",
      "          Flatten-36                 [-1, 4608]               0\n",
      "           Linear-37                  [-1, 476]       2,193,884\n",
      "             ReLU-38                  [-1, 476]               0\n",
      "      BatchNorm1d-39                  [-1, 476]             952\n",
      "          Dropout-40                  [-1, 476]               0\n",
      "           Linear-41                  [-1, 238]         113,526\n",
      "             ReLU-42                  [-1, 238]               0\n",
      "      BatchNorm1d-43                  [-1, 238]             476\n",
      "          Dropout-44                  [-1, 238]               0\n",
      "           Linear-45                  [-1, 119]          28,441\n",
      "           Conv3d-46         [-1, 128, 6, 9, 7]         221,312\n",
      "             ReLU-47         [-1, 128, 6, 9, 7]               0\n",
      "      BatchNorm3d-48         [-1, 128, 6, 9, 7]             256\n",
      "        MaxPool3d-49         [-1, 128, 3, 4, 3]               0\n",
      "          Flatten-50                 [-1, 4608]               0\n",
      "           Linear-51                   [-1, 32]         147,488\n",
      "             ReLU-52                   [-1, 32]               0\n",
      "      BatchNorm1d-53                   [-1, 32]              64\n",
      "          Dropout-54                   [-1, 32]               0\n",
      "           Linear-55                   [-1, 16]             528\n",
      "             ReLU-56                   [-1, 16]               0\n",
      "      BatchNorm1d-57                   [-1, 16]              32\n",
      "          Dropout-58                   [-1, 16]               0\n",
      "           Linear-59                    [-1, 1]              17\n",
      "           Conv3d-60         [-1, 128, 6, 9, 7]         221,312\n",
      "             ReLU-61         [-1, 128, 6, 9, 7]               0\n",
      "      BatchNorm3d-62         [-1, 128, 6, 9, 7]             256\n",
      "        MaxPool3d-63         [-1, 128, 3, 4, 3]               0\n",
      "          Flatten-64                 [-1, 4608]               0\n",
      "           Linear-65                   [-1, 32]         147,488\n",
      "             ReLU-66                   [-1, 32]               0\n",
      "      BatchNorm1d-67                   [-1, 32]              64\n",
      "          Dropout-68                   [-1, 32]               0\n",
      "           Linear-69                   [-1, 16]             528\n",
      "             ReLU-70                   [-1, 16]               0\n",
      "      BatchNorm1d-71                   [-1, 16]              32\n",
      "          Dropout-72                   [-1, 16]               0\n",
      "           Linear-73                    [-1, 1]              17\n",
      "          Sigmoid-74                    [-1, 1]               0\n",
      "================================================================\n",
      "Total params: 3,741,090\n",
      "Trainable params: 3,741,090\n",
      "Non-trainable params: 0\n",
      "----------------------------------------------------------------\n",
      "Input size (MB): 24.00\n",
      "Forward/backward pass size (MB): 1501.01\n",
      "Params size (MB): 14.27\n",
      "Estimated Total Size (MB): 1539.29\n",
      "----------------------------------------------------------------\n"
     ]
    }
   ],
   "source": [
    "# get sample\n",
    "sample = data_train[0]\n",
    "# build model\n",
    "model = Net(sample, [8, 16, 32, 64, 128])\n",
    "if torch.cuda.is_available():\n",
    "    print(\"To cuda\")\n",
    "    model.cuda()\n",
    "model.summary()"
   ]
  },
  {
   "cell_type": "code",
   "execution_count": 29,
   "id": "0d596761",
   "metadata": {
    "collapsed": true
   },
   "outputs": [
    {
     "name": "stderr",
     "output_type": "stream",
     "text": [
      "5it [00:25,  5.03s/it]\n"
     ]
    },
    {
     "ename": "KeyboardInterrupt",
     "evalue": "",
     "output_type": "error",
     "traceback": [
      "\u001b[0;31m---------------------------------------------------------------------------\u001b[0m",
      "\u001b[0;31mKeyboardInterrupt\u001b[0m                         Traceback (most recent call last)",
      "\u001b[0;32m<ipython-input-29-562721c8b242>\u001b[0m in \u001b[0;36m<module>\u001b[0;34m\u001b[0m\n\u001b[1;32m     26\u001b[0m \u001b[0;31m# training\u001b[0m\u001b[0;34m\u001b[0m\u001b[0;34m\u001b[0m\u001b[0;34m\u001b[0m\u001b[0m\n\u001b[1;32m     27\u001b[0m \u001b[0;32mfor\u001b[0m \u001b[0mepoch\u001b[0m \u001b[0;32min\u001b[0m \u001b[0mrange\u001b[0m\u001b[0;34m(\u001b[0m\u001b[0mnb_epochs\u001b[0m\u001b[0;34m)\u001b[0m\u001b[0;34m:\u001b[0m\u001b[0;34m\u001b[0m\u001b[0;34m\u001b[0m\u001b[0m\n\u001b[0;32m---> 28\u001b[0;31m     \u001b[0mupdate_dict\u001b[0m\u001b[0;34m(\u001b[0m\u001b[0mtrain_losses\u001b[0m\u001b[0;34m,\u001b[0m \u001b[0mtrain\u001b[0m\u001b[0;34m(\u001b[0m\u001b[0mepoch\u001b[0m\u001b[0;34m,\u001b[0m \u001b[0mmodel\u001b[0m\u001b[0;34m,\u001b[0m \u001b[0moptimizer\u001b[0m\u001b[0;34m,\u001b[0m \u001b[0mcuda\u001b[0m\u001b[0;34m,\u001b[0m \u001b[0mtrain_loader\u001b[0m\u001b[0;34m)\u001b[0m\u001b[0;34m,\u001b[0m \u001b[0mepoch\u001b[0m\u001b[0;34m)\u001b[0m\u001b[0;34m\u001b[0m\u001b[0;34m\u001b[0m\u001b[0m\n\u001b[0m\u001b[1;32m     29\u001b[0m     \u001b[0mupdate_dict\u001b[0m\u001b[0;34m(\u001b[0m\u001b[0mtest_losses\u001b[0m\u001b[0;34m,\u001b[0m \u001b[0mtest\u001b[0m\u001b[0;34m(\u001b[0m\u001b[0mmodel\u001b[0m\u001b[0;34m,\u001b[0m \u001b[0mcuda\u001b[0m\u001b[0;34m,\u001b[0m \u001b[0mvalid_loader\u001b[0m\u001b[0;34m)\u001b[0m\u001b[0;34m,\u001b[0m \u001b[0mepoch\u001b[0m\u001b[0;34m)\u001b[0m\u001b[0;34m\u001b[0m\u001b[0;34m\u001b[0m\u001b[0m\n\u001b[1;32m     30\u001b[0m     \u001b[0;32mif\u001b[0m \u001b[0mES\u001b[0m\u001b[0;34m.\u001b[0m\u001b[0mstep\u001b[0m\u001b[0;34m(\u001b[0m\u001b[0mtrain_losses\u001b[0m\u001b[0;34m[\u001b[0m\u001b[0;34m'train'\u001b[0m\u001b[0;34m]\u001b[0m\u001b[0;34m[\u001b[0m\u001b[0mepoch\u001b[0m\u001b[0;34m]\u001b[0m\u001b[0;34m)\u001b[0m\u001b[0;34m:\u001b[0m\u001b[0;34m\u001b[0m\u001b[0;34m\u001b[0m\u001b[0m\n",
      "\u001b[0;32m/network/lustre/dtlake01/aramis/users/sasha.collin/interpretability-dl-ndd/train/train_CNN.py\u001b[0m in \u001b[0;36mtrain\u001b[0;34m(epoch, model, optimizer_, device, loader)\u001b[0m\n\u001b[1;32m     44\u001b[0m             \u001b[0;32mfor\u001b[0m \u001b[0mkey\u001b[0m \u001b[0;32min\u001b[0m \u001b[0mdata\u001b[0m\u001b[0;34m.\u001b[0m\u001b[0mkeys\u001b[0m\u001b[0;34m(\u001b[0m\u001b[0;34m)\u001b[0m\u001b[0;34m:\u001b[0m\u001b[0;34m\u001b[0m\u001b[0;34m\u001b[0m\u001b[0m\n\u001b[1;32m     45\u001b[0m                 \u001b[0;32mtry\u001b[0m\u001b[0;34m:\u001b[0m\u001b[0;34m\u001b[0m\u001b[0;34m\u001b[0m\u001b[0m\n\u001b[0;32m---> 46\u001b[0;31m                     \u001b[0mdata\u001b[0m\u001b[0;34m[\u001b[0m\u001b[0mkey\u001b[0m\u001b[0;34m]\u001b[0m \u001b[0;34m=\u001b[0m \u001b[0mdata\u001b[0m\u001b[0;34m[\u001b[0m\u001b[0mkey\u001b[0m\u001b[0;34m]\u001b[0m\u001b[0;34m.\u001b[0m\u001b[0mto\u001b[0m\u001b[0;34m(\u001b[0m\u001b[0mdevice\u001b[0m\u001b[0;34m)\u001b[0m\u001b[0;34m\u001b[0m\u001b[0;34m\u001b[0m\u001b[0m\n\u001b[0m\u001b[1;32m     47\u001b[0m                 \u001b[0;32mexcept\u001b[0m \u001b[0mAttributeError\u001b[0m\u001b[0;34m:\u001b[0m\u001b[0;34m\u001b[0m\u001b[0;34m\u001b[0m\u001b[0m\n\u001b[1;32m     48\u001b[0m                     \u001b[0;32mpass\u001b[0m\u001b[0;34m\u001b[0m\u001b[0;34m\u001b[0m\u001b[0m\n",
      "\u001b[0;31mKeyboardInterrupt\u001b[0m: "
     ]
    }
   ],
   "source": [
    "nb_epochs = 20\n",
    "# optimizer\n",
    "optimizer = optim.Adam(model.parameters(),lr=learning_rate)\n",
    "# device\n",
    "cuda = torch.device('cuda')\n",
    "# record losses\n",
    "train_losses = {\n",
    "    'classification': np.zeros(nb_epochs),\n",
    "    'volumes': np.zeros(nb_epochs),\n",
    "    'age': np.zeros(nb_epochs),\n",
    "    'sex': np.zeros(nb_epochs),\n",
    "    'train': np.zeros(nb_epochs)\n",
    "}\n",
    "test_losses = {\n",
    "    'classification': np.zeros(nb_epochs),\n",
    "    'volumes': np.zeros(nb_epochs),\n",
    "    'age': np.zeros(nb_epochs),\n",
    "    'sex': np.zeros(nb_epochs),\n",
    "    'test': np.zeros(nb_epochs)\n",
    "}\n",
    "\n",
    "# callbacks\n",
    "ES = EarlyStopping(patience=5)\n",
    "MC = ModelCheckpoint()\n",
    "\n",
    "# training\n",
    "for epoch in range(nb_epochs):\n",
    "    update_dict(train_losses, train(epoch, model, optimizer, cuda, train_loader), epoch)\n",
    "    update_dict(test_losses, test(model, cuda, valid_loader), epoch)\n",
    "    if ES.step(train_losses['train'][epoch]):\n",
    "        break\n",
    "    MC.step(train_losses['train'][epoch], epoch, model, optimizer) # path\n",
    "\n",
    "# save training curves\n",
    "def save_loss(loss, name=\"loss\"):\n",
    "    df = pd.DataFrame.from_dict(loss)\n",
    "    df[df.any(axis=1)].to_csv(name + '.csv',index=False)\n",
    "    \n",
    "save_loss(train_losses, 'train_losses')\n",
    "save_loss(test_losses, 'val_losses')\n"
   ]
  },
  {
   "cell_type": "code",
   "execution_count": 46,
   "id": "d70ff3f9",
   "metadata": {},
   "outputs": [
    {
     "name": "stdout",
     "output_type": "stream",
     "text": [
      "38.70608\n",
      "62.221134\n",
      "338.53052\n",
      "32.400326\n"
     ]
    }
   ],
   "source": [
    "for k in range(1,5):\n",
    "    print(np.linalg.norm(getattr(getattr(model,'branch' + str(k)), 'b' + str(k) + '-conv').weight.grad.data.cpu()))"
   ]
  },
  {
   "cell_type": "markdown",
   "id": "497c3703",
   "metadata": {},
   "source": [
    "## Visualization"
   ]
  },
  {
   "cell_type": "code",
   "execution_count": 44,
   "id": "8f08832b",
   "metadata": {
    "code_folding": [
     0,
     14
    ]
   },
   "outputs": [],
   "source": [
    "def plot_losses(dict_losses, title=\"\"):\n",
    "    \"\"\"\n",
    "    Plot the different losses.\n",
    "    \n",
    "    Args:\n",
    "        dict_losses: dictionnary of losses\n",
    "    \"\"\"\n",
    "    plt.figure()\n",
    "    plt.title(title)\n",
    "    for key in dict_losses.keys():\n",
    "        plt.plot(dict_losses[key], label=key)\n",
    "    plt.legend()\n",
    "    plt.show()\n",
    "    \n",
    "def plot_tensor(X):\n",
    "    x = np.transpose(X[0], (1,2,0))\n",
    "    x = (x-x.min())/x.max()\n",
    "    plt.imshow(x)"
   ]
  },
  {
   "cell_type": "code",
   "execution_count": 17,
   "id": "6f7f6ecb",
   "metadata": {
    "collapsed": true
   },
   "outputs": [
    {
     "ename": "NameError",
     "evalue": "name 'train_losses' is not defined",
     "output_type": "error",
     "traceback": [
      "\u001b[0;31m---------------------------------------------------------------------------\u001b[0m",
      "\u001b[0;31mNameError\u001b[0m                                 Traceback (most recent call last)",
      "\u001b[0;32m<ipython-input-17-a86c7f57b9de>\u001b[0m in \u001b[0;36m<module>\u001b[0;34m\u001b[0m\n\u001b[0;32m----> 1\u001b[0;31m \u001b[0mplot_losses\u001b[0m\u001b[0;34m(\u001b[0m\u001b[0mtrain_losses\u001b[0m\u001b[0;34m,\u001b[0m \u001b[0;34m\"Training losses\"\u001b[0m\u001b[0;34m)\u001b[0m\u001b[0;34m\u001b[0m\u001b[0;34m\u001b[0m\u001b[0m\n\u001b[0m",
      "\u001b[0;31mNameError\u001b[0m: name 'train_losses' is not defined"
     ]
    }
   ],
   "source": [
    "plot_losses(train_losses, \"Training losses\")"
   ]
  },
  {
   "cell_type": "markdown",
   "id": "02cce37e",
   "metadata": {},
   "source": [
    "## Assess explanation"
   ]
  },
  {
   "cell_type": "code",
   "execution_count": 135,
   "id": "eb37b136",
   "metadata": {},
   "outputs": [
    {
     "data": {
      "text/plain": [
       "<All keys matched successfully>"
      ]
     },
     "execution_count": 135,
     "metadata": {},
     "output_type": "execute_result"
    }
   ],
   "source": [
    "# load model\n",
    "saved_data = torch.load('model_3D_2')\n",
    "\n",
    "model.load_state_dict(saved_data['model_state_dict'])"
   ]
  },
  {
   "cell_type": "code",
   "execution_count": 217,
   "id": "45d3a977",
   "metadata": {
    "code_folding": [
     0,
     58
    ]
   },
   "outputs": [],
   "source": [
    "class CamExtractor():\n",
    "    \"\"\"\n",
    "    Extracts cam features from the model\n",
    "    \"\"\"\n",
    "\n",
    "    def __init__(self, model, target_layer=None):\n",
    "        self.model = model\n",
    "        self.target_layer = target_layer\n",
    "        self.gradients = None\n",
    "\n",
    "    def save_gradient(self, grad):\n",
    "        self.gradients = grad\n",
    "\n",
    "    def forward_pass_on_convolutions(self, x, branch=None):\n",
    "        \"\"\"\n",
    "        Does a forward pass on convolutions, hooks the function at given layer\n",
    "        \"\"\"\n",
    "        conv_output = None\n",
    "        if self.target_layer is not None:\n",
    "            for module_pos, module in self.model.features._modules.items():\n",
    "                x = module(x)  # Forward\n",
    "                if module_pos == self.target_layer:\n",
    "                    x.register_hook(self.save_gradient)\n",
    "                    conv_output = x  # Save the convolution output on that layer\n",
    "        else:\n",
    "            if branch is None:\n",
    "                raise Exception(\"Either target_layer or branch must not be None.\")\n",
    "            x = self.model.features(x)\n",
    "            module_pos, module = next(iter(getattr(self.model, branch)._modules.items()))\n",
    "            x = module(x)\n",
    "            x.register_hook(self.save_gradient)\n",
    "            conv_output = x\n",
    "\n",
    "        return conv_output, x\n",
    "\n",
    "    def forward_pass(self, x, branch=None):\n",
    "        \"\"\"\n",
    "        Does a full forward pass on the model\n",
    "        \"\"\"\n",
    "        # Forward pass on the convolutions\n",
    "        conv_output, x = self.forward_pass_on_convolutions(x, branch)\n",
    "        if self.target_layer is not None:\n",
    "            # x = x.view(x.size(0), -1)  # Flatten\n",
    "            # Forward pass on the classifier\n",
    "            x = getattr(self.model, branch)(x)\n",
    "        else:\n",
    "            for k, (module_pos, module) in enumerate(getattr(self.model, branch)._modules.items()):\n",
    "                if k != 0:\n",
    "                    # do not apply again last convolution\n",
    "                    x = module(x)  # Forward\n",
    "        return conv_output, x\n",
    "\n",
    "\n",
    "class GradCam():\n",
    "    \"\"\"\n",
    "        Produces class activation map\n",
    "    \"\"\"\n",
    "\n",
    "    def __init__(self, model, target_layer=None):\n",
    "        self.model = model\n",
    "        self.model.eval()\n",
    "        # Define extractor\n",
    "        self.extractor = CamExtractor(self.model, target_layer)\n",
    "        if torch.cuda.is_available():\n",
    "            self.null_scalar = torch.cuda.FloatTensor((1,)).fill_(0.)\n",
    "        else:\n",
    "            self.null_scalar = torch.FloatTensor((1,)).fill_(0.)\n",
    "\n",
    "    def generate_cam(self, input_image, branch='branch1', resize=False, to_cpu=False):\n",
    "        \"\"\"\n",
    "        Args:\n",
    "            input_image: array\n",
    "            branch: string, name of the branch\n",
    "            resize: bool, if True, resize attention maps to input_image shape\n",
    "        \"\"\"\n",
    "        while len(input_image.shape) < 5:\n",
    "            input_image = input_image[None, ...]\n",
    "        # Full forward pass\n",
    "        # conv_output is the output of convolutions at specified layer\n",
    "        # model_output is the final output of the model (1, 1000)\n",
    "        if torch.cuda.is_available():\n",
    "            input_image = input_image.cuda()\n",
    "        conv_output, model_output = self.extractor.forward_pass(input_image, branch)\n",
    "        # Zero grads\n",
    "        self.model.features.zero_grad()\n",
    "        getattr(self.model, branch).zero_grad()\n",
    "        # Backward pass with specified target\n",
    "        model_output.sum().backward(retain_graph=True)\n",
    "        # Get hooked gradients\n",
    "        guided_gradients = self.extractor.gradients.data[0]\n",
    "        # Get convolution outputs\n",
    "        target = conv_output.data[0]\n",
    "        # Get weights from gradients\n",
    "        weights = guided_gradients.mean(axis=(1, 2, 3))  # Take averages for each gradient\n",
    "        # Multiply each weight with its conv output and then, sum\n",
    "        cam = (weights.view(weights.shape + (1, 1, 1)) * target).sum(axis=0)\n",
    "        cam = torch.where(cam > self.null_scalar, cam, self.null_scalar)\n",
    "        cam = (cam - cam.min()) / (cam.max() - cam.min())  # Normalize between 0-1\n",
    "        # resize to shape of input image\n",
    "        if resize:\n",
    "            cam = zoom(cam.cpu(), input_image.shape[-3:] / np.array(cam.shape))\n",
    "        if to_cpu:\n",
    "            cam.cpu()\n",
    "        return cam\n",
    "\n",
    "    def get_explanations(self, input_image, resize=False, to_cpu=False):\n",
    "        \"\"\"\n",
    "        Generate Grad-CAM attention maps for all branches.\n",
    "        Args:\n",
    "            input_image: 3D-tensor. 4D-tensor (channel included) and 5D-tensor\n",
    "                (batch size dimension included) with dim 1 are also accepted.\n",
    "            resize: bool, if True, resize attention maps to input_image shape\n",
    "        \"\"\"\n",
    "        if torch.cuda.is_available():\n",
    "            input_image = input_image.cuda()\n",
    "        # grad-cam attention maps\n",
    "        cams = {}\n",
    "        branches = ['branch' + str(k) for k in range(1, 5)]\n",
    "        for branch in branches:\n",
    "            cams[branch] = self.generate_cam(input_image, branch=branch, resize=resize, to_cpu=to_cpu)\n",
    "        return cams"
   ]
  },
  {
   "cell_type": "code",
   "execution_count": 209,
   "id": "453f2de9",
   "metadata": {
    "scrolled": true
   },
   "outputs": [
    {
     "name": "stdout",
     "output_type": "stream",
     "text": [
      "9.89321517944336\n"
     ]
    }
   ],
   "source": [
    "a0 = time.time()\n",
    "GC = GradCam(model.cuda())\n",
    "img = sample['image'].float()\n",
    "attentions = GC.get_explanations(img.cuda(), resize=False, to_cpu=True)\n",
    "#GC.visualize_cams(img)\n",
    "print(time.time() - a0)"
   ]
  },
  {
   "cell_type": "code",
   "execution_count": 144,
   "id": "c9c11aca",
   "metadata": {
    "scrolled": false
   },
   "outputs": [
    {
     "name": "stdout",
     "output_type": "stream",
     "text": [
      "Image shape: 169 208 179\n"
     ]
    },
    {
     "data": {
      "application/vnd.jupyter.widget-view+json": {
       "model_id": "4ae2d7362f6c4a99a4a0de4cbf1d0059",
       "version_major": 2,
       "version_minor": 0
      },
      "text/plain": [
       "interactive(children=(IntSlider(value=103, description='layer', max=207), IntSlider(value=0, description='chan…"
      ]
     },
     "metadata": {},
     "output_type": "display_data"
    }
   ],
   "source": [
    "# for key in attentions:\n",
    "#     attentions[key] = attentions[key].cpu()\n",
    "visualize_explanations(img, attentions)"
   ]
  },
  {
   "cell_type": "code",
   "execution_count": 162,
   "id": "62552349",
   "metadata": {
    "collapsed": true
   },
   "outputs": [
    {
     "name": "stderr",
     "output_type": "stream",
     "text": [
      "\r",
      "  0%|          | 0/25 [00:00<?, ?it/s]"
     ]
    },
    {
     "name": "stdout",
     "output_type": "stream",
     "text": [
      "hello\n",
      "hello\n",
      "hello\n",
      "hello\n",
      "hello2\n"
     ]
    },
    {
     "name": "stderr",
     "output_type": "stream",
     "text": [
      "\r",
      "  4%|▍         | 1/25 [00:33<13:25, 33.55s/it]"
     ]
    },
    {
     "name": "stdout",
     "output_type": "stream",
     "text": [
      "hello3\n",
      "hello\n",
      "hello\n"
     ]
    },
    {
     "name": "stderr",
     "output_type": "stream",
     "text": [
      "  4%|▍         | 1/25 [00:50<20:08, 50.34s/it]\n"
     ]
    },
    {
     "ename": "KeyboardInterrupt",
     "evalue": "",
     "output_type": "error",
     "traceback": [
      "\u001b[0;31m---------------------------------------------------------------------------\u001b[0m",
      "\u001b[0;31mKeyboardInterrupt\u001b[0m                         Traceback (most recent call last)",
      "\u001b[0;32m<ipython-input-162-554de30ee644>\u001b[0m in \u001b[0;36m<module>\u001b[0;34m\u001b[0m\n\u001b[1;32m      6\u001b[0m     \u001b[0mrandom\u001b[0m\u001b[0;34m.\u001b[0m\u001b[0mseed\u001b[0m\u001b[0;34m(\u001b[0m\u001b[0;36m0\u001b[0m\u001b[0;34m)\u001b[0m\u001b[0;34m\u001b[0m\u001b[0;34m\u001b[0m\u001b[0m\n\u001b[1;32m      7\u001b[0m     \u001b[0mtorch\u001b[0m\u001b[0;34m.\u001b[0m\u001b[0mmanual_seed\u001b[0m\u001b[0;34m(\u001b[0m\u001b[0;36m0\u001b[0m\u001b[0;34m)\u001b[0m\u001b[0;34m\u001b[0m\u001b[0;34m\u001b[0m\u001b[0m\n\u001b[0;32m----> 8\u001b[0;31m     \u001b[0mresu\u001b[0m \u001b[0;34m=\u001b[0m \u001b[0mmax_sensitivity\u001b[0m\u001b[0;34m(\u001b[0m\u001b[0mimg\u001b[0m\u001b[0;34m,\u001b[0m \u001b[0mGC\u001b[0m\u001b[0;34m,\u001b[0m \u001b[0mk\u001b[0m\u001b[0;34m)\u001b[0m\u001b[0;34m\u001b[0m\u001b[0;34m\u001b[0m\u001b[0m\n\u001b[0m\u001b[1;32m      9\u001b[0m     \u001b[0ma\u001b[0m\u001b[0;34m.\u001b[0m\u001b[0mappend\u001b[0m\u001b[0;34m(\u001b[0m\u001b[0mresu\u001b[0m\u001b[0;34m[\u001b[0m\u001b[0;34m'branch1'\u001b[0m\u001b[0;34m]\u001b[0m\u001b[0;34m)\u001b[0m\u001b[0;34m\u001b[0m\u001b[0;34m\u001b[0m\u001b[0m\n\u001b[1;32m     10\u001b[0m     \u001b[0mb\u001b[0m\u001b[0;34m.\u001b[0m\u001b[0mappend\u001b[0m\u001b[0;34m(\u001b[0m\u001b[0mresu\u001b[0m\u001b[0;34m[\u001b[0m\u001b[0;34m'branch2'\u001b[0m\u001b[0;34m]\u001b[0m\u001b[0;34m)\u001b[0m\u001b[0;34m\u001b[0m\u001b[0;34m\u001b[0m\u001b[0m\n",
      "\u001b[0;32m<ipython-input-161-c799edb2756f>\u001b[0m in \u001b[0;36mmax_sensitivity\u001b[0;34m(X, exp_method, N, alpha)\u001b[0m\n\u001b[1;32m     19\u001b[0m         \u001b[0;31m# create noisy image\u001b[0m\u001b[0;34m\u001b[0m\u001b[0;34m\u001b[0m\u001b[0;34m\u001b[0m\u001b[0m\n\u001b[1;32m     20\u001b[0m         \u001b[0mprint\u001b[0m\u001b[0;34m(\u001b[0m\u001b[0;34m'hello'\u001b[0m\u001b[0;34m)\u001b[0m\u001b[0;34m\u001b[0m\u001b[0;34m\u001b[0m\u001b[0m\n\u001b[0;32m---> 21\u001b[0;31m         \u001b[0mnoisy_X\u001b[0m \u001b[0;34m=\u001b[0m \u001b[0mX\u001b[0m \u001b[0;34m+\u001b[0m \u001b[0mX\u001b[0m\u001b[0;34m.\u001b[0m\u001b[0mdata\u001b[0m\u001b[0;34m.\u001b[0m\u001b[0mnew\u001b[0m\u001b[0;34m(\u001b[0m\u001b[0mX\u001b[0m\u001b[0;34m.\u001b[0m\u001b[0msize\u001b[0m\u001b[0;34m(\u001b[0m\u001b[0;34m)\u001b[0m\u001b[0;34m)\u001b[0m\u001b[0;34m.\u001b[0m\u001b[0mnormal_\u001b[0m\u001b[0;34m(\u001b[0m\u001b[0;36m0\u001b[0m\u001b[0;34m,\u001b[0m \u001b[0malpha\u001b[0m \u001b[0;34m*\u001b[0m \u001b[0mX\u001b[0m\u001b[0;34m.\u001b[0m\u001b[0mstd\u001b[0m\u001b[0;34m(\u001b[0m\u001b[0;34m)\u001b[0m\u001b[0;34m.\u001b[0m\u001b[0mitem\u001b[0m\u001b[0;34m(\u001b[0m\u001b[0;34m)\u001b[0m\u001b[0;34m)\u001b[0m\u001b[0;34m.\u001b[0m\u001b[0mcuda\u001b[0m\u001b[0;34m(\u001b[0m\u001b[0;34m)\u001b[0m\u001b[0;34m\u001b[0m\u001b[0;34m\u001b[0m\u001b[0m\n\u001b[0m\u001b[1;32m     22\u001b[0m         \u001b[0mprint\u001b[0m\u001b[0;34m(\u001b[0m\u001b[0;34m'hello'\u001b[0m\u001b[0;34m)\u001b[0m\u001b[0;34m\u001b[0m\u001b[0;34m\u001b[0m\u001b[0m\n\u001b[1;32m     23\u001b[0m         \u001b[0mnoisy_X\u001b[0m \u001b[0;34m=\u001b[0m \u001b[0mtorch\u001b[0m\u001b[0;34m.\u001b[0m\u001b[0mmax\u001b[0m\u001b[0;34m(\u001b[0m\u001b[0mnoisy_X\u001b[0m\u001b[0;34m,\u001b[0m \u001b[0mX\u001b[0m\u001b[0;34m.\u001b[0m\u001b[0mmin\u001b[0m\u001b[0;34m(\u001b[0m\u001b[0;34m)\u001b[0m\u001b[0;34m.\u001b[0m\u001b[0mexpand_as\u001b[0m\u001b[0;34m(\u001b[0m\u001b[0mX\u001b[0m\u001b[0;34m)\u001b[0m\u001b[0;34m)\u001b[0m\u001b[0;34m\u001b[0m\u001b[0;34m\u001b[0m\u001b[0m\n",
      "\u001b[0;31mKeyboardInterrupt\u001b[0m: "
     ]
    }
   ],
   "source": [
    "a,b,c,d = [], [], [], []\n",
    "n_max = 500\n",
    "step = 20\n",
    "for k in tqdm(range(1, n_max, step)):\n",
    "    np.random.seed(0)\n",
    "    random.seed(0)\n",
    "    torch.manual_seed(0)\n",
    "    resu = max_sensitivity(img, GC, k)\n",
    "    a.append(resu['branch1'])\n",
    "    b.append(resu['branch2'])\n",
    "    c.append(resu['branch3'])\n",
    "    d.append(resu['branch4'])"
   ]
  },
  {
   "cell_type": "code",
   "execution_count": 218,
   "id": "19bf851d",
   "metadata": {},
   "outputs": [
    {
     "ename": "TypeError",
     "evalue": "can't convert cuda:0 device type tensor to numpy. Use Tensor.cpu() to copy the tensor to host memory first.",
     "output_type": "error",
     "traceback": [
      "\u001b[0;31m---------------------------------------------------------------------------\u001b[0m",
      "\u001b[0;31mTypeError\u001b[0m                                 Traceback (most recent call last)",
      "\u001b[0;32m<ipython-input-218-1a023915af21>\u001b[0m in \u001b[0;36m<module>\u001b[0;34m\u001b[0m\n\u001b[1;32m      1\u001b[0m \u001b[0mt\u001b[0m \u001b[0;34m=\u001b[0m \u001b[0mtime\u001b[0m\u001b[0;34m.\u001b[0m\u001b[0mtime\u001b[0m\u001b[0;34m(\u001b[0m\u001b[0;34m)\u001b[0m\u001b[0;34m\u001b[0m\u001b[0;34m\u001b[0m\u001b[0m\n\u001b[0;32m----> 2\u001b[0;31m \u001b[0mmax_sensitivity\u001b[0m\u001b[0;34m(\u001b[0m\u001b[0mimg\u001b[0m\u001b[0;34m,\u001b[0m \u001b[0mGC\u001b[0m\u001b[0;34m,\u001b[0m \u001b[0mN\u001b[0m\u001b[0;34m=\u001b[0m\u001b[0;36m1\u001b[0m\u001b[0;34m)\u001b[0m\u001b[0;34m\u001b[0m\u001b[0;34m\u001b[0m\u001b[0m\n\u001b[0m\u001b[1;32m      3\u001b[0m \u001b[0mprint\u001b[0m\u001b[0;34m(\u001b[0m\u001b[0mtime\u001b[0m\u001b[0;34m.\u001b[0m\u001b[0mtime\u001b[0m\u001b[0;34m(\u001b[0m\u001b[0;34m)\u001b[0m \u001b[0;34m-\u001b[0m \u001b[0mt\u001b[0m\u001b[0;34m)\u001b[0m\u001b[0;34m\u001b[0m\u001b[0;34m\u001b[0m\u001b[0m\n",
      "\u001b[0;32m<ipython-input-214-9bd5caa723f7>\u001b[0m in \u001b[0;36mmax_sensitivity\u001b[0;34m(X, exp_method, N, alpha)\u001b[0m\n\u001b[1;32m     23\u001b[0m         \u001b[0;31m# compute differences in explanations\u001b[0m\u001b[0;34m\u001b[0m\u001b[0;34m\u001b[0m\u001b[0;34m\u001b[0m\u001b[0m\n\u001b[1;32m     24\u001b[0m         \u001b[0;32mfor\u001b[0m \u001b[0mtarget\u001b[0m \u001b[0;32min\u001b[0m \u001b[0mnoisy_expls\u001b[0m\u001b[0;34m:\u001b[0m\u001b[0;34m\u001b[0m\u001b[0;34m\u001b[0m\u001b[0m\n\u001b[0;32m---> 25\u001b[0;31m             \u001b[0mdiff\u001b[0m \u001b[0;34m=\u001b[0m \u001b[0mnp\u001b[0m\u001b[0;34m.\u001b[0m\u001b[0mlinalg\u001b[0m\u001b[0;34m.\u001b[0m\u001b[0mnorm\u001b[0m\u001b[0;34m(\u001b[0m\u001b[0mnoisy_expls\u001b[0m\u001b[0;34m[\u001b[0m\u001b[0mtarget\u001b[0m\u001b[0;34m]\u001b[0m \u001b[0;34m-\u001b[0m \u001b[0mexpls\u001b[0m\u001b[0;34m[\u001b[0m\u001b[0mtarget\u001b[0m\u001b[0;34m]\u001b[0m\u001b[0;34m)\u001b[0m \u001b[0;34m/\u001b[0m \u001b[0mnp\u001b[0m\u001b[0;34m.\u001b[0m\u001b[0mlinalg\u001b[0m\u001b[0;34m.\u001b[0m\u001b[0mnorm\u001b[0m\u001b[0;34m(\u001b[0m\u001b[0mexpls\u001b[0m\u001b[0;34m[\u001b[0m\u001b[0mtarget\u001b[0m\u001b[0;34m]\u001b[0m\u001b[0;34m)\u001b[0m\u001b[0;34m\u001b[0m\u001b[0;34m\u001b[0m\u001b[0m\n\u001b[0m\u001b[1;32m     26\u001b[0m             \u001b[0;32mif\u001b[0m \u001b[0mtarget\u001b[0m \u001b[0;32mnot\u001b[0m \u001b[0;32min\u001b[0m \u001b[0mmax_diff\u001b[0m\u001b[0;34m:\u001b[0m\u001b[0;34m\u001b[0m\u001b[0;34m\u001b[0m\u001b[0m\n\u001b[1;32m     27\u001b[0m                 \u001b[0mmax_diff\u001b[0m\u001b[0;34m[\u001b[0m\u001b[0mtarget\u001b[0m\u001b[0;34m]\u001b[0m \u001b[0;34m=\u001b[0m \u001b[0mdiff\u001b[0m\u001b[0;34m\u001b[0m\u001b[0;34m\u001b[0m\u001b[0m\n",
      "\u001b[0;32m<__array_function__ internals>\u001b[0m in \u001b[0;36mnorm\u001b[0;34m(*args, **kwargs)\u001b[0m\n",
      "\u001b[0;32m/network/lustre/dtlake01/aramis/users/sasha.collin/miniconda3/envs/venv/lib/python3.7/site-packages/numpy/linalg/linalg.py\u001b[0m in \u001b[0;36mnorm\u001b[0;34m(x, ord, axis, keepdims)\u001b[0m\n\u001b[1;32m   2512\u001b[0m \u001b[0;34m\u001b[0m\u001b[0m\n\u001b[1;32m   2513\u001b[0m     \"\"\"\n\u001b[0;32m-> 2514\u001b[0;31m     \u001b[0mx\u001b[0m \u001b[0;34m=\u001b[0m \u001b[0masarray\u001b[0m\u001b[0;34m(\u001b[0m\u001b[0mx\u001b[0m\u001b[0;34m)\u001b[0m\u001b[0;34m\u001b[0m\u001b[0;34m\u001b[0m\u001b[0m\n\u001b[0m\u001b[1;32m   2515\u001b[0m \u001b[0;34m\u001b[0m\u001b[0m\n\u001b[1;32m   2516\u001b[0m     \u001b[0;32mif\u001b[0m \u001b[0;32mnot\u001b[0m \u001b[0missubclass\u001b[0m\u001b[0;34m(\u001b[0m\u001b[0mx\u001b[0m\u001b[0;34m.\u001b[0m\u001b[0mdtype\u001b[0m\u001b[0;34m.\u001b[0m\u001b[0mtype\u001b[0m\u001b[0;34m,\u001b[0m \u001b[0;34m(\u001b[0m\u001b[0minexact\u001b[0m\u001b[0;34m,\u001b[0m \u001b[0mobject_\u001b[0m\u001b[0;34m)\u001b[0m\u001b[0;34m)\u001b[0m\u001b[0;34m:\u001b[0m\u001b[0;34m\u001b[0m\u001b[0;34m\u001b[0m\u001b[0m\n",
      "\u001b[0;32m/network/lustre/dtlake01/aramis/users/sasha.collin/miniconda3/envs/venv/lib/python3.7/site-packages/numpy/core/_asarray.py\u001b[0m in \u001b[0;36masarray\u001b[0;34m(a, dtype, order)\u001b[0m\n\u001b[1;32m     81\u001b[0m \u001b[0;34m\u001b[0m\u001b[0m\n\u001b[1;32m     82\u001b[0m     \"\"\"\n\u001b[0;32m---> 83\u001b[0;31m     \u001b[0;32mreturn\u001b[0m \u001b[0marray\u001b[0m\u001b[0;34m(\u001b[0m\u001b[0ma\u001b[0m\u001b[0;34m,\u001b[0m \u001b[0mdtype\u001b[0m\u001b[0;34m,\u001b[0m \u001b[0mcopy\u001b[0m\u001b[0;34m=\u001b[0m\u001b[0;32mFalse\u001b[0m\u001b[0;34m,\u001b[0m \u001b[0morder\u001b[0m\u001b[0;34m=\u001b[0m\u001b[0morder\u001b[0m\u001b[0;34m)\u001b[0m\u001b[0;34m\u001b[0m\u001b[0;34m\u001b[0m\u001b[0m\n\u001b[0m\u001b[1;32m     84\u001b[0m \u001b[0;34m\u001b[0m\u001b[0m\n\u001b[1;32m     85\u001b[0m \u001b[0;34m\u001b[0m\u001b[0m\n",
      "\u001b[0;32m/network/lustre/dtlake01/aramis/users/sasha.collin/miniconda3/envs/venv/lib/python3.7/site-packages/torch/tensor.py\u001b[0m in \u001b[0;36m__array__\u001b[0;34m(self, dtype)\u001b[0m\n\u001b[1;32m    619\u001b[0m             \u001b[0;32mreturn\u001b[0m \u001b[0mhandle_torch_function\u001b[0m\u001b[0;34m(\u001b[0m\u001b[0mTensor\u001b[0m\u001b[0;34m.\u001b[0m\u001b[0m__array__\u001b[0m\u001b[0;34m,\u001b[0m \u001b[0;34m(\u001b[0m\u001b[0mself\u001b[0m\u001b[0;34m,\u001b[0m\u001b[0;34m)\u001b[0m\u001b[0;34m,\u001b[0m \u001b[0mself\u001b[0m\u001b[0;34m,\u001b[0m \u001b[0mdtype\u001b[0m\u001b[0;34m=\u001b[0m\u001b[0mdtype\u001b[0m\u001b[0;34m)\u001b[0m\u001b[0;34m\u001b[0m\u001b[0;34m\u001b[0m\u001b[0m\n\u001b[1;32m    620\u001b[0m         \u001b[0;32mif\u001b[0m \u001b[0mdtype\u001b[0m \u001b[0;32mis\u001b[0m \u001b[0;32mNone\u001b[0m\u001b[0;34m:\u001b[0m\u001b[0;34m\u001b[0m\u001b[0;34m\u001b[0m\u001b[0m\n\u001b[0;32m--> 621\u001b[0;31m             \u001b[0;32mreturn\u001b[0m \u001b[0mself\u001b[0m\u001b[0;34m.\u001b[0m\u001b[0mnumpy\u001b[0m\u001b[0;34m(\u001b[0m\u001b[0;34m)\u001b[0m\u001b[0;34m\u001b[0m\u001b[0;34m\u001b[0m\u001b[0m\n\u001b[0m\u001b[1;32m    622\u001b[0m         \u001b[0;32melse\u001b[0m\u001b[0;34m:\u001b[0m\u001b[0;34m\u001b[0m\u001b[0;34m\u001b[0m\u001b[0m\n\u001b[1;32m    623\u001b[0m             \u001b[0;32mreturn\u001b[0m \u001b[0mself\u001b[0m\u001b[0;34m.\u001b[0m\u001b[0mnumpy\u001b[0m\u001b[0;34m(\u001b[0m\u001b[0;34m)\u001b[0m\u001b[0;34m.\u001b[0m\u001b[0mastype\u001b[0m\u001b[0;34m(\u001b[0m\u001b[0mdtype\u001b[0m\u001b[0;34m,\u001b[0m \u001b[0mcopy\u001b[0m\u001b[0;34m=\u001b[0m\u001b[0;32mFalse\u001b[0m\u001b[0;34m)\u001b[0m\u001b[0;34m\u001b[0m\u001b[0;34m\u001b[0m\u001b[0m\n",
      "\u001b[0;31mTypeError\u001b[0m: can't convert cuda:0 device type tensor to numpy. Use Tensor.cpu() to copy the tensor to host memory first."
     ]
    }
   ],
   "source": [
    "t = time.time()\n",
    "max_sensitivity(img, GC, N=1)\n",
    "print(time.time() - t)"
   ]
  },
  {
   "cell_type": "code",
   "execution_count": 214,
   "id": "fc48116c",
   "metadata": {},
   "outputs": [],
   "source": [
    "def max_sensitivity(X, exp_method, N=10, alpha=1):\n",
    "    \"\"\"\n",
    "    Max-Sensitivity measures the reliability in terms of the maximum change in an explanation.\n",
    "    Args:\n",
    "        X: tensor, brain image\n",
    "        exp_method: explanation method. Must have a get_explanations(self, input_image) attribute function\n",
    "            which takes an image as input and returns a dictionary mapping branches to explanation maps\n",
    "        N: number of iterations\n",
    "        alpha: float, multiplicative parameter of the std of the gaussian law used to sample noise\n",
    "    \"\"\"\n",
    "    if torch.cuda.is_available():\n",
    "        X = X.cuda()\n",
    "\n",
    "    max_diff = dict()\n",
    "    # explanations for original image\n",
    "    expls = exp_method.get_explanations(X, to_cpu=True)\n",
    "    for _ in range(N):\n",
    "        # create noisy image\n",
    "        noisy_X = X + torch.normal(0, alpha * X.std(), size=X.size(),device=torch.device('cuda:0'))\n",
    "        noisy_X = torch.max(noisy_X, X.min().expand_as(X))\n",
    "        noisy_X = torch.min(noisy_X, X.max().expand_as(X))\n",
    "        noisy_expls = exp_method.get_explanations(noisy_X, resize=False, to_cpu=True)\n",
    "        # compute differences in explanations\n",
    "        for target in noisy_expls:\n",
    "            diff = np.linalg.norm(noisy_expls[target] - expls[target]) / np.linalg.norm(expls[target])\n",
    "            if target not in max_diff:\n",
    "                max_diff[target] = diff\n",
    "            else:\n",
    "                max_diff[target] = max(max_diff[target], diff)\n",
    "        # tensor version\n",
    "        # for target in noisy_expls:\n",
    "        #     diff = torch.linalg.norm(noisy_expls[target] - expls[target]).item() / torch.linalg.norm(expls[target]).item()\n",
    "        #     if target not in max_diff:\n",
    "        #         max_diff[target] = diff\n",
    "        #     else:\n",
    "        #         max_diff[target] = max(max_diff[target], diff)\n",
    "    return max_diff"
   ]
  },
  {
   "cell_type": "code",
   "execution_count": 210,
   "id": "c53fe4ae",
   "metadata": {},
   "outputs": [],
   "source": [
    "def max_sensitivity(X, exp_method, N=10, alpha=1):\n",
    "    \"\"\"\n",
    "    Max-Sensitivity measures the reliability in terms of the maximum change in an explanation.\n",
    "    Args:\n",
    "        X: tensor, brain image\n",
    "        exp_method: explanation method. Must have a get_explanations(self, input_image) attribute function\n",
    "            which takes an image as input and returns a dictionary mapping branches to explanation maps\n",
    "        N: number of iterations\n",
    "        alpha: float, multiplicative parameter of the std of the gaussian law used to sample noise\n",
    "    \"\"\"\n",
    "    if torch.cuda.is_available():\n",
    "        X = X.cuda()\n",
    "\n",
    "    max_diff = dict()\n",
    "    print('hello')\n",
    "    # explanations for original image\n",
    "    expls = exp_method.get_explanations(X, resize=False)\n",
    "    for _ in range(N):\n",
    "        # create noisy image\n",
    "        print('hello')\n",
    "        noisy_X = X + torch.normal(0, alpha * X.std(), size=X.size(),device=torch.device('cuda:0'))\n",
    "        #X.data.new(X.size()).normal_(0, alpha * X.std().item()).cuda()\n",
    "        print('hello')\n",
    "        noisy_X = torch.max(noisy_X, X.min().expand_as(X))\n",
    "        noisy_X = torch.min(noisy_X, X.max().expand_as(X))\n",
    "        print('hello')\n",
    "        noisy_expls = exp_method.get_explanations(noisy_X, resize=False)\n",
    "        print('hello2')\n",
    "        # compute differences in explanations\n",
    "        for target in noisy_expls:\n",
    "            diff = torch.linalg.norm(noisy_expls[target] - expls[target]) / torch.linalg.norm(expls[target])\n",
    "            if target not in max_diff:\n",
    "                max_diff[target] = diff\n",
    "            else:\n",
    "                max_diff[target] = max(max_diff[target], diff)\n",
    "        print('hello3')\n",
    "    return max_diff"
   ]
  },
  {
   "cell_type": "code",
   "execution_count": 65,
   "id": "2d4ed76d",
   "metadata": {
    "scrolled": true
   },
   "outputs": [
    {
     "data": {
      "image/png": "[encoded data removed]",
      "text/plain": [
       "<Figure size 432x288 with 1 Axes>"
      ]
     },
     "metadata": {
      "needs_background": "light"
     },
     "output_type": "display_data"
    },
    {
     "data": {
      "image/png": "[encoded data removed]",
      "text/plain": [
       "<Figure size 432x288 with 1 Axes>"
      ]
     },
     "metadata": {
      "needs_background": "light"
     },
     "output_type": "display_data"
    },
    {
     "data": {
      "image/png": "[encoded data removed]",
      "text/plain": [
       "<Figure size 432x288 with 1 Axes>"
      ]
     },
     "metadata": {
      "needs_background": "light"
     },
     "output_type": "display_data"
    },
    {
     "data": {
      "image/png": "[encoded data removed]",
      "text/plain": [
       "<Figure size 432x288 with 1 Axes>"
      ]
     },
     "metadata": {
      "needs_background": "light"
     },
     "output_type": "display_data"
    }
   ],
   "source": [
    "for elem in (a, b, c ,d):\n",
    "    plt.figure()\n",
    "    plt.plot(np.arange(1,n_max,step), elem)"
   ]
  },
  {
   "cell_type": "code",
   "execution_count": 23,
   "id": "ada135ea",
   "metadata": {},
   "outputs": [],
   "source": [
    "attention = GC.generate_cam(img)"
   ]
  },
  {
   "cell_type": "code",
   "execution_count": 26,
   "id": "9ee8e733",
   "metadata": {},
   "outputs": [],
   "source": [
    "ids = np.unravel_index(np.argsort(-attention, axis=None), attention.shape)"
   ]
  },
  {
   "cell_type": "code",
   "execution_count": 98,
   "id": "99de75a0",
   "metadata": {},
   "outputs": [],
   "source": [
    "at2 = attention.copy()\n",
    "at2[(ids[0][:5000], ids[1][:5000])] = 0"
   ]
  },
  {
   "cell_type": "code",
   "execution_count": 48,
   "id": "92c76b26",
   "metadata": {},
   "outputs": [],
   "source": [
    "batch_size2 = 10"
   ]
  },
  {
   "cell_type": "code",
   "execution_count": 49,
   "id": "b254f143",
   "metadata": {},
   "outputs": [],
   "source": [
    "img2 = img.tile(dims=(batch_size2,1,1,1))"
   ]
  },
  {
   "cell_type": "code",
   "execution_count": 50,
   "id": "908ad440",
   "metadata": {},
   "outputs": [
    {
     "data": {
      "text/plain": [
       "torch.Size([10, 3, 208, 179])"
      ]
     },
     "execution_count": 50,
     "metadata": {},
     "output_type": "execute_result"
    }
   ],
   "source": [
    "img2.shape"
   ]
  },
  {
   "cell_type": "code",
   "execution_count": 100,
   "id": "44c9f740",
   "metadata": {},
   "outputs": [
    {
     "data": {
      "text/plain": [
       "<matplotlib.image.AxesImage at 0x7f9b840a1b90>"
      ]
     },
     "execution_count": 100,
     "metadata": {},
     "output_type": "execute_result"
    },
    {
     "data": {
      "image/png": "[encoded data removed]",
      "text/plain": [
       "<Figure size 432x288 with 1 Axes>"
      ]
     },
     "metadata": {
      "needs_background": "light"
     },
     "output_type": "display_data"
    }
   ],
   "source": [
    "for k in range(batch_size2):\n",
    "    img2[k,]"
   ]
  },
  {
   "cell_type": "code",
   "execution_count": 63,
   "id": "89f7979c",
   "metadata": {},
   "outputs": [],
   "source": [
    "img2 = img[0,0,...]\n",
    "img2[(ids[0][:5000], ids[1][:5000])] = 0"
   ]
  },
  {
   "cell_type": "code",
   "execution_count": 71,
   "id": "28260279",
   "metadata": {},
   "outputs": [
    {
     "data": {
      "text/plain": [
       "torch.Size([5000])"
      ]
     },
     "execution_count": 71,
     "metadata": {},
     "output_type": "execute_result"
    }
   ],
   "source": [
    "img2[(ids[0][:5000], ids[1][:5000])].shape"
   ]
  },
  {
   "cell_type": "code",
   "execution_count": null,
   "id": "cde01433",
   "metadata": {},
   "outputs": [],
   "source": [
    "def MoRF(X, model, exp_method, K=10, AUC=False, batch_size=512):\n",
    "    \"\"\"\n",
    "    Most relevant first: measures the reliability of an explanation by testing \n",
    "    how fast the output decreases, while we progressively remove information (e.g., perturb pixels) \n",
    "    from the input 𝑥𝑥 (e.g., image), that appears as the most relevant by the explanation.\n",
    "    Args:\n",
    "        X: tensor, brain image, with shape (1, n_channels, **dims)\n",
    "        exp_method: explanation method. Must have a get_explanations(self, input_image) attribute function\n",
    "            which takes an image as input and returns a dictionary mapping branches to explanation maps\n",
    "        K: number of relevant pixels to remove\n",
    "        AUC: bool. If True: compute and return area under the curve obtained after removing successively \n",
    "            the K most relevant pixels.\n",
    "            \n",
    "    TO DO:\n",
    "        - add several methods to perturb pixels\n",
    "    \"\"\"\n",
    "    if torch.cuda.is_available():\n",
    "        X = X.cuda()\n",
    "\n",
    "    # explanations for original image\n",
    "    expls = exp_method.get_explanations(X)\n",
    "    \n",
    "    # Indices of the sorted elements of the explanations:\n",
    "    ind = dict()\n",
    "    for target in expls:\n",
    "        ind = np.unravel_index(np.argsort(-expls[target], axis=None), expls.shape)\n",
    "    \n",
    "        if AUC:\n",
    "            pass\n",
    "        else:\n",
    "            # compute MoRF removing the K most relevant pixels\n",
    "            MoRF\n",
    "            perturbed_X = X.copy()\n",
    "            perturbed_X[:,:,ind[0][:K],ind[1][:K]] = 0\n",
    "            \n",
    "        "
   ]
  },
  {
   "cell_type": "markdown",
   "id": "1a89dc28",
   "metadata": {},
   "source": [
    "# random"
   ]
  },
  {
   "cell_type": "code",
   "execution_count": 12,
   "id": "4c8a1bc3",
   "metadata": {},
   "outputs": [],
   "source": [
    "losses = pd.read_csv('train_losses_3D_2.csv')\n",
    "test_losses = pd.read_csv('val_losses_3D_2.csv')"
   ]
  },
  {
   "cell_type": "code",
   "execution_count": 13,
   "id": "65649095",
   "metadata": {
    "collapsed": true
   },
   "outputs": [
    {
     "data": {
      "text/html": [
       "<div>\n",
       "<style scoped>\n",
       "    .dataframe tbody tr th:only-of-type {\n",
       "        vertical-align: middle;\n",
       "    }\n",
       "\n",
       "    .dataframe tbody tr th {\n",
       "        vertical-align: top;\n",
       "    }\n",
       "\n",
       "    .dataframe thead th {\n",
       "        text-align: right;\n",
       "    }\n",
       "</style>\n",
       "<table border=\"1\" class=\"dataframe\">\n",
       "  <thead>\n",
       "    <tr style=\"text-align: right;\">\n",
       "      <th></th>\n",
       "      <th>disease</th>\n",
       "      <th>volumes</th>\n",
       "      <th>age</th>\n",
       "      <th>sex</th>\n",
       "      <th>train</th>\n",
       "    </tr>\n",
       "  </thead>\n",
       "  <tbody>\n",
       "    <tr>\n",
       "      <th>0</th>\n",
       "      <td>100.886792</td>\n",
       "      <td>208.577956</td>\n",
       "      <td>203.672194</td>\n",
       "      <td>108.274373</td>\n",
       "      <td>621.411314</td>\n",
       "    </tr>\n",
       "    <tr>\n",
       "      <th>1</th>\n",
       "      <td>99.300285</td>\n",
       "      <td>189.136253</td>\n",
       "      <td>181.978068</td>\n",
       "      <td>102.553474</td>\n",
       "      <td>572.968082</td>\n",
       "    </tr>\n",
       "    <tr>\n",
       "      <th>2</th>\n",
       "      <td>99.611135</td>\n",
       "      <td>177.060827</td>\n",
       "      <td>179.713241</td>\n",
       "      <td>96.790141</td>\n",
       "      <td>553.175344</td>\n",
       "    </tr>\n",
       "    <tr>\n",
       "      <th>3</th>\n",
       "      <td>98.597355</td>\n",
       "      <td>175.775614</td>\n",
       "      <td>161.555070</td>\n",
       "      <td>91.401181</td>\n",
       "      <td>527.329220</td>\n",
       "    </tr>\n",
       "    <tr>\n",
       "      <th>4</th>\n",
       "      <td>99.769326</td>\n",
       "      <td>169.524786</td>\n",
       "      <td>174.342649</td>\n",
       "      <td>90.024557</td>\n",
       "      <td>533.661319</td>\n",
       "    </tr>\n",
       "    <tr>\n",
       "      <th>5</th>\n",
       "      <td>91.561733</td>\n",
       "      <td>163.977378</td>\n",
       "      <td>162.120004</td>\n",
       "      <td>87.552520</td>\n",
       "      <td>505.211633</td>\n",
       "    </tr>\n",
       "    <tr>\n",
       "      <th>6</th>\n",
       "      <td>94.134592</td>\n",
       "      <td>155.408946</td>\n",
       "      <td>162.077803</td>\n",
       "      <td>82.099967</td>\n",
       "      <td>493.721307</td>\n",
       "    </tr>\n",
       "    <tr>\n",
       "      <th>7</th>\n",
       "      <td>97.508589</td>\n",
       "      <td>161.753081</td>\n",
       "      <td>167.885044</td>\n",
       "      <td>89.548769</td>\n",
       "      <td>516.695483</td>\n",
       "    </tr>\n",
       "    <tr>\n",
       "      <th>8</th>\n",
       "      <td>93.852117</td>\n",
       "      <td>153.788083</td>\n",
       "      <td>164.738980</td>\n",
       "      <td>83.998479</td>\n",
       "      <td>496.377658</td>\n",
       "    </tr>\n",
       "    <tr>\n",
       "      <th>9</th>\n",
       "      <td>94.444805</td>\n",
       "      <td>146.427590</td>\n",
       "      <td>164.837805</td>\n",
       "      <td>78.804526</td>\n",
       "      <td>484.514724</td>\n",
       "    </tr>\n",
       "    <tr>\n",
       "      <th>10</th>\n",
       "      <td>98.783080</td>\n",
       "      <td>139.510704</td>\n",
       "      <td>152.492642</td>\n",
       "      <td>77.436433</td>\n",
       "      <td>468.222859</td>\n",
       "    </tr>\n",
       "    <tr>\n",
       "      <th>11</th>\n",
       "      <td>93.940435</td>\n",
       "      <td>133.484404</td>\n",
       "      <td>147.476345</td>\n",
       "      <td>70.494428</td>\n",
       "      <td>445.395611</td>\n",
       "    </tr>\n",
       "    <tr>\n",
       "      <th>12</th>\n",
       "      <td>92.147922</td>\n",
       "      <td>131.595114</td>\n",
       "      <td>151.843219</td>\n",
       "      <td>72.638961</td>\n",
       "      <td>448.225215</td>\n",
       "    </tr>\n",
       "    <tr>\n",
       "      <th>13</th>\n",
       "      <td>87.201780</td>\n",
       "      <td>130.680836</td>\n",
       "      <td>146.156102</td>\n",
       "      <td>70.436672</td>\n",
       "      <td>434.475389</td>\n",
       "    </tr>\n",
       "    <tr>\n",
       "      <th>14</th>\n",
       "      <td>87.378515</td>\n",
       "      <td>124.094156</td>\n",
       "      <td>142.218319</td>\n",
       "      <td>68.442704</td>\n",
       "      <td>422.133692</td>\n",
       "    </tr>\n",
       "    <tr>\n",
       "      <th>15</th>\n",
       "      <td>81.399928</td>\n",
       "      <td>126.845585</td>\n",
       "      <td>138.311209</td>\n",
       "      <td>67.176051</td>\n",
       "      <td>413.732774</td>\n",
       "    </tr>\n",
       "    <tr>\n",
       "      <th>16</th>\n",
       "      <td>76.400589</td>\n",
       "      <td>119.661533</td>\n",
       "      <td>137.849386</td>\n",
       "      <td>63.841958</td>\n",
       "      <td>397.753466</td>\n",
       "    </tr>\n",
       "    <tr>\n",
       "      <th>17</th>\n",
       "      <td>78.586154</td>\n",
       "      <td>121.484760</td>\n",
       "      <td>152.870238</td>\n",
       "      <td>65.131122</td>\n",
       "      <td>418.072276</td>\n",
       "    </tr>\n",
       "    <tr>\n",
       "      <th>18</th>\n",
       "      <td>76.987845</td>\n",
       "      <td>118.344467</td>\n",
       "      <td>137.306255</td>\n",
       "      <td>66.932107</td>\n",
       "      <td>399.570672</td>\n",
       "    </tr>\n",
       "    <tr>\n",
       "      <th>19</th>\n",
       "      <td>83.107224</td>\n",
       "      <td>126.756557</td>\n",
       "      <td>145.627205</td>\n",
       "      <td>63.784528</td>\n",
       "      <td>419.275515</td>\n",
       "    </tr>\n",
       "    <tr>\n",
       "      <th>20</th>\n",
       "      <td>85.614103</td>\n",
       "      <td>125.936525</td>\n",
       "      <td>141.793370</td>\n",
       "      <td>60.954835</td>\n",
       "      <td>414.298833</td>\n",
       "    </tr>\n",
       "    <tr>\n",
       "      <th>21</th>\n",
       "      <td>81.800417</td>\n",
       "      <td>127.838215</td>\n",
       "      <td>148.978398</td>\n",
       "      <td>69.495369</td>\n",
       "      <td>428.112397</td>\n",
       "    </tr>\n",
       "  </tbody>\n",
       "</table>\n",
       "</div>"
      ],
      "text/plain": [
       "       disease     volumes         age         sex       train\n",
       "0   100.886792  208.577956  203.672194  108.274373  621.411314\n",
       "1    99.300285  189.136253  181.978068  102.553474  572.968082\n",
       "2    99.611135  177.060827  179.713241   96.790141  553.175344\n",
       "3    98.597355  175.775614  161.555070   91.401181  527.329220\n",
       "4    99.769326  169.524786  174.342649   90.024557  533.661319\n",
       "5    91.561733  163.977378  162.120004   87.552520  505.211633\n",
       "6    94.134592  155.408946  162.077803   82.099967  493.721307\n",
       "7    97.508589  161.753081  167.885044   89.548769  516.695483\n",
       "8    93.852117  153.788083  164.738980   83.998479  496.377658\n",
       "9    94.444805  146.427590  164.837805   78.804526  484.514724\n",
       "10   98.783080  139.510704  152.492642   77.436433  468.222859\n",
       "11   93.940435  133.484404  147.476345   70.494428  445.395611\n",
       "12   92.147922  131.595114  151.843219   72.638961  448.225215\n",
       "13   87.201780  130.680836  146.156102   70.436672  434.475389\n",
       "14   87.378515  124.094156  142.218319   68.442704  422.133692\n",
       "15   81.399928  126.845585  138.311209   67.176051  413.732774\n",
       "16   76.400589  119.661533  137.849386   63.841958  397.753466\n",
       "17   78.586154  121.484760  152.870238   65.131122  418.072276\n",
       "18   76.987845  118.344467  137.306255   66.932107  399.570672\n",
       "19   83.107224  126.756557  145.627205   63.784528  419.275515\n",
       "20   85.614103  125.936525  141.793370   60.954835  414.298833\n",
       "21   81.800417  127.838215  148.978398   69.495369  428.112397"
      ]
     },
     "execution_count": 13,
     "metadata": {},
     "output_type": "execute_result"
    }
   ],
   "source": [
    "losses"
   ]
  },
  {
   "cell_type": "code",
   "execution_count": 17,
   "id": "7f319ae7",
   "metadata": {},
   "outputs": [
    {
     "data": {
      "text/plain": [
       "<matplotlib.legend.Legend at 0x7f8296126950>"
      ]
     },
     "execution_count": 17,
     "metadata": {},
     "output_type": "execute_result"
    },
    {
     "data": {
      "image/png": "[encoded data removed]",
      "text/plain": [
       "<Figure size 432x288 with 1 Axes>"
      ]
     },
     "metadata": {
      "needs_background": "light"
     },
     "output_type": "display_data"
    }
   ],
   "source": [
    "plt.plot(test_losses[['disease', 'volumes', 'age', 'sex']])\n",
    "plt.ylim([0,150])\n",
    "plt.legend(['disease', 'volumes', 'age', 'sex'])"
   ]
  },
  {
   "cell_type": "code",
   "execution_count": 16,
   "id": "8991ce04",
   "metadata": {},
   "outputs": [
    {
     "data": {
      "text/plain": [
       "<matplotlib.legend.Legend at 0x7f8295a5d9d0>"
      ]
     },
     "execution_count": 16,
     "metadata": {},
     "output_type": "execute_result"
    },
    {
     "data": {
      "image/png": "[encoded data removed]",
      "text/plain": [
       "<Figure size 432x288 with 1 Axes>"
      ]
     },
     "metadata": {
      "needs_background": "light"
     },
     "output_type": "display_data"
    }
   ],
   "source": [
    "plt.plot(losses[['disease', 'volumes', 'age', 'sex']])\n",
    "plt.legend(['disease', 'volumes', 'age', 'sex'])"
   ]
  },
  {
   "cell_type": "markdown",
   "id": "99854d6c",
   "metadata": {
    "heading_collapsed": true
   },
   "source": [
    "# RANDOM"
   ]
  },
  {
   "cell_type": "code",
   "execution_count": 33,
   "id": "5ab833fb",
   "metadata": {
    "hidden": true
   },
   "outputs": [
    {
     "data": {
      "text/plain": [
       "participant_id                                                                                      0\n",
       "session_id                                                                                          0\n",
       "sex                                                                                                 1\n",
       "age                                                                                              1178\n",
       "t1-volume_group-adni2021_atlas-Neuromorphometrics_ROI-Background_intensity                       1173\n",
       "                                                                                                 ... \n",
       "t1-volume_group-adni2021_atlas-Neuromorphometrics_ROI-Right-Posterior-Orbital-Gyrus_intensity    1173\n",
       "t1-volume_group-adni2021_atlas-Neuromorphometrics_ROI-Left-Planum-Polare_intensity               1173\n",
       "t1-volume_group-adni2021_atlas-Neuromorphometrics_ROI-Right-Planum-Polare_intensity              1173\n",
       "t1-volume_group-adni2021_atlas-Neuromorphometrics_ROI-Left-Precentral-Gyrus_intensity            1173\n",
       "t1-volume_group-adni2021_atlas-Neuromorphometrics_ROI-Right-Precentral-Gyrus_intensity           1173\n",
       "Length: 123, dtype: int64"
      ]
     },
     "execution_count": 33,
     "metadata": {},
     "output_type": "execute_result"
    }
   ],
   "source": [
    "df_add_data[df_add_data.iloc[:,3].isna()].isna().sum(axis=0)"
   ]
  },
  {
   "cell_type": "markdown",
   "id": "ed4cbb3a",
   "metadata": {
    "hidden": true
   },
   "source": [
    "I am using working with the file '/network/lustre/dtlake01/aramis/datasets/adni/caps/caps_v2021.tsv' and using the 't1-volume' pipeline and the atlas 'AAL2'.\n",
    "6267 samples (i.e. couples (participant_id, session_id)) do not have any volume value (i.e. NaN). 1 sample has no sex value and 1178 samples have no age values.\n"
   ]
  },
  {
   "cell_type": "code",
   "execution_count": 31,
   "id": "293be254",
   "metadata": {
    "hidden": true
   },
   "outputs": [
    {
     "data": {
      "text/plain": [
       "participant_id                                                                                      0\n",
       "session_id                                                                                          0\n",
       "sex                                                                                                 1\n",
       "age                                                                                              1178\n",
       "t1-volume_group-adni2021_atlas-Neuromorphometrics_ROI-Background_intensity                       6267\n",
       "                                                                                                 ... \n",
       "t1-volume_group-adni2021_atlas-Neuromorphometrics_ROI-Right-Posterior-Orbital-Gyrus_intensity    6267\n",
       "t1-volume_group-adni2021_atlas-Neuromorphometrics_ROI-Left-Planum-Polare_intensity               6267\n",
       "t1-volume_group-adni2021_atlas-Neuromorphometrics_ROI-Right-Planum-Polare_intensity              6267\n",
       "t1-volume_group-adni2021_atlas-Neuromorphometrics_ROI-Left-Precentral-Gyrus_intensity            6267\n",
       "t1-volume_group-adni2021_atlas-Neuromorphometrics_ROI-Right-Precentral-Gyrus_intensity           6267\n",
       "Length: 123, dtype: int64"
      ]
     },
     "execution_count": 31,
     "metadata": {},
     "output_type": "execute_result"
    }
   ],
   "source": [
    "df_add_data.isna().sum(axis=0)"
   ]
  },
  {
   "cell_type": "code",
   "execution_count": 64,
   "id": "21ea7ed0",
   "metadata": {
    "hidden": true
   },
   "outputs": [],
   "source": [
    "\n",
    "# initialize the model\n",
    "convolutions = {\n",
    "    'conv0':{\n",
    "        'n_conv':1,\n",
    "        'in_channels':None,\n",
    "        'out_channels':16,\n",
    "        'd_reduction': \"MaxPooling\"\n",
    "    },\n",
    "    'conv1':{\n",
    "        'n_conv':1,\n",
    "        'in_channels':None,\n",
    "        'out_channels':32,\n",
    "        'd_reduction': \"MaxPooling\"\n",
    "    },\n",
    "    'conv2':{\n",
    "        'n_conv':1,\n",
    "        'in_channels':None,\n",
    "        'out_channels':32,\n",
    "        'd_reduction': \"MaxPooling\"\n",
    "    },\n",
    "    'conv3':{\n",
    "        'n_conv':1,\n",
    "        'in_channels':None,\n",
    "        'out_channels':64,\n",
    "        'd_reduction': \"MaxPooling\"\n",
    "    },\n",
    "    'conv4':{\n",
    "        'n_conv':1,\n",
    "        'in_channels':None,\n",
    "        'out_channels':128,\n",
    "        'd_reduction': \"MaxPooling\"\n",
    "    }\n",
    "}\n",
    "model = RandomArchitecture(convolutions,1,data_train.size)\n",
    "\n",
    "\n",
    "# Define criterion and optimizer\n",
    "criterion = get_criterion(loss)\n",
    "optimizer = getattr(torch.optim, optimizer_name)(filter(lambda x: x.requires_grad, model.parameters()),\n",
    "                                                   lr=learning_rate,\n",
    "                                                   weight_decay=weight_decay)"
   ]
  },
  {
   "cell_type": "code",
   "execution_count": 8,
   "id": "ad3ee7d7",
   "metadata": {
    "hidden": true
   },
   "outputs": [],
   "source": [
    "class Options:\n",
    "    def __init__(self):\n",
    "        self.beginning_epoch = 0\n",
    "        self.tolerance = 0\n",
    "        self.patience = 10\n",
    "        self.epochs = 10\n",
    "        self.gpu = True\n",
    "        self.batch_size = 1"
   ]
  },
  {
   "cell_type": "code",
   "execution_count": 9,
   "id": "94cb8367",
   "metadata": {
    "hidden": true,
    "scrolled": true
   },
   "outputs": [
    {
     "name": "stderr",
     "output_type": "stream",
     "text": [
      "INFO:root:Beginning epoch 0.\n"
     ]
    },
    {
     "ename": "KeyError",
     "evalue": "Caught KeyError in DataLoader worker process 0.\nOriginal Traceback (most recent call last):\n  File \"/network/lustre/dtlake01/aramis/users/sasha.collin/miniconda3/envs/venv/lib/python3.7/site-packages/pandas/core/indexes/base.py\", line 3080, in get_loc\n    return self._engine.get_loc(casted_key)\n  File \"pandas/_libs/index.pyx\", line 70, in pandas._libs.index.IndexEngine.get_loc\n  File \"pandas/_libs/index.pyx\", line 101, in pandas._libs.index.IndexEngine.get_loc\n  File \"pandas/_libs/hashtable_class_helper.pxi\", line 1625, in pandas._libs.hashtable.Int64HashTable.get_item\n  File \"pandas/_libs/hashtable_class_helper.pxi\", line 1632, in pandas._libs.hashtable.Int64HashTable.get_item\nKeyError: 5\n\nThe above exception was the direct cause of the following exception:\n\nTraceback (most recent call last):\n  File \"/network/lustre/dtlake01/aramis/users/sasha.collin/miniconda3/envs/venv/lib/python3.7/site-packages/torch/utils/data/_utils/worker.py\", line 185, in _worker_loop\n    data = fetcher.fetch(index)\n  File \"/network/lustre/dtlake01/aramis/users/sasha.collin/miniconda3/envs/venv/lib/python3.7/site-packages/torch/utils/data/_utils/fetch.py\", line 44, in fetch\n    data = [self.dataset[idx] for idx in possibly_batched_index]\n  File \"/network/lustre/dtlake01/aramis/users/sasha.collin/miniconda3/envs/venv/lib/python3.7/site-packages/torch/utils/data/_utils/fetch.py\", line 44, in <listcomp>\n    data = [self.dataset[idx] for idx in possibly_batched_index]\n  File \"/network/lustre/dtlake01/aramis/users/sasha.collin/miniconda3/envs/venv/lib/python3.7/site-packages/clinicadl/tools/deep_learning/data.py\", line 566, in __getitem__\n    participant, session, cohort, slice_idx, label = self._get_meta_data(idx)\n  File \"/network/lustre/dtlake01/aramis/users/sasha.collin/miniconda3/envs/venv/lib/python3.7/site-packages/clinicadl/tools/deep_learning/data.py\", line 140, in _get_meta_data\n    participant = self.df.loc[image_idx, 'participant_id']\n  File \"/network/lustre/dtlake01/aramis/users/sasha.collin/miniconda3/envs/venv/lib/python3.7/site-packages/pandas/core/indexing.py\", line 889, in __getitem__\n    return self._getitem_tuple(key)\n  File \"/network/lustre/dtlake01/aramis/users/sasha.collin/miniconda3/envs/venv/lib/python3.7/site-packages/pandas/core/indexing.py\", line 1060, in _getitem_tuple\n    return self._getitem_lowerdim(tup)\n  File \"/network/lustre/dtlake01/aramis/users/sasha.collin/miniconda3/envs/venv/lib/python3.7/site-packages/pandas/core/indexing.py\", line 807, in _getitem_lowerdim\n    section = self._getitem_axis(key, axis=i)\n  File \"/network/lustre/dtlake01/aramis/users/sasha.collin/miniconda3/envs/venv/lib/python3.7/site-packages/pandas/core/indexing.py\", line 1124, in _getitem_axis\n    return self._get_label(key, axis=axis)\n  File \"/network/lustre/dtlake01/aramis/users/sasha.collin/miniconda3/envs/venv/lib/python3.7/site-packages/pandas/core/indexing.py\", line 1073, in _get_label\n    return self.obj.xs(label, axis=axis)\n  File \"/network/lustre/dtlake01/aramis/users/sasha.collin/miniconda3/envs/venv/lib/python3.7/site-packages/pandas/core/generic.py\", line 3739, in xs\n    loc = index.get_loc(key)\n  File \"/network/lustre/dtlake01/aramis/users/sasha.collin/miniconda3/envs/venv/lib/python3.7/site-packages/pandas/core/indexes/base.py\", line 3082, in get_loc\n    raise KeyError(key) from err\nKeyError: 5\n",
     "output_type": "error",
     "traceback": [
      "\u001b[0;31m---------------------------------------------------------------------------\u001b[0m",
      "\u001b[0;31mKeyError\u001b[0m                                  Traceback (most recent call last)",
      "\u001b[0;32m<ipython-input-9-3cc90ec1a0e4>\u001b[0m in \u001b[0;36m<module>\u001b[0;34m\u001b[0m\n\u001b[0;32m----> 1\u001b[0;31m \u001b[0mtrain\u001b[0m\u001b[0;34m(\u001b[0m\u001b[0mmodel\u001b[0m\u001b[0;34m,\u001b[0m \u001b[0mtrain_loader\u001b[0m\u001b[0;34m,\u001b[0m \u001b[0mvalid_loader\u001b[0m\u001b[0;34m,\u001b[0m \u001b[0mcriterion\u001b[0m\u001b[0;34m,\u001b[0m \u001b[0moptimizer\u001b[0m\u001b[0;34m,\u001b[0m\u001b[0;32mFalse\u001b[0m\u001b[0;34m,\u001b[0m\u001b[0;34m'log_dir'\u001b[0m\u001b[0;34m,\u001b[0m\u001b[0;34m'model_dir'\u001b[0m\u001b[0;34m,\u001b[0m \u001b[0mOptions\u001b[0m\u001b[0;34m(\u001b[0m\u001b[0;34m)\u001b[0m\u001b[0;34m)\u001b[0m\u001b[0;34m\u001b[0m\u001b[0;34m\u001b[0m\u001b[0m\n\u001b[0m",
      "\u001b[0;32m/network/lustre/dtlake01/aramis/users/sasha.collin/miniconda3/envs/venv/lib/python3.7/site-packages/clinicadl/tools/deep_learning/cnn_utils.py\u001b[0m in \u001b[0;36mtrain\u001b[0;34m(model, train_loader, valid_loader, criterion, optimizer, resume, log_dir, model_dir, options, logger)\u001b[0m\n\u001b[1;32m     93\u001b[0m         \u001b[0mtotal_time\u001b[0m \u001b[0;34m=\u001b[0m \u001b[0;36m0\u001b[0m\u001b[0;34m\u001b[0m\u001b[0;34m\u001b[0m\u001b[0m\n\u001b[1;32m     94\u001b[0m \u001b[0;34m\u001b[0m\u001b[0m\n\u001b[0;32m---> 95\u001b[0;31m         \u001b[0;32mfor\u001b[0m \u001b[0mi\u001b[0m\u001b[0;34m,\u001b[0m \u001b[0mdata\u001b[0m \u001b[0;32min\u001b[0m \u001b[0menumerate\u001b[0m\u001b[0;34m(\u001b[0m\u001b[0mtrain_loader\u001b[0m\u001b[0;34m,\u001b[0m \u001b[0;36m0\u001b[0m\u001b[0;34m)\u001b[0m\u001b[0;34m:\u001b[0m\u001b[0;34m\u001b[0m\u001b[0;34m\u001b[0m\u001b[0m\n\u001b[0m\u001b[1;32m     96\u001b[0m             \u001b[0mt0\u001b[0m \u001b[0;34m=\u001b[0m \u001b[0mtime\u001b[0m\u001b[0;34m(\u001b[0m\u001b[0;34m)\u001b[0m\u001b[0;34m\u001b[0m\u001b[0;34m\u001b[0m\u001b[0m\n\u001b[1;32m     97\u001b[0m             \u001b[0mtotal_time\u001b[0m \u001b[0;34m=\u001b[0m \u001b[0mtotal_time\u001b[0m \u001b[0;34m+\u001b[0m \u001b[0mt0\u001b[0m \u001b[0;34m-\u001b[0m \u001b[0mtend\u001b[0m\u001b[0;34m\u001b[0m\u001b[0;34m\u001b[0m\u001b[0m\n",
      "\u001b[0;32m/network/lustre/dtlake01/aramis/users/sasha.collin/miniconda3/envs/venv/lib/python3.7/site-packages/torch/utils/data/dataloader.py\u001b[0m in \u001b[0;36m__next__\u001b[0;34m(self)\u001b[0m\n\u001b[1;32m    361\u001b[0m \u001b[0;34m\u001b[0m\u001b[0m\n\u001b[1;32m    362\u001b[0m     \u001b[0;32mdef\u001b[0m \u001b[0m__next__\u001b[0m\u001b[0;34m(\u001b[0m\u001b[0mself\u001b[0m\u001b[0;34m)\u001b[0m\u001b[0;34m:\u001b[0m\u001b[0;34m\u001b[0m\u001b[0;34m\u001b[0m\u001b[0m\n\u001b[0;32m--> 363\u001b[0;31m         \u001b[0mdata\u001b[0m \u001b[0;34m=\u001b[0m \u001b[0mself\u001b[0m\u001b[0;34m.\u001b[0m\u001b[0m_next_data\u001b[0m\u001b[0;34m(\u001b[0m\u001b[0;34m)\u001b[0m\u001b[0;34m\u001b[0m\u001b[0;34m\u001b[0m\u001b[0m\n\u001b[0m\u001b[1;32m    364\u001b[0m         \u001b[0mself\u001b[0m\u001b[0;34m.\u001b[0m\u001b[0m_num_yielded\u001b[0m \u001b[0;34m+=\u001b[0m \u001b[0;36m1\u001b[0m\u001b[0;34m\u001b[0m\u001b[0;34m\u001b[0m\u001b[0m\n\u001b[1;32m    365\u001b[0m         \u001b[0;32mif\u001b[0m \u001b[0mself\u001b[0m\u001b[0;34m.\u001b[0m\u001b[0m_dataset_kind\u001b[0m \u001b[0;34m==\u001b[0m \u001b[0m_DatasetKind\u001b[0m\u001b[0;34m.\u001b[0m\u001b[0mIterable\u001b[0m \u001b[0;32mand\u001b[0m\u001b[0;31m \u001b[0m\u001b[0;31m\\\u001b[0m\u001b[0;34m\u001b[0m\u001b[0;34m\u001b[0m\u001b[0m\n",
      "\u001b[0;32m/network/lustre/dtlake01/aramis/users/sasha.collin/miniconda3/envs/venv/lib/python3.7/site-packages/torch/utils/data/dataloader.py\u001b[0m in \u001b[0;36m_next_data\u001b[0;34m(self)\u001b[0m\n\u001b[1;32m    987\u001b[0m             \u001b[0;32melse\u001b[0m\u001b[0;34m:\u001b[0m\u001b[0;34m\u001b[0m\u001b[0;34m\u001b[0m\u001b[0m\n\u001b[1;32m    988\u001b[0m                 \u001b[0;32mdel\u001b[0m \u001b[0mself\u001b[0m\u001b[0;34m.\u001b[0m\u001b[0m_task_info\u001b[0m\u001b[0;34m[\u001b[0m\u001b[0midx\u001b[0m\u001b[0;34m]\u001b[0m\u001b[0;34m\u001b[0m\u001b[0;34m\u001b[0m\u001b[0m\n\u001b[0;32m--> 989\u001b[0;31m                 \u001b[0;32mreturn\u001b[0m \u001b[0mself\u001b[0m\u001b[0;34m.\u001b[0m\u001b[0m_process_data\u001b[0m\u001b[0;34m(\u001b[0m\u001b[0mdata\u001b[0m\u001b[0;34m)\u001b[0m\u001b[0;34m\u001b[0m\u001b[0;34m\u001b[0m\u001b[0m\n\u001b[0m\u001b[1;32m    990\u001b[0m \u001b[0;34m\u001b[0m\u001b[0m\n\u001b[1;32m    991\u001b[0m     \u001b[0;32mdef\u001b[0m \u001b[0m_try_put_index\u001b[0m\u001b[0;34m(\u001b[0m\u001b[0mself\u001b[0m\u001b[0;34m)\u001b[0m\u001b[0;34m:\u001b[0m\u001b[0;34m\u001b[0m\u001b[0;34m\u001b[0m\u001b[0m\n",
      "\u001b[0;32m/network/lustre/dtlake01/aramis/users/sasha.collin/miniconda3/envs/venv/lib/python3.7/site-packages/torch/utils/data/dataloader.py\u001b[0m in \u001b[0;36m_process_data\u001b[0;34m(self, data)\u001b[0m\n\u001b[1;32m   1012\u001b[0m         \u001b[0mself\u001b[0m\u001b[0;34m.\u001b[0m\u001b[0m_try_put_index\u001b[0m\u001b[0;34m(\u001b[0m\u001b[0;34m)\u001b[0m\u001b[0;34m\u001b[0m\u001b[0;34m\u001b[0m\u001b[0m\n\u001b[1;32m   1013\u001b[0m         \u001b[0;32mif\u001b[0m \u001b[0misinstance\u001b[0m\u001b[0;34m(\u001b[0m\u001b[0mdata\u001b[0m\u001b[0;34m,\u001b[0m \u001b[0mExceptionWrapper\u001b[0m\u001b[0;34m)\u001b[0m\u001b[0;34m:\u001b[0m\u001b[0;34m\u001b[0m\u001b[0;34m\u001b[0m\u001b[0m\n\u001b[0;32m-> 1014\u001b[0;31m             \u001b[0mdata\u001b[0m\u001b[0;34m.\u001b[0m\u001b[0mreraise\u001b[0m\u001b[0;34m(\u001b[0m\u001b[0;34m)\u001b[0m\u001b[0;34m\u001b[0m\u001b[0;34m\u001b[0m\u001b[0m\n\u001b[0m\u001b[1;32m   1015\u001b[0m         \u001b[0;32mreturn\u001b[0m \u001b[0mdata\u001b[0m\u001b[0;34m\u001b[0m\u001b[0;34m\u001b[0m\u001b[0m\n\u001b[1;32m   1016\u001b[0m \u001b[0;34m\u001b[0m\u001b[0m\n",
      "\u001b[0;32m/network/lustre/dtlake01/aramis/users/sasha.collin/miniconda3/envs/venv/lib/python3.7/site-packages/torch/_utils.py\u001b[0m in \u001b[0;36mreraise\u001b[0;34m(self)\u001b[0m\n\u001b[1;32m    393\u001b[0m             \u001b[0;31m# (https://bugs.python.org/issue2651), so we work around it.\u001b[0m\u001b[0;34m\u001b[0m\u001b[0;34m\u001b[0m\u001b[0;34m\u001b[0m\u001b[0m\n\u001b[1;32m    394\u001b[0m             \u001b[0mmsg\u001b[0m \u001b[0;34m=\u001b[0m \u001b[0mKeyErrorMessage\u001b[0m\u001b[0;34m(\u001b[0m\u001b[0mmsg\u001b[0m\u001b[0;34m)\u001b[0m\u001b[0;34m\u001b[0m\u001b[0;34m\u001b[0m\u001b[0m\n\u001b[0;32m--> 395\u001b[0;31m         \u001b[0;32mraise\u001b[0m \u001b[0mself\u001b[0m\u001b[0;34m.\u001b[0m\u001b[0mexc_type\u001b[0m\u001b[0;34m(\u001b[0m\u001b[0mmsg\u001b[0m\u001b[0;34m)\u001b[0m\u001b[0;34m\u001b[0m\u001b[0;34m\u001b[0m\u001b[0m\n\u001b[0m",
      "\u001b[0;31mKeyError\u001b[0m: Caught KeyError in DataLoader worker process 0.\nOriginal Traceback (most recent call last):\n  File \"/network/lustre/dtlake01/aramis/users/sasha.collin/miniconda3/envs/venv/lib/python3.7/site-packages/pandas/core/indexes/base.py\", line 3080, in get_loc\n    return self._engine.get_loc(casted_key)\n  File \"pandas/_libs/index.pyx\", line 70, in pandas._libs.index.IndexEngine.get_loc\n  File \"pandas/_libs/index.pyx\", line 101, in pandas._libs.index.IndexEngine.get_loc\n  File \"pandas/_libs/hashtable_class_helper.pxi\", line 1625, in pandas._libs.hashtable.Int64HashTable.get_item\n  File \"pandas/_libs/hashtable_class_helper.pxi\", line 1632, in pandas._libs.hashtable.Int64HashTable.get_item\nKeyError: 5\n\nThe above exception was the direct cause of the following exception:\n\nTraceback (most recent call last):\n  File \"/network/lustre/dtlake01/aramis/users/sasha.collin/miniconda3/envs/venv/lib/python3.7/site-packages/torch/utils/data/_utils/worker.py\", line 185, in _worker_loop\n    data = fetcher.fetch(index)\n  File \"/network/lustre/dtlake01/aramis/users/sasha.collin/miniconda3/envs/venv/lib/python3.7/site-packages/torch/utils/data/_utils/fetch.py\", line 44, in fetch\n    data = [self.dataset[idx] for idx in possibly_batched_index]\n  File \"/network/lustre/dtlake01/aramis/users/sasha.collin/miniconda3/envs/venv/lib/python3.7/site-packages/torch/utils/data/_utils/fetch.py\", line 44, in <listcomp>\n    data = [self.dataset[idx] for idx in possibly_batched_index]\n  File \"/network/lustre/dtlake01/aramis/users/sasha.collin/miniconda3/envs/venv/lib/python3.7/site-packages/clinicadl/tools/deep_learning/data.py\", line 566, in __getitem__\n    participant, session, cohort, slice_idx, label = self._get_meta_data(idx)\n  File \"/network/lustre/dtlake01/aramis/users/sasha.collin/miniconda3/envs/venv/lib/python3.7/site-packages/clinicadl/tools/deep_learning/data.py\", line 140, in _get_meta_data\n    participant = self.df.loc[image_idx, 'participant_id']\n  File \"/network/lustre/dtlake01/aramis/users/sasha.collin/miniconda3/envs/venv/lib/python3.7/site-packages/pandas/core/indexing.py\", line 889, in __getitem__\n    return self._getitem_tuple(key)\n  File \"/network/lustre/dtlake01/aramis/users/sasha.collin/miniconda3/envs/venv/lib/python3.7/site-packages/pandas/core/indexing.py\", line 1060, in _getitem_tuple\n    return self._getitem_lowerdim(tup)\n  File \"/network/lustre/dtlake01/aramis/users/sasha.collin/miniconda3/envs/venv/lib/python3.7/site-packages/pandas/core/indexing.py\", line 807, in _getitem_lowerdim\n    section = self._getitem_axis(key, axis=i)\n  File \"/network/lustre/dtlake01/aramis/users/sasha.collin/miniconda3/envs/venv/lib/python3.7/site-packages/pandas/core/indexing.py\", line 1124, in _getitem_axis\n    return self._get_label(key, axis=axis)\n  File \"/network/lustre/dtlake01/aramis/users/sasha.collin/miniconda3/envs/venv/lib/python3.7/site-packages/pandas/core/indexing.py\", line 1073, in _get_label\n    return self.obj.xs(label, axis=axis)\n  File \"/network/lustre/dtlake01/aramis/users/sasha.collin/miniconda3/envs/venv/lib/python3.7/site-packages/pandas/core/generic.py\", line 3739, in xs\n    loc = index.get_loc(key)\n  File \"/network/lustre/dtlake01/aramis/users/sasha.collin/miniconda3/envs/venv/lib/python3.7/site-packages/pandas/core/indexes/base.py\", line 3082, in get_loc\n    raise KeyError(key) from err\nKeyError: 5\n"
     ]
    }
   ],
   "source": [
    "train(model, train_loader, valid_loader, criterion, optimizer,False,'log_dir','model_dir', Options())"
   ]
  }
 ],
 "metadata": {
  "kernelspec": {
   "display_name": "Python 3",
   "language": "python",
   "name": "python3"
  },
  "language_info": {
   "codemirror_mode": {
    "name": "ipython",
    "version": 3
   },
   "file_extension": ".py",
   "mimetype": "text/x-python",
   "name": "python",
   "nbconvert_exporter": "python",
   "pygments_lexer": "ipython3",
   "version": "3.7.10"
  }
 },
 "nbformat": 4,
 "nbformat_minor": 5
}
