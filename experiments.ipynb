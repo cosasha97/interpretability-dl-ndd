{
 "cells": [
  {
   "cell_type": "code",
   "execution_count": 1,
   "id": "089f6034",
   "metadata": {},
   "outputs": [],
   "source": [
    "%load_ext autoreload\n",
    "%autoreload 2"
   ]
  },
  {
   "cell_type": "code",
   "execution_count": 2,
   "id": "5b423de3",
   "metadata": {},
   "outputs": [
    {
     "name": "stderr",
     "output_type": "stream",
     "text": [
      "/network/lustre/dtlake01/aramis/users/sasha.collin/miniconda3/envs/venv/lib/python3.7/site-packages/nilearn/datasets/__init__.py:90: FutureWarning: Fetchers from the nilearn.datasets module will be updated in version 0.9 to return python strings instead of bytes and Pandas dataframes instead of Numpy arrays.\n",
      "  \"Numpy arrays.\", FutureWarning)\n"
     ]
    }
   ],
   "source": [
    "import torch\n",
    "import torchvision\n",
    "import numpy as np\n",
    "from nilearn import plotting\n",
    "import clinicadl\n",
    "import pandas as pd\n",
    "import matplotlib.pyplot as plt\n",
    "from torchinfo import summary\n",
    "from sklearn.metrics import log_loss\n",
    "from collections import OrderedDict\n",
    "from PIL import Image\n",
    "from tqdm import tqdm\n",
    "from math import floor\n",
    "import random\n",
    "import time\n",
    "import os\n",
    "import json\n",
    "\n",
    "# torch\n",
    "import torch.nn as nn\n",
    "import torch.nn.functional as F\n",
    "import torch.optim as optim\n",
    "\n",
    "# clinicaDL\n",
    "from clinicadl.tools.tsv.data_split import create_split\n",
    "from clinicadl.tools.deep_learning.data import generate_sampler, return_dataset, MRIDataset, get_transforms\n",
    "from torch.utils.data import DataLoader\n",
    "from clinicadl.tools.deep_learning.cnn_utils import train, get_criterion, test\n",
    "from clinicadl.tools.deep_learning.models.random import RandomArchitecture\n",
    "from clinicadl.tools.deep_learning import EarlyStopping\n",
    "\n",
    "import matplotlib as mpl\n",
    "from mpl_toolkits.mplot3d import Axes3D\n",
    "import numpy as np\n",
    "import matplotlib.pyplot as plt\n",
    "\n",
    "# visualization\n",
    "from scipy.ndimage import zoom\n",
    "import itkwidgets\n",
    "from ipywidgets import interact, interactive, IntSlider, ToggleButtons\n",
    "import matplotlib.pyplot as plt\n",
    "\n",
    "%matplotlib inline"
   ]
  },
  {
   "cell_type": "code",
   "execution_count": 3,
   "id": "6d32fc9a",
   "metadata": {},
   "outputs": [],
   "source": [
    "# ignore warnings\n",
    "import warnings\n",
    "warnings.filterwarnings('ignore')"
   ]
  },
  {
   "cell_type": "code",
   "execution_count": 4,
   "id": "c73f81ad",
   "metadata": {},
   "outputs": [],
   "source": [
    "from tools.explanations.evaluation import *\n",
    "from tools.explanations.GradCam import *\n",
    "from tools.explanations.guided_backprop import *\n",
    "from train.train_CNN import *\n",
    "from tools.callbacks import *\n",
    "from tools.data import *\n",
    "from tools.explanations.visualization import *\n",
    "from tools.models.CN5_FC3_3D import *\n",
    "from tools.settings import *"
   ]
  },
  {
   "cell_type": "code",
   "execution_count": 5,
   "id": "29293b59",
   "metadata": {},
   "outputs": [],
   "source": [
    "data_path = '/network/lustre/dtlake01/aramis/datasets/adni/caps/caps_v2021.tsv'\n",
    "summary_path = '/network/lustre/dtlake01/aramis/datasets/adni/caps/caps_v2021_summary.tsv'\n",
    "df_data = pd.read_csv(data_path,sep='\\t') #,nrows=10)\n",
    "df_summary = pd.read_csv(summary_path,sep='\\t')#,nrows=10)"
   ]
  },
  {
   "cell_type": "code",
   "execution_count": 6,
   "id": "10350409",
   "metadata": {},
   "outputs": [],
   "source": [
    "pipeline_name='t1-volume'\n",
    "atlas_id='AAL2'"
   ]
  },
  {
   "cell_type": "markdown",
   "id": "eb619243",
   "metadata": {
    "heading_collapsed": true
   },
   "source": [
    "# Train Single CNN"
   ]
  },
  {
   "cell_type": "markdown",
   "id": "bc1e3401",
   "metadata": {
    "heading_collapsed": true,
    "hidden": true
   },
   "source": [
    "## Initialization"
   ]
  },
  {
   "cell_type": "code",
   "execution_count": 32,
   "id": "a67523b0",
   "metadata": {
    "code_folding": [],
    "hidden": true
   },
   "outputs": [],
   "source": [
    "# global parameters\n",
    "caps_directory = '/network/lustre/dtlake01/aramis/datasets/adni/caps/caps_v2021/'\n",
    "batch_size = 16\n",
    "num_workers = os.cpu_count()\n",
    "learning_rate = 1e-4\n",
    "weight_decay = 1e-4"
   ]
  },
  {
   "cell_type": "code",
   "execution_count": 33,
   "id": "efac0b65",
   "metadata": {
    "code_folding": [],
    "hidden": true,
    "scrolled": true
   },
   "outputs": [
    {
     "name": "stderr",
     "output_type": "stream",
     "text": [
      "DEBUG:root:p_age=0.28, p_sex=0.8283\n",
      "DEBUG:root:p_age=0.00, p_sex=0.9114\n",
      "DEBUG:root:p_age=0.49, p_sex=0.9493\n",
      "DEBUG:root:p_age=0.77, p_sex=0.8836\n",
      "DEBUG:root:p_age=0.44, p_sex=0.8559\n",
      "DEBUG:root:p_age=0.93, p_sex=0.7464\n",
      "DEBUG:root:p_age=0.18, p_sex=0.9672\n",
      "DEBUG:root:p_age=0.38, p_sex=0.9393\n",
      "DEBUG:root:p_age=0.53, p_sex=0.9393\n",
      "DEBUG:root:p_age=0.35, p_sex=0.9393\n",
      "DEBUG:root:p_age=0.44, p_sex=0.9951\n",
      "DEBUG:root:p_age=0.34, p_sex=0.8559\n",
      "DEBUG:root:p_age=0.86, p_sex=0.9393\n",
      "INFO:root:Split for diagnosis AD was found after 13 trials\n",
      "DEBUG:root:p_age=0.84, p_sex=0.7967\n",
      "DEBUG:root:p_age=0.35, p_sex=0.9954\n",
      "DEBUG:root:p_age=0.38, p_sex=0.8955\n",
      "DEBUG:root:p_age=0.21, p_sex=0.9954\n",
      "DEBUG:root:p_age=0.10, p_sex=0.9050\n",
      "DEBUG:root:p_age=0.93, p_sex=0.9954\n",
      "INFO:root:Split for diagnosis CN was found after 6 trials\n"
     ]
    },
    {
     "name": "stdout",
     "output_type": "stream",
     "text": [
      "First column name:  t1-volume_group-adni2021_atlas-AAL2_ROI-Background_intensity\n",
      "Last column name:  t1-volume_group-adni2021_atlas-AAL2_ROI-Vermis_10_intensity\n",
      "     participant_id session_id sex   age  \\\n",
      "0  sub-ADNI002S0295    ses-M00   M  84.8   \n",
      "1  sub-ADNI002S0295    ses-M06   M  85.3   \n",
      "2  sub-ADNI002S0295    ses-M12   M  85.8   \n",
      "3  sub-ADNI002S0295    ses-M24   M  87.0   \n",
      "4  sub-ADNI002S0295    ses-M36   M  87.8   \n",
      "\n",
      "   t1-volume_group-adni2021_atlas-AAL2_ROI-Precentral_L_intensity  \\\n",
      "0                                           0.267730                \n",
      "1                                           0.276336                \n",
      "2                                           0.253523                \n",
      "3                                           0.259355                \n",
      "4                                           0.284153                \n",
      "\n",
      "   t1-volume_group-adni2021_atlas-AAL2_ROI-Precentral_R_intensity  \\\n",
      "0                                           0.219289                \n",
      "1                                           0.225798                \n",
      "2                                           0.209125                \n",
      "3                                           0.218665                \n",
      "4                                           0.221972                \n",
      "\n",
      "   t1-volume_group-adni2021_atlas-AAL2_ROI-Frontal_Sup_2_L_intensity  \\\n",
      "0                                           0.301503                   \n",
      "1                                           0.309499                   \n",
      "2                                           0.300972                   \n",
      "3                                           0.301484                   \n",
      "4                                           0.301505                   \n",
      "\n",
      "   t1-volume_group-adni2021_atlas-AAL2_ROI-Frontal_Sup_2_R_intensity  \\\n",
      "0                                           0.313131                   \n",
      "1                                           0.323779                   \n",
      "2                                           0.313799                   \n",
      "3                                           0.315849                   \n",
      "4                                           0.309254                   \n",
      "\n",
      "   t1-volume_group-adni2021_atlas-AAL2_ROI-Frontal_Mid_2_L_intensity  \\\n",
      "0                                           0.371761                   \n",
      "1                                           0.377876                   \n",
      "2                                           0.371587                   \n",
      "3                                           0.369094                   \n",
      "4                                           0.366885                   \n",
      "\n",
      "   t1-volume_group-adni2021_atlas-AAL2_ROI-Frontal_Mid_2_R_intensity  ...  \\\n",
      "0                                           0.300004                  ...   \n",
      "1                                           0.305817                  ...   \n",
      "2                                           0.301119                  ...   \n",
      "3                                           0.300217                  ...   \n",
      "4                                           0.292319                  ...   \n",
      "\n",
      "   t1-volume_group-adni2021_atlas-AAL2_ROI-Cerebelum_10_L_intensity  \\\n",
      "0                                           0.197850                  \n",
      "1                                           0.216182                  \n",
      "2                                           0.204247                  \n",
      "3                                           0.195499                  \n",
      "4                                           0.198065                  \n",
      "\n",
      "   t1-volume_group-adni2021_atlas-AAL2_ROI-Cerebelum_10_R_intensity  \\\n",
      "0                                           0.200714                  \n",
      "1                                           0.212914                  \n",
      "2                                           0.204520                  \n",
      "3                                           0.214382                  \n",
      "4                                           0.204448                  \n",
      "\n",
      "   t1-volume_group-adni2021_atlas-AAL2_ROI-Vermis_1_2_intensity  \\\n",
      "0                                           0.296178              \n",
      "1                                           0.361278              \n",
      "2                                           0.323493              \n",
      "3                                           0.316567              \n",
      "4                                           0.323931              \n",
      "\n",
      "   t1-volume_group-adni2021_atlas-AAL2_ROI-Vermis_3_intensity  \\\n",
      "0                                           0.345829            \n",
      "1                                           0.348010            \n",
      "2                                           0.355343            \n",
      "3                                           0.351744            \n",
      "4                                           0.351657            \n",
      "\n",
      "   t1-volume_group-adni2021_atlas-AAL2_ROI-Vermis_4_5_intensity  \\\n",
      "0                                           0.402730              \n",
      "1                                           0.409874              \n",
      "2                                           0.407973              \n",
      "3                                           0.391109              \n",
      "4                                           0.394946              \n",
      "\n",
      "   t1-volume_group-adni2021_atlas-AAL2_ROI-Vermis_6_intensity  \\\n",
      "0                                           0.450093            \n",
      "1                                           0.461304            \n",
      "2                                           0.450372            \n",
      "3                                           0.456178            \n",
      "4                                           0.432386            \n",
      "\n",
      "   t1-volume_group-adni2021_atlas-AAL2_ROI-Vermis_7_intensity  \\\n",
      "0                                           0.558877            \n",
      "1                                           0.560103            \n",
      "2                                           0.542409            \n",
      "3                                           0.555420            \n",
      "4                                           0.529343            \n",
      "\n",
      "   t1-volume_group-adni2021_atlas-AAL2_ROI-Vermis_8_intensity  \\\n",
      "0                                           0.630415            \n",
      "1                                           0.641038            \n",
      "2                                           0.625179            \n",
      "3                                           0.659861            \n",
      "4                                           0.632941            \n",
      "\n",
      "   t1-volume_group-adni2021_atlas-AAL2_ROI-Vermis_9_intensity  \\\n",
      "0                                           0.598617            \n",
      "1                                           0.630846            \n",
      "2                                           0.626812            \n",
      "3                                           0.629011            \n",
      "4                                           0.597291            \n",
      "\n",
      "   t1-volume_group-adni2021_atlas-AAL2_ROI-Vermis_10_intensity  \n",
      "0                                           0.096266            \n",
      "1                                           0.114475            \n",
      "2                                           0.107299            \n",
      "3                                           0.104782            \n",
      "4                                           0.107231            \n",
      "\n",
      "[5 rows x 124 columns]\n"
     ]
    }
   ],
   "source": [
    "# load dataframes\n",
    "AD = pd.read_csv('subjects/AD.tsv',sep='\\t')\n",
    "CN = pd.read_csv('subjects/CN.tsv',sep='\\t')\n",
    "\n",
    "# remove samples with NaN\n",
    "AD.drop(AD[AD.isna().sum(axis=1) > 0].index, inplace=True)\n",
    "CN.drop(CN[CN.isna().sum(axis=1) > 0].index, inplace=True)\n",
    "\n",
    "# split data between training and validation sets\n",
    "training_df, valid_df = create_split('AD', AD, 'diagnosis',0.2)\n",
    "df_CN = create_split('CN', CN, 'diagnosis',0.2)\n",
    "training_df = training_df.append(df_CN[0]).reset_index().iloc[np.array([0,1,2,-1,-2,-3])]\n",
    "valid_df = valid_df.append(df_CN[1]).reset_index().iloc[np.array([0,1,2,-1,-2,-3])]\n",
    "\n",
    "# drop index column\n",
    "training_df.drop(columns = ['index'], inplace=True)\n",
    "valid_df.drop(columns = ['index'], inplace=True)\n",
    "\n",
    "train_transforms, all_transforms = get_transforms('image', minmaxnormalization=True, data_augmentation=None )\n",
    "# fetch volumetric data\n",
    "stds, df_add_data = fetch_add_data(training_df)\n",
    "\n",
    "# all_transforms = torchvision.transforms.Compose([])"
   ]
  },
  {
   "cell_type": "code",
   "execution_count": 37,
   "id": "fa898c26",
   "metadata": {
    "hidden": true
   },
   "outputs": [
    {
     "name": "stdout",
     "output_type": "stream",
     "text": [
      "0\n",
      "0\n"
     ]
    }
   ],
   "source": [
    "data_train = MRIDatasetImage(caps_directory, training_df, df_add_data=df_add_data,all_transformations=all_transforms) #train_transformations=all_transforms\n",
    "data_valid = MRIDatasetImage(caps_directory, valid_df, df_add_data=df_add_data, all_transformations=all_transforms) #train_transformations=all_transforms,\n",
    "\n",
    "\n",
    "# sampler\n",
    "train_sampler = generate_sampler(data_train)\n",
    "valid_sampler = generate_sampler(data_valid)\n",
    "# loaders\n",
    "train_loader = DataLoader(data_train,\n",
    "                         batch_size=batch_size,\n",
    "                         sampler=train_sampler,\n",
    "                         num_workers=num_workers,\n",
    "                         pin_memory=True)\n",
    "\n",
    "valid_loader = DataLoader(data_valid,\n",
    "                         batch_size=batch_size,\n",
    "                         sampler=valid_sampler,\n",
    "                         num_workers=num_workers,\n",
    "                         pin_memory=True)"
   ]
  },
  {
   "cell_type": "markdown",
   "id": "fe9be74e",
   "metadata": {
    "hidden": true
   },
   "source": [
    "## Training"
   ]
  },
  {
   "cell_type": "code",
   "execution_count": 38,
   "id": "47b66241",
   "metadata": {
    "hidden": true,
    "scrolled": true
   },
   "outputs": [
    {
     "name": "stdout",
     "output_type": "stream",
     "text": [
      "==========================================================================================\n",
      "Layer (type:depth-idx)                   Output Shape              Param #\n",
      "==========================================================================================\n",
      "Net                                      --                        --\n",
      "├─Sequential: 1-1                        [16, 64, 5, 7, 5]         --\n",
      "│    └─Conv3d: 2-1                       [16, 8, 119, 143, 119]    224\n",
      "│    └─ReLU: 2-2                         [16, 8, 119, 143, 119]    --\n",
      "│    └─BatchNorm3d: 2-3                  [16, 8, 119, 143, 119]    16\n",
      "│    └─MaxPool3d: 2-4                    [16, 8, 59, 71, 59]       --\n",
      "│    └─Conv3d: 2-5                       [16, 16, 57, 69, 57]      3,472\n",
      "│    └─ReLU: 2-6                         [16, 16, 57, 69, 57]      --\n",
      "│    └─BatchNorm3d: 2-7                  [16, 16, 57, 69, 57]      32\n",
      "│    └─MaxPool3d: 2-8                    [16, 16, 28, 34, 28]      --\n",
      "│    └─Conv3d: 2-9                       [16, 32, 26, 32, 26]      13,856\n",
      "│    └─ReLU: 2-10                        [16, 32, 26, 32, 26]      --\n",
      "│    └─BatchNorm3d: 2-11                 [16, 32, 26, 32, 26]      64\n",
      "│    └─MaxPool3d: 2-12                   [16, 32, 13, 16, 13]      --\n",
      "│    └─Conv3d: 2-13                      [16, 64, 11, 14, 11]      55,360\n",
      "│    └─ReLU: 2-14                        [16, 64, 11, 14, 11]      --\n",
      "│    └─BatchNorm3d: 2-15                 [16, 64, 11, 14, 11]      128\n",
      "│    └─MaxPool3d: 2-16                   [16, 64, 5, 7, 5]         --\n",
      "├─Sequential: 1-2                        [16, 1]                   --\n",
      "│    └─Conv3d: 2-17                      [16, 128, 3, 5, 3]        221,312\n",
      "│    └─ReLU: 2-18                        [16, 128, 3, 5, 3]        --\n",
      "│    └─BatchNorm3d: 2-19                 [16, 128, 3, 5, 3]        256\n",
      "│    └─MaxPool3d: 2-20                   [16, 128, 1, 2, 1]        --\n",
      "│    └─Flatten: 2-21                     [16, 256]                 --\n",
      "│    └─Linear: 2-22                      [16, 32]                  8,224\n",
      "│    └─ReLU: 2-23                        [16, 32]                  --\n",
      "│    └─BatchNorm1d: 2-24                 [16, 32]                  64\n",
      "│    └─Dropout: 2-25                     [16, 32]                  --\n",
      "│    └─Linear: 2-26                      [16, 16]                  528\n",
      "│    └─ReLU: 2-27                        [16, 16]                  --\n",
      "│    └─BatchNorm1d: 2-28                 [16, 16]                  32\n",
      "│    └─Dropout: 2-29                     [16, 16]                  --\n",
      "│    └─Linear: 2-30                      [16, 1]                   17\n",
      "│    └─Sigmoid: 2-31                     [16, 1]                   --\n",
      "├─Sequential: 1-3                        [16, 120]                 --\n",
      "│    └─Conv3d: 2-32                      [16, 128, 3, 5, 3]        221,312\n",
      "│    └─ReLU: 2-33                        [16, 128, 3, 5, 3]        --\n",
      "│    └─BatchNorm3d: 2-34                 [16, 128, 3, 5, 3]        256\n",
      "│    └─MaxPool3d: 2-35                   [16, 128, 1, 2, 1]        --\n",
      "│    └─Flatten: 2-36                     [16, 256]                 --\n",
      "│    └─Linear: 2-37                      [16, 480]                 123,360\n",
      "│    └─ReLU: 2-38                        [16, 480]                 --\n",
      "│    └─BatchNorm1d: 2-39                 [16, 480]                 960\n",
      "│    └─Dropout: 2-40                     [16, 480]                 --\n",
      "│    └─Linear: 2-41                      [16, 240]                 115,440\n",
      "│    └─ReLU: 2-42                        [16, 240]                 --\n",
      "│    └─BatchNorm1d: 2-43                 [16, 240]                 480\n",
      "│    └─Dropout: 2-44                     [16, 240]                 --\n",
      "│    └─Linear: 2-45                      [16, 120]                 28,920\n",
      "├─Sequential: 1-4                        [16, 1]                   --\n",
      "│    └─Conv3d: 2-46                      [16, 128, 3, 5, 3]        221,312\n",
      "│    └─ReLU: 2-47                        [16, 128, 3, 5, 3]        --\n",
      "│    └─BatchNorm3d: 2-48                 [16, 128, 3, 5, 3]        256\n",
      "│    └─MaxPool3d: 2-49                   [16, 128, 1, 2, 1]        --\n",
      "│    └─Flatten: 2-50                     [16, 256]                 --\n",
      "│    └─Linear: 2-51                      [16, 32]                  8,224\n",
      "│    └─ReLU: 2-52                        [16, 32]                  --\n",
      "│    └─BatchNorm1d: 2-53                 [16, 32]                  64\n",
      "│    └─Dropout: 2-54                     [16, 32]                  --\n",
      "│    └─Linear: 2-55                      [16, 16]                  528\n",
      "│    └─ReLU: 2-56                        [16, 16]                  --\n",
      "│    └─BatchNorm1d: 2-57                 [16, 16]                  32\n",
      "│    └─Dropout: 2-58                     [16, 16]                  --\n",
      "│    └─Linear: 2-59                      [16, 1]                   17\n",
      "├─Sequential: 1-5                        [16, 1]                   --\n",
      "│    └─Conv3d: 2-60                      [16, 128, 3, 5, 3]        221,312\n",
      "│    └─ReLU: 2-61                        [16, 128, 3, 5, 3]        --\n",
      "│    └─BatchNorm3d: 2-62                 [16, 128, 3, 5, 3]        256\n",
      "│    └─MaxPool3d: 2-63                   [16, 128, 1, 2, 1]        --\n",
      "│    └─Flatten: 2-64                     [16, 256]                 --\n",
      "│    └─Linear: 2-65                      [16, 32]                  8,224\n",
      "│    └─ReLU: 2-66                        [16, 32]                  --\n",
      "│    └─BatchNorm1d: 2-67                 [16, 32]                  64\n",
      "│    └─Dropout: 2-68                     [16, 32]                  --\n",
      "│    └─Linear: 2-69                      [16, 16]                  528\n",
      "│    └─ReLU: 2-70                        [16, 16]                  --\n",
      "│    └─BatchNorm1d: 2-71                 [16, 16]                  32\n",
      "│    └─Dropout: 2-72                     [16, 16]                  --\n",
      "│    └─Linear: 2-73                      [16, 1]                   17\n",
      "│    └─Sigmoid: 2-74                     [16, 1]                   --\n",
      "==========================================================================================\n",
      "Total params: 1,255,179\n",
      "Trainable params: 1,255,179\n",
      "Non-trainable params: 0\n",
      "Total mult-adds (G): 26.65\n",
      "==========================================================================================\n",
      "Input size (MB): 135.87\n",
      "Forward/backward pass size (MB): 5276.59\n",
      "Params size (MB): 5.02\n",
      "Estimated Total Size (MB): 5417.48\n",
      "==========================================================================================\n"
     ]
    }
   ],
   "source": [
    "# get sample\n",
    "sample = data_train[0]\n",
    "# build model\n",
    "model = Net(sample, [8, 16, 32, 64, 128])\n",
    "# if torch.cuda.is_available():\n",
    "#     print(\"To cuda\")\n",
    "#     model.cuda()\n",
    "model.summary(batch_size=16)"
   ]
  },
  {
   "cell_type": "code",
   "execution_count": 46,
   "id": "27816173",
   "metadata": {
    "hidden": true
   },
   "outputs": [
    {
     "name": "stdout",
     "output_type": "stream",
     "text": [
      "Beginning of the training\n"
     ]
    },
    {
     "name": "stderr",
     "output_type": "stream",
     "text": [
      "0it [00:00, ?it/s]\n"
     ]
    },
    {
     "ename": "KeyError",
     "evalue": "Caught KeyError in DataLoader worker process 0.\nOriginal Traceback (most recent call last):\n  File \"/network/lustre/dtlake01/aramis/users/sasha.collin/miniconda3/envs/venv/lib/python3.7/site-packages/pandas/core/indexes/base.py\", line 3080, in get_loc\n    return self._engine.get_loc(casted_key)\n  File \"pandas/_libs/index.pyx\", line 70, in pandas._libs.index.IndexEngine.get_loc\n  File \"pandas/_libs/index.pyx\", line 101, in pandas._libs.index.IndexEngine.get_loc\n  File \"pandas/_libs/hashtable_class_helper.pxi\", line 1625, in pandas._libs.hashtable.Int64HashTable.get_item\n  File \"pandas/_libs/hashtable_class_helper.pxi\", line 1632, in pandas._libs.hashtable.Int64HashTable.get_item\nKeyError: 3\n\nThe above exception was the direct cause of the following exception:\n\nTraceback (most recent call last):\n  File \"/network/lustre/dtlake01/aramis/users/sasha.collin/miniconda3/envs/venv/lib/python3.7/site-packages/torch/utils/data/_utils/worker.py\", line 202, in _worker_loop\n    data = fetcher.fetch(index)\n  File \"/network/lustre/dtlake01/aramis/users/sasha.collin/miniconda3/envs/venv/lib/python3.7/site-packages/torch/utils/data/_utils/fetch.py\", line 44, in fetch\n    data = [self.dataset[idx] for idx in possibly_batched_index]\n  File \"/network/lustre/dtlake01/aramis/users/sasha.collin/miniconda3/envs/venv/lib/python3.7/site-packages/torch/utils/data/_utils/fetch.py\", line 44, in <listcomp>\n    data = [self.dataset[idx] for idx in possibly_batched_index]\n  File \"/network/lustre/dtlake01/aramis/users/sasha.collin/interpretability-dl-ndd/tools/data.py\", line 209, in __getitem__\n    participant, session, cohort, _, label = self._get_meta_data(idx)\n  File \"/network/lustre/dtlake01/aramis/users/sasha.collin/miniconda3/envs/venv/lib/python3.7/site-packages/clinicadl/tools/deep_learning/data.py\", line 140, in _get_meta_data\n    participant = self.df.loc[image_idx, 'participant_id']\n  File \"/network/lustre/dtlake01/aramis/users/sasha.collin/miniconda3/envs/venv/lib/python3.7/site-packages/pandas/core/indexing.py\", line 889, in __getitem__\n    return self._getitem_tuple(key)\n  File \"/network/lustre/dtlake01/aramis/users/sasha.collin/miniconda3/envs/venv/lib/python3.7/site-packages/pandas/core/indexing.py\", line 1060, in _getitem_tuple\n    return self._getitem_lowerdim(tup)\n  File \"/network/lustre/dtlake01/aramis/users/sasha.collin/miniconda3/envs/venv/lib/python3.7/site-packages/pandas/core/indexing.py\", line 807, in _getitem_lowerdim\n    section = self._getitem_axis(key, axis=i)\n  File \"/network/lustre/dtlake01/aramis/users/sasha.collin/miniconda3/envs/venv/lib/python3.7/site-packages/pandas/core/indexing.py\", line 1124, in _getitem_axis\n    return self._get_label(key, axis=axis)\n  File \"/network/lustre/dtlake01/aramis/users/sasha.collin/miniconda3/envs/venv/lib/python3.7/site-packages/pandas/core/indexing.py\", line 1073, in _get_label\n    return self.obj.xs(label, axis=axis)\n  File \"/network/lustre/dtlake01/aramis/users/sasha.collin/miniconda3/envs/venv/lib/python3.7/site-packages/pandas/core/generic.py\", line 3739, in xs\n    loc = index.get_loc(key)\n  File \"/network/lustre/dtlake01/aramis/users/sasha.collin/miniconda3/envs/venv/lib/python3.7/site-packages/pandas/core/indexes/base.py\", line 3082, in get_loc\n    raise KeyError(key) from err\nKeyError: 3\n",
     "output_type": "error",
     "traceback": [
      "\u001b[0;31m---------------------------------------------------------------------------\u001b[0m",
      "\u001b[0;31mKeyError\u001b[0m                                  Traceback (most recent call last)",
      "\u001b[0;32m<ipython-input-46-3750868908c8>\u001b[0m in \u001b[0;36m<module>\u001b[0;34m\u001b[0m\n\u001b[1;32m     13\u001b[0m \u001b[0;31m# training\u001b[0m\u001b[0;34m\u001b[0m\u001b[0;34m\u001b[0m\u001b[0;34m\u001b[0m\u001b[0m\n\u001b[1;32m     14\u001b[0m \u001b[0;32mfor\u001b[0m \u001b[0mepoch\u001b[0m \u001b[0;32min\u001b[0m \u001b[0mrange\u001b[0m\u001b[0;34m(\u001b[0m\u001b[0;36m2\u001b[0m\u001b[0;34m)\u001b[0m\u001b[0;34m:\u001b[0m\u001b[0;34m\u001b[0m\u001b[0;34m\u001b[0m\u001b[0m\n\u001b[0;32m---> 15\u001b[0;31m     \u001b[0mupdate_dict\u001b[0m\u001b[0;34m(\u001b[0m\u001b[0mtrain_losses\u001b[0m\u001b[0;34m,\u001b[0m \u001b[0mtrain\u001b[0m\u001b[0;34m(\u001b[0m\u001b[0mepoch\u001b[0m\u001b[0;34m,\u001b[0m \u001b[0mmodel\u001b[0m\u001b[0;34m,\u001b[0m \u001b[0moptimizer\u001b[0m\u001b[0;34m,\u001b[0m \u001b[0mtrain_loader\u001b[0m\u001b[0;34m,\u001b[0m \u001b[0mto_cuda\u001b[0m\u001b[0;34m=\u001b[0m\u001b[0;32mFalse\u001b[0m\u001b[0;34m)\u001b[0m\u001b[0;34m)\u001b[0m\u001b[0;34m\u001b[0m\u001b[0;34m\u001b[0m\u001b[0m\n\u001b[0m\u001b[1;32m     16\u001b[0m     \u001b[0mupdate_dict\u001b[0m\u001b[0;34m(\u001b[0m\u001b[0mtest_losses\u001b[0m\u001b[0;34m,\u001b[0m \u001b[0mtest\u001b[0m\u001b[0;34m(\u001b[0m\u001b[0mmodel\u001b[0m\u001b[0;34m,\u001b[0m \u001b[0mvalid_loader\u001b[0m\u001b[0;34m,\u001b[0m \u001b[0mto_cuda\u001b[0m\u001b[0;34m=\u001b[0m\u001b[0;32mFalse\u001b[0m\u001b[0;34m,\u001b[0m \u001b[0mrescaling\u001b[0m\u001b[0;34m=\u001b[0m\u001b[0mstds\u001b[0m\u001b[0;34m)\u001b[0m\u001b[0;34m)\u001b[0m\u001b[0;34m\u001b[0m\u001b[0;34m\u001b[0m\u001b[0m\n",
      "\u001b[0;32m/network/lustre/dtlake01/aramis/users/sasha.collin/interpretability-dl-ndd/train/train_CNN.py\u001b[0m in \u001b[0;36mtrain\u001b[0;34m(epoch, model, optimizer_, loader, loss_weights, to_cuda, compute_metrics, rescaling)\u001b[0m\n\u001b[1;32m     63\u001b[0m     \u001b[0;31m# accuracy\u001b[0m\u001b[0;34m\u001b[0m\u001b[0;34m\u001b[0m\u001b[0;34m\u001b[0m\u001b[0m\n\u001b[1;32m     64\u001b[0m     \u001b[0mcorrect\u001b[0m \u001b[0;34m=\u001b[0m \u001b[0;36m0\u001b[0m\u001b[0;34m\u001b[0m\u001b[0;34m\u001b[0m\u001b[0m\n\u001b[0;32m---> 65\u001b[0;31m     \u001b[0;32mfor\u001b[0m \u001b[0mbatch_idx\u001b[0m\u001b[0;34m,\u001b[0m \u001b[0mdata\u001b[0m \u001b[0;32min\u001b[0m \u001b[0mtqdm\u001b[0m\u001b[0;34m(\u001b[0m\u001b[0menumerate\u001b[0m\u001b[0;34m(\u001b[0m\u001b[0mloader\u001b[0m\u001b[0;34m)\u001b[0m\u001b[0;34m)\u001b[0m\u001b[0;34m:\u001b[0m\u001b[0;34m\u001b[0m\u001b[0;34m\u001b[0m\u001b[0m\n\u001b[0m\u001b[1;32m     66\u001b[0m         \u001b[0;32mif\u001b[0m \u001b[0mtorch\u001b[0m\u001b[0;34m.\u001b[0m\u001b[0mcuda\u001b[0m\u001b[0;34m.\u001b[0m\u001b[0mis_available\u001b[0m\u001b[0;34m(\u001b[0m\u001b[0;34m)\u001b[0m \u001b[0;32mand\u001b[0m \u001b[0mto_cuda\u001b[0m\u001b[0;34m:\u001b[0m\u001b[0;34m\u001b[0m\u001b[0;34m\u001b[0m\u001b[0m\n\u001b[1;32m     67\u001b[0m             \u001b[0;32mfor\u001b[0m \u001b[0mkey\u001b[0m \u001b[0;32min\u001b[0m \u001b[0mdata\u001b[0m\u001b[0;34m.\u001b[0m\u001b[0mkeys\u001b[0m\u001b[0;34m(\u001b[0m\u001b[0;34m)\u001b[0m\u001b[0;34m:\u001b[0m\u001b[0;34m\u001b[0m\u001b[0;34m\u001b[0m\u001b[0m\n",
      "\u001b[0;32m/network/lustre/dtlake01/aramis/users/sasha.collin/miniconda3/envs/venv/lib/python3.7/site-packages/tqdm/std.py\u001b[0m in \u001b[0;36m__iter__\u001b[0;34m(self)\u001b[0m\n\u001b[1;32m   1176\u001b[0m \u001b[0;34m\u001b[0m\u001b[0m\n\u001b[1;32m   1177\u001b[0m         \u001b[0;32mtry\u001b[0m\u001b[0;34m:\u001b[0m\u001b[0;34m\u001b[0m\u001b[0;34m\u001b[0m\u001b[0m\n\u001b[0;32m-> 1178\u001b[0;31m             \u001b[0;32mfor\u001b[0m \u001b[0mobj\u001b[0m \u001b[0;32min\u001b[0m \u001b[0miterable\u001b[0m\u001b[0;34m:\u001b[0m\u001b[0;34m\u001b[0m\u001b[0;34m\u001b[0m\u001b[0m\n\u001b[0m\u001b[1;32m   1179\u001b[0m                 \u001b[0;32myield\u001b[0m \u001b[0mobj\u001b[0m\u001b[0;34m\u001b[0m\u001b[0;34m\u001b[0m\u001b[0m\n\u001b[1;32m   1180\u001b[0m                 \u001b[0;31m# Update and possibly print the progressbar.\u001b[0m\u001b[0;34m\u001b[0m\u001b[0;34m\u001b[0m\u001b[0;34m\u001b[0m\u001b[0m\n",
      "\u001b[0;32m/network/lustre/dtlake01/aramis/users/sasha.collin/miniconda3/envs/venv/lib/python3.7/site-packages/torch/utils/data/dataloader.py\u001b[0m in \u001b[0;36m__next__\u001b[0;34m(self)\u001b[0m\n\u001b[1;32m    515\u001b[0m             \u001b[0;32mif\u001b[0m \u001b[0mself\u001b[0m\u001b[0;34m.\u001b[0m\u001b[0m_sampler_iter\u001b[0m \u001b[0;32mis\u001b[0m \u001b[0;32mNone\u001b[0m\u001b[0;34m:\u001b[0m\u001b[0;34m\u001b[0m\u001b[0;34m\u001b[0m\u001b[0m\n\u001b[1;32m    516\u001b[0m                 \u001b[0mself\u001b[0m\u001b[0;34m.\u001b[0m\u001b[0m_reset\u001b[0m\u001b[0;34m(\u001b[0m\u001b[0;34m)\u001b[0m\u001b[0;34m\u001b[0m\u001b[0;34m\u001b[0m\u001b[0m\n\u001b[0;32m--> 517\u001b[0;31m             \u001b[0mdata\u001b[0m \u001b[0;34m=\u001b[0m \u001b[0mself\u001b[0m\u001b[0;34m.\u001b[0m\u001b[0m_next_data\u001b[0m\u001b[0;34m(\u001b[0m\u001b[0;34m)\u001b[0m\u001b[0;34m\u001b[0m\u001b[0;34m\u001b[0m\u001b[0m\n\u001b[0m\u001b[1;32m    518\u001b[0m             \u001b[0mself\u001b[0m\u001b[0;34m.\u001b[0m\u001b[0m_num_yielded\u001b[0m \u001b[0;34m+=\u001b[0m \u001b[0;36m1\u001b[0m\u001b[0;34m\u001b[0m\u001b[0;34m\u001b[0m\u001b[0m\n\u001b[1;32m    519\u001b[0m             \u001b[0;32mif\u001b[0m \u001b[0mself\u001b[0m\u001b[0;34m.\u001b[0m\u001b[0m_dataset_kind\u001b[0m \u001b[0;34m==\u001b[0m \u001b[0m_DatasetKind\u001b[0m\u001b[0;34m.\u001b[0m\u001b[0mIterable\u001b[0m \u001b[0;32mand\u001b[0m\u001b[0;31m \u001b[0m\u001b[0;31m\\\u001b[0m\u001b[0;34m\u001b[0m\u001b[0;34m\u001b[0m\u001b[0m\n",
      "\u001b[0;32m/network/lustre/dtlake01/aramis/users/sasha.collin/miniconda3/envs/venv/lib/python3.7/site-packages/torch/utils/data/dataloader.py\u001b[0m in \u001b[0;36m_next_data\u001b[0;34m(self)\u001b[0m\n\u001b[1;32m   1197\u001b[0m             \u001b[0;32melse\u001b[0m\u001b[0;34m:\u001b[0m\u001b[0;34m\u001b[0m\u001b[0;34m\u001b[0m\u001b[0m\n\u001b[1;32m   1198\u001b[0m                 \u001b[0;32mdel\u001b[0m \u001b[0mself\u001b[0m\u001b[0;34m.\u001b[0m\u001b[0m_task_info\u001b[0m\u001b[0;34m[\u001b[0m\u001b[0midx\u001b[0m\u001b[0;34m]\u001b[0m\u001b[0;34m\u001b[0m\u001b[0;34m\u001b[0m\u001b[0m\n\u001b[0;32m-> 1199\u001b[0;31m                 \u001b[0;32mreturn\u001b[0m \u001b[0mself\u001b[0m\u001b[0;34m.\u001b[0m\u001b[0m_process_data\u001b[0m\u001b[0;34m(\u001b[0m\u001b[0mdata\u001b[0m\u001b[0;34m)\u001b[0m\u001b[0;34m\u001b[0m\u001b[0;34m\u001b[0m\u001b[0m\n\u001b[0m\u001b[1;32m   1200\u001b[0m \u001b[0;34m\u001b[0m\u001b[0m\n\u001b[1;32m   1201\u001b[0m     \u001b[0;32mdef\u001b[0m \u001b[0m_try_put_index\u001b[0m\u001b[0;34m(\u001b[0m\u001b[0mself\u001b[0m\u001b[0;34m)\u001b[0m\u001b[0;34m:\u001b[0m\u001b[0;34m\u001b[0m\u001b[0;34m\u001b[0m\u001b[0m\n",
      "\u001b[0;32m/network/lustre/dtlake01/aramis/users/sasha.collin/miniconda3/envs/venv/lib/python3.7/site-packages/torch/utils/data/dataloader.py\u001b[0m in \u001b[0;36m_process_data\u001b[0;34m(self, data)\u001b[0m\n\u001b[1;32m   1223\u001b[0m         \u001b[0mself\u001b[0m\u001b[0;34m.\u001b[0m\u001b[0m_try_put_index\u001b[0m\u001b[0;34m(\u001b[0m\u001b[0;34m)\u001b[0m\u001b[0;34m\u001b[0m\u001b[0;34m\u001b[0m\u001b[0m\n\u001b[1;32m   1224\u001b[0m         \u001b[0;32mif\u001b[0m \u001b[0misinstance\u001b[0m\u001b[0;34m(\u001b[0m\u001b[0mdata\u001b[0m\u001b[0;34m,\u001b[0m \u001b[0mExceptionWrapper\u001b[0m\u001b[0;34m)\u001b[0m\u001b[0;34m:\u001b[0m\u001b[0;34m\u001b[0m\u001b[0;34m\u001b[0m\u001b[0m\n\u001b[0;32m-> 1225\u001b[0;31m             \u001b[0mdata\u001b[0m\u001b[0;34m.\u001b[0m\u001b[0mreraise\u001b[0m\u001b[0;34m(\u001b[0m\u001b[0;34m)\u001b[0m\u001b[0;34m\u001b[0m\u001b[0;34m\u001b[0m\u001b[0m\n\u001b[0m\u001b[1;32m   1226\u001b[0m         \u001b[0;32mreturn\u001b[0m \u001b[0mdata\u001b[0m\u001b[0;34m\u001b[0m\u001b[0;34m\u001b[0m\u001b[0m\n\u001b[1;32m   1227\u001b[0m \u001b[0;34m\u001b[0m\u001b[0m\n",
      "\u001b[0;32m/network/lustre/dtlake01/aramis/users/sasha.collin/miniconda3/envs/venv/lib/python3.7/site-packages/torch/_utils.py\u001b[0m in \u001b[0;36mreraise\u001b[0;34m(self)\u001b[0m\n\u001b[1;32m    427\u001b[0m             \u001b[0;31m# have message field\u001b[0m\u001b[0;34m\u001b[0m\u001b[0;34m\u001b[0m\u001b[0;34m\u001b[0m\u001b[0m\n\u001b[1;32m    428\u001b[0m             \u001b[0;32mraise\u001b[0m \u001b[0mself\u001b[0m\u001b[0;34m.\u001b[0m\u001b[0mexc_type\u001b[0m\u001b[0;34m(\u001b[0m\u001b[0mmessage\u001b[0m\u001b[0;34m=\u001b[0m\u001b[0mmsg\u001b[0m\u001b[0;34m)\u001b[0m\u001b[0;34m\u001b[0m\u001b[0;34m\u001b[0m\u001b[0m\n\u001b[0;32m--> 429\u001b[0;31m         \u001b[0;32mraise\u001b[0m \u001b[0mself\u001b[0m\u001b[0;34m.\u001b[0m\u001b[0mexc_type\u001b[0m\u001b[0;34m(\u001b[0m\u001b[0mmsg\u001b[0m\u001b[0;34m)\u001b[0m\u001b[0;34m\u001b[0m\u001b[0;34m\u001b[0m\u001b[0m\n\u001b[0m\u001b[1;32m    430\u001b[0m \u001b[0;34m\u001b[0m\u001b[0m\n\u001b[1;32m    431\u001b[0m \u001b[0;34m\u001b[0m\u001b[0m\n",
      "\u001b[0;31mKeyError\u001b[0m: Caught KeyError in DataLoader worker process 0.\nOriginal Traceback (most recent call last):\n  File \"/network/lustre/dtlake01/aramis/users/sasha.collin/miniconda3/envs/venv/lib/python3.7/site-packages/pandas/core/indexes/base.py\", line 3080, in get_loc\n    return self._engine.get_loc(casted_key)\n  File \"pandas/_libs/index.pyx\", line 70, in pandas._libs.index.IndexEngine.get_loc\n  File \"pandas/_libs/index.pyx\", line 101, in pandas._libs.index.IndexEngine.get_loc\n  File \"pandas/_libs/hashtable_class_helper.pxi\", line 1625, in pandas._libs.hashtable.Int64HashTable.get_item\n  File \"pandas/_libs/hashtable_class_helper.pxi\", line 1632, in pandas._libs.hashtable.Int64HashTable.get_item\nKeyError: 3\n\nThe above exception was the direct cause of the following exception:\n\nTraceback (most recent call last):\n  File \"/network/lustre/dtlake01/aramis/users/sasha.collin/miniconda3/envs/venv/lib/python3.7/site-packages/torch/utils/data/_utils/worker.py\", line 202, in _worker_loop\n    data = fetcher.fetch(index)\n  File \"/network/lustre/dtlake01/aramis/users/sasha.collin/miniconda3/envs/venv/lib/python3.7/site-packages/torch/utils/data/_utils/fetch.py\", line 44, in fetch\n    data = [self.dataset[idx] for idx in possibly_batched_index]\n  File \"/network/lustre/dtlake01/aramis/users/sasha.collin/miniconda3/envs/venv/lib/python3.7/site-packages/torch/utils/data/_utils/fetch.py\", line 44, in <listcomp>\n    data = [self.dataset[idx] for idx in possibly_batched_index]\n  File \"/network/lustre/dtlake01/aramis/users/sasha.collin/interpretability-dl-ndd/tools/data.py\", line 209, in __getitem__\n    participant, session, cohort, _, label = self._get_meta_data(idx)\n  File \"/network/lustre/dtlake01/aramis/users/sasha.collin/miniconda3/envs/venv/lib/python3.7/site-packages/clinicadl/tools/deep_learning/data.py\", line 140, in _get_meta_data\n    participant = self.df.loc[image_idx, 'participant_id']\n  File \"/network/lustre/dtlake01/aramis/users/sasha.collin/miniconda3/envs/venv/lib/python3.7/site-packages/pandas/core/indexing.py\", line 889, in __getitem__\n    return self._getitem_tuple(key)\n  File \"/network/lustre/dtlake01/aramis/users/sasha.collin/miniconda3/envs/venv/lib/python3.7/site-packages/pandas/core/indexing.py\", line 1060, in _getitem_tuple\n    return self._getitem_lowerdim(tup)\n  File \"/network/lustre/dtlake01/aramis/users/sasha.collin/miniconda3/envs/venv/lib/python3.7/site-packages/pandas/core/indexing.py\", line 807, in _getitem_lowerdim\n    section = self._getitem_axis(key, axis=i)\n  File \"/network/lustre/dtlake01/aramis/users/sasha.collin/miniconda3/envs/venv/lib/python3.7/site-packages/pandas/core/indexing.py\", line 1124, in _getitem_axis\n    return self._get_label(key, axis=axis)\n  File \"/network/lustre/dtlake01/aramis/users/sasha.collin/miniconda3/envs/venv/lib/python3.7/site-packages/pandas/core/indexing.py\", line 1073, in _get_label\n    return self.obj.xs(label, axis=axis)\n  File \"/network/lustre/dtlake01/aramis/users/sasha.collin/miniconda3/envs/venv/lib/python3.7/site-packages/pandas/core/generic.py\", line 3739, in xs\n    loc = index.get_loc(key)\n  File \"/network/lustre/dtlake01/aramis/users/sasha.collin/miniconda3/envs/venv/lib/python3.7/site-packages/pandas/core/indexes/base.py\", line 3082, in get_loc\n    raise KeyError(key) from err\nKeyError: 3\n"
     ]
    }
   ],
   "source": [
    "# optimizer\n",
    "optimizer = optim.Adam(model.parameters(), lr=1e-4)\n",
    "# record losses\n",
    "train_losses = dict()\n",
    "test_losses = dict()\n",
    "\n",
    "# callbacks\n",
    "ES = EarlyStopping(patience=5)\n",
    "MC = ModelCheckpoint()\n",
    "\n",
    "print(\"Beginning of the training\")\n",
    "\n",
    "# training\n",
    "for epoch in range(2):\n",
    "    update_dict(train_losses, train(epoch, model, optimizer, train_loader, to_cuda=True))\n",
    "    update_dict(test_losses, test(model, valid_loader, to_cuda=True, rescaling=stds))"
   ]
  },
  {
   "cell_type": "code",
   "execution_count": null,
   "id": "d70ff3f9",
   "metadata": {
    "hidden": true
   },
   "outputs": [],
   "source": [
    "for k in range(1,5):\n",
    "    print(np.linalg.norm(getattr(getattr(model,'branch' + str(k)), 'b' + str(k) + '-conv').weight.grad.data.cpu()))"
   ]
  },
  {
   "cell_type": "markdown",
   "id": "497c3703",
   "metadata": {
    "heading_collapsed": true,
    "hidden": true
   },
   "source": [
    "## Loss visualization"
   ]
  },
  {
   "cell_type": "code",
   "execution_count": null,
   "id": "8f08832b",
   "metadata": {
    "code_folding": [],
    "hidden": true
   },
   "outputs": [],
   "source": [
    "def plot_losses(dict_losses, title=\"\"):\n",
    "    \"\"\"\n",
    "    Plot the different losses.\n",
    "    \n",
    "    Args:\n",
    "        dict_losses: dictionnary of losses\n",
    "    \"\"\"\n",
    "    plt.figure()\n",
    "    plt.title(title)\n",
    "    for key in dict_losses.keys():\n",
    "        plt.plot(dict_losses[key], label=key)\n",
    "    plt.legend()\n",
    "    plt.show()\n",
    "    \n",
    "def plot_tensor(X):\n",
    "    x = np.transpose(X[0], (1,2,0))\n",
    "    x = (x-x.min())/x.max()\n",
    "    plt.imshow(x)"
   ]
  },
  {
   "cell_type": "code",
   "execution_count": null,
   "id": "8fb76b5b",
   "metadata": {
    "hidden": true
   },
   "outputs": [],
   "source": [
    "metric_path = 'results/models/model_5/'\n",
    "\n",
    "train_metrics = pd.read_csv(metric_path + 'train_losses.csv')\n",
    "test_metrics = pd.read_csv(metric_path + 'val_losses.csv')"
   ]
  },
  {
   "cell_type": "code",
   "execution_count": null,
   "id": "a1d51b84",
   "metadata": {
    "hidden": true
   },
   "outputs": [],
   "source": [
    "plot_losses(train_metrics[['disease']], \"Training losses\")"
   ]
  },
  {
   "cell_type": "code",
   "execution_count": null,
   "id": "6f7f6ecb",
   "metadata": {
    "hidden": true
   },
   "outputs": [],
   "source": [
    "plot_losses(test_metrics[['disease']], \"Val losses\")"
   ]
  },
  {
   "cell_type": "markdown",
   "id": "02cce37e",
   "metadata": {
    "heading_collapsed": true,
    "hidden": true
   },
   "source": [
    "## Explanations"
   ]
  },
  {
   "cell_type": "code",
   "execution_count": 7,
   "id": "93691a10",
   "metadata": {
    "hidden": true
   },
   "outputs": [
    {
     "ename": "SyntaxError",
     "evalue": "EOL while scanning string literal (<ipython-input-7-bf6f4b2d929b>, line 16)",
     "output_type": "error",
     "traceback": [
      "\u001b[0;36m  File \u001b[0;32m\"<ipython-input-7-bf6f4b2d929b>\"\u001b[0;36m, line \u001b[0;32m16\u001b[0m\n\u001b[0;31m    all_transformations=all_transforms')  # train_transformations=all_transforms,\u001b[0m\n\u001b[0m                                                                                 ^\u001b[0m\n\u001b[0;31mSyntaxError\u001b[0m\u001b[0;31m:\u001b[0m EOL while scanning string literal\n"
     ]
    }
   ],
   "source": [
    "caps_directory = '/network/lustre/dtlake01/aramis/datasets/adni/caps/caps_v2021/'\n",
    "path = 'results/models/model_19/'\n",
    "training_df = pd.read_csv(os.path.join(path, 'training_df.csv'))\n",
    "valid_df = pd.read_csv(os.path.join(path, 'valid_df.csv'))\n",
    "\n",
    "train_transforms, all_transforms = get_transforms('image', minmaxnormalization=True, data_augmentation=None)\n",
    "\n",
    "# fetch volumetric data\n",
    "stds, df_add_data = fetch_add_data(training_df)\n",
    "\n",
    "# all_transforms = torchvision.transforms.Compose([])\n",
    "\n",
    "data_train = MRIDatasetImage(caps_directory, training_df, df_add_data=df_add_data,\n",
    "                             all_transformations=all_transforms)  # train_transformations=all_transforms\n",
    "data_valid = MRIDatasetImage(caps_directory, valid_df, df_add_data=df_add_data,\n",
    "                             all_transformations=all_transforms')  # train_transformations=all_transforms,"
   ]
  },
  {
   "cell_type": "code",
   "execution_count": null,
   "id": "e00eba71",
   "metadata": {
    "hidden": true
   },
   "outputs": [],
   "source": [
    "sample = data_train[0]\n",
    "img = sample['image'].float()\n",
    "img.shape"
   ]
  },
  {
   "cell_type": "code",
   "execution_count": null,
   "id": "ddba5e23",
   "metadata": {
    "hidden": true
   },
   "outputs": [],
   "source": []
  },
  {
   "cell_type": "code",
   "execution_count": 8,
   "id": "eb37b136",
   "metadata": {
    "hidden": true
   },
   "outputs": [],
   "source": [
    "# load model\n",
    "saved_data = torch.load(os.path.join(path, 'test_best_model.pt'))\n",
    "\n",
    "model.load_state_dict(saved_data['model_state_dict'])\n",
    "\n",
    "# select one image\n",
    "img = sample['image'].float()\n",
    "\n",
    "mode = 'cuda'\n",
    "if mode == 'cuda':\n",
    "    model = model.cuda()\n",
    "    img = img.cuda()\n",
    "else:\n",
    "    model = model.cpu()\n",
    "    img = img.cpu()"
   ]
  },
  {
   "cell_type": "code",
   "execution_count": 68,
   "id": "ea83d9d8",
   "metadata": {
    "hidden": true
   },
   "outputs": [],
   "source": [
    "ar = np.load('results/models/model_19/attribution_maps/GC/val/age/sub-ADNI002S1018_ses-M00.npy')"
   ]
  },
  {
   "cell_type": "markdown",
   "id": "f6bda604",
   "metadata": {
    "heading_collapsed": true,
    "hidden": true
   },
   "source": [
    "### Loss visualization"
   ]
  },
  {
   "cell_type": "code",
   "execution_count": 3,
   "id": "ed9a8726",
   "metadata": {
    "hidden": true
   },
   "outputs": [],
   "source": [
    "saved_data = torch.load('results/models/model_19/last_model.pt')"
   ]
  },
  {
   "cell_type": "code",
   "execution_count": 4,
   "id": "fba39a1f",
   "metadata": {
    "hidden": true
   },
   "outputs": [
    {
     "data": {
      "text/plain": [
       "dict_keys(['epoch', 'model_state_dict', 'optimizer_state_dict', 'loss', 'best_loss', 'train_metrics', 'val_metrics'])"
      ]
     },
     "execution_count": 4,
     "metadata": {},
     "output_type": "execute_result"
    }
   ],
   "source": [
    "saved_data.keys()"
   ]
  },
  {
   "cell_type": "code",
   "execution_count": 16,
   "id": "2a47e586",
   "metadata": {
    "hidden": true
   },
   "outputs": [],
   "source": [
    "train_metrics = saved_data['val_metrics']"
   ]
  },
  {
   "cell_type": "code",
   "execution_count": 19,
   "id": "1124cbad",
   "metadata": {
    "collapsed": true,
    "hidden": true
   },
   "outputs": [
    {
     "data": {
      "text/plain": [
       "[10.740900039672852,\n",
       " 8.37081527709961,\n",
       " 33.91691589355469,\n",
       " 82.28373718261719,\n",
       " 28.77964973449707,\n",
       " 21.143688201904297,\n",
       " 16.262182235717773,\n",
       " 19.61556625366211,\n",
       " 10.508869171142578,\n",
       " 8.14531135559082,\n",
       " 91.03712463378906,\n",
       " 51.513816833496094,\n",
       " 107.070556640625,\n",
       " 123.70819854736328,\n",
       " 21.909709930419922,\n",
       " 51.294586181640625,\n",
       " 6.470217704772949,\n",
       " 31.632925033569336,\n",
       " 6.6416826248168945,\n",
       " 6.601271629333496,\n",
       " 6.524799346923828,\n",
       " 6.593179702758789,\n",
       " 6.520787715911865,\n",
       " 15.977116584777832,\n",
       " 6.48101806640625,\n",
       " 6.303374290466309,\n",
       " 6.631115913391113,\n",
       " 6.688444137573242,\n",
       " 6.196437835693359,\n",
       " 6.953071594238281,\n",
       " 16.680301666259766,\n",
       " 6.913064956665039,\n",
       " 6.533334732055664,\n",
       " 43.05387878417969,\n",
       " 11.138813972473145,\n",
       " 6.076729774475098,\n",
       " 6.3126044273376465,\n",
       " 36.24996566772461,\n",
       " 52.37376403808594,\n",
       " 28.881973266601562,\n",
       " 5.843369483947754,\n",
       " 5.774815082550049,\n",
       " 5.958796501159668,\n",
       " 5.991237640380859,\n",
       " 13.440272331237793,\n",
       " 5.844188213348389,\n",
       " 6.305954456329346,\n",
       " 5.875237464904785,\n",
       " 5.777097225189209,\n",
       " 5.758735179901123,\n",
       " 5.689347743988037,\n",
       " 5.864001750946045,\n",
       " 5.804633140563965,\n",
       " 5.816695213317871,\n",
       " 6.000572681427002,\n",
       " 5.6244072914123535,\n",
       " 5.511514663696289,\n",
       " 5.761058807373047,\n",
       " 5.776197910308838,\n",
       " 5.7831950187683105,\n",
       " 5.536807060241699,\n",
       " 5.893636703491211,\n",
       " 22.49083137512207,\n",
       " 5.834686756134033,\n",
       " 5.521534442901611]"
      ]
     },
     "execution_count": 19,
     "metadata": {},
     "output_type": "execute_result"
    }
   ],
   "source": [
    "train_metrics['b3_MeanSquaredError']"
   ]
  },
  {
   "cell_type": "code",
   "execution_count": 17,
   "id": "0cd877ad",
   "metadata": {
    "hidden": true
   },
   "outputs": [
    {
     "data": {
      "text/plain": [
       "<AxesSubplot:>"
      ]
     },
     "execution_count": 17,
     "metadata": {},
     "output_type": "execute_result"
    },
    {
     "data": {
      "image/png": "[encoded data removed]",
      "text/plain": [
       "<Figure size 432x288 with 1 Axes>"
      ]
     },
     "metadata": {
      "needs_background": "light"
     },
     "output_type": "display_data"
    }
   ],
   "source": [
    "pd.DataFrame(train_metrics)['b3_MeanSquaredError'].plot()"
   ]
  },
  {
   "cell_type": "markdown",
   "id": "9f7496f0",
   "metadata": {
    "heading_collapsed": true,
    "hidden": true
   },
   "source": [
    "### Guided Backpropagation"
   ]
  },
  {
   "cell_type": "code",
   "execution_count": null,
   "id": "fcbb3ab1",
   "metadata": {
    "hidden": true,
    "scrolled": true
   },
   "outputs": [],
   "source": [
    "GBP = GuidedBackprop(model)\n",
    "attention_maps = GBP.generate_gradients(img)"
   ]
  },
  {
   "cell_type": "code",
   "execution_count": null,
   "id": "55feea14",
   "metadata": {
    "hidden": true
   },
   "outputs": [],
   "source": [
    "visualize_explanations(img.cpu(), attention_maps)"
   ]
  },
  {
   "cell_type": "markdown",
   "id": "79bbf4a1",
   "metadata": {
    "heading_collapsed": true,
    "hidden": true
   },
   "source": [
    "### GradCAM"
   ]
  },
  {
   "cell_type": "code",
   "execution_count": 60,
   "id": "453f2de9",
   "metadata": {
    "hidden": true,
    "scrolled": true
   },
   "outputs": [
    {
     "name": "stdout",
     "output_type": "stream",
     "text": [
      "16.476941347122192\n"
     ]
    }
   ],
   "source": [
    "a0 = time.time()\n",
    "GC = GradCam(model)\n",
    "img = sample['image']\n",
    "attentions = GC.get_explanations(img.cuda(), resize=False, to_cpu=True)\n",
    "print(time.time() - a0)"
   ]
  },
  {
   "cell_type": "code",
   "execution_count": 11,
   "id": "c9c11aca",
   "metadata": {
    "hidden": true,
    "scrolled": false
   },
   "outputs": [
    {
     "name": "stdout",
     "output_type": "stream",
     "text": [
      "Image shape: 169 208 179\n"
     ]
    },
    {
     "data": {
      "application/vnd.jupyter.widget-view+json": {
       "model_id": "46bcbbf78e4e4575b65dcee42c155b29",
       "version_major": 2,
       "version_minor": 0
      },
      "text/plain": [
       "interactive(children=(IntSlider(value=103, description='layer', max=207), IntSlider(value=0, description='chan…"
      ]
     },
     "metadata": {},
     "output_type": "display_data"
    }
   ],
   "source": [
    "# for key in attentions:\n",
    "#     attentions[key] = attentions[key].cpu()\n",
    "visualize_explanations(img, attentions) #, targets='volumes')"
   ]
  },
  {
   "cell_type": "code",
   "execution_count": null,
   "id": "33b69953",
   "metadata": {
    "hidden": true
   },
   "outputs": [],
   "source": [
    "a0 = time.time()\n",
    "GC = GradCam(model.cuda(), target_layer='conv2')\n",
    "img = sample['image'].float()\n",
    "attentions = GC.get_explanations(img.cuda(), resize=True, to_cpu=True)\n",
    "print(time.time() - a0)"
   ]
  },
  {
   "cell_type": "code",
   "execution_count": null,
   "id": "fca37236",
   "metadata": {
    "hidden": true
   },
   "outputs": [],
   "source": [
    "visualize_explanations(img, attentions)"
   ]
  },
  {
   "cell_type": "code",
   "execution_count": null,
   "id": "ab791723",
   "metadata": {
    "hidden": true
   },
   "outputs": [],
   "source": [
    "visualize_explanations(img, attentions, targets='disease')"
   ]
  },
  {
   "cell_type": "markdown",
   "id": "6006ddc6",
   "metadata": {
    "heading_collapsed": true,
    "hidden": true
   },
   "source": [
    "### max-sensitivity"
   ]
  },
  {
   "cell_type": "code",
   "execution_count": null,
   "id": "62552349",
   "metadata": {
    "hidden": true
   },
   "outputs": [],
   "source": [
    "a,b,c,d = [], [], [], []\n",
    "n_max = 500\n",
    "step = 20\n",
    "for k in tqdm(range(1, n_max, step)):\n",
    "    np.random.seed(0)\n",
    "    random.seed(0)\n",
    "    torch.manual_seed(0)\n",
    "    resu = max_sensitivity(img, GC, k)\n",
    "    a.append(resu['branch1'])\n",
    "    b.append(resu['branch2'])\n",
    "    c.append(resu['branch3'])\n",
    "    d.append(resu['branch4'])"
   ]
  },
  {
   "cell_type": "code",
   "execution_count": null,
   "id": "6ca86141",
   "metadata": {
    "hidden": true
   },
   "outputs": [],
   "source": [
    "t = time.time()\n",
    "max_sensitivity(img, GC, N=1)\n",
    "print(time.time() - t)"
   ]
  },
  {
   "cell_type": "code",
   "execution_count": null,
   "id": "2d4ed76d",
   "metadata": {
    "hidden": true,
    "scrolled": true
   },
   "outputs": [],
   "source": [
    "for elem in (a, b, c ,d):\n",
    "    plt.figure()\n",
    "    plt.plot(np.arange(1,n_max,step), elem)"
   ]
  },
  {
   "cell_type": "markdown",
   "id": "8fe7be98",
   "metadata": {
    "heading_collapsed": true,
    "hidden": true
   },
   "source": [
    "### MoRF"
   ]
  },
  {
   "cell_type": "code",
   "execution_count": null,
   "id": "709d3410",
   "metadata": {
    "hidden": true
   },
   "outputs": [],
   "source": [
    "attention = attentions['branch1']"
   ]
  },
  {
   "cell_type": "code",
   "execution_count": null,
   "id": "9ee8e733",
   "metadata": {
    "hidden": true
   },
   "outputs": [],
   "source": [
    "ids = np.unravel_index(np.argsort(-attention, axis=None), attention.shape)"
   ]
  },
  {
   "cell_type": "code",
   "execution_count": null,
   "id": "92c76b26",
   "metadata": {
    "hidden": true
   },
   "outputs": [],
   "source": [
    "batch_size = 16\n",
    "group_size = 20000\n",
    "batch_X = torch.tile(img[None,...], (batch_size,1,1,1,1))\n",
    "for k in range(1, batch_size):\n",
    "    index = k*group_size\n",
    "    batch_X[k,0,ids[0][:index], ids[1][:index], ids[2][:index]] = 0"
   ]
  },
  {
   "cell_type": "code",
   "execution_count": null,
   "id": "3715326f",
   "metadata": {
    "hidden": true
   },
   "outputs": [],
   "source": [
    "model2 = model.cpu()"
   ]
  },
  {
   "cell_type": "code",
   "execution_count": null,
   "id": "d31e5b58",
   "metadata": {
    "hidden": true
   },
   "outputs": [],
   "source": [
    "resu = model2(batch_X)"
   ]
  },
  {
   "cell_type": "code",
   "execution_count": null,
   "id": "5e5a2c89",
   "metadata": {
    "hidden": true
   },
   "outputs": [],
   "source": [
    "img = sample['image'].float()\n",
    "np.prod(img.shape)//8"
   ]
  },
  {
   "cell_type": "code",
   "execution_count": null,
   "id": "cde01433",
   "metadata": {
    "hidden": true
   },
   "outputs": [],
   "source": [
    "def MoRF(X, model, exp_method, K=None, group_size=20000, AUC=False, batch_size=16, to_cuda=False):\n",
    "    \"\"\"\n",
    "    Most relevant first: measures the reliability of an explanation by testing \n",
    "    how fast the output decreases, while we progressively remove information (e.g., perturb pixels) \n",
    "    from the input 𝑥𝑥 (e.g., image), that appears as the most relevant by the explanation.\n",
    "    Args:\n",
    "        X: tensor, brain image, with shape (1, n_channels, depth, height, width). The two first dimensions\n",
    "            are optional.\n",
    "        exp_method: explanation method. Must have a get_explanations(self, input_image) attribute function\n",
    "            which takes an image as input and returns a dictionary mapping branches to explanation maps\n",
    "        K: number of group of relevant pixels to remove\n",
    "        group_size: int, size of a group of pixels to remove\n",
    "        AUC: bool. If True: compute and return area under the curve obtained after removing successively \n",
    "            the K most relevant pixels.\n",
    "        batch_size: int, number of images passed to the model each time\n",
    "            \n",
    "    TO DO:\n",
    "        - add several methods to perturb pixels\n",
    "    \"\"\"\n",
    "    if to_cuda and torch.cuda.is_available():\n",
    "        X = X.cuda()\n",
    "        \n",
    "    if K is None:\n",
    "        K = np.prod(X.shape)//8\n",
    "    \n",
    "    # reshpae X if necessary\n",
    "    while len(X.shape) < 5:\n",
    "        X = X[None,...]\n",
    "    \n",
    "    # original predictions\n",
    "    preds = model(X)\n",
    "    # explanations for original image\n",
    "    expls = exp_method.get_explanations(X, resize=True)\n",
    "    # explanations for new images\n",
    "    new_preds = dict()\n",
    "    \n",
    "    # def update_dict\n",
    "    \n",
    "    for target in expls:\n",
    "        # Indices of the sorted elements of the explanations:\n",
    "        ids = np.unravel_index(np.argsort(-expls[target], axis=None), expls[target].shape)\n",
    "    \n",
    "        if AUC:\n",
    "            # number of \n",
    "            removed_pixels = 0\n",
    "            while removed_pixels < K:\n",
    "                # create batch of images\n",
    "                bs = min(batch_size,(K - removed_pixels)%group_size)\n",
    "                batch_X = torch.tile(X, (bs,1,1,1,1))\n",
    "                for k in range(1, batch_size):\n",
    "                    index = k*group_size\n",
    "                    batch_X[k,0,ids[0][:index], ids[1][:index], ids[2][:index]] = 0\n",
    "                    new_preds[target] = model(batch_X)\n",
    "        else:\n",
    "            # compute MoRF removing the K most relevant pixels\n",
    "            batch_X = X.copy()\n",
    "            batch_X[0,0,ids[0][:K], ids[1][:K], ids[2][:K]]\n",
    "            new_preds[target] = model(batch_X)\n",
    "        "
   ]
  },
  {
   "cell_type": "markdown",
   "id": "0550cff1",
   "metadata": {
    "heading_collapsed": true,
    "hidden": true
   },
   "source": [
    "### Explanations analysis"
   ]
  },
  {
   "cell_type": "code",
   "execution_count": 30,
   "id": "1840f061",
   "metadata": {
    "hidden": true
   },
   "outputs": [],
   "source": [
    "pipeline_name='t1-linear'\n",
    "atlas_id='AAL2'"
   ]
  },
  {
   "cell_type": "code",
   "execution_count": 34,
   "id": "9a783585",
   "metadata": {
    "hidden": true
   },
   "outputs": [],
   "source": [
    "df_summary = pd.read_csv(summary_path, sep='\\t')"
   ]
  },
  {
   "cell_type": "code",
   "execution_count": 35,
   "id": "6d408b4b",
   "metadata": {
    "hidden": true
   },
   "outputs": [
    {
     "data": {
      "text/html": [
       "<div>\n",
       "<style scoped>\n",
       "    .dataframe tbody tr th:only-of-type {\n",
       "        vertical-align: middle;\n",
       "    }\n",
       "\n",
       "    .dataframe tbody tr th {\n",
       "        vertical-align: top;\n",
       "    }\n",
       "\n",
       "    .dataframe thead th {\n",
       "        text-align: right;\n",
       "    }\n",
       "</style>\n",
       "<table border=\"1\" class=\"dataframe\">\n",
       "  <thead>\n",
       "    <tr style=\"text-align: right;\">\n",
       "      <th></th>\n",
       "      <th>pipeline_name</th>\n",
       "      <th>group_id</th>\n",
       "      <th>atlas_id</th>\n",
       "      <th>tracer</th>\n",
       "      <th>pvc</th>\n",
       "      <th>regions_number</th>\n",
       "      <th>first_column_name</th>\n",
       "      <th>last_column_name</th>\n",
       "      <th>first_column_index</th>\n",
       "      <th>last_column_index</th>\n",
       "    </tr>\n",
       "  </thead>\n",
       "  <tbody>\n",
       "    <tr>\n",
       "      <th>0</th>\n",
       "      <td>t1-volume</td>\n",
       "      <td>adni2021</td>\n",
       "      <td>AAL2</td>\n",
       "      <td>NaN</td>\n",
       "      <td>NaN</td>\n",
       "      <td>121</td>\n",
       "      <td>t1-volume_group-adni2021_atlas-AAL2_ROI-Backgr...</td>\n",
       "      <td>t1-volume_group-adni2021_atlas-AAL2_ROI-Vermis...</td>\n",
       "      <td>841</td>\n",
       "      <td>961</td>\n",
       "    </tr>\n",
       "    <tr>\n",
       "      <th>1</th>\n",
       "      <td>t1-volume</td>\n",
       "      <td>adni2021</td>\n",
       "      <td>AICHA</td>\n",
       "      <td>NaN</td>\n",
       "      <td>NaN</td>\n",
       "      <td>385</td>\n",
       "      <td>t1-volume_group-adni2021_atlas-AICHA_ROI-Backg...</td>\n",
       "      <td>t1-volume_group-adni2021_atlas-AICHA_ROI-N_Tha...</td>\n",
       "      <td>962</td>\n",
       "      <td>1346</td>\n",
       "    </tr>\n",
       "    <tr>\n",
       "      <th>2</th>\n",
       "      <td>t1-volume</td>\n",
       "      <td>adni2021</td>\n",
       "      <td>Hammers</td>\n",
       "      <td>NaN</td>\n",
       "      <td>NaN</td>\n",
       "      <td>69</td>\n",
       "      <td>t1-volume_group-adni2021_atlas-Hammers_ROI-Bac...</td>\n",
       "      <td>t1-volume_group-adni2021_atlas-Hammers_ROI-Rig...</td>\n",
       "      <td>1347</td>\n",
       "      <td>1415</td>\n",
       "    </tr>\n",
       "    <tr>\n",
       "      <th>3</th>\n",
       "      <td>t1-volume</td>\n",
       "      <td>adni2021</td>\n",
       "      <td>LPBA40</td>\n",
       "      <td>NaN</td>\n",
       "      <td>NaN</td>\n",
       "      <td>57</td>\n",
       "      <td>t1-volume_group-adni2021_atlas-LPBA40_ROI-Back...</td>\n",
       "      <td>t1-volume_group-adni2021_atlas-LPBA40_ROI-Both...</td>\n",
       "      <td>1416</td>\n",
       "      <td>1472</td>\n",
       "    </tr>\n",
       "    <tr>\n",
       "      <th>4</th>\n",
       "      <td>t1-volume</td>\n",
       "      <td>adni2021</td>\n",
       "      <td>Neuromorphometrics</td>\n",
       "      <td>NaN</td>\n",
       "      <td>NaN</td>\n",
       "      <td>143</td>\n",
       "      <td>t1-volume_group-adni2021_atlas-Neuromorphometr...</td>\n",
       "      <td>t1-volume_group-adni2021_atlas-Neuromorphometr...</td>\n",
       "      <td>1473</td>\n",
       "      <td>1615</td>\n",
       "    </tr>\n",
       "    <tr>\n",
       "      <th>5</th>\n",
       "      <td>pet-volume</td>\n",
       "      <td>adni2021</td>\n",
       "      <td>AAL2</td>\n",
       "      <td>av45</td>\n",
       "      <td>False</td>\n",
       "      <td>121</td>\n",
       "      <td>pet-volume_group-adni2021_atlas-AAL2_acq-av45_...</td>\n",
       "      <td>pet-volume_group-adni2021_atlas-AAL2_acq-av45_...</td>\n",
       "      <td>1616</td>\n",
       "      <td>1736</td>\n",
       "    </tr>\n",
       "    <tr>\n",
       "      <th>6</th>\n",
       "      <td>pet-volume</td>\n",
       "      <td>adni2021</td>\n",
       "      <td>AAL2</td>\n",
       "      <td>av45</td>\n",
       "      <td>True</td>\n",
       "      <td>121</td>\n",
       "      <td>pet-volume_group-adni2021_atlas-AAL2_acq-av45_...</td>\n",
       "      <td>pet-volume_group-adni2021_atlas-AAL2_acq-av45_...</td>\n",
       "      <td>1737</td>\n",
       "      <td>1857</td>\n",
       "    </tr>\n",
       "    <tr>\n",
       "      <th>7</th>\n",
       "      <td>pet-volume</td>\n",
       "      <td>adni2021</td>\n",
       "      <td>AAL2</td>\n",
       "      <td>fdg</td>\n",
       "      <td>False</td>\n",
       "      <td>121</td>\n",
       "      <td>pet-volume_group-adni2021_atlas-AAL2_acq-fdg_R...</td>\n",
       "      <td>pet-volume_group-adni2021_atlas-AAL2_acq-fdg_R...</td>\n",
       "      <td>1858</td>\n",
       "      <td>1978</td>\n",
       "    </tr>\n",
       "    <tr>\n",
       "      <th>8</th>\n",
       "      <td>pet-volume</td>\n",
       "      <td>adni2021</td>\n",
       "      <td>AAL2</td>\n",
       "      <td>fdg</td>\n",
       "      <td>True</td>\n",
       "      <td>121</td>\n",
       "      <td>pet-volume_group-adni2021_atlas-AAL2_acq-fdg_p...</td>\n",
       "      <td>pet-volume_group-adni2021_atlas-AAL2_acq-fdg_p...</td>\n",
       "      <td>1979</td>\n",
       "      <td>2099</td>\n",
       "    </tr>\n",
       "    <tr>\n",
       "      <th>9</th>\n",
       "      <td>pet-volume</td>\n",
       "      <td>adni2021</td>\n",
       "      <td>AICHA</td>\n",
       "      <td>av45</td>\n",
       "      <td>False</td>\n",
       "      <td>385</td>\n",
       "      <td>pet-volume_group-adni2021_atlas-AICHA_acq-av45...</td>\n",
       "      <td>pet-volume_group-adni2021_atlas-AICHA_acq-av45...</td>\n",
       "      <td>2100</td>\n",
       "      <td>2484</td>\n",
       "    </tr>\n",
       "    <tr>\n",
       "      <th>10</th>\n",
       "      <td>pet-volume</td>\n",
       "      <td>adni2021</td>\n",
       "      <td>AICHA</td>\n",
       "      <td>av45</td>\n",
       "      <td>True</td>\n",
       "      <td>385</td>\n",
       "      <td>pet-volume_group-adni2021_atlas-AICHA_acq-av45...</td>\n",
       "      <td>pet-volume_group-adni2021_atlas-AICHA_acq-av45...</td>\n",
       "      <td>2485</td>\n",
       "      <td>2869</td>\n",
       "    </tr>\n",
       "    <tr>\n",
       "      <th>11</th>\n",
       "      <td>pet-volume</td>\n",
       "      <td>adni2021</td>\n",
       "      <td>AICHA</td>\n",
       "      <td>fdg</td>\n",
       "      <td>False</td>\n",
       "      <td>385</td>\n",
       "      <td>pet-volume_group-adni2021_atlas-AICHA_acq-fdg_...</td>\n",
       "      <td>pet-volume_group-adni2021_atlas-AICHA_acq-fdg_...</td>\n",
       "      <td>2870</td>\n",
       "      <td>3254</td>\n",
       "    </tr>\n",
       "    <tr>\n",
       "      <th>12</th>\n",
       "      <td>pet-volume</td>\n",
       "      <td>adni2021</td>\n",
       "      <td>AICHA</td>\n",
       "      <td>fdg</td>\n",
       "      <td>True</td>\n",
       "      <td>385</td>\n",
       "      <td>pet-volume_group-adni2021_atlas-AICHA_acq-fdg_...</td>\n",
       "      <td>pet-volume_group-adni2021_atlas-AICHA_acq-fdg_...</td>\n",
       "      <td>3255</td>\n",
       "      <td>3639</td>\n",
       "    </tr>\n",
       "    <tr>\n",
       "      <th>13</th>\n",
       "      <td>pet-volume</td>\n",
       "      <td>adni2021</td>\n",
       "      <td>Hammers</td>\n",
       "      <td>av45</td>\n",
       "      <td>False</td>\n",
       "      <td>69</td>\n",
       "      <td>pet-volume_group-adni2021_atlas-Hammers_acq-av...</td>\n",
       "      <td>pet-volume_group-adni2021_atlas-Hammers_acq-av...</td>\n",
       "      <td>3640</td>\n",
       "      <td>3708</td>\n",
       "    </tr>\n",
       "    <tr>\n",
       "      <th>14</th>\n",
       "      <td>pet-volume</td>\n",
       "      <td>adni2021</td>\n",
       "      <td>Hammers</td>\n",
       "      <td>av45</td>\n",
       "      <td>True</td>\n",
       "      <td>69</td>\n",
       "      <td>pet-volume_group-adni2021_atlas-Hammers_acq-av...</td>\n",
       "      <td>pet-volume_group-adni2021_atlas-Hammers_acq-av...</td>\n",
       "      <td>3709</td>\n",
       "      <td>3777</td>\n",
       "    </tr>\n",
       "    <tr>\n",
       "      <th>15</th>\n",
       "      <td>pet-volume</td>\n",
       "      <td>adni2021</td>\n",
       "      <td>Hammers</td>\n",
       "      <td>fdg</td>\n",
       "      <td>False</td>\n",
       "      <td>69</td>\n",
       "      <td>pet-volume_group-adni2021_atlas-Hammers_acq-fd...</td>\n",
       "      <td>pet-volume_group-adni2021_atlas-Hammers_acq-fd...</td>\n",
       "      <td>3778</td>\n",
       "      <td>3846</td>\n",
       "    </tr>\n",
       "    <tr>\n",
       "      <th>16</th>\n",
       "      <td>pet-volume</td>\n",
       "      <td>adni2021</td>\n",
       "      <td>Hammers</td>\n",
       "      <td>fdg</td>\n",
       "      <td>True</td>\n",
       "      <td>69</td>\n",
       "      <td>pet-volume_group-adni2021_atlas-Hammers_acq-fd...</td>\n",
       "      <td>pet-volume_group-adni2021_atlas-Hammers_acq-fd...</td>\n",
       "      <td>3847</td>\n",
       "      <td>3915</td>\n",
       "    </tr>\n",
       "    <tr>\n",
       "      <th>17</th>\n",
       "      <td>pet-volume</td>\n",
       "      <td>adni2021</td>\n",
       "      <td>LPBA40</td>\n",
       "      <td>av45</td>\n",
       "      <td>False</td>\n",
       "      <td>57</td>\n",
       "      <td>pet-volume_group-adni2021_atlas-LPBA40_acq-av4...</td>\n",
       "      <td>pet-volume_group-adni2021_atlas-LPBA40_acq-av4...</td>\n",
       "      <td>3916</td>\n",
       "      <td>3972</td>\n",
       "    </tr>\n",
       "    <tr>\n",
       "      <th>18</th>\n",
       "      <td>pet-volume</td>\n",
       "      <td>adni2021</td>\n",
       "      <td>LPBA40</td>\n",
       "      <td>av45</td>\n",
       "      <td>True</td>\n",
       "      <td>57</td>\n",
       "      <td>pet-volume_group-adni2021_atlas-LPBA40_acq-av4...</td>\n",
       "      <td>pet-volume_group-adni2021_atlas-LPBA40_acq-av4...</td>\n",
       "      <td>3973</td>\n",
       "      <td>4029</td>\n",
       "    </tr>\n",
       "    <tr>\n",
       "      <th>19</th>\n",
       "      <td>pet-volume</td>\n",
       "      <td>adni2021</td>\n",
       "      <td>LPBA40</td>\n",
       "      <td>fdg</td>\n",
       "      <td>False</td>\n",
       "      <td>57</td>\n",
       "      <td>pet-volume_group-adni2021_atlas-LPBA40_acq-fdg...</td>\n",
       "      <td>pet-volume_group-adni2021_atlas-LPBA40_acq-fdg...</td>\n",
       "      <td>4030</td>\n",
       "      <td>4086</td>\n",
       "    </tr>\n",
       "    <tr>\n",
       "      <th>20</th>\n",
       "      <td>pet-volume</td>\n",
       "      <td>adni2021</td>\n",
       "      <td>LPBA40</td>\n",
       "      <td>fdg</td>\n",
       "      <td>True</td>\n",
       "      <td>57</td>\n",
       "      <td>pet-volume_group-adni2021_atlas-LPBA40_acq-fdg...</td>\n",
       "      <td>pet-volume_group-adni2021_atlas-LPBA40_acq-fdg...</td>\n",
       "      <td>4087</td>\n",
       "      <td>4143</td>\n",
       "    </tr>\n",
       "    <tr>\n",
       "      <th>21</th>\n",
       "      <td>pet-volume</td>\n",
       "      <td>adni2021</td>\n",
       "      <td>Neuromorphometrics</td>\n",
       "      <td>av45</td>\n",
       "      <td>False</td>\n",
       "      <td>143</td>\n",
       "      <td>pet-volume_group-adni2021_atlas-Neuromorphomet...</td>\n",
       "      <td>pet-volume_group-adni2021_atlas-Neuromorphomet...</td>\n",
       "      <td>4144</td>\n",
       "      <td>4286</td>\n",
       "    </tr>\n",
       "    <tr>\n",
       "      <th>22</th>\n",
       "      <td>pet-volume</td>\n",
       "      <td>adni2021</td>\n",
       "      <td>Neuromorphometrics</td>\n",
       "      <td>av45</td>\n",
       "      <td>True</td>\n",
       "      <td>143</td>\n",
       "      <td>pet-volume_group-adni2021_atlas-Neuromorphomet...</td>\n",
       "      <td>pet-volume_group-adni2021_atlas-Neuromorphomet...</td>\n",
       "      <td>4287</td>\n",
       "      <td>4429</td>\n",
       "    </tr>\n",
       "    <tr>\n",
       "      <th>23</th>\n",
       "      <td>pet-volume</td>\n",
       "      <td>adni2021</td>\n",
       "      <td>Neuromorphometrics</td>\n",
       "      <td>fdg</td>\n",
       "      <td>False</td>\n",
       "      <td>143</td>\n",
       "      <td>pet-volume_group-adni2021_atlas-Neuromorphomet...</td>\n",
       "      <td>pet-volume_group-adni2021_atlas-Neuromorphomet...</td>\n",
       "      <td>4430</td>\n",
       "      <td>4572</td>\n",
       "    </tr>\n",
       "    <tr>\n",
       "      <th>24</th>\n",
       "      <td>pet-volume</td>\n",
       "      <td>adni2021</td>\n",
       "      <td>Neuromorphometrics</td>\n",
       "      <td>fdg</td>\n",
       "      <td>True</td>\n",
       "      <td>143</td>\n",
       "      <td>pet-volume_group-adni2021_atlas-Neuromorphomet...</td>\n",
       "      <td>pet-volume_group-adni2021_atlas-Neuromorphomet...</td>\n",
       "      <td>4573</td>\n",
       "      <td>4715</td>\n",
       "    </tr>\n",
       "    <tr>\n",
       "      <th>25</th>\n",
       "      <td>t1-freesurfer</td>\n",
       "      <td>NaN</td>\n",
       "      <td>aicha</td>\n",
       "      <td>NaN</td>\n",
       "      <td>NaN</td>\n",
       "      <td>345</td>\n",
       "      <td>t1-freesurfer_atlas-aicha_ROI-lh_G_Frontal_Sup...</td>\n",
       "      <td>t1-freesurfer_atlas-aicha_ROI-lh_G_Temporal_Po...</td>\n",
       "      <td>4716</td>\n",
       "      <td>5060</td>\n",
       "    </tr>\n",
       "    <tr>\n",
       "      <th>26</th>\n",
       "      <td>t1-freesurfer</td>\n",
       "      <td>NaN</td>\n",
       "      <td>ba</td>\n",
       "      <td>NaN</td>\n",
       "      <td>NaN</td>\n",
       "      <td>28</td>\n",
       "      <td>t1-freesurfer_atlas-ba_ROI-lh_BA1_exvivo_thick...</td>\n",
       "      <td>t1-freesurfer_atlas-ba_ROI-rh_entorhinal_exviv...</td>\n",
       "      <td>5061</td>\n",
       "      <td>5088</td>\n",
       "    </tr>\n",
       "    <tr>\n",
       "      <th>27</th>\n",
       "      <td>t1-freesurfer</td>\n",
       "      <td>NaN</td>\n",
       "      <td>desikan</td>\n",
       "      <td>NaN</td>\n",
       "      <td>NaN</td>\n",
       "      <td>69</td>\n",
       "      <td>t1-freesurfer_atlas-desikan_ROI-lh_bankssts_th...</td>\n",
       "      <td>t1-freesurfer_atlas-desikan_ROI-Cortex_thickness</td>\n",
       "      <td>5089</td>\n",
       "      <td>5157</td>\n",
       "    </tr>\n",
       "    <tr>\n",
       "      <th>28</th>\n",
       "      <td>t1-freesurfer</td>\n",
       "      <td>NaN</td>\n",
       "      <td>destrieux</td>\n",
       "      <td>NaN</td>\n",
       "      <td>NaN</td>\n",
       "      <td>149</td>\n",
       "      <td>t1-freesurfer_atlas-destrieux_ROI-lh_G&amp;S_front...</td>\n",
       "      <td>t1-freesurfer_atlas-destrieux_ROI-Cortex_thick...</td>\n",
       "      <td>5158</td>\n",
       "      <td>5306</td>\n",
       "    </tr>\n",
       "    <tr>\n",
       "      <th>29</th>\n",
       "      <td>t1-freesurfer</td>\n",
       "      <td>NaN</td>\n",
       "      <td>volumes</td>\n",
       "      <td>NaN</td>\n",
       "      <td>NaN</td>\n",
       "      <td>62</td>\n",
       "      <td>t1-freesurfer_segmentation-volumes_ROI-Left-La...</td>\n",
       "      <td>t1-freesurfer_segmentation-volumes_ROI-Estimat...</td>\n",
       "      <td>5307</td>\n",
       "      <td>5366</td>\n",
       "    </tr>\n",
       "  </tbody>\n",
       "</table>\n",
       "</div>"
      ],
      "text/plain": [
       "    pipeline_name  group_id            atlas_id tracer    pvc  regions_number  \\\n",
       "0       t1-volume  adni2021                AAL2    NaN    NaN             121   \n",
       "1       t1-volume  adni2021               AICHA    NaN    NaN             385   \n",
       "2       t1-volume  adni2021             Hammers    NaN    NaN              69   \n",
       "3       t1-volume  adni2021              LPBA40    NaN    NaN              57   \n",
       "4       t1-volume  adni2021  Neuromorphometrics    NaN    NaN             143   \n",
       "5      pet-volume  adni2021                AAL2   av45  False             121   \n",
       "6      pet-volume  adni2021                AAL2   av45   True             121   \n",
       "7      pet-volume  adni2021                AAL2    fdg  False             121   \n",
       "8      pet-volume  adni2021                AAL2    fdg   True             121   \n",
       "9      pet-volume  adni2021               AICHA   av45  False             385   \n",
       "10     pet-volume  adni2021               AICHA   av45   True             385   \n",
       "11     pet-volume  adni2021               AICHA    fdg  False             385   \n",
       "12     pet-volume  adni2021               AICHA    fdg   True             385   \n",
       "13     pet-volume  adni2021             Hammers   av45  False              69   \n",
       "14     pet-volume  adni2021             Hammers   av45   True              69   \n",
       "15     pet-volume  adni2021             Hammers    fdg  False              69   \n",
       "16     pet-volume  adni2021             Hammers    fdg   True              69   \n",
       "17     pet-volume  adni2021              LPBA40   av45  False              57   \n",
       "18     pet-volume  adni2021              LPBA40   av45   True              57   \n",
       "19     pet-volume  adni2021              LPBA40    fdg  False              57   \n",
       "20     pet-volume  adni2021              LPBA40    fdg   True              57   \n",
       "21     pet-volume  adni2021  Neuromorphometrics   av45  False             143   \n",
       "22     pet-volume  adni2021  Neuromorphometrics   av45   True             143   \n",
       "23     pet-volume  adni2021  Neuromorphometrics    fdg  False             143   \n",
       "24     pet-volume  adni2021  Neuromorphometrics    fdg   True             143   \n",
       "25  t1-freesurfer       NaN               aicha    NaN    NaN             345   \n",
       "26  t1-freesurfer       NaN                  ba    NaN    NaN              28   \n",
       "27  t1-freesurfer       NaN             desikan    NaN    NaN              69   \n",
       "28  t1-freesurfer       NaN           destrieux    NaN    NaN             149   \n",
       "29  t1-freesurfer       NaN             volumes    NaN    NaN              62   \n",
       "\n",
       "                                    first_column_name  \\\n",
       "0   t1-volume_group-adni2021_atlas-AAL2_ROI-Backgr...   \n",
       "1   t1-volume_group-adni2021_atlas-AICHA_ROI-Backg...   \n",
       "2   t1-volume_group-adni2021_atlas-Hammers_ROI-Bac...   \n",
       "3   t1-volume_group-adni2021_atlas-LPBA40_ROI-Back...   \n",
       "4   t1-volume_group-adni2021_atlas-Neuromorphometr...   \n",
       "5   pet-volume_group-adni2021_atlas-AAL2_acq-av45_...   \n",
       "6   pet-volume_group-adni2021_atlas-AAL2_acq-av45_...   \n",
       "7   pet-volume_group-adni2021_atlas-AAL2_acq-fdg_R...   \n",
       "8   pet-volume_group-adni2021_atlas-AAL2_acq-fdg_p...   \n",
       "9   pet-volume_group-adni2021_atlas-AICHA_acq-av45...   \n",
       "10  pet-volume_group-adni2021_atlas-AICHA_acq-av45...   \n",
       "11  pet-volume_group-adni2021_atlas-AICHA_acq-fdg_...   \n",
       "12  pet-volume_group-adni2021_atlas-AICHA_acq-fdg_...   \n",
       "13  pet-volume_group-adni2021_atlas-Hammers_acq-av...   \n",
       "14  pet-volume_group-adni2021_atlas-Hammers_acq-av...   \n",
       "15  pet-volume_group-adni2021_atlas-Hammers_acq-fd...   \n",
       "16  pet-volume_group-adni2021_atlas-Hammers_acq-fd...   \n",
       "17  pet-volume_group-adni2021_atlas-LPBA40_acq-av4...   \n",
       "18  pet-volume_group-adni2021_atlas-LPBA40_acq-av4...   \n",
       "19  pet-volume_group-adni2021_atlas-LPBA40_acq-fdg...   \n",
       "20  pet-volume_group-adni2021_atlas-LPBA40_acq-fdg...   \n",
       "21  pet-volume_group-adni2021_atlas-Neuromorphomet...   \n",
       "22  pet-volume_group-adni2021_atlas-Neuromorphomet...   \n",
       "23  pet-volume_group-adni2021_atlas-Neuromorphomet...   \n",
       "24  pet-volume_group-adni2021_atlas-Neuromorphomet...   \n",
       "25  t1-freesurfer_atlas-aicha_ROI-lh_G_Frontal_Sup...   \n",
       "26  t1-freesurfer_atlas-ba_ROI-lh_BA1_exvivo_thick...   \n",
       "27  t1-freesurfer_atlas-desikan_ROI-lh_bankssts_th...   \n",
       "28  t1-freesurfer_atlas-destrieux_ROI-lh_G&S_front...   \n",
       "29  t1-freesurfer_segmentation-volumes_ROI-Left-La...   \n",
       "\n",
       "                                     last_column_name  first_column_index  \\\n",
       "0   t1-volume_group-adni2021_atlas-AAL2_ROI-Vermis...                 841   \n",
       "1   t1-volume_group-adni2021_atlas-AICHA_ROI-N_Tha...                 962   \n",
       "2   t1-volume_group-adni2021_atlas-Hammers_ROI-Rig...                1347   \n",
       "3   t1-volume_group-adni2021_atlas-LPBA40_ROI-Both...                1416   \n",
       "4   t1-volume_group-adni2021_atlas-Neuromorphometr...                1473   \n",
       "5   pet-volume_group-adni2021_atlas-AAL2_acq-av45_...                1616   \n",
       "6   pet-volume_group-adni2021_atlas-AAL2_acq-av45_...                1737   \n",
       "7   pet-volume_group-adni2021_atlas-AAL2_acq-fdg_R...                1858   \n",
       "8   pet-volume_group-adni2021_atlas-AAL2_acq-fdg_p...                1979   \n",
       "9   pet-volume_group-adni2021_atlas-AICHA_acq-av45...                2100   \n",
       "10  pet-volume_group-adni2021_atlas-AICHA_acq-av45...                2485   \n",
       "11  pet-volume_group-adni2021_atlas-AICHA_acq-fdg_...                2870   \n",
       "12  pet-volume_group-adni2021_atlas-AICHA_acq-fdg_...                3255   \n",
       "13  pet-volume_group-adni2021_atlas-Hammers_acq-av...                3640   \n",
       "14  pet-volume_group-adni2021_atlas-Hammers_acq-av...                3709   \n",
       "15  pet-volume_group-adni2021_atlas-Hammers_acq-fd...                3778   \n",
       "16  pet-volume_group-adni2021_atlas-Hammers_acq-fd...                3847   \n",
       "17  pet-volume_group-adni2021_atlas-LPBA40_acq-av4...                3916   \n",
       "18  pet-volume_group-adni2021_atlas-LPBA40_acq-av4...                3973   \n",
       "19  pet-volume_group-adni2021_atlas-LPBA40_acq-fdg...                4030   \n",
       "20  pet-volume_group-adni2021_atlas-LPBA40_acq-fdg...                4087   \n",
       "21  pet-volume_group-adni2021_atlas-Neuromorphomet...                4144   \n",
       "22  pet-volume_group-adni2021_atlas-Neuromorphomet...                4287   \n",
       "23  pet-volume_group-adni2021_atlas-Neuromorphomet...                4430   \n",
       "24  pet-volume_group-adni2021_atlas-Neuromorphomet...                4573   \n",
       "25  t1-freesurfer_atlas-aicha_ROI-lh_G_Temporal_Po...                4716   \n",
       "26  t1-freesurfer_atlas-ba_ROI-rh_entorhinal_exviv...                5061   \n",
       "27   t1-freesurfer_atlas-desikan_ROI-Cortex_thickness                5089   \n",
       "28  t1-freesurfer_atlas-destrieux_ROI-Cortex_thick...                5158   \n",
       "29  t1-freesurfer_segmentation-volumes_ROI-Estimat...                5307   \n",
       "\n",
       "    last_column_index  \n",
       "0                 961  \n",
       "1                1346  \n",
       "2                1415  \n",
       "3                1472  \n",
       "4                1615  \n",
       "5                1736  \n",
       "6                1857  \n",
       "7                1978  \n",
       "8                2099  \n",
       "9                2484  \n",
       "10               2869  \n",
       "11               3254  \n",
       "12               3639  \n",
       "13               3708  \n",
       "14               3777  \n",
       "15               3846  \n",
       "16               3915  \n",
       "17               3972  \n",
       "18               4029  \n",
       "19               4086  \n",
       "20               4143  \n",
       "21               4286  \n",
       "22               4429  \n",
       "23               4572  \n",
       "24               4715  \n",
       "25               5060  \n",
       "26               5088  \n",
       "27               5157  \n",
       "28               5306  \n",
       "29               5366  "
      ]
     },
     "execution_count": 35,
     "metadata": {},
     "output_type": "execute_result"
    }
   ],
   "source": [
    "df_summary"
   ]
  },
  {
   "cell_type": "code",
   "execution_count": 32,
   "id": "81af04cf",
   "metadata": {
    "hidden": true
   },
   "outputs": [
    {
     "ename": "ValueError",
     "evalue": "can only convert an array of size 1 to a Python scalar",
     "output_type": "error",
     "traceback": [
      "\u001b[0;31m---------------------------------------------------------------------------\u001b[0m",
      "\u001b[0;31mValueError\u001b[0m                                Traceback (most recent call last)",
      "\u001b[0;32m<ipython-input-32-187b59cec342>\u001b[0m in \u001b[0;36m<module>\u001b[0;34m\u001b[0m\n\u001b[1;32m      1\u001b[0m \u001b[0mdf_summary\u001b[0m \u001b[0;34m=\u001b[0m \u001b[0mpd\u001b[0m\u001b[0;34m.\u001b[0m\u001b[0mread_csv\u001b[0m\u001b[0;34m(\u001b[0m\u001b[0msummary_path\u001b[0m\u001b[0;34m,\u001b[0m \u001b[0msep\u001b[0m\u001b[0;34m=\u001b[0m\u001b[0;34m'\\t'\u001b[0m\u001b[0;34m)\u001b[0m\u001b[0;34m\u001b[0m\u001b[0;34m\u001b[0m\u001b[0m\n\u001b[1;32m      2\u001b[0m \u001b[0mdf_summary\u001b[0m \u001b[0;34m=\u001b[0m \u001b[0mdf_summary\u001b[0m\u001b[0;34m[\u001b[0m\u001b[0;34m(\u001b[0m\u001b[0mdf_summary\u001b[0m\u001b[0;34m.\u001b[0m\u001b[0mpipeline_name\u001b[0m \u001b[0;34m==\u001b[0m \u001b[0mpipeline_name\u001b[0m\u001b[0;34m)\u001b[0m \u001b[0;34m&\u001b[0m \u001b[0;34m(\u001b[0m\u001b[0mdf_summary\u001b[0m\u001b[0;34m.\u001b[0m\u001b[0matlas_id\u001b[0m \u001b[0;34m==\u001b[0m \u001b[0matlas_id\u001b[0m\u001b[0;34m)\u001b[0m\u001b[0;34m]\u001b[0m\u001b[0;34m\u001b[0m\u001b[0;34m\u001b[0m\u001b[0m\n\u001b[0;32m----> 3\u001b[0;31m \u001b[0mfirst_column_name\u001b[0m \u001b[0;34m=\u001b[0m \u001b[0mdf_summary\u001b[0m\u001b[0;34m.\u001b[0m\u001b[0mfirst_column_name\u001b[0m\u001b[0;34m.\u001b[0m\u001b[0mitem\u001b[0m\u001b[0;34m(\u001b[0m\u001b[0;34m)\u001b[0m\u001b[0;34m\u001b[0m\u001b[0;34m\u001b[0m\u001b[0m\n\u001b[0m\u001b[1;32m      4\u001b[0m \u001b[0mlast_column_name\u001b[0m \u001b[0;34m=\u001b[0m \u001b[0mdf_summary\u001b[0m\u001b[0;34m.\u001b[0m\u001b[0mlast_column_name\u001b[0m\u001b[0;34m.\u001b[0m\u001b[0mitem\u001b[0m\u001b[0;34m(\u001b[0m\u001b[0;34m)\u001b[0m\u001b[0;34m\u001b[0m\u001b[0;34m\u001b[0m\u001b[0m\n\u001b[1;32m      5\u001b[0m \u001b[0mprint\u001b[0m\u001b[0;34m(\u001b[0m\u001b[0;34m'First column name: '\u001b[0m\u001b[0;34m,\u001b[0m \u001b[0mfirst_column_name\u001b[0m\u001b[0;34m)\u001b[0m\u001b[0;34m\u001b[0m\u001b[0;34m\u001b[0m\u001b[0m\n",
      "\u001b[0;32m/network/lustre/dtlake01/aramis/users/sasha.collin/miniconda3/envs/venv/lib/python3.7/site-packages/pandas/core/base.py\u001b[0m in \u001b[0;36mitem\u001b[0;34m(self)\u001b[0m\n\u001b[1;32m    418\u001b[0m         \u001b[0;32mif\u001b[0m \u001b[0mlen\u001b[0m\u001b[0;34m(\u001b[0m\u001b[0mself\u001b[0m\u001b[0;34m)\u001b[0m \u001b[0;34m==\u001b[0m \u001b[0;36m1\u001b[0m\u001b[0;34m:\u001b[0m\u001b[0;34m\u001b[0m\u001b[0;34m\u001b[0m\u001b[0m\n\u001b[1;32m    419\u001b[0m             \u001b[0;32mreturn\u001b[0m \u001b[0mnext\u001b[0m\u001b[0;34m(\u001b[0m\u001b[0miter\u001b[0m\u001b[0;34m(\u001b[0m\u001b[0mself\u001b[0m\u001b[0;34m)\u001b[0m\u001b[0;34m)\u001b[0m\u001b[0;34m\u001b[0m\u001b[0;34m\u001b[0m\u001b[0m\n\u001b[0;32m--> 420\u001b[0;31m         \u001b[0;32mraise\u001b[0m \u001b[0mValueError\u001b[0m\u001b[0;34m(\u001b[0m\u001b[0;34m\"can only convert an array of size 1 to a Python scalar\"\u001b[0m\u001b[0;34m)\u001b[0m\u001b[0;34m\u001b[0m\u001b[0;34m\u001b[0m\u001b[0m\n\u001b[0m\u001b[1;32m    421\u001b[0m \u001b[0;34m\u001b[0m\u001b[0m\n\u001b[1;32m    422\u001b[0m     \u001b[0;34m@\u001b[0m\u001b[0mproperty\u001b[0m\u001b[0;34m\u001b[0m\u001b[0;34m\u001b[0m\u001b[0m\n",
      "\u001b[0;31mValueError\u001b[0m: can only convert an array of size 1 to a Python scalar"
     ]
    }
   ],
   "source": [
    "df_summary = pd.read_csv(summary_path, sep='\\t')\n",
    "df_summary = df_summary[(df_summary.pipeline_name == pipeline_name) & (df_summary.atlas_id == atlas_id)]\n",
    "first_column_name = df_summary.first_column_name.item()\n",
    "last_column_name = df_summary.last_column_name.item()\n",
    "print('First column name: ', first_column_name)\n",
    "print('Last column name: ', last_column_name)\n",
    "df_data = pd.read_csv(data_path, sep='\\t', nrows=1)\n",
    "first_column_index = df_data.columns.get_loc(first_column_name)\n",
    "last_column_index = df_data.columns.get_loc(last_column_name)\n",
    "\n",
    "# other data to fetch\n",
    "col_names = ['participant_id', 'session_id', 'sex', 'age']\n",
    "add_indexes = [df_data.columns.get_loc(col_name) for col_name in col_names]\n",
    "\n",
    "# compute df_add_data\n",
    "# add 1 to first_column_index to ignore background\n",
    "used_columns = np.hstack([add_indexes, np.arange(first_column_index + 1, last_column_index + 1)]).flatten()\n",
    "df_add_data = pd.read_csv(data_path, sep='\\t', usecols=used_columns).dropna(axis=0, how='any')"
   ]
  },
  {
   "cell_type": "code",
   "execution_count": 9,
   "id": "f93e9735",
   "metadata": {
    "hidden": true
   },
   "outputs": [],
   "source": [
    "from nibabel.testing import data_path\n",
    "import nibabel as nib"
   ]
  },
  {
   "cell_type": "code",
   "execution_count": 10,
   "id": "81dc017e",
   "metadata": {
    "code_folding": [],
    "hidden": true
   },
   "outputs": [],
   "source": [
    "# tu peux en trouver dans le code source de clinica clinica/resources/atlases\n",
    "# Et tu peux prendre par exemple atlas-AAL2_dseg.nii.gz\n",
    "atlas_path = '../clinica/clinica/resources/atlases/atlas-AAL2_dseg.nii.gz'\n",
    "atlas_tsv = pd.read_csv('/network/lustre/dtlake01/aramis/users/sasha.collin/clinica/clinica/resources/atlases/atlas-AAL2_dseg.tsv',\n",
    "                        sep='\\t')\n",
    "atlas = nib.load(atlas_path)"
   ]
  },
  {
   "cell_type": "code",
   "execution_count": 16,
   "id": "d3d48dd9",
   "metadata": {
    "hidden": true
   },
   "outputs": [],
   "source": [
    "atlas_tsv['roi_name_data'] = ['Background'] + [ d.split('ROI-')[1] for d in df_add_data.columns[4:]]"
   ]
  },
  {
   "cell_type": "code",
   "execution_count": 20,
   "id": "b9e97e3c",
   "metadata": {
    "hidden": true
   },
   "outputs": [
    {
     "name": "stdout",
     "output_type": "stream",
     "text": [
      "Cerebelum_Crus1_L test Cerebelum_Crus1_L__intensitytest\n"
     ]
    }
   ],
   "source": [
    "counter = 0\n",
    "for k in range(len(atlas_tsv['roi_name'])):\n",
    "    if atlas_tsv['roi_name'][k] in atlas_tsv['roi_name_data'][k]:\n",
    "        counter += 1\n",
    "    else:\n",
    "        print(atlas_tsv['roi_name'][k]+'test', atlas_tsv['roi_name_data'][k]+'test')"
   ]
  },
  {
   "cell_type": "code",
   "execution_count": 29,
   "id": "1a92a2de",
   "metadata": {
    "hidden": true
   },
   "outputs": [
    {
     "data": {
      "text/html": [
       "<div>\n",
       "<style scoped>\n",
       "    .dataframe tbody tr th:only-of-type {\n",
       "        vertical-align: middle;\n",
       "    }\n",
       "\n",
       "    .dataframe tbody tr th {\n",
       "        vertical-align: top;\n",
       "    }\n",
       "\n",
       "    .dataframe thead th {\n",
       "        text-align: right;\n",
       "    }\n",
       "</style>\n",
       "<table border=\"1\" class=\"dataframe\">\n",
       "  <thead>\n",
       "    <tr style=\"text-align: right;\">\n",
       "      <th></th>\n",
       "      <th>roi_value</th>\n",
       "      <th>roi_name</th>\n",
       "      <th>roi_name_data</th>\n",
       "    </tr>\n",
       "  </thead>\n",
       "  <tbody>\n",
       "    <tr>\n",
       "      <th>0</th>\n",
       "      <td>0</td>\n",
       "      <td>Background</td>\n",
       "      <td>Background</td>\n",
       "    </tr>\n",
       "    <tr>\n",
       "      <th>1</th>\n",
       "      <td>2001</td>\n",
       "      <td>Precentral_L</td>\n",
       "      <td>Precentral_L_intensity</td>\n",
       "    </tr>\n",
       "    <tr>\n",
       "      <th>2</th>\n",
       "      <td>2002</td>\n",
       "      <td>Precentral_R</td>\n",
       "      <td>Precentral_R_intensity</td>\n",
       "    </tr>\n",
       "    <tr>\n",
       "      <th>3</th>\n",
       "      <td>2101</td>\n",
       "      <td>Frontal_Sup_2_L</td>\n",
       "      <td>Frontal_Sup_2_L_intensity</td>\n",
       "    </tr>\n",
       "    <tr>\n",
       "      <th>4</th>\n",
       "      <td>2102</td>\n",
       "      <td>Frontal_Sup_2_R</td>\n",
       "      <td>Frontal_Sup_2_R_intensity</td>\n",
       "    </tr>\n",
       "    <tr>\n",
       "      <th>...</th>\n",
       "      <td>...</td>\n",
       "      <td>...</td>\n",
       "      <td>...</td>\n",
       "    </tr>\n",
       "    <tr>\n",
       "      <th>116</th>\n",
       "      <td>9130</td>\n",
       "      <td>Vermis_6</td>\n",
       "      <td>Vermis_6_intensity</td>\n",
       "    </tr>\n",
       "    <tr>\n",
       "      <th>117</th>\n",
       "      <td>9140</td>\n",
       "      <td>Vermis_7</td>\n",
       "      <td>Vermis_7_intensity</td>\n",
       "    </tr>\n",
       "    <tr>\n",
       "      <th>118</th>\n",
       "      <td>9150</td>\n",
       "      <td>Vermis_8</td>\n",
       "      <td>Vermis_8_intensity</td>\n",
       "    </tr>\n",
       "    <tr>\n",
       "      <th>119</th>\n",
       "      <td>9160</td>\n",
       "      <td>Vermis_9</td>\n",
       "      <td>Vermis_9_intensity</td>\n",
       "    </tr>\n",
       "    <tr>\n",
       "      <th>120</th>\n",
       "      <td>9170</td>\n",
       "      <td>Vermis_10</td>\n",
       "      <td>Vermis_10_intensity</td>\n",
       "    </tr>\n",
       "  </tbody>\n",
       "</table>\n",
       "<p>121 rows × 3 columns</p>\n",
       "</div>"
      ],
      "text/plain": [
       "     roi_value         roi_name              roi_name_data\n",
       "0            0       Background                 Background\n",
       "1         2001     Precentral_L     Precentral_L_intensity\n",
       "2         2002     Precentral_R     Precentral_R_intensity\n",
       "3         2101  Frontal_Sup_2_L  Frontal_Sup_2_L_intensity\n",
       "4         2102  Frontal_Sup_2_R  Frontal_Sup_2_R_intensity\n",
       "..         ...              ...                        ...\n",
       "116       9130         Vermis_6         Vermis_6_intensity\n",
       "117       9140         Vermis_7         Vermis_7_intensity\n",
       "118       9150         Vermis_8         Vermis_8_intensity\n",
       "119       9160         Vermis_9         Vermis_9_intensity\n",
       "120       9170        Vermis_10        Vermis_10_intensity\n",
       "\n",
       "[121 rows x 3 columns]"
      ]
     },
     "execution_count": 29,
     "metadata": {},
     "output_type": "execute_result"
    }
   ],
   "source": [
    "atlas_tsv"
   ]
  },
  {
   "cell_type": "code",
   "execution_count": 21,
   "id": "2e2e10ea",
   "metadata": {
    "hidden": true
   },
   "outputs": [],
   "source": [
    "data = atlas.get_fdata()"
   ]
  },
  {
   "cell_type": "code",
   "execution_count": 29,
   "id": "ee0a87e8",
   "metadata": {
    "hidden": true
   },
   "outputs": [
    {
     "data": {
      "text/plain": [
       "<matplotlib.image.AxesImage at 0x7f688276dfd0>"
      ]
     },
     "execution_count": 29,
     "metadata": {},
     "output_type": "execute_result"
    },
    {
     "data": {
      "image/png": "[encoded data removed]",
      "text/plain": [
       "<Figure size 432x288 with 1 Axes>"
      ]
     },
     "metadata": {
      "needs_background": "light"
     },
     "output_type": "display_data"
    }
   ],
   "source": [
    "plt.imshow(data[50,:,:])"
   ]
  },
  {
   "cell_type": "code",
   "execution_count": 22,
   "id": "126df5b6",
   "metadata": {
    "hidden": true
   },
   "outputs": [
    {
     "data": {
      "text/plain": [
       "(121, 145, 121)"
      ]
     },
     "execution_count": 22,
     "metadata": {},
     "output_type": "execute_result"
    }
   ],
   "source": [
    "data.shape"
   ]
  },
  {
   "cell_type": "code",
   "execution_count": 25,
   "id": "2a1e40a6",
   "metadata": {
    "hidden": true
   },
   "outputs": [
    {
     "data": {
      "text/plain": [
       "121"
      ]
     },
     "execution_count": 25,
     "metadata": {},
     "output_type": "execute_result"
    }
   ],
   "source": [
    "len(np.unique(data))"
   ]
  },
  {
   "cell_type": "code",
   "execution_count": 9,
   "id": "02b4272a",
   "metadata": {
    "hidden": true
   },
   "outputs": [],
   "source": [
    "# average map\n",
    "path = '/network/lustre/dtlake01/aramis/users/sasha.collin/interpretability-dl-ndd/results/models/model_19/attribution_maps/GC/val/age'\n",
    "files = os.listdir(path)"
   ]
  },
  {
   "cell_type": "code",
   "execution_count": 14,
   "id": "fe90822e",
   "metadata": {
    "hidden": true
   },
   "outputs": [],
   "source": [
    "arr = np.load(os.path.join(path, files[0]))"
   ]
  },
  {
   "cell_type": "code",
   "execution_count": 19,
   "id": "0c1246b6",
   "metadata": {
    "hidden": true,
    "scrolled": true
   },
   "outputs": [
    {
     "name": "stdout",
     "output_type": "stream",
     "text": [
      "Image shape: 6 9 7\n"
     ]
    },
    {
     "data": {
      "application/vnd.jupyter.widget-view+json": {
       "model_id": "f7dd58994f704c1c81c52181193446e3",
       "version_major": 2,
       "version_minor": 0
      },
      "text/plain": [
       "interactive(children=(IntSlider(value=4, description='layer', max=8), IntSlider(value=0, description='channel'…"
      ]
     },
     "metadata": {},
     "output_type": "display_data"
    }
   ],
   "source": [
    "visualize_explanations(torch.tensor(arr),{'branch3': arr},targets='age')"
   ]
  },
  {
   "cell_type": "code",
   "execution_count": null,
   "id": "85758bf2",
   "metadata": {
    "hidden": true
   },
   "outputs": [],
   "source": []
  },
  {
   "cell_type": "markdown",
   "id": "1a89dc28",
   "metadata": {
    "heading_collapsed": true
   },
   "source": [
    "# random"
   ]
  },
  {
   "cell_type": "code",
   "execution_count": null,
   "id": "4c8a1bc3",
   "metadata": {
    "hidden": true
   },
   "outputs": [],
   "source": [
    "losses = pd.read_csv('train_losses_3D_2.csv')\n",
    "test_losses = pd.read_csv('val_losses_3D_2.csv')"
   ]
  },
  {
   "cell_type": "code",
   "execution_count": null,
   "id": "65649095",
   "metadata": {
    "hidden": true
   },
   "outputs": [],
   "source": [
    "losses"
   ]
  },
  {
   "cell_type": "code",
   "execution_count": null,
   "id": "7f319ae7",
   "metadata": {
    "hidden": true
   },
   "outputs": [],
   "source": [
    "plt.plot(test_losses[['disease', 'volumes', 'age', 'sex']])\n",
    "plt.ylim([0,150])\n",
    "plt.legend(['disease', 'volumes', 'age', 'sex'])"
   ]
  },
  {
   "cell_type": "code",
   "execution_count": null,
   "id": "8991ce04",
   "metadata": {
    "hidden": true
   },
   "outputs": [],
   "source": [
    "plt.plot(losses[['disease', 'volumes', 'age', 'sex']])\n",
    "plt.legend(['disease', 'volumes', 'age', 'sex'])"
   ]
  },
  {
   "cell_type": "code",
   "execution_count": null,
   "id": "4a09078e",
   "metadata": {
    "hidden": true
   },
   "outputs": [],
   "source": [
    "import torch\n",
    "from pprint import pprint\n",
    "from torchmetrics import MetricCollection, Accuracy, Precision, Recall\n",
    "target = torch.tensor([0, 1, 0, 1, 0, 1, 0, 1])\n",
    "preds = torch.tensor([1, 1, 1, 0, 1, 1, 1, 1])\n",
    "metrics = MetricCollection([Accuracy(),\n",
    "                            Precision(num_classes=2, average='micro'),\n",
    "                            Recall(num_classes=3, average='macro')])\n",
    "metrics(preds, target)"
   ]
  },
  {
   "cell_type": "markdown",
   "id": "c01d00a1",
   "metadata": {
    "heading_collapsed": true
   },
   "source": [
    "# assess gradient norms"
   ]
  },
  {
   "cell_type": "markdown",
   "id": "2e1a728b",
   "metadata": {
    "hidden": true
   },
   "source": [
    "### Old method"
   ]
  },
  {
   "cell_type": "code",
   "execution_count": null,
   "id": "c4813001",
   "metadata": {
    "hidden": true
   },
   "outputs": [],
   "source": [
    "def get_gradient_norms(model): \n",
    "    path = 'results/models/model_{}/log.out'.format(model)\n",
    "    \n",
    "    file = None\n",
    "    with open(path, 'r') as f:\n",
    "        file = f.read()\n",
    "\n",
    "    data = [ s[36:] for s in file.split('\\n') if 'STDOUT' in s]\n",
    "    data = [ s for k,s in enumerate(data[1:]) if data[k] == 'GRADIENT']\n",
    "    data = np.array(data, dtype=np.float32)\n",
    "    return data\n",
    "\n",
    "def compute_metrics(data, name):\n",
    "    dict_ = {'mean': data.mean(),\n",
    "             'min': data.min(),\n",
    "             'max': data.max(), \n",
    "             'std': data.std(), \n",
    "             'median': np.median(data)}\n",
    "    return pd.DataFrame(dict_, index=[name])\n",
    "\n",
    "def get_all_metrics():\n",
    "    df = None\n",
    "    for k in range(4):\n",
    "        data = get_gradient_norms(9+k)\n",
    "        if df is None:\n",
    "            df = compute_metrics(data,BRANCH2TARGET['branch' + str(k+1)])\n",
    "        else:\n",
    "            df = df.combine_first(compute_metrics(data,BRANCH2TARGET['branch' + str(k+1)]))\n",
    "    return df\n",
    "\n",
    "def plot_training(model):\n",
    "    fig, ax = plt.subplots(1,4,figsize=(16,4))\n",
    "    for k, target in enumerate(TARGET2BRANCH):\n",
    "        df_train = pd.read_csv('results/models/model_{}/train_losses.csv'.format(model))\n",
    "        df_val = pd.read_csv('results/models/model_{}/val_losses.csv'.format(model))\n",
    "        ax[k].plot(getattr(df_train, target), label='train')\n",
    "        ax[k].plot(getattr(df_val, target), label='val')\n",
    "        ax[k].set_title(target)\n",
    "    plt.legend()\n",
    "        "
   ]
  },
  {
   "cell_type": "code",
   "execution_count": null,
   "id": "23d09e46",
   "metadata": {
    "hidden": true
   },
   "outputs": [],
   "source": [
    "df = get_all_metrics()\n",
    "df"
   ]
  },
  {
   "cell_type": "code",
   "execution_count": null,
   "id": "7707fc1d",
   "metadata": {
    "hidden": true
   },
   "outputs": [],
   "source": [
    "weights = (1/df['mean']).to_numpy()\n",
    "weights = weights/weights.sum()\n",
    "weights"
   ]
  },
  {
   "cell_type": "code",
   "execution_count": null,
   "id": "d9c4639e",
   "metadata": {
    "hidden": true
   },
   "outputs": [],
   "source": [
    "plot_training(model=5)"
   ]
  },
  {
   "cell_type": "code",
   "execution_count": null,
   "id": "8996e6bb",
   "metadata": {
    "hidden": true,
    "scrolled": true
   },
   "outputs": [],
   "source": [
    "pd.read_csv('results/models/model_{}/val_losses.csv'.format(7))"
   ]
  },
  {
   "cell_type": "markdown",
   "id": "f54c05fa",
   "metadata": {
    "hidden": true
   },
   "source": [
    "### New method"
   ]
  },
  {
   "cell_type": "code",
   "execution_count": 10,
   "id": "abc7020e",
   "metadata": {
    "hidden": true
   },
   "outputs": [],
   "source": [
    "absolute_path = '/network/lustre/dtlake01/aramis/users/sasha.collin/interpretability-dl-ndd/results/models'\n",
    "models = ['model_' + str(k) for k in range(21, 25)]"
   ]
  },
  {
   "cell_type": "code",
   "execution_count": 17,
   "id": "45af67bf",
   "metadata": {
    "hidden": true
   },
   "outputs": [],
   "source": [
    "dfs = [pd.read_csv(os.path.join(absolute_path, model, 'gradient_norms.csv')) for model in models]"
   ]
  },
  {
   "cell_type": "code",
   "execution_count": 22,
   "id": "5ee98b80",
   "metadata": {
    "hidden": true
   },
   "outputs": [],
   "source": [
    "norms = pd.concat(dfs, axis=1)\n",
    "for key in TARGET2BRANCH.keys():\n",
    "    norms.rename(columns={'gradient_norms_' + key: key}, inplace=True)"
   ]
  },
  {
   "cell_type": "code",
   "execution_count": 40,
   "id": "707145dd",
   "metadata": {
    "hidden": true,
    "scrolled": true
   },
   "outputs": [
    {
     "data": {
      "text/html": [
       "<div>\n",
       "<style scoped>\n",
       "    .dataframe tbody tr th:only-of-type {\n",
       "        vertical-align: middle;\n",
       "    }\n",
       "\n",
       "    .dataframe tbody tr th {\n",
       "        vertical-align: top;\n",
       "    }\n",
       "\n",
       "    .dataframe thead th {\n",
       "        text-align: right;\n",
       "    }\n",
       "</style>\n",
       "<table border=\"1\" class=\"dataframe\">\n",
       "  <thead>\n",
       "    <tr style=\"text-align: right;\">\n",
       "      <th></th>\n",
       "      <th>disease</th>\n",
       "      <th>volumes</th>\n",
       "      <th>age</th>\n",
       "      <th>sex</th>\n",
       "    </tr>\n",
       "  </thead>\n",
       "  <tbody>\n",
       "    <tr>\n",
       "      <th>count</th>\n",
       "      <td>3825.000000</td>\n",
       "      <td>3825.000000</td>\n",
       "      <td>3825.000000</td>\n",
       "      <td>3825.000000</td>\n",
       "    </tr>\n",
       "    <tr>\n",
       "      <th>mean</th>\n",
       "      <td>0.575898</td>\n",
       "      <td>0.377908</td>\n",
       "      <td>1.641762</td>\n",
       "      <td>0.627701</td>\n",
       "    </tr>\n",
       "    <tr>\n",
       "      <th>std</th>\n",
       "      <td>1.118715</td>\n",
       "      <td>0.424429</td>\n",
       "      <td>3.013507</td>\n",
       "      <td>1.310157</td>\n",
       "    </tr>\n",
       "    <tr>\n",
       "      <th>min</th>\n",
       "      <td>0.024593</td>\n",
       "      <td>0.057535</td>\n",
       "      <td>0.055305</td>\n",
       "      <td>0.036468</td>\n",
       "    </tr>\n",
       "    <tr>\n",
       "      <th>25%</th>\n",
       "      <td>0.212348</td>\n",
       "      <td>0.184174</td>\n",
       "      <td>0.551047</td>\n",
       "      <td>0.238156</td>\n",
       "    </tr>\n",
       "    <tr>\n",
       "      <th>50%</th>\n",
       "      <td>0.348870</td>\n",
       "      <td>0.268430</td>\n",
       "      <td>0.943717</td>\n",
       "      <td>0.377593</td>\n",
       "    </tr>\n",
       "    <tr>\n",
       "      <th>75%</th>\n",
       "      <td>0.596814</td>\n",
       "      <td>0.412235</td>\n",
       "      <td>1.669958</td>\n",
       "      <td>0.627716</td>\n",
       "    </tr>\n",
       "    <tr>\n",
       "      <th>max</th>\n",
       "      <td>35.884972</td>\n",
       "      <td>8.788523</td>\n",
       "      <td>61.462116</td>\n",
       "      <td>41.516441</td>\n",
       "    </tr>\n",
       "  </tbody>\n",
       "</table>\n",
       "</div>"
      ],
      "text/plain": [
       "           disease      volumes          age          sex\n",
       "count  3825.000000  3825.000000  3825.000000  3825.000000\n",
       "mean      0.575898     0.377908     1.641762     0.627701\n",
       "std       1.118715     0.424429     3.013507     1.310157\n",
       "min       0.024593     0.057535     0.055305     0.036468\n",
       "25%       0.212348     0.184174     0.551047     0.238156\n",
       "50%       0.348870     0.268430     0.943717     0.377593\n",
       "75%       0.596814     0.412235     1.669958     0.627716\n",
       "max      35.884972     8.788523    61.462116    41.516441"
      ]
     },
     "execution_count": 40,
     "metadata": {},
     "output_type": "execute_result"
    }
   ],
   "source": [
    "stats = norms.describe()\n",
    "stats"
   ]
  },
  {
   "cell_type": "code",
   "execution_count": 44,
   "id": "408c6c60",
   "metadata": {
    "hidden": true
   },
   "outputs": [
    {
     "data": {
      "text/plain": [
       "disease    0.575898\n",
       "volumes    0.377908\n",
       "age        1.641762\n",
       "sex        0.627701\n",
       "Name: mean, dtype: float64"
      ]
     },
     "execution_count": 44,
     "metadata": {},
     "output_type": "execute_result"
    }
   ],
   "source": [
    "stats.loc['mean']"
   ]
  },
  {
   "cell_type": "code",
   "execution_count": 48,
   "id": "dbf1d4a6",
   "metadata": {
    "hidden": true
   },
   "outputs": [],
   "source": [
    "avg_norms = norms.rolling(window=153).mean()[0::153]\n",
    "scaled_avg_norms = avg_norms/stats.loc['mean']"
   ]
  },
  {
   "cell_type": "code",
   "execution_count": 49,
   "id": "cba65f33",
   "metadata": {
    "hidden": true
   },
   "outputs": [
    {
     "data": {
      "text/plain": [
       "<AxesSubplot:>"
      ]
     },
     "execution_count": 49,
     "metadata": {},
     "output_type": "execute_result"
    },
    {
     "data": {
      "image/png": "[encoded data removed]",
      "text/plain": [
       "<Figure size 432x288 with 1 Axes>"
      ]
     },
     "metadata": {
      "needs_background": "light"
     },
     "output_type": "display_data"
    }
   ],
   "source": [
    "avg_norms.plot()"
   ]
  },
  {
   "cell_type": "code",
   "execution_count": 50,
   "id": "defb1b2b",
   "metadata": {
    "hidden": true
   },
   "outputs": [
    {
     "data": {
      "text/plain": [
       "<AxesSubplot:>"
      ]
     },
     "execution_count": 50,
     "metadata": {},
     "output_type": "execute_result"
    },
    {
     "data": {
      "image/png": "[encoded data removed]",
      "text/plain": [
       "<Figure size 432x288 with 1 Axes>"
      ]
     },
     "metadata": {
      "needs_background": "light"
     },
     "output_type": "display_data"
    }
   ],
   "source": [
    "scaled_avg_norms.plot()"
   ]
  },
  {
   "cell_type": "code",
   "execution_count": 55,
   "id": "bf03dd43",
   "metadata": {
    "hidden": true
   },
   "outputs": [
    {
     "data": {
      "text/plain": [
       "disease    1.054807\n",
       "volumes    1.607432\n",
       "age        0.370006\n",
       "sex        0.967756\n",
       "Name: mean, dtype: float64"
      ]
     },
     "execution_count": 55,
     "metadata": {},
     "output_type": "execute_result"
    }
   ],
   "source": [
    "scale_parameters = 1/stats.loc['mean']\n",
    "scale_parameters = scale_parameters/scale_parameters.sum()*4\n",
    "scale_parameters"
   ]
  },
  {
   "cell_type": "code",
   "execution_count": null,
   "id": "b273777a",
   "metadata": {
    "hidden": true
   },
   "outputs": [],
   "source": [
    "nohup python training.py -bs 16 -lw 1.054807 1.607432 0.370006 0.967756 -d 0.2 &"
   ]
  },
  {
   "cell_type": "markdown",
   "id": "4eb9f97d",
   "metadata": {
    "heading_collapsed": true
   },
   "source": [
    "# Age investigation"
   ]
  },
  {
   "cell_type": "code",
   "execution_count": null,
   "id": "c05f54fe",
   "metadata": {
    "hidden": true
   },
   "outputs": [],
   "source": [
    "df = pd.concat([training_df, valid_df], ignore_index=True)\n",
    "df2 = df_add_data.merge(df, on =['participant_id', 'session_id'], how='right')"
   ]
  },
  {
   "cell_type": "code",
   "execution_count": null,
   "id": "e22c7107",
   "metadata": {
    "hidden": true
   },
   "outputs": [],
   "source": [
    "plt.title('Age Distribution')\n",
    "plt.hist(training_df.age, label='training')\n",
    "plt.hist(valid_df.age, label='validation')\n",
    "plt.xlabel('age')\n",
    "plt.legend()"
   ]
  },
  {
   "cell_type": "markdown",
   "id": "73fc6dd6",
   "metadata": {},
   "source": [
    "# Results investigation"
   ]
  },
  {
   "cell_type": "code",
   "execution_count": 7,
   "id": "78bcf86c",
   "metadata": {},
   "outputs": [
    {
     "data": {
      "text/html": [
       "<div>\n",
       "<style scoped>\n",
       "    .dataframe tbody tr th:only-of-type {\n",
       "        vertical-align: middle;\n",
       "    }\n",
       "\n",
       "    .dataframe tbody tr th {\n",
       "        vertical-align: top;\n",
       "    }\n",
       "\n",
       "    .dataframe thead th {\n",
       "        text-align: right;\n",
       "    }\n",
       "</style>\n",
       "<table border=\"1\" class=\"dataframe\">\n",
       "  <thead>\n",
       "    <tr style=\"text-align: right;\">\n",
       "      <th></th>\n",
       "      <th>dropout</th>\n",
       "      <th>batch_size</th>\n",
       "      <th>nb_epochs</th>\n",
       "      <th>num_workers</th>\n",
       "      <th>learning_rate</th>\n",
       "      <th>weight_decay</th>\n",
       "      <th>monitor</th>\n",
       "      <th>loss_weights</th>\n",
       "      <th>patience</th>\n",
       "      <th>resume_training</th>\n",
       "      <th>model</th>\n",
       "      <th>config_path</th>\n",
       "      <th>debug</th>\n",
       "      <th>seed</th>\n",
       "      <th>cpu</th>\n",
       "      <th>save_gradient_norm</th>\n",
       "      <th>preprocessing</th>\n",
       "    </tr>\n",
       "  </thead>\n",
       "  <tbody>\n",
       "    <tr>\n",
       "      <th>11</th>\n",
       "      <td>0.2</td>\n",
       "      <td>4</td>\n",
       "      <td>30</td>\n",
       "      <td>8</td>\n",
       "      <td>0.0001</td>\n",
       "      <td>0.0001</td>\n",
       "      <td>train</td>\n",
       "      <td>[1.0, 0.0, 0.0, 0.0]</td>\n",
       "      <td>NaN</td>\n",
       "      <td>NaN</td>\n",
       "      <td>5</td>\n",
       "      <td>NaN</td>\n",
       "      <td>NaN</td>\n",
       "      <td>NaN</td>\n",
       "      <td>NaN</td>\n",
       "      <td>NaN</td>\n",
       "      <td>NaN</td>\n",
       "    </tr>\n",
       "    <tr>\n",
       "      <th>6</th>\n",
       "      <td>0.2</td>\n",
       "      <td>4</td>\n",
       "      <td>30</td>\n",
       "      <td>8</td>\n",
       "      <td>0.0001</td>\n",
       "      <td>0.0001</td>\n",
       "      <td>train</td>\n",
       "      <td>[0.0, 1.0, 0.0, 0.0]</td>\n",
       "      <td>NaN</td>\n",
       "      <td>NaN</td>\n",
       "      <td>6</td>\n",
       "      <td>NaN</td>\n",
       "      <td>NaN</td>\n",
       "      <td>NaN</td>\n",
       "      <td>NaN</td>\n",
       "      <td>NaN</td>\n",
       "      <td>NaN</td>\n",
       "    </tr>\n",
       "    <tr>\n",
       "      <th>19</th>\n",
       "      <td>0.2</td>\n",
       "      <td>4</td>\n",
       "      <td>30</td>\n",
       "      <td>8</td>\n",
       "      <td>0.0001</td>\n",
       "      <td>0.0001</td>\n",
       "      <td>train</td>\n",
       "      <td>[0.0, 0.0, 1.0, 0.0]</td>\n",
       "      <td>NaN</td>\n",
       "      <td>NaN</td>\n",
       "      <td>7</td>\n",
       "      <td>NaN</td>\n",
       "      <td>NaN</td>\n",
       "      <td>NaN</td>\n",
       "      <td>NaN</td>\n",
       "      <td>NaN</td>\n",
       "      <td>NaN</td>\n",
       "    </tr>\n",
       "    <tr>\n",
       "      <th>3</th>\n",
       "      <td>0.2</td>\n",
       "      <td>4</td>\n",
       "      <td>30</td>\n",
       "      <td>8</td>\n",
       "      <td>0.0001</td>\n",
       "      <td>0.0001</td>\n",
       "      <td>train</td>\n",
       "      <td>[0.0, 0.0, 0.0, 1.0]</td>\n",
       "      <td>NaN</td>\n",
       "      <td>NaN</td>\n",
       "      <td>8</td>\n",
       "      <td>NaN</td>\n",
       "      <td>NaN</td>\n",
       "      <td>NaN</td>\n",
       "      <td>NaN</td>\n",
       "      <td>NaN</td>\n",
       "      <td>NaN</td>\n",
       "    </tr>\n",
       "    <tr>\n",
       "      <th>24</th>\n",
       "      <td>0.2</td>\n",
       "      <td>4</td>\n",
       "      <td>8</td>\n",
       "      <td>8</td>\n",
       "      <td>0.0001</td>\n",
       "      <td>0.0001</td>\n",
       "      <td>train</td>\n",
       "      <td>[1.0, 0.0, 0.0, 0.0]</td>\n",
       "      <td>NaN</td>\n",
       "      <td>NaN</td>\n",
       "      <td>9</td>\n",
       "      <td>NaN</td>\n",
       "      <td>NaN</td>\n",
       "      <td>NaN</td>\n",
       "      <td>NaN</td>\n",
       "      <td>NaN</td>\n",
       "      <td>NaN</td>\n",
       "    </tr>\n",
       "    <tr>\n",
       "      <th>20</th>\n",
       "      <td>0.2</td>\n",
       "      <td>4</td>\n",
       "      <td>8</td>\n",
       "      <td>8</td>\n",
       "      <td>0.0001</td>\n",
       "      <td>0.0001</td>\n",
       "      <td>train</td>\n",
       "      <td>[0.0, 1.0, 0.0, 0.0]</td>\n",
       "      <td>NaN</td>\n",
       "      <td>NaN</td>\n",
       "      <td>10</td>\n",
       "      <td>NaN</td>\n",
       "      <td>NaN</td>\n",
       "      <td>NaN</td>\n",
       "      <td>NaN</td>\n",
       "      <td>NaN</td>\n",
       "      <td>NaN</td>\n",
       "    </tr>\n",
       "    <tr>\n",
       "      <th>9</th>\n",
       "      <td>0.2</td>\n",
       "      <td>4</td>\n",
       "      <td>8</td>\n",
       "      <td>8</td>\n",
       "      <td>0.0001</td>\n",
       "      <td>0.0001</td>\n",
       "      <td>train</td>\n",
       "      <td>[0.0, 0.0, 1.0, 0.0]</td>\n",
       "      <td>NaN</td>\n",
       "      <td>NaN</td>\n",
       "      <td>11</td>\n",
       "      <td>NaN</td>\n",
       "      <td>NaN</td>\n",
       "      <td>NaN</td>\n",
       "      <td>NaN</td>\n",
       "      <td>NaN</td>\n",
       "      <td>NaN</td>\n",
       "    </tr>\n",
       "    <tr>\n",
       "      <th>13</th>\n",
       "      <td>0.2</td>\n",
       "      <td>4</td>\n",
       "      <td>8</td>\n",
       "      <td>8</td>\n",
       "      <td>0.0001</td>\n",
       "      <td>0.0001</td>\n",
       "      <td>train</td>\n",
       "      <td>[0.0, 0.0, 0.0, 1.0]</td>\n",
       "      <td>NaN</td>\n",
       "      <td>NaN</td>\n",
       "      <td>12</td>\n",
       "      <td>NaN</td>\n",
       "      <td>NaN</td>\n",
       "      <td>NaN</td>\n",
       "      <td>NaN</td>\n",
       "      <td>NaN</td>\n",
       "      <td>NaN</td>\n",
       "    </tr>\n",
       "    <tr>\n",
       "      <th>17</th>\n",
       "      <td>0.2</td>\n",
       "      <td>4</td>\n",
       "      <td>50</td>\n",
       "      <td>8</td>\n",
       "      <td>0.0001</td>\n",
       "      <td>0.0001</td>\n",
       "      <td>train</td>\n",
       "      <td>[0.299, 0.41, 0.081, 0.21]</td>\n",
       "      <td>25.0</td>\n",
       "      <td>NaN</td>\n",
       "      <td>13</td>\n",
       "      <td>NaN</td>\n",
       "      <td>NaN</td>\n",
       "      <td>NaN</td>\n",
       "      <td>NaN</td>\n",
       "      <td>NaN</td>\n",
       "      <td>NaN</td>\n",
       "    </tr>\n",
       "    <tr>\n",
       "      <th>0</th>\n",
       "      <td>0.3</td>\n",
       "      <td>4</td>\n",
       "      <td>80</td>\n",
       "      <td>8</td>\n",
       "      <td>0.0001</td>\n",
       "      <td>0.0001</td>\n",
       "      <td>train</td>\n",
       "      <td>[0.299, 0.41, 0.081, 0.21]</td>\n",
       "      <td>75.0</td>\n",
       "      <td>False</td>\n",
       "      <td>14</td>\n",
       "      <td>NaN</td>\n",
       "      <td>NaN</td>\n",
       "      <td>NaN</td>\n",
       "      <td>NaN</td>\n",
       "      <td>NaN</td>\n",
       "      <td>NaN</td>\n",
       "    </tr>\n",
       "    <tr>\n",
       "      <th>26</th>\n",
       "      <td>0.3</td>\n",
       "      <td>4</td>\n",
       "      <td>70</td>\n",
       "      <td>8</td>\n",
       "      <td>0.0001</td>\n",
       "      <td>0.0001</td>\n",
       "      <td>train</td>\n",
       "      <td>[1.0, 0.0, 0.0, 0.0]</td>\n",
       "      <td>70.0</td>\n",
       "      <td>False</td>\n",
       "      <td>15</td>\n",
       "      <td>NaN</td>\n",
       "      <td>NaN</td>\n",
       "      <td>NaN</td>\n",
       "      <td>NaN</td>\n",
       "      <td>NaN</td>\n",
       "      <td>NaN</td>\n",
       "    </tr>\n",
       "    <tr>\n",
       "      <th>22</th>\n",
       "      <td>0.3</td>\n",
       "      <td>4</td>\n",
       "      <td>70</td>\n",
       "      <td>8</td>\n",
       "      <td>0.0001</td>\n",
       "      <td>0.0001</td>\n",
       "      <td>train</td>\n",
       "      <td>[0.0, 1.0, 0.0, 0.0]</td>\n",
       "      <td>70.0</td>\n",
       "      <td>False</td>\n",
       "      <td>16</td>\n",
       "      <td>NaN</td>\n",
       "      <td>NaN</td>\n",
       "      <td>NaN</td>\n",
       "      <td>NaN</td>\n",
       "      <td>NaN</td>\n",
       "      <td>NaN</td>\n",
       "    </tr>\n",
       "    <tr>\n",
       "      <th>23</th>\n",
       "      <td>0.3</td>\n",
       "      <td>4</td>\n",
       "      <td>70</td>\n",
       "      <td>8</td>\n",
       "      <td>0.0001</td>\n",
       "      <td>0.0001</td>\n",
       "      <td>train</td>\n",
       "      <td>[0.0, 0.0, 1.0, 0.0]</td>\n",
       "      <td>70.0</td>\n",
       "      <td>False</td>\n",
       "      <td>17</td>\n",
       "      <td>NaN</td>\n",
       "      <td>NaN</td>\n",
       "      <td>NaN</td>\n",
       "      <td>NaN</td>\n",
       "      <td>NaN</td>\n",
       "      <td>NaN</td>\n",
       "    </tr>\n",
       "    <tr>\n",
       "      <th>25</th>\n",
       "      <td>0.3</td>\n",
       "      <td>4</td>\n",
       "      <td>70</td>\n",
       "      <td>8</td>\n",
       "      <td>0.0001</td>\n",
       "      <td>0.0001</td>\n",
       "      <td>train</td>\n",
       "      <td>[0.0, 0.0, 0.0, 1.0]</td>\n",
       "      <td>70.0</td>\n",
       "      <td>False</td>\n",
       "      <td>18</td>\n",
       "      <td>NaN</td>\n",
       "      <td>NaN</td>\n",
       "      <td>NaN</td>\n",
       "      <td>NaN</td>\n",
       "      <td>NaN</td>\n",
       "      <td>NaN</td>\n",
       "    </tr>\n",
       "    <tr>\n",
       "      <th>1</th>\n",
       "      <td>0.3</td>\n",
       "      <td>4</td>\n",
       "      <td>80</td>\n",
       "      <td>8</td>\n",
       "      <td>0.0001</td>\n",
       "      <td>0.0001</td>\n",
       "      <td>train</td>\n",
       "      <td>[0.299, 0.41, 0.081, 0.21]</td>\n",
       "      <td>75.0</td>\n",
       "      <td>False</td>\n",
       "      <td>19</td>\n",
       "      <td>results/models/model_14/commandline.json</td>\n",
       "      <td>False</td>\n",
       "      <td>0.0</td>\n",
       "      <td>False</td>\n",
       "      <td>NaN</td>\n",
       "      <td>NaN</td>\n",
       "    </tr>\n",
       "    <tr>\n",
       "      <th>2</th>\n",
       "      <td>0.3</td>\n",
       "      <td>4</td>\n",
       "      <td>80</td>\n",
       "      <td>8</td>\n",
       "      <td>0.0001</td>\n",
       "      <td>0.0001</td>\n",
       "      <td>train</td>\n",
       "      <td>[0.299, 0.41, 0.081, 0.21]</td>\n",
       "      <td>75.0</td>\n",
       "      <td>False</td>\n",
       "      <td>20</td>\n",
       "      <td>results/models/model_14/commandline.json</td>\n",
       "      <td>False</td>\n",
       "      <td>0.0</td>\n",
       "      <td>False</td>\n",
       "      <td>NaN</td>\n",
       "      <td>NaN</td>\n",
       "    </tr>\n",
       "    <tr>\n",
       "      <th>14</th>\n",
       "      <td>0.3</td>\n",
       "      <td>4</td>\n",
       "      <td>25</td>\n",
       "      <td>8</td>\n",
       "      <td>0.0001</td>\n",
       "      <td>0.0001</td>\n",
       "      <td>train</td>\n",
       "      <td>[1.0, 0.0, 0.0, 0.0]</td>\n",
       "      <td>75.0</td>\n",
       "      <td>False</td>\n",
       "      <td>21</td>\n",
       "      <td>None</td>\n",
       "      <td>False</td>\n",
       "      <td>0.0</td>\n",
       "      <td>False</td>\n",
       "      <td>True</td>\n",
       "      <td>NaN</td>\n",
       "    </tr>\n",
       "    <tr>\n",
       "      <th>18</th>\n",
       "      <td>0.3</td>\n",
       "      <td>4</td>\n",
       "      <td>25</td>\n",
       "      <td>8</td>\n",
       "      <td>0.0001</td>\n",
       "      <td>0.0001</td>\n",
       "      <td>train</td>\n",
       "      <td>[0.0, 1.0, 0.0, 0.0]</td>\n",
       "      <td>75.0</td>\n",
       "      <td>False</td>\n",
       "      <td>22</td>\n",
       "      <td>None</td>\n",
       "      <td>False</td>\n",
       "      <td>0.0</td>\n",
       "      <td>False</td>\n",
       "      <td>True</td>\n",
       "      <td>NaN</td>\n",
       "    </tr>\n",
       "    <tr>\n",
       "      <th>7</th>\n",
       "      <td>0.3</td>\n",
       "      <td>4</td>\n",
       "      <td>25</td>\n",
       "      <td>8</td>\n",
       "      <td>0.0001</td>\n",
       "      <td>0.0001</td>\n",
       "      <td>train</td>\n",
       "      <td>[0.0, 0.0, 1.0, 0.0]</td>\n",
       "      <td>75.0</td>\n",
       "      <td>False</td>\n",
       "      <td>23</td>\n",
       "      <td>None</td>\n",
       "      <td>False</td>\n",
       "      <td>0.0</td>\n",
       "      <td>False</td>\n",
       "      <td>True</td>\n",
       "      <td>NaN</td>\n",
       "    </tr>\n",
       "    <tr>\n",
       "      <th>8</th>\n",
       "      <td>0.3</td>\n",
       "      <td>4</td>\n",
       "      <td>25</td>\n",
       "      <td>8</td>\n",
       "      <td>0.0001</td>\n",
       "      <td>0.0001</td>\n",
       "      <td>train</td>\n",
       "      <td>[0.0, 0.0, 0.0, 1.0]</td>\n",
       "      <td>75.0</td>\n",
       "      <td>False</td>\n",
       "      <td>24</td>\n",
       "      <td>None</td>\n",
       "      <td>False</td>\n",
       "      <td>0.0</td>\n",
       "      <td>False</td>\n",
       "      <td>True</td>\n",
       "      <td>NaN</td>\n",
       "    </tr>\n",
       "    <tr>\n",
       "      <th>4</th>\n",
       "      <td>0.3</td>\n",
       "      <td>4</td>\n",
       "      <td>80</td>\n",
       "      <td>8</td>\n",
       "      <td>0.0001</td>\n",
       "      <td>0.0001</td>\n",
       "      <td>train</td>\n",
       "      <td>[1.0, 1.0, 1.0, 1.0]</td>\n",
       "      <td>75.0</td>\n",
       "      <td>False</td>\n",
       "      <td>25</td>\n",
       "      <td>None</td>\n",
       "      <td>False</td>\n",
       "      <td>0.0</td>\n",
       "      <td>False</td>\n",
       "      <td>False</td>\n",
       "      <td>NaN</td>\n",
       "    </tr>\n",
       "    <tr>\n",
       "      <th>12</th>\n",
       "      <td>0.3</td>\n",
       "      <td>8</td>\n",
       "      <td>80</td>\n",
       "      <td>8</td>\n",
       "      <td>0.0001</td>\n",
       "      <td>0.0001</td>\n",
       "      <td>train</td>\n",
       "      <td>[1.054807, 1.607432, 0.370006, 0.967756]</td>\n",
       "      <td>75.0</td>\n",
       "      <td>False</td>\n",
       "      <td>26</td>\n",
       "      <td>None</td>\n",
       "      <td>False</td>\n",
       "      <td>0.0</td>\n",
       "      <td>False</td>\n",
       "      <td>False</td>\n",
       "      <td>NaN</td>\n",
       "    </tr>\n",
       "    <tr>\n",
       "      <th>5</th>\n",
       "      <td>0.4</td>\n",
       "      <td>16</td>\n",
       "      <td>80</td>\n",
       "      <td>8</td>\n",
       "      <td>0.0001</td>\n",
       "      <td>0.0001</td>\n",
       "      <td>train</td>\n",
       "      <td>[1.054807, 1.607432, 0.370006, 0.967756]</td>\n",
       "      <td>75.0</td>\n",
       "      <td>False</td>\n",
       "      <td>27</td>\n",
       "      <td>None</td>\n",
       "      <td>False</td>\n",
       "      <td>0.0</td>\n",
       "      <td>False</td>\n",
       "      <td>False</td>\n",
       "      <td>NaN</td>\n",
       "    </tr>\n",
       "    <tr>\n",
       "      <th>21</th>\n",
       "      <td>0.5</td>\n",
       "      <td>16</td>\n",
       "      <td>80</td>\n",
       "      <td>8</td>\n",
       "      <td>0.0001</td>\n",
       "      <td>0.0001</td>\n",
       "      <td>train</td>\n",
       "      <td>[1.054807, 1.607432, 0.370006, 0.967756]</td>\n",
       "      <td>75.0</td>\n",
       "      <td>False</td>\n",
       "      <td>28</td>\n",
       "      <td>None</td>\n",
       "      <td>False</td>\n",
       "      <td>0.0</td>\n",
       "      <td>False</td>\n",
       "      <td>False</td>\n",
       "      <td>NaN</td>\n",
       "    </tr>\n",
       "    <tr>\n",
       "      <th>16</th>\n",
       "      <td>0.2</td>\n",
       "      <td>16</td>\n",
       "      <td>80</td>\n",
       "      <td>8</td>\n",
       "      <td>0.0001</td>\n",
       "      <td>0.0001</td>\n",
       "      <td>train</td>\n",
       "      <td>[1.054807, 1.607432, 0.370006, 0.967756]</td>\n",
       "      <td>75.0</td>\n",
       "      <td>False</td>\n",
       "      <td>29</td>\n",
       "      <td>None</td>\n",
       "      <td>False</td>\n",
       "      <td>0.0</td>\n",
       "      <td>False</td>\n",
       "      <td>False</td>\n",
       "      <td>NaN</td>\n",
       "    </tr>\n",
       "    <tr>\n",
       "      <th>10</th>\n",
       "      <td>0.3</td>\n",
       "      <td>16</td>\n",
       "      <td>10</td>\n",
       "      <td>8</td>\n",
       "      <td>0.0001</td>\n",
       "      <td>0.0001</td>\n",
       "      <td>train</td>\n",
       "      <td>[1.0, 1.0, 1.0, 1.0]</td>\n",
       "      <td>75.0</td>\n",
       "      <td>False</td>\n",
       "      <td>30</td>\n",
       "      <td>None</td>\n",
       "      <td>True</td>\n",
       "      <td>0.0</td>\n",
       "      <td>False</td>\n",
       "      <td>False</td>\n",
       "      <td>t1-volume</td>\n",
       "    </tr>\n",
       "    <tr>\n",
       "      <th>15</th>\n",
       "      <td>0.3</td>\n",
       "      <td>4</td>\n",
       "      <td>10</td>\n",
       "      <td>8</td>\n",
       "      <td>0.0001</td>\n",
       "      <td>0.0001</td>\n",
       "      <td>train</td>\n",
       "      <td>[1.0, 1.0, 1.0, 1.0]</td>\n",
       "      <td>75.0</td>\n",
       "      <td>False</td>\n",
       "      <td>31</td>\n",
       "      <td>None</td>\n",
       "      <td>False</td>\n",
       "      <td>0.0</td>\n",
       "      <td>False</td>\n",
       "      <td>False</td>\n",
       "      <td>t1-linear</td>\n",
       "    </tr>\n",
       "  </tbody>\n",
       "</table>\n",
       "</div>"
      ],
      "text/plain": [
       "    dropout  batch_size  nb_epochs  num_workers  learning_rate  weight_decay  \\\n",
       "11      0.2           4         30            8         0.0001        0.0001   \n",
       "6       0.2           4         30            8         0.0001        0.0001   \n",
       "19      0.2           4         30            8         0.0001        0.0001   \n",
       "3       0.2           4         30            8         0.0001        0.0001   \n",
       "24      0.2           4          8            8         0.0001        0.0001   \n",
       "20      0.2           4          8            8         0.0001        0.0001   \n",
       "9       0.2           4          8            8         0.0001        0.0001   \n",
       "13      0.2           4          8            8         0.0001        0.0001   \n",
       "17      0.2           4         50            8         0.0001        0.0001   \n",
       "0       0.3           4         80            8         0.0001        0.0001   \n",
       "26      0.3           4         70            8         0.0001        0.0001   \n",
       "22      0.3           4         70            8         0.0001        0.0001   \n",
       "23      0.3           4         70            8         0.0001        0.0001   \n",
       "25      0.3           4         70            8         0.0001        0.0001   \n",
       "1       0.3           4         80            8         0.0001        0.0001   \n",
       "2       0.3           4         80            8         0.0001        0.0001   \n",
       "14      0.3           4         25            8         0.0001        0.0001   \n",
       "18      0.3           4         25            8         0.0001        0.0001   \n",
       "7       0.3           4         25            8         0.0001        0.0001   \n",
       "8       0.3           4         25            8         0.0001        0.0001   \n",
       "4       0.3           4         80            8         0.0001        0.0001   \n",
       "12      0.3           8         80            8         0.0001        0.0001   \n",
       "5       0.4          16         80            8         0.0001        0.0001   \n",
       "21      0.5          16         80            8         0.0001        0.0001   \n",
       "16      0.2          16         80            8         0.0001        0.0001   \n",
       "10      0.3          16         10            8         0.0001        0.0001   \n",
       "15      0.3           4         10            8         0.0001        0.0001   \n",
       "\n",
       "   monitor                              loss_weights  patience  \\\n",
       "11   train                      [1.0, 0.0, 0.0, 0.0]       NaN   \n",
       "6    train                      [0.0, 1.0, 0.0, 0.0]       NaN   \n",
       "19   train                      [0.0, 0.0, 1.0, 0.0]       NaN   \n",
       "3    train                      [0.0, 0.0, 0.0, 1.0]       NaN   \n",
       "24   train                      [1.0, 0.0, 0.0, 0.0]       NaN   \n",
       "20   train                      [0.0, 1.0, 0.0, 0.0]       NaN   \n",
       "9    train                      [0.0, 0.0, 1.0, 0.0]       NaN   \n",
       "13   train                      [0.0, 0.0, 0.0, 1.0]       NaN   \n",
       "17   train                [0.299, 0.41, 0.081, 0.21]      25.0   \n",
       "0    train                [0.299, 0.41, 0.081, 0.21]      75.0   \n",
       "26   train                      [1.0, 0.0, 0.0, 0.0]      70.0   \n",
       "22   train                      [0.0, 1.0, 0.0, 0.0]      70.0   \n",
       "23   train                      [0.0, 0.0, 1.0, 0.0]      70.0   \n",
       "25   train                      [0.0, 0.0, 0.0, 1.0]      70.0   \n",
       "1    train                [0.299, 0.41, 0.081, 0.21]      75.0   \n",
       "2    train                [0.299, 0.41, 0.081, 0.21]      75.0   \n",
       "14   train                      [1.0, 0.0, 0.0, 0.0]      75.0   \n",
       "18   train                      [0.0, 1.0, 0.0, 0.0]      75.0   \n",
       "7    train                      [0.0, 0.0, 1.0, 0.0]      75.0   \n",
       "8    train                      [0.0, 0.0, 0.0, 1.0]      75.0   \n",
       "4    train                      [1.0, 1.0, 1.0, 1.0]      75.0   \n",
       "12   train  [1.054807, 1.607432, 0.370006, 0.967756]      75.0   \n",
       "5    train  [1.054807, 1.607432, 0.370006, 0.967756]      75.0   \n",
       "21   train  [1.054807, 1.607432, 0.370006, 0.967756]      75.0   \n",
       "16   train  [1.054807, 1.607432, 0.370006, 0.967756]      75.0   \n",
       "10   train                      [1.0, 1.0, 1.0, 1.0]      75.0   \n",
       "15   train                      [1.0, 1.0, 1.0, 1.0]      75.0   \n",
       "\n",
       "   resume_training  model                               config_path  debug  \\\n",
       "11             NaN      5                                       NaN    NaN   \n",
       "6              NaN      6                                       NaN    NaN   \n",
       "19             NaN      7                                       NaN    NaN   \n",
       "3              NaN      8                                       NaN    NaN   \n",
       "24             NaN      9                                       NaN    NaN   \n",
       "20             NaN     10                                       NaN    NaN   \n",
       "9              NaN     11                                       NaN    NaN   \n",
       "13             NaN     12                                       NaN    NaN   \n",
       "17             NaN     13                                       NaN    NaN   \n",
       "0            False     14                                       NaN    NaN   \n",
       "26           False     15                                       NaN    NaN   \n",
       "22           False     16                                       NaN    NaN   \n",
       "23           False     17                                       NaN    NaN   \n",
       "25           False     18                                       NaN    NaN   \n",
       "1            False     19  results/models/model_14/commandline.json  False   \n",
       "2            False     20  results/models/model_14/commandline.json  False   \n",
       "14           False     21                                      None  False   \n",
       "18           False     22                                      None  False   \n",
       "7            False     23                                      None  False   \n",
       "8            False     24                                      None  False   \n",
       "4            False     25                                      None  False   \n",
       "12           False     26                                      None  False   \n",
       "5            False     27                                      None  False   \n",
       "21           False     28                                      None  False   \n",
       "16           False     29                                      None  False   \n",
       "10           False     30                                      None   True   \n",
       "15           False     31                                      None  False   \n",
       "\n",
       "    seed    cpu save_gradient_norm preprocessing  \n",
       "11   NaN    NaN                NaN           NaN  \n",
       "6    NaN    NaN                NaN           NaN  \n",
       "19   NaN    NaN                NaN           NaN  \n",
       "3    NaN    NaN                NaN           NaN  \n",
       "24   NaN    NaN                NaN           NaN  \n",
       "20   NaN    NaN                NaN           NaN  \n",
       "9    NaN    NaN                NaN           NaN  \n",
       "13   NaN    NaN                NaN           NaN  \n",
       "17   NaN    NaN                NaN           NaN  \n",
       "0    NaN    NaN                NaN           NaN  \n",
       "26   NaN    NaN                NaN           NaN  \n",
       "22   NaN    NaN                NaN           NaN  \n",
       "23   NaN    NaN                NaN           NaN  \n",
       "25   NaN    NaN                NaN           NaN  \n",
       "1    0.0  False                NaN           NaN  \n",
       "2    0.0  False                NaN           NaN  \n",
       "14   0.0  False               True           NaN  \n",
       "18   0.0  False               True           NaN  \n",
       "7    0.0  False               True           NaN  \n",
       "8    0.0  False               True           NaN  \n",
       "4    0.0  False              False           NaN  \n",
       "12   0.0  False              False           NaN  \n",
       "5    0.0  False              False           NaN  \n",
       "21   0.0  False              False           NaN  \n",
       "16   0.0  False              False           NaN  \n",
       "10   0.0  False              False     t1-volume  \n",
       "15   0.0  False              False     t1-linear  "
      ]
     },
     "execution_count": 7,
     "metadata": {},
     "output_type": "execute_result"
    }
   ],
   "source": [
    "absolute_path = '/network/lustre/dtlake01/aramis/users/sasha.collin/interpretability-dl-ndd/results/models'\n",
    "models = [ model for model in os.listdir(absolute_path) if 'model' in model ]\n",
    "dicts = []\n",
    "for model in models:\n",
    "    f = open(os.path.join(absolute_path, model, 'commandline.json'),)\n",
    "    d = json.load(f)\n",
    "    d.update({'model': int(model[6:])})\n",
    "    dicts.append(d)\n",
    "parameters = pd.DataFrame(dicts)\n",
    "parameters.sort_values('model')"
   ]
  },
  {
   "cell_type": "code",
   "execution_count": 8,
   "id": "401531dc",
   "metadata": {},
   "outputs": [],
   "source": [
    "val = pd.read_csv('/network/lustre/dtlake01/aramis/users/sasha.collin/interpretability-dl-ndd/results/models/model_31/test_metrics.csv')"
   ]
  },
  {
   "cell_type": "code",
   "execution_count": 9,
   "id": "207657f9",
   "metadata": {},
   "outputs": [
    {
     "data": {
      "text/html": [
       "<div>\n",
       "<style scoped>\n",
       "    .dataframe tbody tr th:only-of-type {\n",
       "        vertical-align: middle;\n",
       "    }\n",
       "\n",
       "    .dataframe tbody tr th {\n",
       "        vertical-align: top;\n",
       "    }\n",
       "\n",
       "    .dataframe thead th {\n",
       "        text-align: right;\n",
       "    }\n",
       "</style>\n",
       "<table border=\"1\" class=\"dataframe\">\n",
       "  <thead>\n",
       "    <tr style=\"text-align: right;\">\n",
       "      <th></th>\n",
       "      <th>disease</th>\n",
       "      <th>volumes</th>\n",
       "      <th>age</th>\n",
       "      <th>sex</th>\n",
       "      <th>test</th>\n",
       "      <th>b1_Accuracy</th>\n",
       "      <th>b1_F1</th>\n",
       "      <th>b1_AUROC</th>\n",
       "      <th>b2_MeanSquaredError</th>\n",
       "      <th>b2_R2Score</th>\n",
       "      <th>b3_MeanSquaredError</th>\n",
       "      <th>b3_R2Score</th>\n",
       "      <th>b4_Accuracy</th>\n",
       "      <th>b4_F1</th>\n",
       "      <th>b4_AUROC</th>\n",
       "    </tr>\n",
       "  </thead>\n",
       "  <tbody>\n",
       "    <tr>\n",
       "      <th>0</th>\n",
       "      <td>0.251576</td>\n",
       "      <td>2.202258</td>\n",
       "      <td>0.261758</td>\n",
       "      <td>0.136581</td>\n",
       "      <td>2.852173</td>\n",
       "      <td>0.651316</td>\n",
       "      <td>0.589147</td>\n",
       "      <td>0.634722</td>\n",
       "      <td>0.164953</td>\n",
       "      <td>-5.625153</td>\n",
       "      <td>7.160395</td>\n",
       "      <td>-0.015081</td>\n",
       "      <td>0.802632</td>\n",
       "      <td>0.823529</td>\n",
       "      <td>0.880693</td>\n",
       "    </tr>\n",
       "    <tr>\n",
       "      <th>1</th>\n",
       "      <td>0.161459</td>\n",
       "      <td>6.281277</td>\n",
       "      <td>0.233695</td>\n",
       "      <td>0.299988</td>\n",
       "      <td>6.976419</td>\n",
       "      <td>0.631579</td>\n",
       "      <td>0.569231</td>\n",
       "      <td>0.681771</td>\n",
       "      <td>0.281525</td>\n",
       "      <td>-18.034725</td>\n",
       "      <td>6.765674</td>\n",
       "      <td>0.093748</td>\n",
       "      <td>0.822368</td>\n",
       "      <td>0.838323</td>\n",
       "      <td>0.861126</td>\n",
       "    </tr>\n",
       "    <tr>\n",
       "      <th>2</th>\n",
       "      <td>0.179463</td>\n",
       "      <td>0.516757</td>\n",
       "      <td>0.241719</td>\n",
       "      <td>0.142229</td>\n",
       "      <td>1.080168</td>\n",
       "      <td>0.684211</td>\n",
       "      <td>0.612903</td>\n",
       "      <td>0.723785</td>\n",
       "      <td>0.081198</td>\n",
       "      <td>-0.542689</td>\n",
       "      <td>6.880851</td>\n",
       "      <td>0.062630</td>\n",
       "      <td>0.802632</td>\n",
       "      <td>0.814815</td>\n",
       "      <td>0.859740</td>\n",
       "    </tr>\n",
       "    <tr>\n",
       "      <th>3</th>\n",
       "      <td>0.151089</td>\n",
       "      <td>0.552473</td>\n",
       "      <td>0.346782</td>\n",
       "      <td>0.116086</td>\n",
       "      <td>1.166429</td>\n",
       "      <td>0.644737</td>\n",
       "      <td>0.564516</td>\n",
       "      <td>0.749132</td>\n",
       "      <td>0.084348</td>\n",
       "      <td>-0.655762</td>\n",
       "      <td>8.241664</td>\n",
       "      <td>-0.344797</td>\n",
       "      <td>0.888158</td>\n",
       "      <td>0.888889</td>\n",
       "      <td>0.926926</td>\n",
       "    </tr>\n",
       "    <tr>\n",
       "      <th>4</th>\n",
       "      <td>0.158588</td>\n",
       "      <td>0.415752</td>\n",
       "      <td>0.271595</td>\n",
       "      <td>0.256838</td>\n",
       "      <td>1.102774</td>\n",
       "      <td>0.684211</td>\n",
       "      <td>0.600000</td>\n",
       "      <td>0.761806</td>\n",
       "      <td>0.072771</td>\n",
       "      <td>-0.252306</td>\n",
       "      <td>7.293696</td>\n",
       "      <td>-0.053228</td>\n",
       "      <td>0.881579</td>\n",
       "      <td>0.886076</td>\n",
       "      <td>0.916017</td>\n",
       "    </tr>\n",
       "    <tr>\n",
       "      <th>5</th>\n",
       "      <td>0.150922</td>\n",
       "      <td>0.464918</td>\n",
       "      <td>0.258770</td>\n",
       "      <td>0.114553</td>\n",
       "      <td>0.989164</td>\n",
       "      <td>0.723684</td>\n",
       "      <td>0.740741</td>\n",
       "      <td>0.777083</td>\n",
       "      <td>0.075512</td>\n",
       "      <td>-0.393211</td>\n",
       "      <td>7.119401</td>\n",
       "      <td>-0.003492</td>\n",
       "      <td>0.875000</td>\n",
       "      <td>0.870748</td>\n",
       "      <td>0.940260</td>\n",
       "    </tr>\n",
       "    <tr>\n",
       "      <th>6</th>\n",
       "      <td>0.144161</td>\n",
       "      <td>1.283318</td>\n",
       "      <td>0.238381</td>\n",
       "      <td>0.108402</td>\n",
       "      <td>1.774262</td>\n",
       "      <td>0.763158</td>\n",
       "      <td>0.742857</td>\n",
       "      <td>0.808333</td>\n",
       "      <td>0.125026</td>\n",
       "      <td>-2.900322</td>\n",
       "      <td>6.833174</td>\n",
       "      <td>0.075575</td>\n",
       "      <td>0.888158</td>\n",
       "      <td>0.893082</td>\n",
       "      <td>0.947879</td>\n",
       "    </tr>\n",
       "    <tr>\n",
       "      <th>7</th>\n",
       "      <td>0.141360</td>\n",
       "      <td>0.541494</td>\n",
       "      <td>0.234417</td>\n",
       "      <td>0.101114</td>\n",
       "      <td>1.018386</td>\n",
       "      <td>0.763158</td>\n",
       "      <td>0.739130</td>\n",
       "      <td>0.808507</td>\n",
       "      <td>0.082138</td>\n",
       "      <td>-0.640391</td>\n",
       "      <td>6.776127</td>\n",
       "      <td>0.090945</td>\n",
       "      <td>0.881579</td>\n",
       "      <td>0.880000</td>\n",
       "      <td>0.955151</td>\n",
       "    </tr>\n",
       "    <tr>\n",
       "      <th>8</th>\n",
       "      <td>0.275700</td>\n",
       "      <td>42.577116</td>\n",
       "      <td>0.277962</td>\n",
       "      <td>0.106245</td>\n",
       "      <td>43.237025</td>\n",
       "      <td>0.710526</td>\n",
       "      <td>0.710526</td>\n",
       "      <td>0.799306</td>\n",
       "      <td>0.708625</td>\n",
       "      <td>-129.014771</td>\n",
       "      <td>7.378692</td>\n",
       "      <td>-0.077918</td>\n",
       "      <td>0.888158</td>\n",
       "      <td>0.887417</td>\n",
       "      <td>0.943896</td>\n",
       "    </tr>\n",
       "    <tr>\n",
       "      <th>9</th>\n",
       "      <td>0.304914</td>\n",
       "      <td>1.631206</td>\n",
       "      <td>0.223657</td>\n",
       "      <td>0.098960</td>\n",
       "      <td>2.258737</td>\n",
       "      <td>0.703947</td>\n",
       "      <td>0.651163</td>\n",
       "      <td>0.782639</td>\n",
       "      <td>0.144100</td>\n",
       "      <td>-3.961177</td>\n",
       "      <td>6.618777</td>\n",
       "      <td>0.132674</td>\n",
       "      <td>0.875000</td>\n",
       "      <td>0.874172</td>\n",
       "      <td>0.953939</td>\n",
       "    </tr>\n",
       "  </tbody>\n",
       "</table>\n",
       "</div>"
      ],
      "text/plain": [
       "    disease    volumes       age       sex       test  b1_Accuracy     b1_F1  \\\n",
       "0  0.251576   2.202258  0.261758  0.136581   2.852173     0.651316  0.589147   \n",
       "1  0.161459   6.281277  0.233695  0.299988   6.976419     0.631579  0.569231   \n",
       "2  0.179463   0.516757  0.241719  0.142229   1.080168     0.684211  0.612903   \n",
       "3  0.151089   0.552473  0.346782  0.116086   1.166429     0.644737  0.564516   \n",
       "4  0.158588   0.415752  0.271595  0.256838   1.102774     0.684211  0.600000   \n",
       "5  0.150922   0.464918  0.258770  0.114553   0.989164     0.723684  0.740741   \n",
       "6  0.144161   1.283318  0.238381  0.108402   1.774262     0.763158  0.742857   \n",
       "7  0.141360   0.541494  0.234417  0.101114   1.018386     0.763158  0.739130   \n",
       "8  0.275700  42.577116  0.277962  0.106245  43.237025     0.710526  0.710526   \n",
       "9  0.304914   1.631206  0.223657  0.098960   2.258737     0.703947  0.651163   \n",
       "\n",
       "   b1_AUROC  b2_MeanSquaredError  b2_R2Score  b3_MeanSquaredError  b3_R2Score  \\\n",
       "0  0.634722             0.164953   -5.625153             7.160395   -0.015081   \n",
       "1  0.681771             0.281525  -18.034725             6.765674    0.093748   \n",
       "2  0.723785             0.081198   -0.542689             6.880851    0.062630   \n",
       "3  0.749132             0.084348   -0.655762             8.241664   -0.344797   \n",
       "4  0.761806             0.072771   -0.252306             7.293696   -0.053228   \n",
       "5  0.777083             0.075512   -0.393211             7.119401   -0.003492   \n",
       "6  0.808333             0.125026   -2.900322             6.833174    0.075575   \n",
       "7  0.808507             0.082138   -0.640391             6.776127    0.090945   \n",
       "8  0.799306             0.708625 -129.014771             7.378692   -0.077918   \n",
       "9  0.782639             0.144100   -3.961177             6.618777    0.132674   \n",
       "\n",
       "   b4_Accuracy     b4_F1  b4_AUROC  \n",
       "0     0.802632  0.823529  0.880693  \n",
       "1     0.822368  0.838323  0.861126  \n",
       "2     0.802632  0.814815  0.859740  \n",
       "3     0.888158  0.888889  0.926926  \n",
       "4     0.881579  0.886076  0.916017  \n",
       "5     0.875000  0.870748  0.940260  \n",
       "6     0.888158  0.893082  0.947879  \n",
       "7     0.881579  0.880000  0.955151  \n",
       "8     0.888158  0.887417  0.943896  \n",
       "9     0.875000  0.874172  0.953939  "
      ]
     },
     "execution_count": 9,
     "metadata": {},
     "output_type": "execute_result"
    }
   ],
   "source": [
    "val"
   ]
  },
  {
   "cell_type": "code",
   "execution_count": 10,
   "id": "f59631c3",
   "metadata": {},
   "outputs": [],
   "source": [
    "val = pd.read_csv('/network/lustre/dtlake01/aramis/users/sasha.collin/interpretability-dl-ndd/results/models/model_30/test_metrics.csv')"
   ]
  },
  {
   "cell_type": "code",
   "execution_count": 11,
   "id": "13bf7143",
   "metadata": {},
   "outputs": [
    {
     "data": {
      "text/html": [
       "<div>\n",
       "<style scoped>\n",
       "    .dataframe tbody tr th:only-of-type {\n",
       "        vertical-align: middle;\n",
       "    }\n",
       "\n",
       "    .dataframe tbody tr th {\n",
       "        vertical-align: top;\n",
       "    }\n",
       "\n",
       "    .dataframe thead th {\n",
       "        text-align: right;\n",
       "    }\n",
       "</style>\n",
       "<table border=\"1\" class=\"dataframe\">\n",
       "  <thead>\n",
       "    <tr style=\"text-align: right;\">\n",
       "      <th></th>\n",
       "      <th>disease</th>\n",
       "      <th>volumes</th>\n",
       "      <th>age</th>\n",
       "      <th>sex</th>\n",
       "      <th>test</th>\n",
       "      <th>b1_Accuracy</th>\n",
       "      <th>b1_F1</th>\n",
       "      <th>b1_AUROC</th>\n",
       "      <th>b2_MeanSquaredError</th>\n",
       "      <th>b2_R2Score</th>\n",
       "      <th>b3_MeanSquaredError</th>\n",
       "      <th>b3_R2Score</th>\n",
       "      <th>b4_Accuracy</th>\n",
       "      <th>b4_F1</th>\n",
       "      <th>b4_AUROC</th>\n",
       "    </tr>\n",
       "  </thead>\n",
       "  <tbody>\n",
       "    <tr>\n",
       "      <th>0</th>\n",
       "      <td>0.115650</td>\n",
       "      <td>0.335699</td>\n",
       "      <td>0.619707</td>\n",
       "      <td>0.116259</td>\n",
       "      <td>1.187314</td>\n",
       "      <td>0.5</td>\n",
       "      <td>0.000000</td>\n",
       "      <td>0.222222</td>\n",
       "      <td>0.062351</td>\n",
       "      <td>-0.423079</td>\n",
       "      <td>6.100988</td>\n",
       "      <td>0.000012</td>\n",
       "      <td>0.5</td>\n",
       "      <td>0.666667</td>\n",
       "      <td>0.777778</td>\n",
       "    </tr>\n",
       "    <tr>\n",
       "      <th>1</th>\n",
       "      <td>0.115557</td>\n",
       "      <td>0.336068</td>\n",
       "      <td>0.619720</td>\n",
       "      <td>0.116225</td>\n",
       "      <td>1.187570</td>\n",
       "      <td>0.5</td>\n",
       "      <td>0.000000</td>\n",
       "      <td>0.333333</td>\n",
       "      <td>0.062399</td>\n",
       "      <td>-0.424793</td>\n",
       "      <td>6.101052</td>\n",
       "      <td>-0.000009</td>\n",
       "      <td>0.5</td>\n",
       "      <td>0.666667</td>\n",
       "      <td>0.222222</td>\n",
       "    </tr>\n",
       "    <tr>\n",
       "      <th>2</th>\n",
       "      <td>0.115540</td>\n",
       "      <td>0.336412</td>\n",
       "      <td>0.619717</td>\n",
       "      <td>0.116246</td>\n",
       "      <td>1.187915</td>\n",
       "      <td>0.5</td>\n",
       "      <td>0.000000</td>\n",
       "      <td>0.222222</td>\n",
       "      <td>0.062431</td>\n",
       "      <td>-0.426700</td>\n",
       "      <td>6.101041</td>\n",
       "      <td>-0.000005</td>\n",
       "      <td>0.5</td>\n",
       "      <td>0.666667</td>\n",
       "      <td>0.333333</td>\n",
       "    </tr>\n",
       "    <tr>\n",
       "      <th>3</th>\n",
       "      <td>0.115546</td>\n",
       "      <td>0.336802</td>\n",
       "      <td>0.619693</td>\n",
       "      <td>0.116245</td>\n",
       "      <td>1.188286</td>\n",
       "      <td>0.5</td>\n",
       "      <td>0.666667</td>\n",
       "      <td>0.333333</td>\n",
       "      <td>0.062471</td>\n",
       "      <td>-0.427670</td>\n",
       "      <td>6.100920</td>\n",
       "      <td>0.000034</td>\n",
       "      <td>0.5</td>\n",
       "      <td>0.666667</td>\n",
       "      <td>0.333333</td>\n",
       "    </tr>\n",
       "    <tr>\n",
       "      <th>4</th>\n",
       "      <td>0.115565</td>\n",
       "      <td>0.336942</td>\n",
       "      <td>0.619615</td>\n",
       "      <td>0.116303</td>\n",
       "      <td>1.188425</td>\n",
       "      <td>0.5</td>\n",
       "      <td>0.666667</td>\n",
       "      <td>0.444444</td>\n",
       "      <td>0.062495</td>\n",
       "      <td>-0.427421</td>\n",
       "      <td>6.100539</td>\n",
       "      <td>0.000159</td>\n",
       "      <td>0.5</td>\n",
       "      <td>0.666667</td>\n",
       "      <td>0.555556</td>\n",
       "    </tr>\n",
       "    <tr>\n",
       "      <th>5</th>\n",
       "      <td>0.115618</td>\n",
       "      <td>0.337357</td>\n",
       "      <td>0.619647</td>\n",
       "      <td>0.116226</td>\n",
       "      <td>1.188848</td>\n",
       "      <td>0.5</td>\n",
       "      <td>0.666667</td>\n",
       "      <td>0.444444</td>\n",
       "      <td>0.062553</td>\n",
       "      <td>-0.427626</td>\n",
       "      <td>6.100694</td>\n",
       "      <td>0.000108</td>\n",
       "      <td>0.5</td>\n",
       "      <td>0.666667</td>\n",
       "      <td>0.444444</td>\n",
       "    </tr>\n",
       "    <tr>\n",
       "      <th>6</th>\n",
       "      <td>0.115710</td>\n",
       "      <td>0.338343</td>\n",
       "      <td>0.619616</td>\n",
       "      <td>0.116238</td>\n",
       "      <td>1.189908</td>\n",
       "      <td>0.5</td>\n",
       "      <td>0.666667</td>\n",
       "      <td>0.777778</td>\n",
       "      <td>0.062674</td>\n",
       "      <td>-0.432767</td>\n",
       "      <td>6.100544</td>\n",
       "      <td>0.000157</td>\n",
       "      <td>0.5</td>\n",
       "      <td>0.666667</td>\n",
       "      <td>0.444444</td>\n",
       "    </tr>\n",
       "    <tr>\n",
       "      <th>7</th>\n",
       "      <td>0.115852</td>\n",
       "      <td>0.339097</td>\n",
       "      <td>0.619562</td>\n",
       "      <td>0.116312</td>\n",
       "      <td>1.190823</td>\n",
       "      <td>0.5</td>\n",
       "      <td>0.666667</td>\n",
       "      <td>0.666667</td>\n",
       "      <td>0.062763</td>\n",
       "      <td>-0.435685</td>\n",
       "      <td>6.100276</td>\n",
       "      <td>0.000245</td>\n",
       "      <td>0.5</td>\n",
       "      <td>0.666667</td>\n",
       "      <td>0.555556</td>\n",
       "    </tr>\n",
       "    <tr>\n",
       "      <th>8</th>\n",
       "      <td>0.116057</td>\n",
       "      <td>0.340040</td>\n",
       "      <td>0.619568</td>\n",
       "      <td>0.116332</td>\n",
       "      <td>1.191998</td>\n",
       "      <td>0.5</td>\n",
       "      <td>0.666667</td>\n",
       "      <td>0.555556</td>\n",
       "      <td>0.062870</td>\n",
       "      <td>-0.440213</td>\n",
       "      <td>6.100306</td>\n",
       "      <td>0.000236</td>\n",
       "      <td>0.5</td>\n",
       "      <td>0.666667</td>\n",
       "      <td>0.444444</td>\n",
       "    </tr>\n",
       "    <tr>\n",
       "      <th>9</th>\n",
       "      <td>0.116219</td>\n",
       "      <td>0.341180</td>\n",
       "      <td>0.619527</td>\n",
       "      <td>0.116358</td>\n",
       "      <td>1.193285</td>\n",
       "      <td>0.5</td>\n",
       "      <td>0.666667</td>\n",
       "      <td>0.777778</td>\n",
       "      <td>0.062993</td>\n",
       "      <td>-0.447521</td>\n",
       "      <td>6.100107</td>\n",
       "      <td>0.000301</td>\n",
       "      <td>0.5</td>\n",
       "      <td>0.666667</td>\n",
       "      <td>0.333333</td>\n",
       "    </tr>\n",
       "  </tbody>\n",
       "</table>\n",
       "</div>"
      ],
      "text/plain": [
       "    disease   volumes       age       sex      test  b1_Accuracy     b1_F1  \\\n",
       "0  0.115650  0.335699  0.619707  0.116259  1.187314          0.5  0.000000   \n",
       "1  0.115557  0.336068  0.619720  0.116225  1.187570          0.5  0.000000   \n",
       "2  0.115540  0.336412  0.619717  0.116246  1.187915          0.5  0.000000   \n",
       "3  0.115546  0.336802  0.619693  0.116245  1.188286          0.5  0.666667   \n",
       "4  0.115565  0.336942  0.619615  0.116303  1.188425          0.5  0.666667   \n",
       "5  0.115618  0.337357  0.619647  0.116226  1.188848          0.5  0.666667   \n",
       "6  0.115710  0.338343  0.619616  0.116238  1.189908          0.5  0.666667   \n",
       "7  0.115852  0.339097  0.619562  0.116312  1.190823          0.5  0.666667   \n",
       "8  0.116057  0.340040  0.619568  0.116332  1.191998          0.5  0.666667   \n",
       "9  0.116219  0.341180  0.619527  0.116358  1.193285          0.5  0.666667   \n",
       "\n",
       "   b1_AUROC  b2_MeanSquaredError  b2_R2Score  b3_MeanSquaredError  b3_R2Score  \\\n",
       "0  0.222222             0.062351   -0.423079             6.100988    0.000012   \n",
       "1  0.333333             0.062399   -0.424793             6.101052   -0.000009   \n",
       "2  0.222222             0.062431   -0.426700             6.101041   -0.000005   \n",
       "3  0.333333             0.062471   -0.427670             6.100920    0.000034   \n",
       "4  0.444444             0.062495   -0.427421             6.100539    0.000159   \n",
       "5  0.444444             0.062553   -0.427626             6.100694    0.000108   \n",
       "6  0.777778             0.062674   -0.432767             6.100544    0.000157   \n",
       "7  0.666667             0.062763   -0.435685             6.100276    0.000245   \n",
       "8  0.555556             0.062870   -0.440213             6.100306    0.000236   \n",
       "9  0.777778             0.062993   -0.447521             6.100107    0.000301   \n",
       "\n",
       "   b4_Accuracy     b4_F1  b4_AUROC  \n",
       "0          0.5  0.666667  0.777778  \n",
       "1          0.5  0.666667  0.222222  \n",
       "2          0.5  0.666667  0.333333  \n",
       "3          0.5  0.666667  0.333333  \n",
       "4          0.5  0.666667  0.555556  \n",
       "5          0.5  0.666667  0.444444  \n",
       "6          0.5  0.666667  0.444444  \n",
       "7          0.5  0.666667  0.555556  \n",
       "8          0.5  0.666667  0.444444  \n",
       "9          0.5  0.666667  0.333333  "
      ]
     },
     "execution_count": 11,
     "metadata": {},
     "output_type": "execute_result"
    }
   ],
   "source": [
    "val"
   ]
  },
  {
   "cell_type": "code",
   "execution_count": 16,
   "id": "bd349f63",
   "metadata": {},
   "outputs": [],
   "source": [
    "saved_data = torch.load(os.path.join('/network/lustre/dtlake01/aramis/users/sasha.collin/interpretability-dl-ndd/results/models/model_32', 'last_model.pt'))"
   ]
  },
  {
   "cell_type": "code",
   "execution_count": 17,
   "id": "7f09d7b0",
   "metadata": {},
   "outputs": [
    {
     "data": {
      "text/plain": [
       "dict_keys(['epoch', 'model_state_dict', 'optimizer_state_dict', 'loss', 'best_loss', 'train_metrics', 'val_metrics'])"
      ]
     },
     "execution_count": 17,
     "metadata": {},
     "output_type": "execute_result"
    }
   ],
   "source": [
    "saved_data.keys()"
   ]
  },
  {
   "cell_type": "code",
   "execution_count": 20,
   "id": "aecdde6c",
   "metadata": {},
   "outputs": [
    {
     "data": {
      "text/html": [
       "<div>\n",
       "<style scoped>\n",
       "    .dataframe tbody tr th:only-of-type {\n",
       "        vertical-align: middle;\n",
       "    }\n",
       "\n",
       "    .dataframe tbody tr th {\n",
       "        vertical-align: top;\n",
       "    }\n",
       "\n",
       "    .dataframe thead th {\n",
       "        text-align: right;\n",
       "    }\n",
       "</style>\n",
       "<table border=\"1\" class=\"dataframe\">\n",
       "  <thead>\n",
       "    <tr style=\"text-align: right;\">\n",
       "      <th></th>\n",
       "      <th>disease</th>\n",
       "      <th>volumes</th>\n",
       "      <th>age</th>\n",
       "      <th>sex</th>\n",
       "      <th>train</th>\n",
       "      <th>b1_Accuracy</th>\n",
       "      <th>b1_F1</th>\n",
       "      <th>b1_AUROC</th>\n",
       "      <th>b2_MeanSquaredError</th>\n",
       "      <th>b2_R2Score</th>\n",
       "      <th>b3_MeanSquaredError</th>\n",
       "      <th>b3_R2Score</th>\n",
       "      <th>b4_Accuracy</th>\n",
       "      <th>b4_F1</th>\n",
       "      <th>b4_AUROC</th>\n",
       "    </tr>\n",
       "  </thead>\n",
       "  <tbody>\n",
       "    <tr>\n",
       "      <th>0</th>\n",
       "      <td>0.043419</td>\n",
       "      <td>0.092993</td>\n",
       "      <td>0.094823</td>\n",
       "      <td>0.047520</td>\n",
       "      <td>0.278754</td>\n",
       "      <td>0.593137</td>\n",
       "      <td>0.563923</td>\n",
       "      <td>0.615410</td>\n",
       "      <td>0.067782</td>\n",
       "      <td>-0.453705</td>\n",
       "      <td>8.575830</td>\n",
       "      <td>-0.504351</td>\n",
       "      <td>0.506536</td>\n",
       "      <td>0.563584</td>\n",
       "      <td>0.528633</td>\n",
       "    </tr>\n",
       "    <tr>\n",
       "      <th>1</th>\n",
       "      <td>0.039363</td>\n",
       "      <td>0.089581</td>\n",
       "      <td>0.074984</td>\n",
       "      <td>0.044675</td>\n",
       "      <td>0.248603</td>\n",
       "      <td>0.658497</td>\n",
       "      <td>0.633976</td>\n",
       "      <td>0.722435</td>\n",
       "      <td>0.066519</td>\n",
       "      <td>-0.402482</td>\n",
       "      <td>7.531034</td>\n",
       "      <td>-0.160128</td>\n",
       "      <td>0.576797</td>\n",
       "      <td>0.620791</td>\n",
       "      <td>0.608579</td>\n",
       "    </tr>\n",
       "    <tr>\n",
       "      <th>2</th>\n",
       "      <td>0.036092</td>\n",
       "      <td>0.084678</td>\n",
       "      <td>0.076618</td>\n",
       "      <td>0.043322</td>\n",
       "      <td>0.240710</td>\n",
       "      <td>0.694444</td>\n",
       "      <td>0.675910</td>\n",
       "      <td>0.776655</td>\n",
       "      <td>0.064898</td>\n",
       "      <td>-0.334719</td>\n",
       "      <td>7.619940</td>\n",
       "      <td>-0.187681</td>\n",
       "      <td>0.583333</td>\n",
       "      <td>0.625551</td>\n",
       "      <td>0.625897</td>\n",
       "    </tr>\n",
       "    <tr>\n",
       "      <th>3</th>\n",
       "      <td>0.034350</td>\n",
       "      <td>0.080002</td>\n",
       "      <td>0.067963</td>\n",
       "      <td>0.041057</td>\n",
       "      <td>0.223372</td>\n",
       "      <td>0.723856</td>\n",
       "      <td>0.707106</td>\n",
       "      <td>0.818751</td>\n",
       "      <td>0.063089</td>\n",
       "      <td>-0.257589</td>\n",
       "      <td>7.251578</td>\n",
       "      <td>-0.075627</td>\n",
       "      <td>0.640523</td>\n",
       "      <td>0.672619</td>\n",
       "      <td>0.687917</td>\n",
       "    </tr>\n",
       "    <tr>\n",
       "      <th>4</th>\n",
       "      <td>0.030972</td>\n",
       "      <td>0.074069</td>\n",
       "      <td>0.059506</td>\n",
       "      <td>0.039722</td>\n",
       "      <td>0.204268</td>\n",
       "      <td>0.771242</td>\n",
       "      <td>0.753521</td>\n",
       "      <td>0.870615</td>\n",
       "      <td>0.060803</td>\n",
       "      <td>-0.166995</td>\n",
       "      <td>6.721174</td>\n",
       "      <td>0.075968</td>\n",
       "      <td>0.665033</td>\n",
       "      <td>0.699854</td>\n",
       "      <td>0.735331</td>\n",
       "    </tr>\n",
       "    <tr>\n",
       "      <th>5</th>\n",
       "      <td>0.029764</td>\n",
       "      <td>0.070221</td>\n",
       "      <td>0.055104</td>\n",
       "      <td>0.036553</td>\n",
       "      <td>0.191642</td>\n",
       "      <td>0.787582</td>\n",
       "      <td>0.774306</td>\n",
       "      <td>0.875648</td>\n",
       "      <td>0.059177</td>\n",
       "      <td>-0.108406</td>\n",
       "      <td>6.499989</td>\n",
       "      <td>0.135785</td>\n",
       "      <td>0.707516</td>\n",
       "      <td>0.737151</td>\n",
       "      <td>0.785438</td>\n",
       "    </tr>\n",
       "    <tr>\n",
       "      <th>6</th>\n",
       "      <td>0.027950</td>\n",
       "      <td>0.065992</td>\n",
       "      <td>0.043491</td>\n",
       "      <td>0.034334</td>\n",
       "      <td>0.171767</td>\n",
       "      <td>0.818627</td>\n",
       "      <td>0.810903</td>\n",
       "      <td>0.909895</td>\n",
       "      <td>0.057497</td>\n",
       "      <td>-0.040868</td>\n",
       "      <td>5.713859</td>\n",
       "      <td>0.332186</td>\n",
       "      <td>0.730392</td>\n",
       "      <td>0.750378</td>\n",
       "      <td>0.831303</td>\n",
       "    </tr>\n",
       "    <tr>\n",
       "      <th>7</th>\n",
       "      <td>0.026167</td>\n",
       "      <td>0.063987</td>\n",
       "      <td>0.045161</td>\n",
       "      <td>0.032329</td>\n",
       "      <td>0.167645</td>\n",
       "      <td>0.857843</td>\n",
       "      <td>0.849741</td>\n",
       "      <td>0.932855</td>\n",
       "      <td>0.056486</td>\n",
       "      <td>-0.007051</td>\n",
       "      <td>5.933401</td>\n",
       "      <td>0.279881</td>\n",
       "      <td>0.764706</td>\n",
       "      <td>0.779141</td>\n",
       "      <td>0.866464</td>\n",
       "    </tr>\n",
       "  </tbody>\n",
       "</table>\n",
       "</div>"
      ],
      "text/plain": [
       "    disease   volumes       age       sex     train  b1_Accuracy     b1_F1  \\\n",
       "0  0.043419  0.092993  0.094823  0.047520  0.278754     0.593137  0.563923   \n",
       "1  0.039363  0.089581  0.074984  0.044675  0.248603     0.658497  0.633976   \n",
       "2  0.036092  0.084678  0.076618  0.043322  0.240710     0.694444  0.675910   \n",
       "3  0.034350  0.080002  0.067963  0.041057  0.223372     0.723856  0.707106   \n",
       "4  0.030972  0.074069  0.059506  0.039722  0.204268     0.771242  0.753521   \n",
       "5  0.029764  0.070221  0.055104  0.036553  0.191642     0.787582  0.774306   \n",
       "6  0.027950  0.065992  0.043491  0.034334  0.171767     0.818627  0.810903   \n",
       "7  0.026167  0.063987  0.045161  0.032329  0.167645     0.857843  0.849741   \n",
       "\n",
       "   b1_AUROC  b2_MeanSquaredError  b2_R2Score  b3_MeanSquaredError  b3_R2Score  \\\n",
       "0  0.615410             0.067782   -0.453705             8.575830   -0.504351   \n",
       "1  0.722435             0.066519   -0.402482             7.531034   -0.160128   \n",
       "2  0.776655             0.064898   -0.334719             7.619940   -0.187681   \n",
       "3  0.818751             0.063089   -0.257589             7.251578   -0.075627   \n",
       "4  0.870615             0.060803   -0.166995             6.721174    0.075968   \n",
       "5  0.875648             0.059177   -0.108406             6.499989    0.135785   \n",
       "6  0.909895             0.057497   -0.040868             5.713859    0.332186   \n",
       "7  0.932855             0.056486   -0.007051             5.933401    0.279881   \n",
       "\n",
       "   b4_Accuracy     b4_F1  b4_AUROC  \n",
       "0     0.506536  0.563584  0.528633  \n",
       "1     0.576797  0.620791  0.608579  \n",
       "2     0.583333  0.625551  0.625897  \n",
       "3     0.640523  0.672619  0.687917  \n",
       "4     0.665033  0.699854  0.735331  \n",
       "5     0.707516  0.737151  0.785438  \n",
       "6     0.730392  0.750378  0.831303  \n",
       "7     0.764706  0.779141  0.866464  "
      ]
     },
     "execution_count": 20,
     "metadata": {},
     "output_type": "execute_result"
    }
   ],
   "source": [
    "pd.DataFrame(saved_data['train_metrics'])"
   ]
  },
  {
   "cell_type": "markdown",
   "id": "99854d6c",
   "metadata": {
    "heading_collapsed": true
   },
   "source": [
    "# RANDOM"
   ]
  },
  {
   "cell_type": "markdown",
   "id": "ed4cbb3a",
   "metadata": {
    "hidden": true
   },
   "source": [
    "I am using working with the file '/network/lustre/dtlake01/aramis/datasets/adni/caps/caps_v2021.tsv' and using the 't1-volume' pipeline and the atlas 'AAL2'.\n",
    "6267 samples (i.e. couples (participant_id, session_id)) do not have any volume value (i.e. NaN). 1 sample has no sex value and 1178 samples have no age values.\n"
   ]
  }
 ],
 "metadata": {
  "kernelspec": {
   "display_name": "Python 3",
   "language": "python",
   "name": "python3"
  },
  "language_info": {
   "codemirror_mode": {
    "name": "ipython",
    "version": 3
   },
   "file_extension": ".py",
   "mimetype": "text/x-python",
   "name": "python",
   "nbconvert_exporter": "python",
   "pygments_lexer": "ipython3",
   "version": "3.7.10"
  }
 },
 "nbformat": 4,
 "nbformat_minor": 5
}
