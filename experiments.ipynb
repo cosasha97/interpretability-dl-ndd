{
 "cells": [
  {
   "cell_type": "code",
   "execution_count": 1,
   "id": "089f6034",
   "metadata": {},
   "outputs": [],
   "source": [
    "%load_ext autoreload\n",
    "%autoreload 2"
   ]
  },
  {
   "cell_type": "code",
   "execution_count": 2,
   "id": "5b423de3",
   "metadata": {},
   "outputs": [
    {
     "name": "stderr",
     "output_type": "stream",
     "text": [
      "/network/lustre/dtlake01/aramis/users/sasha.collin/miniconda3/envs/venv/lib/python3.7/site-packages/nilearn/datasets/__init__.py:90: FutureWarning: Fetchers from the nilearn.datasets module will be updated in version 0.9 to return python strings instead of bytes and Pandas dataframes instead of Numpy arrays.\n",
      "  \"Numpy arrays.\", FutureWarning)\n"
     ]
    }
   ],
   "source": [
    "import torch\n",
    "import torchvision\n",
    "import numpy as np\n",
    "from nilearn import plotting\n",
    "import clinicadl\n",
    "import pandas as pd\n",
    "import matplotlib.pyplot as plt\n",
    "from torchsummary import summary\n",
    "from sklearn.metrics import log_loss\n",
    "from collections import OrderedDict\n",
    "from PIL import Image\n",
    "from tqdm import tqdm\n",
    "from math import floor\n",
    "import pickle\n",
    "import random\n",
    "\n",
    "# torch\n",
    "import torch.nn as nn\n",
    "import torch.nn.functional as F\n",
    "import torch.optim as optim\n",
    "\n",
    "# clinicaDL\n",
    "from clinicadl.tools.tsv.data_split import create_split\n",
    "from clinicadl.tools.deep_learning.data import generate_sampler, return_dataset, MRIDataset, MRIDatasetImage, MRIDatasetSlice, get_transforms\n",
    "from torch.utils.data import DataLoader\n",
    "from clinicadl.tools.deep_learning.cnn_utils import train, get_criterion, test\n",
    "from clinicadl.tools.deep_learning.models.random import RandomArchitecture\n",
    "from clinicadl.tools.deep_learning import EarlyStopping"
   ]
  },
  {
   "cell_type": "code",
   "execution_count": 3,
   "id": "6d32fc9a",
   "metadata": {},
   "outputs": [],
   "source": [
    "# ignore warnings\n",
    "import warnings\n",
    "warnings.filterwarnings('ignore')"
   ]
  },
  {
   "cell_type": "code",
   "execution_count": 4,
   "id": "c73f81ad",
   "metadata": {},
   "outputs": [],
   "source": [
    "from tools.explanations.evaluation import *\n",
    "from tools.explanations.GradCam import *\n",
    "from train.train_CNN import *\n",
    "from tools.callbacks import *"
   ]
  },
  {
   "cell_type": "code",
   "execution_count": 5,
   "id": "29293b59",
   "metadata": {},
   "outputs": [],
   "source": [
    "data_path = '/network/lustre/dtlake01/aramis/datasets/adni/caps/caps_v2021.tsv'\n",
    "summary_path = '/network/lustre/dtlake01/aramis/datasets/adni/caps/caps_v2021_summary.tsv'\n",
    "df_data = pd.read_csv(data_path,sep='\\t',nrows=10)\n",
    "df_summary = pd.read_csv(summary_path,sep='\\t',nrows=10)"
   ]
  },
  {
   "cell_type": "code",
   "execution_count": 6,
   "id": "f3899621",
   "metadata": {},
   "outputs": [
    {
     "data": {
      "text/plain": [
       "torch.Size([1, 169, 208, 179])"
      ]
     },
     "execution_count": 6,
     "metadata": {},
     "output_type": "execute_result"
    }
   ],
   "source": [
    "file = '/network/lustre/dtlake01/aramis/datasets/adni/caps/caps_v2021/subjects/sub-ADNI052S1251/ses-M00/deeplearning_prepare_data/image_based/t1_linear/sub-ADNI052S1251_ses-M00_T1w_space-MNI152NLin2009cSym_desc-Crop_res-1x1x1_T1w.pt'\n",
    "ts = torch.load(file)\n",
    "ts.shape"
   ]
  },
  {
   "cell_type": "code",
   "execution_count": 7,
   "id": "ac337024",
   "metadata": {},
   "outputs": [],
   "source": [
    "input_type = ''\n",
    "network_type = ''\n",
    "caps_directory = ''\n",
    "preprocessing = ''\n",
    "tsv_path = ''"
   ]
  },
  {
   "cell_type": "markdown",
   "id": "8b548628",
   "metadata": {
    "heading_collapsed": true
   },
   "source": [
    "# Iterator"
   ]
  },
  {
   "cell_type": "code",
   "execution_count": 62,
   "id": "53128634",
   "metadata": {
    "hidden": true
   },
   "outputs": [],
   "source": [
    "class MRIDatasetImage(MRIDataset):\n",
    "    \"\"\"Dataset of MRI organized in a CAPS folder.\"\"\"\n",
    "\n",
    "    def __init__(self, caps_directory, data_file,\n",
    "                 preprocessing='t1-linear', train_transformations=None,\n",
    "                 labels=True, all_transformations=None, multi_cohort=False,\n",
    "                 df_add_data=None):\n",
    "        \"\"\"\n",
    "        Args:\n",
    "            caps_directory (string): Directory of all the images.\n",
    "            data_file (string or DataFrame): Path to the tsv file or DataFrame containing the subject/session list.\n",
    "            preprocessing (string): Defines the path to the data in CAPS.\n",
    "            train_transformations (callable, optional): Optional transform to be applied only on training mode.\n",
    "            labels (bool): If True the diagnosis will be extracted from the given DataFrame.\n",
    "            all_transformations (callable, options): Optional transform to be applied during training and evaluation.\n",
    "            multi_cohort (bool): If True caps_directory is the path to a TSV file linking cohort names and paths.\n",
    "            df_add_data (DataFrame): dataframe containing additional data to predict, such as volumes\n",
    "        \"\"\"\n",
    "        self.df_add_data = df_add_data\n",
    "        \n",
    "        self.elem_index = None\n",
    "        self.mode = \"image\"\n",
    "        super().__init__(caps_directory, data_file, preprocessing,\n",
    "                         augmentation_transformations=train_transformations, labels=labels,\n",
    "                         transformations=all_transformations, multi_cohort=multi_cohort)\n",
    "\n",
    "    def __getitem__(self, idx):\n",
    "        participant, session, cohort, _, label = self._get_meta_data(idx)\n",
    "\n",
    "        image_path = self._get_path(participant, session, cohort, \"image\")\n",
    "        image = torch.load(image_path)\n",
    "\n",
    "        if self.transformations:\n",
    "            image = self.transformations(image)\n",
    "\n",
    "        if self.augmentation_transformations and not self.eval_mode:\n",
    "            image = self.augmentation_transformations(image)\n",
    "            \n",
    "        ## fetch additional data\n",
    "        temp_df = self.df_add_data[(self.df_add_data.participant_id == participant) &\n",
    "                                   (self.df_add_data.session_id == session)]\n",
    "        sex = (temp_df.sex.to_numpy().item() == 'F') + 0.\n",
    "        age = temp_df.age.to_numpy().item()\n",
    "        volumes = temp_df.drop(columns=['participant_id', 'session_id', 'sex', 'age']).to_numpy().squeeze()\n",
    "\n",
    "        sample = {'image': image, 'label': label, 'participant_id': participant, 'session_id': session,\n",
    "                  'image_path': image_path, 'age': age, 'sex': sex, 'volumes': volumes}\n",
    "\n",
    "        return sample\n",
    "\n",
    "    def num_elem_per_image(self):\n",
    "        return 1\n"
   ]
  },
  {
   "cell_type": "markdown",
   "id": "72756ae6",
   "metadata": {},
   "source": [
    "# Models"
   ]
  },
  {
   "cell_type": "code",
   "execution_count": 86,
   "id": "e45429d5",
   "metadata": {
    "code_folding": [
     47,
     57
    ]
   },
   "outputs": [],
   "source": [
    "class Net(nn.Module):\n",
    "    def __init__(self, sample, convolutions):\n",
    "        super().__init__()\n",
    "        self.image_size = sample['image'].shape\n",
    "        self.features = nn.Sequential()\n",
    "        input_size = self.image_size[0]\n",
    "        d_h_w = self.image_size[1:]\n",
    "\n",
    "        # default parameters\n",
    "        kernel_size = 3\n",
    "\n",
    "        for index, nb_conv in enumerate(convolutions):\n",
    "            self.features.add_module('conv' + str(index), nn.Conv3d(input_size, nb_conv, kernel_size))\n",
    "            d_h_w = self.conv_output_shape(d_h_w, 3)\n",
    "            self.features.add_module('relu' + str(index), nn.ReLU())\n",
    "            self.features.add_module('bnn' + str(index), nn.BatchNorm3d(nb_conv))\n",
    "            self.features.add_module('pool' + str(index), nn.MaxPool3d(2, 2))\n",
    "            d_h_w = self.conv_output_shape(d_h_w, 2, stride=2)\n",
    "            input_size = nb_conv\n",
    "\n",
    "        self.features_output_size = np.prod(d_h_w) * nb_conv\n",
    "        self.dense_size_1 = 32\n",
    "        self.dense_size_2 = 16\n",
    "\n",
    "        # disease\n",
    "        self.branch1 = nn.Sequential(\n",
    "            nn.Linear(self.features_output_size, self.dense_size_1),\n",
    "            nn.ReLU(),\n",
    "            nn.BatchNorm1d(self.dense_size_1),\n",
    "            nn.Linear(self.dense_size_1, self.dense_size_2),\n",
    "            nn.ReLU(),\n",
    "            nn.BatchNorm1d(self.dense_size_2),\n",
    "            nn.Linear(self.dense_size_2, 1),\n",
    "            nn.Sigmoid()\n",
    "        )\n",
    "        # volumes\n",
    "        n_volumes = np.prod(sample['volumes'].shape)\n",
    "        self.branch2 = nn.Sequential(\n",
    "            nn.Linear(self.features_output_size, 4 * n_volumes),\n",
    "            nn.ReLU(),\n",
    "            nn.BatchNorm1d(4 * n_volumes),\n",
    "            nn.Linear(4 * n_volumes, 2 * n_volumes),\n",
    "            nn.ReLU(),\n",
    "            nn.BatchNorm1d(2 * n_volumes),\n",
    "            nn.Linear(2 * n_volumes, n_volumes)\n",
    "        )\n",
    "        # age\n",
    "        self.branch3 = nn.Sequential(\n",
    "            nn.Linear(self.features_output_size, self.dense_size_1),\n",
    "            nn.ReLU(),\n",
    "            nn.BatchNorm1d(self.dense_size_1),\n",
    "            nn.Linear(self.dense_size_1, self.dense_size_2),\n",
    "            nn.ReLU(),\n",
    "            nn.BatchNorm1d(self.dense_size_2),\n",
    "            nn.Linear(self.dense_size_2, 1)\n",
    "        )\n",
    "        # sex\n",
    "        self.branch4 = nn.Sequential(\n",
    "            nn.Linear(self.features_output_size, self.dense_size_1),\n",
    "            nn.ReLU(),\n",
    "            nn.BatchNorm1d(self.dense_size_1),\n",
    "            nn.Linear(self.dense_size_1, self.dense_size_2),\n",
    "            nn.ReLU(),\n",
    "            nn.BatchNorm1d(self.dense_size_2),\n",
    "            nn.Linear(self.dense_size_2, 1),\n",
    "            nn.Sigmoid()\n",
    "        )\n",
    "\n",
    "    @staticmethod\n",
    "    def conv_output_shape(d_h_w, kernel_size=1, stride=1, pad=0, dilation=1):\n",
    "        if type(kernel_size) is not tuple:\n",
    "            kernel_size = (kernel_size, kernel_size, kernel_size)\n",
    "        new_d_h_w = []\n",
    "        for k in range(len(d_h_w)):\n",
    "            new_d_h_w.append(floor(((d_h_w[k] + (2 * pad) - (dilation * (kernel_size[k] - 1)) - 1) / stride) + 1))\n",
    "        return new_d_h_w\n",
    "\n",
    "    def forward(self, x):\n",
    "        x = self.features(x)\n",
    "        x = x.view(-1, self.features_output_size)\n",
    "        c = self.branch1(x)\n",
    "        v = self.branch2(x)\n",
    "        age = self.branch3(x)\n",
    "        sex = self.branch4(x)\n",
    "        return c, v, age, sex\n",
    "\n",
    "    def summary(self):\n",
    "        \"\"\"\n",
    "        Print a summary of the model.\n",
    "        \"\"\"\n",
    "        summary(self, input_size=self.image_size)"
   ]
  },
  {
   "cell_type": "markdown",
   "id": "a269a79f",
   "metadata": {},
   "source": [
    "# Utils"
   ]
  },
  {
   "cell_type": "markdown",
   "id": "eb619243",
   "metadata": {},
   "source": [
    "# Train Single CNN"
   ]
  },
  {
   "cell_type": "markdown",
   "id": "bc1e3401",
   "metadata": {},
   "source": [
    "## Initialization"
   ]
  },
  {
   "cell_type": "code",
   "execution_count": 52,
   "id": "a67523b0",
   "metadata": {
    "code_folding": []
   },
   "outputs": [],
   "source": [
    "# global parameters\n",
    "caps_directory = '/network/lustre/dtlake01/aramis/datasets/adni/caps/caps_v2021/'\n",
    "batch_size = 4\n",
    "num_workers = 1\n",
    "loss = 'default'\n",
    "optimizer_name = 'Adam'\n",
    "learning_rate = 1e-4\n",
    "weight_decay = 1e-4"
   ]
  },
  {
   "cell_type": "code",
   "execution_count": 53,
   "id": "efac0b65",
   "metadata": {
    "code_folding": [],
    "scrolled": true
   },
   "outputs": [
    {
     "name": "stderr",
     "output_type": "stream",
     "text": [
      "DEBUG:root:p_age=0.73, p_sex=0.8836\n",
      "DEBUG:root:p_age=0.66, p_sex=0.8941\n",
      "DEBUG:root:p_age=0.02, p_sex=0.8941\n",
      "DEBUG:root:p_age=0.54, p_sex=0.8836\n",
      "DEBUG:root:p_age=0.52, p_sex=0.9951\n",
      "DEBUG:root:p_age=0.56, p_sex=0.8283\n",
      "DEBUG:root:p_age=0.52, p_sex=0.8941\n",
      "DEBUG:root:p_age=0.52, p_sex=0.9217\n",
      "DEBUG:root:p_age=0.29, p_sex=0.9951\n",
      "DEBUG:root:p_age=0.83, p_sex=0.8395\n",
      "INFO:root:Split for diagnosis AD was found after 10 trials\n",
      "DEBUG:root:p_age=0.49, p_sex=0.8558\n",
      "DEBUG:root:p_age=0.37, p_sex=0.9454\n",
      "DEBUG:root:p_age=0.15, p_sex=0.8459\n",
      "DEBUG:root:p_age=0.36, p_sex=0.9204\n",
      "DEBUG:root:p_age=0.41, p_sex=0.9547\n",
      "DEBUG:root:p_age=0.82, p_sex=0.9204\n",
      "INFO:root:Split for diagnosis CN was found after 6 trials\n"
     ]
    }
   ],
   "source": [
    "# fold iterator\n",
    "fold_iterator = range(2)\n",
    "\n",
    "# load dataframes\n",
    "AD = pd.read_csv('subjects/AD.tsv',sep='\\t')\n",
    "CN = pd.read_csv('subjects/CN.tsv',sep='\\t')\n",
    "\n",
    "# remove samples with NaN\n",
    "AD.drop(AD[AD.isna().sum(axis=1) > 0].index, inplace=True)\n",
    "CN.drop(CN[CN.isna().sum(axis=1) > 0].index, inplace=True)\n",
    "\n",
    "# split data between training and validation sets\n",
    "training_df, valid_df = create_split('AD', AD, 'diagnosis',0.2)\n",
    "df_CN = create_split('CN', CN, 'diagnosis',0.2)\n",
    "training_df = training_df.append(df_CN[0]).reset_index()#.iloc[np.array([0,1,2,-1,-2,-3])]\n",
    "valid_df = valid_df.append(df_CN[1]).reset_index()#.iloc[np.array([0,1,2,-1,-2,-3])]\n",
    "\n",
    "# drop index column\n",
    "training_df.drop(columns = ['index'], inplace=True)\n",
    "valid_df.drop(columns = ['index'], inplace=True)\n",
    "\n",
    "train_transforms, all_transforms = get_transforms('image', minmaxnormalization=True, data_augmentation=None )\n",
    "# fetch volumetric data\n",
    "df_add_data = fetch_add_data(training_df)\n",
    "\n",
    "# all_transforms = torchvision.transforms.Compose([])"
   ]
  },
  {
   "cell_type": "code",
   "execution_count": 63,
   "id": "fa898c26",
   "metadata": {},
   "outputs": [],
   "source": [
    "data_train = MRIDatasetImage(caps_directory, training_df, df_add_data=df_add_data,all_transformations=all_transforms) #train_transformations=all_transforms\n",
    "data_valid = MRIDatasetImage(caps_directory, valid_df, df_add_data=df_add_data, all_transformations=all_transforms) #train_transformations=all_transforms,\n",
    "\n",
    "\n",
    "# sampler\n",
    "train_sampler = generate_sampler(data_train)\n",
    "valid_sampler = generate_sampler(data_valid)\n",
    "# loaders\n",
    "train_loader = DataLoader(data_train,\n",
    "                         batch_size=batch_size,\n",
    "                         sampler=train_sampler,\n",
    "                         num_workers=num_workers,\n",
    "                         pin_memory=True)\n",
    "\n",
    "valid_loader = DataLoader(data_valid,\n",
    "                         batch_size=batch_size,\n",
    "                         sampler=valid_sampler,\n",
    "                         num_workers=num_workers,\n",
    "                         pin_memory=True)"
   ]
  },
  {
   "cell_type": "markdown",
   "id": "fe9be74e",
   "metadata": {},
   "source": [
    "## Training"
   ]
  },
  {
   "cell_type": "code",
   "execution_count": 87,
   "id": "47b66241",
   "metadata": {
    "scrolled": true
   },
   "outputs": [
    {
     "name": "stdout",
     "output_type": "stream",
     "text": [
      "To cuda\n",
      "----------------------------------------------------------------\n",
      "        Layer (type)               Output Shape         Param #\n",
      "================================================================\n",
      "            Conv3d-1     [-1, 8, 167, 206, 177]             224\n",
      "              ReLU-2     [-1, 8, 167, 206, 177]               0\n",
      "       BatchNorm3d-3     [-1, 8, 167, 206, 177]              16\n",
      "         MaxPool3d-4       [-1, 8, 83, 103, 88]               0\n",
      "            Conv3d-5      [-1, 16, 81, 101, 86]           3,472\n",
      "              ReLU-6      [-1, 16, 81, 101, 86]               0\n",
      "       BatchNorm3d-7      [-1, 16, 81, 101, 86]              32\n",
      "         MaxPool3d-8       [-1, 16, 40, 50, 43]               0\n",
      "            Conv3d-9       [-1, 32, 38, 48, 41]          13,856\n",
      "             ReLU-10       [-1, 32, 38, 48, 41]               0\n",
      "      BatchNorm3d-11       [-1, 32, 38, 48, 41]              64\n",
      "        MaxPool3d-12       [-1, 32, 19, 24, 20]               0\n",
      "           Conv3d-13       [-1, 64, 17, 22, 18]          55,360\n",
      "             ReLU-14       [-1, 64, 17, 22, 18]               0\n",
      "      BatchNorm3d-15       [-1, 64, 17, 22, 18]             128\n",
      "        MaxPool3d-16         [-1, 64, 8, 11, 9]               0\n",
      "           Conv3d-17         [-1, 128, 6, 9, 7]         221,312\n",
      "             ReLU-18         [-1, 128, 6, 9, 7]               0\n",
      "      BatchNorm3d-19         [-1, 128, 6, 9, 7]             256\n",
      "        MaxPool3d-20         [-1, 128, 3, 4, 3]               0\n",
      "           Linear-21                   [-1, 32]         147,488\n",
      "             ReLU-22                   [-1, 32]               0\n",
      "      BatchNorm1d-23                   [-1, 32]              64\n",
      "           Linear-24                   [-1, 16]             528\n",
      "             ReLU-25                   [-1, 16]               0\n",
      "      BatchNorm1d-26                   [-1, 16]              32\n",
      "           Linear-27                    [-1, 1]              17\n",
      "          Sigmoid-28                    [-1, 1]               0\n",
      "           Linear-29                  [-1, 476]       2,193,884\n",
      "             ReLU-30                  [-1, 476]               0\n",
      "      BatchNorm1d-31                  [-1, 476]             952\n",
      "           Linear-32                  [-1, 238]         113,526\n",
      "             ReLU-33                  [-1, 238]               0\n",
      "      BatchNorm1d-34                  [-1, 238]             476\n",
      "           Linear-35                  [-1, 119]          28,441\n",
      "           Linear-36                   [-1, 32]         147,488\n",
      "             ReLU-37                   [-1, 32]               0\n",
      "      BatchNorm1d-38                   [-1, 32]              64\n",
      "           Linear-39                   [-1, 16]             528\n",
      "             ReLU-40                   [-1, 16]               0\n",
      "      BatchNorm1d-41                   [-1, 16]              32\n",
      "           Linear-42                    [-1, 1]              17\n",
      "           Linear-43                   [-1, 32]         147,488\n",
      "             ReLU-44                   [-1, 32]               0\n",
      "      BatchNorm1d-45                   [-1, 32]              64\n",
      "           Linear-46                   [-1, 16]             528\n",
      "             ReLU-47                   [-1, 16]               0\n",
      "      BatchNorm1d-48                   [-1, 16]              32\n",
      "           Linear-49                    [-1, 1]              17\n",
      "          Sigmoid-50                    [-1, 1]               0\n",
      "================================================================\n",
      "Total params: 3,076,386\n",
      "Trainable params: 3,076,386\n",
      "Non-trainable params: 0\n",
      "----------------------------------------------------------------\n",
      "Input size (MB): 24.00\n",
      "Forward/backward pass size (MB): 1497.44\n",
      "Params size (MB): 11.74\n",
      "Estimated Total Size (MB): 1533.18\n",
      "----------------------------------------------------------------\n"
     ]
    }
   ],
   "source": [
    "# get sample\n",
    "sample = data_train[0]\n",
    "# build model\n",
    "model = Net(sample, [8, 16, 32, 64, 128])\n",
    "if torch.cuda.is_available():\n",
    "    print(\"To cuda\")\n",
    "    model.cuda()\n",
    "model.summary()"
   ]
  },
  {
   "cell_type": "code",
   "execution_count": 15,
   "id": "0d596761",
   "metadata": {
    "scrolled": true
   },
   "outputs": [],
   "source": [
    "# nb_epochs = 20\n",
    "# # optimizer\n",
    "# optimizer = optim.Adam(model.parameters(),lr=learning_rate)\n",
    "# # device\n",
    "# cuda = torch.device('cuda')\n",
    "# # record losses\n",
    "# train_losses = {\n",
    "#     'classification': np.zeros(nb_epochs),\n",
    "#     'volumes': np.zeros(nb_epochs),\n",
    "#     'age': np.zeros(nb_epochs),\n",
    "#     'sex': np.zeros(nb_epochs),\n",
    "#     'train': np.zeros(nb_epochs)\n",
    "# }\n",
    "# test_losses = {\n",
    "#     'classification': np.zeros(nb_epochs),\n",
    "#     'volumes': np.zeros(nb_epochs),\n",
    "#     'age': np.zeros(nb_epochs),\n",
    "#     'sex': np.zeros(nb_epochs),\n",
    "#     'test': np.zeros(nb_epochs)\n",
    "# }\n",
    "\n",
    "# # callbacks\n",
    "# ES = EarlyStopping(patience=5)\n",
    "# MC = ModelCheckpoint()\n",
    "\n",
    "# # training\n",
    "# for epoch in range(nb_epochs):\n",
    "#     update_dict(train_losses, train(epoch, model, optimizer, cuda, train_loader), epoch)\n",
    "#     update_dict(test_losses, test(model, cuda, valid_loader), epoch)\n",
    "#     if ES.step(train_losses['train'][epoch]):\n",
    "#         break\n",
    "#     MC.step(train_losses['train'][epoch], epoch, model, optimizer) # path\n",
    "\n",
    "# # save training curves\n",
    "# f = open(\"train_losses.pkl\",\"wb\")\n",
    "# pickle.dump(train_losses,f)\n",
    "# f.close()\n",
    "\n",
    "# f = open(\"val_losses.pkl\",\"wb\")\n",
    "# pickle.dump(test_losses,f)\n",
    "# f.close()"
   ]
  },
  {
   "cell_type": "markdown",
   "id": "497c3703",
   "metadata": {
    "heading_collapsed": true
   },
   "source": [
    "## Visualization"
   ]
  },
  {
   "cell_type": "code",
   "execution_count": 16,
   "id": "8f08832b",
   "metadata": {
    "hidden": true
   },
   "outputs": [],
   "source": [
    "def plot_losses(dict_losses, title=\"\"):\n",
    "    \"\"\"\n",
    "    Plot the different losses.\n",
    "    \n",
    "    Args:\n",
    "        dict_losses: dictionnary of losses\n",
    "    \"\"\"\n",
    "    plt.figure()\n",
    "    plt.title(title)\n",
    "    for key in dict_losses.keys():\n",
    "        plt.plot(dict_losses[key], label=key)\n",
    "    plt.legend()\n",
    "    plt.show()\n",
    "    \n",
    "def plot_tensor(X):\n",
    "    x = np.transpose(X[0], (1,2,0))\n",
    "    x = (x-x.min())/x.max()\n",
    "    plt.imshow(x)"
   ]
  },
  {
   "cell_type": "code",
   "execution_count": 17,
   "id": "6f7f6ecb",
   "metadata": {
    "hidden": true
   },
   "outputs": [
    {
     "ename": "NameError",
     "evalue": "name 'train_losses' is not defined",
     "output_type": "error",
     "traceback": [
      "\u001b[0;31m---------------------------------------------------------------------------\u001b[0m",
      "\u001b[0;31mNameError\u001b[0m                                 Traceback (most recent call last)",
      "\u001b[0;32m<ipython-input-17-a86c7f57b9de>\u001b[0m in \u001b[0;36m<module>\u001b[0;34m\u001b[0m\n\u001b[0;32m----> 1\u001b[0;31m \u001b[0mplot_losses\u001b[0m\u001b[0;34m(\u001b[0m\u001b[0mtrain_losses\u001b[0m\u001b[0;34m,\u001b[0m \u001b[0;34m\"Training losses\"\u001b[0m\u001b[0;34m)\u001b[0m\u001b[0;34m\u001b[0m\u001b[0;34m\u001b[0m\u001b[0m\n\u001b[0m",
      "\u001b[0;31mNameError\u001b[0m: name 'train_losses' is not defined"
     ]
    }
   ],
   "source": [
    "plot_losses(train_losses, \"Training losses\")"
   ]
  },
  {
   "cell_type": "markdown",
   "id": "02cce37e",
   "metadata": {},
   "source": [
    "## Assess explanation"
   ]
  },
  {
   "cell_type": "code",
   "execution_count": 21,
   "id": "eb37b136",
   "metadata": {},
   "outputs": [
    {
     "data": {
      "text/plain": [
       "<All keys matched successfully>"
      ]
     },
     "execution_count": 21,
     "metadata": {},
     "output_type": "execute_result"
    }
   ],
   "source": [
    "# load model\n",
    "saved_data = torch.load('model_0.pt')\n",
    "\n",
    "model.load_state_dict(saved_data['model_state_dict'])"
   ]
  },
  {
   "cell_type": "code",
   "execution_count": 22,
   "id": "453f2de9",
   "metadata": {
    "scrolled": true
   },
   "outputs": [],
   "source": [
    "GC = GradCam(model,'conv4')\n",
    "img = sample['image'][None,...].float()\n",
    "img2 = torch.cat((img,img),0)\n",
    "resu = GC.get_explanations(img2)\n",
    "#GC.visualize_cams(img)"
   ]
  },
  {
   "cell_type": "code",
   "execution_count": 64,
   "id": "62552349",
   "metadata": {},
   "outputs": [],
   "source": [
    "a,b,c,d = [], [], [], []\n",
    "n_max = 500\n",
    "step = 20\n",
    "for k in range(1, n_max, step):\n",
    "    np.random.seed(0)\n",
    "    random.seed(0)\n",
    "    torch.manual_seed(0)\n",
    "    resu = max_sensitivity(img, GC, k)\n",
    "    a.append(resu['branch1'])\n",
    "    b.append(resu['branch2'])\n",
    "    c.append(resu['branch3'])\n",
    "    d.append(resu['branch4'])"
   ]
  },
  {
   "cell_type": "code",
   "execution_count": 65,
   "id": "2d4ed76d",
   "metadata": {
    "scrolled": true
   },
   "outputs": [
    {
     "data": {
      "image/png": "[encoded data removed]",
      "text/plain": [
       "<Figure size 432x288 with 1 Axes>"
      ]
     },
     "metadata": {
      "needs_background": "light"
     },
     "output_type": "display_data"
    },
    {
     "data": {
      "image/png": "[encoded data removed]",
      "text/plain": [
       "<Figure size 432x288 with 1 Axes>"
      ]
     },
     "metadata": {
      "needs_background": "light"
     },
     "output_type": "display_data"
    },
    {
     "data": {
      "image/png": "[encoded data removed]",
      "text/plain": [
       "<Figure size 432x288 with 1 Axes>"
      ]
     },
     "metadata": {
      "needs_background": "light"
     },
     "output_type": "display_data"
    },
    {
     "data": {
      "image/png": "[encoded data removed]",
      "text/plain": [
       "<Figure size 432x288 with 1 Axes>"
      ]
     },
     "metadata": {
      "needs_background": "light"
     },
     "output_type": "display_data"
    }
   ],
   "source": [
    "for elem in (a, b, c ,d):\n",
    "    plt.figure()\n",
    "    plt.plot(np.arange(1,n_max,step), elem)"
   ]
  },
  {
   "cell_type": "code",
   "execution_count": 23,
   "id": "ada135ea",
   "metadata": {},
   "outputs": [],
   "source": [
    "attention = GC.generate_cam(img)"
   ]
  },
  {
   "cell_type": "code",
   "execution_count": 26,
   "id": "854220dd",
   "metadata": {},
   "outputs": [],
   "source": [
    "ids = np.unravel_index(np.argsort(-attention, axis=None), attention.shape)"
   ]
  },
  {
   "cell_type": "code",
   "execution_count": 98,
   "id": "d1b7ec41",
   "metadata": {},
   "outputs": [],
   "source": [
    "at2 = attention.copy()\n",
    "at2[(ids[0][:5000], ids[1][:5000])] = 0"
   ]
  },
  {
   "cell_type": "code",
   "execution_count": 48,
   "id": "6b48b508",
   "metadata": {},
   "outputs": [],
   "source": [
    "batch_size2 = 10"
   ]
  },
  {
   "cell_type": "code",
   "execution_count": 49,
   "id": "35cb2a1d",
   "metadata": {},
   "outputs": [],
   "source": [
    "img2 = img.tile(dims=(batch_size2,1,1,1))"
   ]
  },
  {
   "cell_type": "code",
   "execution_count": 50,
   "id": "ce0833d1",
   "metadata": {},
   "outputs": [
    {
     "data": {
      "text/plain": [
       "torch.Size([10, 3, 208, 179])"
      ]
     },
     "execution_count": 50,
     "metadata": {},
     "output_type": "execute_result"
    }
   ],
   "source": [
    "img2.shape"
   ]
  },
  {
   "cell_type": "code",
   "execution_count": 100,
   "id": "e1aa9dd4",
   "metadata": {},
   "outputs": [
    {
     "data": {
      "text/plain": [
       "<matplotlib.image.AxesImage at 0x7f9b840a1b90>"
      ]
     },
     "execution_count": 100,
     "metadata": {},
     "output_type": "execute_result"
    },
    {
     "data": {
      "image/png": "[encoded data removed]",
      "text/plain": [
       "<Figure size 432x288 with 1 Axes>"
      ]
     },
     "metadata": {
      "needs_background": "light"
     },
     "output_type": "display_data"
    }
   ],
   "source": [
    "for k in range(batch_size2):\n",
    "    img2[k,]"
   ]
  },
  {
   "cell_type": "code",
   "execution_count": 63,
   "id": "1a0ae895",
   "metadata": {},
   "outputs": [],
   "source": [
    "img2 = img[0,0,...]\n",
    "img2[(ids[0][:5000], ids[1][:5000])] = 0"
   ]
  },
  {
   "cell_type": "code",
   "execution_count": 71,
   "id": "aea23451",
   "metadata": {},
   "outputs": [
    {
     "data": {
      "text/plain": [
       "torch.Size([5000])"
      ]
     },
     "execution_count": 71,
     "metadata": {},
     "output_type": "execute_result"
    }
   ],
   "source": [
    "img2[(ids[0][:5000], ids[1][:5000])].shape"
   ]
  },
  {
   "cell_type": "code",
   "execution_count": null,
   "id": "cde01433",
   "metadata": {},
   "outputs": [],
   "source": [
    "def MoRF(X, model, exp_method, K=10, AUC=False, batch_size=512):\n",
    "    \"\"\"\n",
    "    Most relevant first: measures the reliability of an explanation by testing \n",
    "    how fast the output decreases, while we progressively remove information (e.g., perturb pixels) \n",
    "    from the input 𝑥𝑥 (e.g., image), that appears as the most relevant by the explanation.\n",
    "    Args:\n",
    "        X: tensor, brain image, with shape (1, n_channels, **dims)\n",
    "        exp_method: explanation method. Must have a get_explanations(self, input_image) attribute function\n",
    "            which takes an image as input and returns a dictionary mapping branches to explanation maps\n",
    "        K: number of relevant pixels to remove\n",
    "        AUC: bool. If True: compute and return area under the curve obtained after removing successively \n",
    "            the K most relevant pixels.\n",
    "            \n",
    "    TO DO:\n",
    "        - add several methods to perturb pixels\n",
    "    \"\"\"\n",
    "    if torch.cuda.is_available():\n",
    "        X = X.cuda()\n",
    "\n",
    "    # explanations for original image\n",
    "    expls = exp_method.get_explanations(X)\n",
    "    \n",
    "    # Indices of the sorted elements of the explanations:\n",
    "    ind = dict()\n",
    "    for target in expls:\n",
    "        ind = np.unravel_index(np.argsort(-expls[target], axis=None), expls.shape)\n",
    "    \n",
    "        if AUC:\n",
    "            pass\n",
    "        else:\n",
    "            # compute MoRF removing the K most relevant pixels\n",
    "            MoRF\n",
    "            perturbed_X = X.copy()\n",
    "            perturbed_X[:,:,ind[0][:K],ind[1][:K]] = 0\n",
    "            \n",
    "        "
   ]
  },
  {
   "cell_type": "markdown",
   "id": "99854d6c",
   "metadata": {
    "heading_collapsed": true
   },
   "source": [
    "# RANDOM"
   ]
  },
  {
   "cell_type": "code",
   "execution_count": 33,
   "id": "5ab833fb",
   "metadata": {
    "hidden": true
   },
   "outputs": [
    {
     "data": {
      "text/plain": [
       "participant_id                                                                                      0\n",
       "session_id                                                                                          0\n",
       "sex                                                                                                 1\n",
       "age                                                                                              1178\n",
       "t1-volume_group-adni2021_atlas-Neuromorphometrics_ROI-Background_intensity                       1173\n",
       "                                                                                                 ... \n",
       "t1-volume_group-adni2021_atlas-Neuromorphometrics_ROI-Right-Posterior-Orbital-Gyrus_intensity    1173\n",
       "t1-volume_group-adni2021_atlas-Neuromorphometrics_ROI-Left-Planum-Polare_intensity               1173\n",
       "t1-volume_group-adni2021_atlas-Neuromorphometrics_ROI-Right-Planum-Polare_intensity              1173\n",
       "t1-volume_group-adni2021_atlas-Neuromorphometrics_ROI-Left-Precentral-Gyrus_intensity            1173\n",
       "t1-volume_group-adni2021_atlas-Neuromorphometrics_ROI-Right-Precentral-Gyrus_intensity           1173\n",
       "Length: 123, dtype: int64"
      ]
     },
     "execution_count": 33,
     "metadata": {},
     "output_type": "execute_result"
    }
   ],
   "source": [
    "df_add_data[df_add_data.iloc[:,3].isna()].isna().sum(axis=0)"
   ]
  },
  {
   "cell_type": "markdown",
   "id": "ed4cbb3a",
   "metadata": {
    "hidden": true
   },
   "source": [
    "I am using working with the file '/network/lustre/dtlake01/aramis/datasets/adni/caps/caps_v2021.tsv' and using the 't1-volume' pipeline and the atlas 'AAL2'.\n",
    "6267 samples (i.e. couples (participant_id, session_id)) do not have any volume value (i.e. NaN). 1 sample has no sex value and 1178 samples have no age values.\n"
   ]
  },
  {
   "cell_type": "code",
   "execution_count": 31,
   "id": "293be254",
   "metadata": {
    "hidden": true
   },
   "outputs": [
    {
     "data": {
      "text/plain": [
       "participant_id                                                                                      0\n",
       "session_id                                                                                          0\n",
       "sex                                                                                                 1\n",
       "age                                                                                              1178\n",
       "t1-volume_group-adni2021_atlas-Neuromorphometrics_ROI-Background_intensity                       6267\n",
       "                                                                                                 ... \n",
       "t1-volume_group-adni2021_atlas-Neuromorphometrics_ROI-Right-Posterior-Orbital-Gyrus_intensity    6267\n",
       "t1-volume_group-adni2021_atlas-Neuromorphometrics_ROI-Left-Planum-Polare_intensity               6267\n",
       "t1-volume_group-adni2021_atlas-Neuromorphometrics_ROI-Right-Planum-Polare_intensity              6267\n",
       "t1-volume_group-adni2021_atlas-Neuromorphometrics_ROI-Left-Precentral-Gyrus_intensity            6267\n",
       "t1-volume_group-adni2021_atlas-Neuromorphometrics_ROI-Right-Precentral-Gyrus_intensity           6267\n",
       "Length: 123, dtype: int64"
      ]
     },
     "execution_count": 31,
     "metadata": {},
     "output_type": "execute_result"
    }
   ],
   "source": [
    "df_add_data.isna().sum(axis=0)"
   ]
  },
  {
   "cell_type": "code",
   "execution_count": 64,
   "id": "21ea7ed0",
   "metadata": {
    "hidden": true
   },
   "outputs": [],
   "source": [
    "\n",
    "# initialize the model\n",
    "convolutions = {\n",
    "    'conv0':{\n",
    "        'n_conv':1,\n",
    "        'in_channels':None,\n",
    "        'out_channels':16,\n",
    "        'd_reduction': \"MaxPooling\"\n",
    "    },\n",
    "    'conv1':{\n",
    "        'n_conv':1,\n",
    "        'in_channels':None,\n",
    "        'out_channels':32,\n",
    "        'd_reduction': \"MaxPooling\"\n",
    "    },\n",
    "    'conv2':{\n",
    "        'n_conv':1,\n",
    "        'in_channels':None,\n",
    "        'out_channels':32,\n",
    "        'd_reduction': \"MaxPooling\"\n",
    "    },\n",
    "    'conv3':{\n",
    "        'n_conv':1,\n",
    "        'in_channels':None,\n",
    "        'out_channels':64,\n",
    "        'd_reduction': \"MaxPooling\"\n",
    "    },\n",
    "    'conv4':{\n",
    "        'n_conv':1,\n",
    "        'in_channels':None,\n",
    "        'out_channels':128,\n",
    "        'd_reduction': \"MaxPooling\"\n",
    "    }\n",
    "}\n",
    "model = RandomArchitecture(convolutions,1,data_train.size)\n",
    "\n",
    "\n",
    "# Define criterion and optimizer\n",
    "criterion = get_criterion(loss)\n",
    "optimizer = getattr(torch.optim, optimizer_name)(filter(lambda x: x.requires_grad, model.parameters()),\n",
    "                                                   lr=learning_rate,\n",
    "                                                   weight_decay=weight_decay)"
   ]
  },
  {
   "cell_type": "code",
   "execution_count": 8,
   "id": "ad3ee7d7",
   "metadata": {
    "hidden": true
   },
   "outputs": [],
   "source": [
    "class Options:\n",
    "    def __init__(self):\n",
    "        self.beginning_epoch = 0\n",
    "        self.tolerance = 0\n",
    "        self.patience = 10\n",
    "        self.epochs = 10\n",
    "        self.gpu = True\n",
    "        self.batch_size = 1"
   ]
  },
  {
   "cell_type": "code",
   "execution_count": 9,
   "id": "94cb8367",
   "metadata": {
    "hidden": true,
    "scrolled": true
   },
   "outputs": [
    {
     "name": "stderr",
     "output_type": "stream",
     "text": [
      "INFO:root:Beginning epoch 0.\n"
     ]
    },
    {
     "ename": "KeyError",
     "evalue": "Caught KeyError in DataLoader worker process 0.\nOriginal Traceback (most recent call last):\n  File \"/network/lustre/dtlake01/aramis/users/sasha.collin/miniconda3/envs/venv/lib/python3.7/site-packages/pandas/core/indexes/base.py\", line 3080, in get_loc\n    return self._engine.get_loc(casted_key)\n  File \"pandas/_libs/index.pyx\", line 70, in pandas._libs.index.IndexEngine.get_loc\n  File \"pandas/_libs/index.pyx\", line 101, in pandas._libs.index.IndexEngine.get_loc\n  File \"pandas/_libs/hashtable_class_helper.pxi\", line 1625, in pandas._libs.hashtable.Int64HashTable.get_item\n  File \"pandas/_libs/hashtable_class_helper.pxi\", line 1632, in pandas._libs.hashtable.Int64HashTable.get_item\nKeyError: 5\n\nThe above exception was the direct cause of the following exception:\n\nTraceback (most recent call last):\n  File \"/network/lustre/dtlake01/aramis/users/sasha.collin/miniconda3/envs/venv/lib/python3.7/site-packages/torch/utils/data/_utils/worker.py\", line 185, in _worker_loop\n    data = fetcher.fetch(index)\n  File \"/network/lustre/dtlake01/aramis/users/sasha.collin/miniconda3/envs/venv/lib/python3.7/site-packages/torch/utils/data/_utils/fetch.py\", line 44, in fetch\n    data = [self.dataset[idx] for idx in possibly_batched_index]\n  File \"/network/lustre/dtlake01/aramis/users/sasha.collin/miniconda3/envs/venv/lib/python3.7/site-packages/torch/utils/data/_utils/fetch.py\", line 44, in <listcomp>\n    data = [self.dataset[idx] for idx in possibly_batched_index]\n  File \"/network/lustre/dtlake01/aramis/users/sasha.collin/miniconda3/envs/venv/lib/python3.7/site-packages/clinicadl/tools/deep_learning/data.py\", line 566, in __getitem__\n    participant, session, cohort, slice_idx, label = self._get_meta_data(idx)\n  File \"/network/lustre/dtlake01/aramis/users/sasha.collin/miniconda3/envs/venv/lib/python3.7/site-packages/clinicadl/tools/deep_learning/data.py\", line 140, in _get_meta_data\n    participant = self.df.loc[image_idx, 'participant_id']\n  File \"/network/lustre/dtlake01/aramis/users/sasha.collin/miniconda3/envs/venv/lib/python3.7/site-packages/pandas/core/indexing.py\", line 889, in __getitem__\n    return self._getitem_tuple(key)\n  File \"/network/lustre/dtlake01/aramis/users/sasha.collin/miniconda3/envs/venv/lib/python3.7/site-packages/pandas/core/indexing.py\", line 1060, in _getitem_tuple\n    return self._getitem_lowerdim(tup)\n  File \"/network/lustre/dtlake01/aramis/users/sasha.collin/miniconda3/envs/venv/lib/python3.7/site-packages/pandas/core/indexing.py\", line 807, in _getitem_lowerdim\n    section = self._getitem_axis(key, axis=i)\n  File \"/network/lustre/dtlake01/aramis/users/sasha.collin/miniconda3/envs/venv/lib/python3.7/site-packages/pandas/core/indexing.py\", line 1124, in _getitem_axis\n    return self._get_label(key, axis=axis)\n  File \"/network/lustre/dtlake01/aramis/users/sasha.collin/miniconda3/envs/venv/lib/python3.7/site-packages/pandas/core/indexing.py\", line 1073, in _get_label\n    return self.obj.xs(label, axis=axis)\n  File \"/network/lustre/dtlake01/aramis/users/sasha.collin/miniconda3/envs/venv/lib/python3.7/site-packages/pandas/core/generic.py\", line 3739, in xs\n    loc = index.get_loc(key)\n  File \"/network/lustre/dtlake01/aramis/users/sasha.collin/miniconda3/envs/venv/lib/python3.7/site-packages/pandas/core/indexes/base.py\", line 3082, in get_loc\n    raise KeyError(key) from err\nKeyError: 5\n",
     "output_type": "error",
     "traceback": [
      "\u001b[0;31m---------------------------------------------------------------------------\u001b[0m",
      "\u001b[0;31mKeyError\u001b[0m                                  Traceback (most recent call last)",
      "\u001b[0;32m<ipython-input-9-3cc90ec1a0e4>\u001b[0m in \u001b[0;36m<module>\u001b[0;34m\u001b[0m\n\u001b[0;32m----> 1\u001b[0;31m \u001b[0mtrain\u001b[0m\u001b[0;34m(\u001b[0m\u001b[0mmodel\u001b[0m\u001b[0;34m,\u001b[0m \u001b[0mtrain_loader\u001b[0m\u001b[0;34m,\u001b[0m \u001b[0mvalid_loader\u001b[0m\u001b[0;34m,\u001b[0m \u001b[0mcriterion\u001b[0m\u001b[0;34m,\u001b[0m \u001b[0moptimizer\u001b[0m\u001b[0;34m,\u001b[0m\u001b[0;32mFalse\u001b[0m\u001b[0;34m,\u001b[0m\u001b[0;34m'log_dir'\u001b[0m\u001b[0;34m,\u001b[0m\u001b[0;34m'model_dir'\u001b[0m\u001b[0;34m,\u001b[0m \u001b[0mOptions\u001b[0m\u001b[0;34m(\u001b[0m\u001b[0;34m)\u001b[0m\u001b[0;34m)\u001b[0m\u001b[0;34m\u001b[0m\u001b[0;34m\u001b[0m\u001b[0m\n\u001b[0m",
      "\u001b[0;32m/network/lustre/dtlake01/aramis/users/sasha.collin/miniconda3/envs/venv/lib/python3.7/site-packages/clinicadl/tools/deep_learning/cnn_utils.py\u001b[0m in \u001b[0;36mtrain\u001b[0;34m(model, train_loader, valid_loader, criterion, optimizer, resume, log_dir, model_dir, options, logger)\u001b[0m\n\u001b[1;32m     93\u001b[0m         \u001b[0mtotal_time\u001b[0m \u001b[0;34m=\u001b[0m \u001b[0;36m0\u001b[0m\u001b[0;34m\u001b[0m\u001b[0;34m\u001b[0m\u001b[0m\n\u001b[1;32m     94\u001b[0m \u001b[0;34m\u001b[0m\u001b[0m\n\u001b[0;32m---> 95\u001b[0;31m         \u001b[0;32mfor\u001b[0m \u001b[0mi\u001b[0m\u001b[0;34m,\u001b[0m \u001b[0mdata\u001b[0m \u001b[0;32min\u001b[0m \u001b[0menumerate\u001b[0m\u001b[0;34m(\u001b[0m\u001b[0mtrain_loader\u001b[0m\u001b[0;34m,\u001b[0m \u001b[0;36m0\u001b[0m\u001b[0;34m)\u001b[0m\u001b[0;34m:\u001b[0m\u001b[0;34m\u001b[0m\u001b[0;34m\u001b[0m\u001b[0m\n\u001b[0m\u001b[1;32m     96\u001b[0m             \u001b[0mt0\u001b[0m \u001b[0;34m=\u001b[0m \u001b[0mtime\u001b[0m\u001b[0;34m(\u001b[0m\u001b[0;34m)\u001b[0m\u001b[0;34m\u001b[0m\u001b[0;34m\u001b[0m\u001b[0m\n\u001b[1;32m     97\u001b[0m             \u001b[0mtotal_time\u001b[0m \u001b[0;34m=\u001b[0m \u001b[0mtotal_time\u001b[0m \u001b[0;34m+\u001b[0m \u001b[0mt0\u001b[0m \u001b[0;34m-\u001b[0m \u001b[0mtend\u001b[0m\u001b[0;34m\u001b[0m\u001b[0;34m\u001b[0m\u001b[0m\n",
      "\u001b[0;32m/network/lustre/dtlake01/aramis/users/sasha.collin/miniconda3/envs/venv/lib/python3.7/site-packages/torch/utils/data/dataloader.py\u001b[0m in \u001b[0;36m__next__\u001b[0;34m(self)\u001b[0m\n\u001b[1;32m    361\u001b[0m \u001b[0;34m\u001b[0m\u001b[0m\n\u001b[1;32m    362\u001b[0m     \u001b[0;32mdef\u001b[0m \u001b[0m__next__\u001b[0m\u001b[0;34m(\u001b[0m\u001b[0mself\u001b[0m\u001b[0;34m)\u001b[0m\u001b[0;34m:\u001b[0m\u001b[0;34m\u001b[0m\u001b[0;34m\u001b[0m\u001b[0m\n\u001b[0;32m--> 363\u001b[0;31m         \u001b[0mdata\u001b[0m \u001b[0;34m=\u001b[0m \u001b[0mself\u001b[0m\u001b[0;34m.\u001b[0m\u001b[0m_next_data\u001b[0m\u001b[0;34m(\u001b[0m\u001b[0;34m)\u001b[0m\u001b[0;34m\u001b[0m\u001b[0;34m\u001b[0m\u001b[0m\n\u001b[0m\u001b[1;32m    364\u001b[0m         \u001b[0mself\u001b[0m\u001b[0;34m.\u001b[0m\u001b[0m_num_yielded\u001b[0m \u001b[0;34m+=\u001b[0m \u001b[0;36m1\u001b[0m\u001b[0;34m\u001b[0m\u001b[0;34m\u001b[0m\u001b[0m\n\u001b[1;32m    365\u001b[0m         \u001b[0;32mif\u001b[0m \u001b[0mself\u001b[0m\u001b[0;34m.\u001b[0m\u001b[0m_dataset_kind\u001b[0m \u001b[0;34m==\u001b[0m \u001b[0m_DatasetKind\u001b[0m\u001b[0;34m.\u001b[0m\u001b[0mIterable\u001b[0m \u001b[0;32mand\u001b[0m\u001b[0;31m \u001b[0m\u001b[0;31m\\\u001b[0m\u001b[0;34m\u001b[0m\u001b[0;34m\u001b[0m\u001b[0m\n",
      "\u001b[0;32m/network/lustre/dtlake01/aramis/users/sasha.collin/miniconda3/envs/venv/lib/python3.7/site-packages/torch/utils/data/dataloader.py\u001b[0m in \u001b[0;36m_next_data\u001b[0;34m(self)\u001b[0m\n\u001b[1;32m    987\u001b[0m             \u001b[0;32melse\u001b[0m\u001b[0;34m:\u001b[0m\u001b[0;34m\u001b[0m\u001b[0;34m\u001b[0m\u001b[0m\n\u001b[1;32m    988\u001b[0m                 \u001b[0;32mdel\u001b[0m \u001b[0mself\u001b[0m\u001b[0;34m.\u001b[0m\u001b[0m_task_info\u001b[0m\u001b[0;34m[\u001b[0m\u001b[0midx\u001b[0m\u001b[0;34m]\u001b[0m\u001b[0;34m\u001b[0m\u001b[0;34m\u001b[0m\u001b[0m\n\u001b[0;32m--> 989\u001b[0;31m                 \u001b[0;32mreturn\u001b[0m \u001b[0mself\u001b[0m\u001b[0;34m.\u001b[0m\u001b[0m_process_data\u001b[0m\u001b[0;34m(\u001b[0m\u001b[0mdata\u001b[0m\u001b[0;34m)\u001b[0m\u001b[0;34m\u001b[0m\u001b[0;34m\u001b[0m\u001b[0m\n\u001b[0m\u001b[1;32m    990\u001b[0m \u001b[0;34m\u001b[0m\u001b[0m\n\u001b[1;32m    991\u001b[0m     \u001b[0;32mdef\u001b[0m \u001b[0m_try_put_index\u001b[0m\u001b[0;34m(\u001b[0m\u001b[0mself\u001b[0m\u001b[0;34m)\u001b[0m\u001b[0;34m:\u001b[0m\u001b[0;34m\u001b[0m\u001b[0;34m\u001b[0m\u001b[0m\n",
      "\u001b[0;32m/network/lustre/dtlake01/aramis/users/sasha.collin/miniconda3/envs/venv/lib/python3.7/site-packages/torch/utils/data/dataloader.py\u001b[0m in \u001b[0;36m_process_data\u001b[0;34m(self, data)\u001b[0m\n\u001b[1;32m   1012\u001b[0m         \u001b[0mself\u001b[0m\u001b[0;34m.\u001b[0m\u001b[0m_try_put_index\u001b[0m\u001b[0;34m(\u001b[0m\u001b[0;34m)\u001b[0m\u001b[0;34m\u001b[0m\u001b[0;34m\u001b[0m\u001b[0m\n\u001b[1;32m   1013\u001b[0m         \u001b[0;32mif\u001b[0m \u001b[0misinstance\u001b[0m\u001b[0;34m(\u001b[0m\u001b[0mdata\u001b[0m\u001b[0;34m,\u001b[0m \u001b[0mExceptionWrapper\u001b[0m\u001b[0;34m)\u001b[0m\u001b[0;34m:\u001b[0m\u001b[0;34m\u001b[0m\u001b[0;34m\u001b[0m\u001b[0m\n\u001b[0;32m-> 1014\u001b[0;31m             \u001b[0mdata\u001b[0m\u001b[0;34m.\u001b[0m\u001b[0mreraise\u001b[0m\u001b[0;34m(\u001b[0m\u001b[0;34m)\u001b[0m\u001b[0;34m\u001b[0m\u001b[0;34m\u001b[0m\u001b[0m\n\u001b[0m\u001b[1;32m   1015\u001b[0m         \u001b[0;32mreturn\u001b[0m \u001b[0mdata\u001b[0m\u001b[0;34m\u001b[0m\u001b[0;34m\u001b[0m\u001b[0m\n\u001b[1;32m   1016\u001b[0m \u001b[0;34m\u001b[0m\u001b[0m\n",
      "\u001b[0;32m/network/lustre/dtlake01/aramis/users/sasha.collin/miniconda3/envs/venv/lib/python3.7/site-packages/torch/_utils.py\u001b[0m in \u001b[0;36mreraise\u001b[0;34m(self)\u001b[0m\n\u001b[1;32m    393\u001b[0m             \u001b[0;31m# (https://bugs.python.org/issue2651), so we work around it.\u001b[0m\u001b[0;34m\u001b[0m\u001b[0;34m\u001b[0m\u001b[0;34m\u001b[0m\u001b[0m\n\u001b[1;32m    394\u001b[0m             \u001b[0mmsg\u001b[0m \u001b[0;34m=\u001b[0m \u001b[0mKeyErrorMessage\u001b[0m\u001b[0;34m(\u001b[0m\u001b[0mmsg\u001b[0m\u001b[0;34m)\u001b[0m\u001b[0;34m\u001b[0m\u001b[0;34m\u001b[0m\u001b[0m\n\u001b[0;32m--> 395\u001b[0;31m         \u001b[0;32mraise\u001b[0m \u001b[0mself\u001b[0m\u001b[0;34m.\u001b[0m\u001b[0mexc_type\u001b[0m\u001b[0;34m(\u001b[0m\u001b[0mmsg\u001b[0m\u001b[0;34m)\u001b[0m\u001b[0;34m\u001b[0m\u001b[0;34m\u001b[0m\u001b[0m\n\u001b[0m",
      "\u001b[0;31mKeyError\u001b[0m: Caught KeyError in DataLoader worker process 0.\nOriginal Traceback (most recent call last):\n  File \"/network/lustre/dtlake01/aramis/users/sasha.collin/miniconda3/envs/venv/lib/python3.7/site-packages/pandas/core/indexes/base.py\", line 3080, in get_loc\n    return self._engine.get_loc(casted_key)\n  File \"pandas/_libs/index.pyx\", line 70, in pandas._libs.index.IndexEngine.get_loc\n  File \"pandas/_libs/index.pyx\", line 101, in pandas._libs.index.IndexEngine.get_loc\n  File \"pandas/_libs/hashtable_class_helper.pxi\", line 1625, in pandas._libs.hashtable.Int64HashTable.get_item\n  File \"pandas/_libs/hashtable_class_helper.pxi\", line 1632, in pandas._libs.hashtable.Int64HashTable.get_item\nKeyError: 5\n\nThe above exception was the direct cause of the following exception:\n\nTraceback (most recent call last):\n  File \"/network/lustre/dtlake01/aramis/users/sasha.collin/miniconda3/envs/venv/lib/python3.7/site-packages/torch/utils/data/_utils/worker.py\", line 185, in _worker_loop\n    data = fetcher.fetch(index)\n  File \"/network/lustre/dtlake01/aramis/users/sasha.collin/miniconda3/envs/venv/lib/python3.7/site-packages/torch/utils/data/_utils/fetch.py\", line 44, in fetch\n    data = [self.dataset[idx] for idx in possibly_batched_index]\n  File \"/network/lustre/dtlake01/aramis/users/sasha.collin/miniconda3/envs/venv/lib/python3.7/site-packages/torch/utils/data/_utils/fetch.py\", line 44, in <listcomp>\n    data = [self.dataset[idx] for idx in possibly_batched_index]\n  File \"/network/lustre/dtlake01/aramis/users/sasha.collin/miniconda3/envs/venv/lib/python3.7/site-packages/clinicadl/tools/deep_learning/data.py\", line 566, in __getitem__\n    participant, session, cohort, slice_idx, label = self._get_meta_data(idx)\n  File \"/network/lustre/dtlake01/aramis/users/sasha.collin/miniconda3/envs/venv/lib/python3.7/site-packages/clinicadl/tools/deep_learning/data.py\", line 140, in _get_meta_data\n    participant = self.df.loc[image_idx, 'participant_id']\n  File \"/network/lustre/dtlake01/aramis/users/sasha.collin/miniconda3/envs/venv/lib/python3.7/site-packages/pandas/core/indexing.py\", line 889, in __getitem__\n    return self._getitem_tuple(key)\n  File \"/network/lustre/dtlake01/aramis/users/sasha.collin/miniconda3/envs/venv/lib/python3.7/site-packages/pandas/core/indexing.py\", line 1060, in _getitem_tuple\n    return self._getitem_lowerdim(tup)\n  File \"/network/lustre/dtlake01/aramis/users/sasha.collin/miniconda3/envs/venv/lib/python3.7/site-packages/pandas/core/indexing.py\", line 807, in _getitem_lowerdim\n    section = self._getitem_axis(key, axis=i)\n  File \"/network/lustre/dtlake01/aramis/users/sasha.collin/miniconda3/envs/venv/lib/python3.7/site-packages/pandas/core/indexing.py\", line 1124, in _getitem_axis\n    return self._get_label(key, axis=axis)\n  File \"/network/lustre/dtlake01/aramis/users/sasha.collin/miniconda3/envs/venv/lib/python3.7/site-packages/pandas/core/indexing.py\", line 1073, in _get_label\n    return self.obj.xs(label, axis=axis)\n  File \"/network/lustre/dtlake01/aramis/users/sasha.collin/miniconda3/envs/venv/lib/python3.7/site-packages/pandas/core/generic.py\", line 3739, in xs\n    loc = index.get_loc(key)\n  File \"/network/lustre/dtlake01/aramis/users/sasha.collin/miniconda3/envs/venv/lib/python3.7/site-packages/pandas/core/indexes/base.py\", line 3082, in get_loc\n    raise KeyError(key) from err\nKeyError: 5\n"
     ]
    }
   ],
   "source": [
    "train(model, train_loader, valid_loader, criterion, optimizer,False,'log_dir','model_dir', Options())"
   ]
  }
 ],
 "metadata": {
  "kernelspec": {
   "display_name": "Python 3",
   "language": "python",
   "name": "python3"
  },
  "language_info": {
   "codemirror_mode": {
    "name": "ipython",
    "version": 3
   },
   "file_extension": ".py",
   "mimetype": "text/x-python",
   "name": "python",
   "nbconvert_exporter": "python",
   "pygments_lexer": "ipython3",
   "version": "3.7.10"
  }
 },
 "nbformat": 4,
 "nbformat_minor": 5
}
