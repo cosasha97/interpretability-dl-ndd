{
 "cells": [
  {
   "cell_type": "code",
   "execution_count": 10,
   "id": "089f6034",
   "metadata": {},
   "outputs": [
    {
     "name": "stdout",
     "output_type": "stream",
     "text": [
      "The autoreload extension is already loaded. To reload it, use:\n",
      "  %reload_ext autoreload\n"
     ]
    }
   ],
   "source": [
    "%load_ext autoreload\n",
    "%autoreload 2"
   ]
  },
  {
   "cell_type": "code",
   "execution_count": 11,
   "id": "5b423de3",
   "metadata": {},
   "outputs": [],
   "source": [
    "import torch\n",
    "import torchvision\n",
    "import numpy as np\n",
    "from nilearn import plotting\n",
    "import clinicadl\n",
    "import pandas as pd\n",
    "import matplotlib.pyplot as plt\n",
    "from torchinfo import summary\n",
    "from sklearn.metrics import log_loss\n",
    "from collections import OrderedDict\n",
    "from PIL import Image\n",
    "from tqdm import tqdm\n",
    "from math import floor\n",
    "import random\n",
    "import time\n",
    "import os\n",
    "\n",
    "# torch\n",
    "import torch.nn as nn\n",
    "import torch.nn.functional as F\n",
    "import torch.optim as optim\n",
    "\n",
    "# clinicaDL\n",
    "from clinicadl.tools.tsv.data_split import create_split\n",
    "from clinicadl.tools.deep_learning.data import generate_sampler, return_dataset, MRIDataset, MRIDatasetImage, MRIDatasetSlice, get_transforms\n",
    "from torch.utils.data import DataLoader\n",
    "from clinicadl.tools.deep_learning.cnn_utils import train, get_criterion, test\n",
    "from clinicadl.tools.deep_learning.models.random import RandomArchitecture\n",
    "from clinicadl.tools.deep_learning import EarlyStopping\n",
    "\n",
    "import matplotlib as mpl\n",
    "from mpl_toolkits.mplot3d import Axes3D\n",
    "import numpy as np\n",
    "import matplotlib.pyplot as plt\n",
    "\n",
    "# visualization\n",
    "from scipy.ndimage import zoom\n",
    "import itkwidgets\n",
    "from ipywidgets import interact, interactive, IntSlider, ToggleButtons\n",
    "import matplotlib.pyplot as plt\n",
    "\n",
    "%matplotlib inline"
   ]
  },
  {
   "cell_type": "code",
   "execution_count": 12,
   "id": "6d32fc9a",
   "metadata": {},
   "outputs": [],
   "source": [
    "# ignore warnings\n",
    "import warnings\n",
    "warnings.filterwarnings('ignore')"
   ]
  },
  {
   "cell_type": "code",
   "execution_count": 13,
   "id": "c73f81ad",
   "metadata": {},
   "outputs": [],
   "source": [
    "from tools.explanations.evaluation import *\n",
    "from tools.explanations.GradCam import *\n",
    "from train.train_CNN import *\n",
    "from tools.callbacks import *\n",
    "from tools.data import *\n",
    "from tools.explanations.visualization import *\n",
    "from tools.models.CN5_FC3_3D import *\n",
    "from tools.settings import *"
   ]
  },
  {
   "cell_type": "code",
   "execution_count": 14,
   "id": "29293b59",
   "metadata": {},
   "outputs": [],
   "source": [
    "data_path = '/network/lustre/dtlake01/aramis/datasets/adni/caps/caps_v2021.tsv'\n",
    "summary_path = '/network/lustre/dtlake01/aramis/datasets/adni/caps/caps_v2021_summary.tsv'\n",
    "# df_data = pd.read_csv(data_path,sep='\\t',nrows=10)\n",
    "# df_summary = pd.read_csv(summary_path,sep='\\t',nrows=10)"
   ]
  },
  {
   "cell_type": "markdown",
   "id": "eb619243",
   "metadata": {},
   "source": [
    "# Train Single CNN"
   ]
  },
  {
   "cell_type": "markdown",
   "id": "bc1e3401",
   "metadata": {},
   "source": [
    "## Initialization"
   ]
  },
  {
   "cell_type": "code",
   "execution_count": 15,
   "id": "a67523b0",
   "metadata": {
    "code_folding": []
   },
   "outputs": [],
   "source": [
    "# global parameters\n",
    "caps_directory = '/network/lustre/dtlake01/aramis/datasets/adni/caps/caps_v2021/'\n",
    "batch_size = 4\n",
    "num_workers = os.cpu_count()\n",
    "learning_rate = 1e-4\n",
    "weight_decay = 1e-4"
   ]
  },
  {
   "cell_type": "code",
   "execution_count": 30,
   "id": "efac0b65",
   "metadata": {
    "code_folding": [],
    "scrolled": true
   },
   "outputs": [
    {
     "name": "stderr",
     "output_type": "stream",
     "text": [
      "DEBUG:root:p_age=0.88, p_sex=0.9493\n",
      "INFO:root:Split for diagnosis AD was found after 1 trials\n",
      "DEBUG:root:p_age=0.10, p_sex=0.9954\n",
      "DEBUG:root:p_age=0.22, p_sex=0.9704\n",
      "DEBUG:root:p_age=0.00, p_sex=0.9547\n",
      "DEBUG:root:p_age=0.09, p_sex=0.8072\n",
      "DEBUG:root:p_age=0.94, p_sex=0.9954\n",
      "INFO:root:Split for diagnosis CN was found after 5 trials\n"
     ]
    }
   ],
   "source": [
    "# load dataframes\n",
    "AD = pd.read_csv('subjects/AD.tsv',sep='\\t')\n",
    "CN = pd.read_csv('subjects/CN.tsv',sep='\\t')\n",
    "\n",
    "# remove samples with NaN\n",
    "AD.drop(AD[AD.isna().sum(axis=1) > 0].index, inplace=True)\n",
    "CN.drop(CN[CN.isna().sum(axis=1) > 0].index, inplace=True)\n",
    "\n",
    "# split data between training and validation sets\n",
    "training_df, valid_df = create_split('AD', AD, 'diagnosis',0.2)\n",
    "df_CN = create_split('CN', CN, 'diagnosis',0.2)\n",
    "training_df = training_df.append(df_CN[0]).reset_index()#.iloc[np.array([0,1,2,-1,-2,-3])]\n",
    "valid_df = valid_df.append(df_CN[1]).reset_index()#.iloc[np.array([0,1,2,-1,-2,-3])]\n",
    "\n",
    "# drop index column\n",
    "training_df.drop(columns = ['index'], inplace=True)\n",
    "valid_df.drop(columns = ['index'], inplace=True)\n",
    "\n",
    "train_transforms, all_transforms = get_transforms('image', minmaxnormalization=True, data_augmentation=None )\n",
    "# fetch volumetric data\n",
    "df_add_data = fetch_add_data(training_df)\n",
    "\n",
    "# all_transforms = torchvision.transforms.Compose([])"
   ]
  },
  {
   "cell_type": "code",
   "execution_count": 17,
   "id": "fa898c26",
   "metadata": {},
   "outputs": [],
   "source": [
    "data_train = MRIDatasetImage(caps_directory, training_df, df_add_data=df_add_data,all_transformations=all_transforms) #train_transformations=all_transforms\n",
    "data_valid = MRIDatasetImage(caps_directory, valid_df, df_add_data=df_add_data, all_transformations=all_transforms) #train_transformations=all_transforms,\n",
    "\n",
    "\n",
    "# sampler\n",
    "train_sampler = generate_sampler(data_train)\n",
    "valid_sampler = generate_sampler(data_valid)\n",
    "# loaders\n",
    "train_loader = DataLoader(data_train,\n",
    "                         batch_size=batch_size,\n",
    "                         sampler=train_sampler,\n",
    "                         num_workers=num_workers,\n",
    "                         pin_memory=True)\n",
    "\n",
    "valid_loader = DataLoader(data_valid,\n",
    "                         batch_size=batch_size,\n",
    "                         sampler=valid_sampler,\n",
    "                         num_workers=num_workers,\n",
    "                         pin_memory=True)"
   ]
  },
  {
   "cell_type": "markdown",
   "id": "fe9be74e",
   "metadata": {},
   "source": [
    "## Training"
   ]
  },
  {
   "cell_type": "code",
   "execution_count": 115,
   "id": "47b66241",
   "metadata": {
    "scrolled": true
   },
   "outputs": [
    {
     "name": "stdout",
     "output_type": "stream",
     "text": [
      "To cuda\n"
     ]
    }
   ],
   "source": [
    "# get sample\n",
    "sample = data_train[0]\n",
    "# build model\n",
    "model = Net(sample, [8, 16, 32, 64, 128])\n",
    "if torch.cuda.is_available():\n",
    "    print(\"To cuda\")\n",
    "    model.cuda()\n",
    "#model.summary(batch_size=4)"
   ]
  },
  {
   "cell_type": "code",
   "execution_count": 116,
   "id": "233518cf",
   "metadata": {},
   "outputs": [
    {
     "data": {
      "text/plain": [
       "Net(\n",
       "  (features): Sequential(\n",
       "    (conv0): Conv3d(1, 8, kernel_size=(3, 3, 3), stride=(1, 1, 1))\n",
       "    (relu0): ReLU()\n",
       "    (bnn0): BatchNorm3d(8, eps=1e-05, momentum=0.1, affine=True, track_running_stats=True)\n",
       "    (pool0): MaxPool3d(kernel_size=2, stride=2, padding=0, dilation=1, ceil_mode=False)\n",
       "    (conv1): Conv3d(8, 16, kernel_size=(3, 3, 3), stride=(1, 1, 1))\n",
       "    (relu1): ReLU()\n",
       "    (bnn1): BatchNorm3d(16, eps=1e-05, momentum=0.1, affine=True, track_running_stats=True)\n",
       "    (pool1): MaxPool3d(kernel_size=2, stride=2, padding=0, dilation=1, ceil_mode=False)\n",
       "    (conv2): Conv3d(16, 32, kernel_size=(3, 3, 3), stride=(1, 1, 1))\n",
       "    (relu2): ReLU()\n",
       "    (bnn2): BatchNorm3d(32, eps=1e-05, momentum=0.1, affine=True, track_running_stats=True)\n",
       "    (pool2): MaxPool3d(kernel_size=2, stride=2, padding=0, dilation=1, ceil_mode=False)\n",
       "    (conv3): Conv3d(32, 64, kernel_size=(3, 3, 3), stride=(1, 1, 1))\n",
       "    (relu3): ReLU()\n",
       "    (bnn3): BatchNorm3d(64, eps=1e-05, momentum=0.1, affine=True, track_running_stats=True)\n",
       "    (pool3): MaxPool3d(kernel_size=2, stride=2, padding=0, dilation=1, ceil_mode=False)\n",
       "  )\n",
       "  (branch1): Sequential(\n",
       "    (b1-conv): Conv3d(64, 128, kernel_size=(3, 3, 3), stride=(1, 1, 1))\n",
       "    (b1-relu): ReLU()\n",
       "    (b1-bnn): BatchNorm3d(128, eps=1e-05, momentum=0.1, affine=True, track_running_stats=True)\n",
       "    (b1-pool): MaxPool3d(kernel_size=2, stride=2, padding=0, dilation=1, ceil_mode=False)\n",
       "    (b1-flatten): Flatten(start_dim=1, end_dim=-1)\n",
       "    (b1-linear0): Linear(in_features=4608, out_features=32, bias=True)\n",
       "    (b1-relu0): ReLU()\n",
       "    (b1-batchnorm0): BatchNorm1d(32, eps=1e-05, momentum=0.1, affine=True, track_running_stats=True)\n",
       "    (b1-dropout0): Dropout(p=0.5, inplace=False)\n",
       "    (b1-linear1): Linear(in_features=32, out_features=16, bias=True)\n",
       "    (b1-relu1): ReLU()\n",
       "    (b1-batchnorm1): BatchNorm1d(16, eps=1e-05, momentum=0.1, affine=True, track_running_stats=True)\n",
       "    (b1-dropout1): Dropout(p=0.5, inplace=False)\n",
       "    (b1-linear2): Linear(in_features=16, out_features=1, bias=True)\n",
       "    (b1-sigmoid): Sigmoid()\n",
       "  )\n",
       "  (branch2): Sequential(\n",
       "    (b2-conv): Conv3d(64, 128, kernel_size=(3, 3, 3), stride=(1, 1, 1))\n",
       "    (b2-relu): ReLU()\n",
       "    (b2-bnn): BatchNorm3d(128, eps=1e-05, momentum=0.1, affine=True, track_running_stats=True)\n",
       "    (b2-pool): MaxPool3d(kernel_size=2, stride=2, padding=0, dilation=1, ceil_mode=False)\n",
       "    (b2-flatten): Flatten(start_dim=1, end_dim=-1)\n",
       "    (b2-linear0): Linear(in_features=4608, out_features=476, bias=True)\n",
       "    (b2-relu0): ReLU()\n",
       "    (b2-batchnorm0): BatchNorm1d(476, eps=1e-05, momentum=0.1, affine=True, track_running_stats=True)\n",
       "    (b2-dropout0): Dropout(p=0.5, inplace=False)\n",
       "    (b2-linear1): Linear(in_features=476, out_features=238, bias=True)\n",
       "    (b2-relu1): ReLU()\n",
       "    (b2-batchnorm1): BatchNorm1d(238, eps=1e-05, momentum=0.1, affine=True, track_running_stats=True)\n",
       "    (b2-dropout1): Dropout(p=0.5, inplace=False)\n",
       "    (b2-linear2): Linear(in_features=238, out_features=119, bias=True)\n",
       "  )\n",
       "  (branch3): Sequential(\n",
       "    (b3-conv): Conv3d(64, 128, kernel_size=(3, 3, 3), stride=(1, 1, 1))\n",
       "    (b3-relu): ReLU()\n",
       "    (b3-bnn): BatchNorm3d(128, eps=1e-05, momentum=0.1, affine=True, track_running_stats=True)\n",
       "    (b3-pool): MaxPool3d(kernel_size=2, stride=2, padding=0, dilation=1, ceil_mode=False)\n",
       "    (b3-flatten): Flatten(start_dim=1, end_dim=-1)\n",
       "    (b3-linear0): Linear(in_features=4608, out_features=32, bias=True)\n",
       "    (b3-relu0): ReLU()\n",
       "    (b3-batchnorm0): BatchNorm1d(32, eps=1e-05, momentum=0.1, affine=True, track_running_stats=True)\n",
       "    (b3-dropout0): Dropout(p=0.5, inplace=False)\n",
       "    (b3-linear1): Linear(in_features=32, out_features=16, bias=True)\n",
       "    (b3-relu1): ReLU()\n",
       "    (b3-batchnorm1): BatchNorm1d(16, eps=1e-05, momentum=0.1, affine=True, track_running_stats=True)\n",
       "    (b3-dropout1): Dropout(p=0.5, inplace=False)\n",
       "    (b3-linear2): Linear(in_features=16, out_features=1, bias=True)\n",
       "  )\n",
       "  (branch4): Sequential(\n",
       "    (b4-conv): Conv3d(64, 128, kernel_size=(3, 3, 3), stride=(1, 1, 1))\n",
       "    (b4-relu): ReLU()\n",
       "    (b4-bnn): BatchNorm3d(128, eps=1e-05, momentum=0.1, affine=True, track_running_stats=True)\n",
       "    (b4-pool): MaxPool3d(kernel_size=2, stride=2, padding=0, dilation=1, ceil_mode=False)\n",
       "    (b4-flatten): Flatten(start_dim=1, end_dim=-1)\n",
       "    (b4-linear0): Linear(in_features=4608, out_features=32, bias=True)\n",
       "    (b4-relu0): ReLU()\n",
       "    (b4-batchnorm0): BatchNorm1d(32, eps=1e-05, momentum=0.1, affine=True, track_running_stats=True)\n",
       "    (b4-dropout0): Dropout(p=0.5, inplace=False)\n",
       "    (b4-linear1): Linear(in_features=32, out_features=16, bias=True)\n",
       "    (b4-relu1): ReLU()\n",
       "    (b4-batchnorm1): BatchNorm1d(16, eps=1e-05, momentum=0.1, affine=True, track_running_stats=True)\n",
       "    (b4-dropout1): Dropout(p=0.5, inplace=False)\n",
       "    (b4-linear2): Linear(in_features=16, out_features=1, bias=True)\n",
       "    (b4-sigmoid): Sigmoid()\n",
       "  )\n",
       "  (b1_metrics): MetricCollection(\n",
       "    (Accuracy): Accuracy()\n",
       "    (Recall): Recall()\n",
       "    (Precision): Precision()\n",
       "  )\n",
       "  (b2_metrics): MetricCollection(\n",
       "    (R2Score): R2Score()\n",
       "  )\n",
       "  (b3_metrics): MetricCollection(\n",
       "    (R2Score): R2Score()\n",
       "  )\n",
       "  (b4_metrics): MetricCollection(\n",
       "    (Accuracy): Accuracy()\n",
       "    (Recall): Recall()\n",
       "    (Precision): Precision()\n",
       "  )\n",
       ")"
      ]
     },
     "execution_count": 116,
     "metadata": {},
     "output_type": "execute_result"
    }
   ],
   "source": [
    "model"
   ]
  },
  {
   "cell_type": "code",
   "execution_count": 13,
   "id": "cb5d10ef",
   "metadata": {
    "collapsed": true
   },
   "outputs": [
    {
     "name": "stdout",
     "output_type": "stream",
     "text": [
      "Beginning of the training\n"
     ]
    },
    {
     "name": "stderr",
     "output_type": "stream",
     "text": [
      "1it [00:03,  3.17s/it]"
     ]
    },
    {
     "name": "stdout",
     "output_type": "stream",
     "text": [
      "GRADIENT  22.82039451599121\n"
     ]
    },
    {
     "name": "stderr",
     "output_type": "stream",
     "text": [
      "\r",
      "2it [00:08,  4.17s/it]"
     ]
    },
    {
     "name": "stdout",
     "output_type": "stream",
     "text": [
      "GRADIENT  4.7365875244140625\n"
     ]
    },
    {
     "name": "stderr",
     "output_type": "stream",
     "text": [
      "\r",
      "3it [00:12,  4.52s/it]"
     ]
    },
    {
     "name": "stdout",
     "output_type": "stream",
     "text": [
      "GRADIENT  5.585546970367432\n"
     ]
    },
    {
     "name": "stderr",
     "output_type": "stream",
     "text": [
      "\r",
      "4it [00:17,  4.69s/it]"
     ]
    },
    {
     "name": "stdout",
     "output_type": "stream",
     "text": [
      "GRADIENT  6.591873645782471\n"
     ]
    },
    {
     "name": "stderr",
     "output_type": "stream",
     "text": [
      "\r",
      "5it [00:22,  4.77s/it]"
     ]
    },
    {
     "name": "stdout",
     "output_type": "stream",
     "text": [
      "GRADIENT  3.5194201469421387\n"
     ]
    },
    {
     "name": "stderr",
     "output_type": "stream",
     "text": [
      "\r",
      "6it [00:27,  4.83s/it]"
     ]
    },
    {
     "name": "stdout",
     "output_type": "stream",
     "text": [
      "GRADIENT  5.485313415527344\n"
     ]
    },
    {
     "name": "stderr",
     "output_type": "stream",
     "text": [
      "\r",
      "7it [00:32,  4.87s/it]"
     ]
    },
    {
     "name": "stdout",
     "output_type": "stream",
     "text": [
      "GRADIENT  6.879371166229248\n"
     ]
    },
    {
     "name": "stderr",
     "output_type": "stream",
     "text": [
      "\r",
      "8it [00:37,  4.89s/it]"
     ]
    },
    {
     "name": "stdout",
     "output_type": "stream",
     "text": [
      "GRADIENT  8.748236656188965\n"
     ]
    },
    {
     "name": "stderr",
     "output_type": "stream",
     "text": [
      "\r",
      "9it [00:42,  4.90s/it]"
     ]
    },
    {
     "name": "stdout",
     "output_type": "stream",
     "text": [
      "GRADIENT  2.05631160736084\n"
     ]
    },
    {
     "name": "stderr",
     "output_type": "stream",
     "text": [
      "\r",
      "10it [00:47,  4.92s/it]"
     ]
    },
    {
     "name": "stdout",
     "output_type": "stream",
     "text": [
      "GRADIENT  0.650446891784668\n"
     ]
    },
    {
     "name": "stderr",
     "output_type": "stream",
     "text": [
      "\r",
      "11it [00:52,  4.93s/it]"
     ]
    },
    {
     "name": "stdout",
     "output_type": "stream",
     "text": [
      "GRADIENT  2.5100419521331787\n"
     ]
    },
    {
     "name": "stderr",
     "output_type": "stream",
     "text": [
      "\r",
      "12it [00:57,  4.94s/it]"
     ]
    },
    {
     "name": "stdout",
     "output_type": "stream",
     "text": [
      "GRADIENT  1.718007206916809\n"
     ]
    },
    {
     "name": "stderr",
     "output_type": "stream",
     "text": [
      "\r",
      "13it [01:02,  4.93s/it]"
     ]
    },
    {
     "name": "stdout",
     "output_type": "stream",
     "text": [
      "GRADIENT  2.5225937366485596\n"
     ]
    },
    {
     "name": "stderr",
     "output_type": "stream",
     "text": [
      "\r",
      "14it [01:07,  4.93s/it]"
     ]
    },
    {
     "name": "stdout",
     "output_type": "stream",
     "text": [
      "GRADIENT  1.2983245849609375\n"
     ]
    },
    {
     "name": "stderr",
     "output_type": "stream",
     "text": [
      "\r",
      "15it [01:12,  4.93s/it]"
     ]
    },
    {
     "name": "stdout",
     "output_type": "stream",
     "text": [
      "GRADIENT  1.9470058679580688\n"
     ]
    },
    {
     "name": "stderr",
     "output_type": "stream",
     "text": [
      "\r",
      "16it [01:17,  4.93s/it]"
     ]
    },
    {
     "name": "stdout",
     "output_type": "stream",
     "text": [
      "GRADIENT  3.7601733207702637\n"
     ]
    },
    {
     "name": "stderr",
     "output_type": "stream",
     "text": [
      "\r",
      "17it [01:22,  4.93s/it]"
     ]
    },
    {
     "name": "stdout",
     "output_type": "stream",
     "text": [
      "GRADIENT  1.691821575164795\n"
     ]
    },
    {
     "name": "stderr",
     "output_type": "stream",
     "text": [
      "\r",
      "18it [01:26,  4.92s/it]"
     ]
    },
    {
     "name": "stdout",
     "output_type": "stream",
     "text": [
      "GRADIENT  2.696585178375244\n"
     ]
    },
    {
     "name": "stderr",
     "output_type": "stream",
     "text": [
      "\r",
      "19it [01:31,  4.92s/it]"
     ]
    },
    {
     "name": "stdout",
     "output_type": "stream",
     "text": [
      "GRADIENT  0.7875650525093079\n"
     ]
    },
    {
     "name": "stderr",
     "output_type": "stream",
     "text": [
      "\r",
      "20it [01:36,  4.92s/it]"
     ]
    },
    {
     "name": "stdout",
     "output_type": "stream",
     "text": [
      "GRADIENT  2.749152183532715\n"
     ]
    },
    {
     "name": "stderr",
     "output_type": "stream",
     "text": [
      "20it [01:41,  5.07s/it]\n"
     ]
    },
    {
     "ename": "KeyboardInterrupt",
     "evalue": "",
     "output_type": "error",
     "traceback": [
      "\u001b[0;31m---------------------------------------------------------------------------\u001b[0m",
      "\u001b[0;31mKeyboardInterrupt\u001b[0m                         Traceback (most recent call last)",
      "\u001b[0;32m<ipython-input-13-4bb57c0b1318>\u001b[0m in \u001b[0;36m<module>\u001b[0;34m\u001b[0m\n\u001b[1;32m     13\u001b[0m \u001b[0;31m# training\u001b[0m\u001b[0;34m\u001b[0m\u001b[0;34m\u001b[0m\u001b[0;34m\u001b[0m\u001b[0m\n\u001b[1;32m     14\u001b[0m \u001b[0;32mfor\u001b[0m \u001b[0mepoch\u001b[0m \u001b[0;32min\u001b[0m \u001b[0mrange\u001b[0m\u001b[0;34m(\u001b[0m\u001b[0;36m2\u001b[0m\u001b[0;34m)\u001b[0m\u001b[0;34m:\u001b[0m\u001b[0;34m\u001b[0m\u001b[0;34m\u001b[0m\u001b[0m\n\u001b[0;32m---> 15\u001b[0;31m     \u001b[0mupdate_dict\u001b[0m\u001b[0;34m(\u001b[0m\u001b[0mtrain_losses\u001b[0m\u001b[0;34m,\u001b[0m \u001b[0mtrain\u001b[0m\u001b[0;34m(\u001b[0m\u001b[0mepoch\u001b[0m\u001b[0;34m,\u001b[0m \u001b[0mmodel\u001b[0m\u001b[0;34m,\u001b[0m \u001b[0moptimizer\u001b[0m\u001b[0;34m,\u001b[0m \u001b[0mtrain_loader\u001b[0m\u001b[0;34m,\u001b[0m \u001b[0mto_cuda\u001b[0m\u001b[0;34m=\u001b[0m\u001b[0;32mTrue\u001b[0m\u001b[0;34m)\u001b[0m\u001b[0;34m)\u001b[0m\u001b[0;34m\u001b[0m\u001b[0;34m\u001b[0m\u001b[0m\n\u001b[0m\u001b[1;32m     16\u001b[0m     \u001b[0mupdate_dict\u001b[0m\u001b[0;34m(\u001b[0m\u001b[0mtest_losses\u001b[0m\u001b[0;34m,\u001b[0m \u001b[0mtest\u001b[0m\u001b[0;34m(\u001b[0m\u001b[0mmodel\u001b[0m\u001b[0;34m,\u001b[0m \u001b[0mvalid_loader\u001b[0m\u001b[0;34m,\u001b[0m \u001b[0mto_cuda\u001b[0m\u001b[0;34m=\u001b[0m\u001b[0;32mTrue\u001b[0m\u001b[0;34m)\u001b[0m\u001b[0;34m)\u001b[0m\u001b[0;34m\u001b[0m\u001b[0;34m\u001b[0m\u001b[0m\n",
      "\u001b[0;32m/network/lustre/dtlake01/aramis/users/sasha.collin/interpretability-dl-ndd/train/train_CNN.py\u001b[0m in \u001b[0;36mtrain\u001b[0;34m(epoch, model, optimizer_, loader, loss_weights, to_cuda)\u001b[0m\n\u001b[1;32m     58\u001b[0m             \u001b[0;32mfor\u001b[0m \u001b[0mkey\u001b[0m \u001b[0;32min\u001b[0m \u001b[0mdata\u001b[0m\u001b[0;34m.\u001b[0m\u001b[0mkeys\u001b[0m\u001b[0;34m(\u001b[0m\u001b[0;34m)\u001b[0m\u001b[0;34m:\u001b[0m\u001b[0;34m\u001b[0m\u001b[0;34m\u001b[0m\u001b[0m\n\u001b[1;32m     59\u001b[0m                 \u001b[0;32mtry\u001b[0m\u001b[0;34m:\u001b[0m\u001b[0;34m\u001b[0m\u001b[0;34m\u001b[0m\u001b[0m\n\u001b[0;32m---> 60\u001b[0;31m                     \u001b[0mdata\u001b[0m\u001b[0;34m[\u001b[0m\u001b[0mkey\u001b[0m\u001b[0;34m]\u001b[0m \u001b[0;34m=\u001b[0m \u001b[0mdata\u001b[0m\u001b[0;34m[\u001b[0m\u001b[0mkey\u001b[0m\u001b[0;34m]\u001b[0m\u001b[0;34m.\u001b[0m\u001b[0mcuda\u001b[0m\u001b[0;34m(\u001b[0m\u001b[0;34m)\u001b[0m\u001b[0;34m\u001b[0m\u001b[0;34m\u001b[0m\u001b[0m\n\u001b[0m\u001b[1;32m     61\u001b[0m                 \u001b[0;32mexcept\u001b[0m \u001b[0mAttributeError\u001b[0m\u001b[0;34m:\u001b[0m\u001b[0;34m\u001b[0m\u001b[0;34m\u001b[0m\u001b[0m\n\u001b[1;32m     62\u001b[0m                     \u001b[0;32mpass\u001b[0m\u001b[0;34m\u001b[0m\u001b[0;34m\u001b[0m\u001b[0m\n",
      "\u001b[0;31mKeyboardInterrupt\u001b[0m: "
     ]
    }
   ],
   "source": [
    "# optimizer\n",
    "optimizer = optim.Adam(model.parameters(), lr=1e-4)\n",
    "# record losses\n",
    "train_losses = dict()\n",
    "test_losses = dict()\n",
    "\n",
    "# callbacks\n",
    "ES = EarlyStopping(patience=5)\n",
    "MC = ModelCheckpoint()\n",
    "\n",
    "print(\"Beginning of the training\")\n",
    "\n",
    "# training\n",
    "for epoch in range(2):\n",
    "    update_dict(train_losses, train(epoch, model, optimizer, train_loader, to_cuda=True))\n",
    "    update_dict(test_losses, test(model, valid_loader, to_cuda=True))"
   ]
  },
  {
   "cell_type": "code",
   "execution_count": 46,
   "id": "d70ff3f9",
   "metadata": {},
   "outputs": [
    {
     "name": "stdout",
     "output_type": "stream",
     "text": [
      "38.70608\n",
      "62.221134\n",
      "338.53052\n",
      "32.400326\n"
     ]
    }
   ],
   "source": [
    "for k in range(1,5):\n",
    "    print(np.linalg.norm(getattr(getattr(model,'branch' + str(k)), 'b' + str(k) + '-conv').weight.grad.data.cpu()))"
   ]
  },
  {
   "cell_type": "markdown",
   "id": "497c3703",
   "metadata": {
    "heading_collapsed": true
   },
   "source": [
    "## Loss visualization"
   ]
  },
  {
   "cell_type": "code",
   "execution_count": 14,
   "id": "8f08832b",
   "metadata": {
    "code_folding": [],
    "hidden": true
   },
   "outputs": [],
   "source": [
    "def plot_losses(dict_losses, title=\"\"):\n",
    "    \"\"\"\n",
    "    Plot the different losses.\n",
    "    \n",
    "    Args:\n",
    "        dict_losses: dictionnary of losses\n",
    "    \"\"\"\n",
    "    plt.figure()\n",
    "    plt.title(title)\n",
    "    for key in dict_losses.keys():\n",
    "        plt.plot(dict_losses[key], label=key)\n",
    "    plt.legend()\n",
    "    plt.show()\n",
    "    \n",
    "def plot_tensor(X):\n",
    "    x = np.transpose(X[0], (1,2,0))\n",
    "    x = (x-x.min())/x.max()\n",
    "    plt.imshow(x)"
   ]
  },
  {
   "cell_type": "code",
   "execution_count": 116,
   "id": "ea143fb6",
   "metadata": {
    "hidden": true
   },
   "outputs": [],
   "source": [
    "metric_path = 'results/models/model_5/'\n",
    "\n",
    "train_metrics = pd.read_csv(metric_path + 'train_losses.csv')\n",
    "test_metrics = pd.read_csv(metric_path + 'val_losses.csv')"
   ]
  },
  {
   "cell_type": "code",
   "execution_count": 121,
   "id": "540b4fa3",
   "metadata": {
    "hidden": true
   },
   "outputs": [
    {
     "data": {
      "image/png": "[encoded data removed]",
      "text/plain": [
       "<Figure size 432x288 with 1 Axes>"
      ]
     },
     "metadata": {
      "needs_background": "light"
     },
     "output_type": "display_data"
    }
   ],
   "source": [
    "plot_losses(train_metrics[['disease']], \"Training losses\")"
   ]
  },
  {
   "cell_type": "code",
   "execution_count": 120,
   "id": "6f7f6ecb",
   "metadata": {
    "hidden": true
   },
   "outputs": [
    {
     "data": {
      "image/png": "[encoded data removed]",
      "text/plain": [
       "<Figure size 432x288 with 1 Axes>"
      ]
     },
     "metadata": {
      "needs_background": "light"
     },
     "output_type": "display_data"
    }
   ],
   "source": [
    "plot_losses(test_metrics[['disease']], \"Val losses\")"
   ]
  },
  {
   "cell_type": "markdown",
   "id": "02cce37e",
   "metadata": {},
   "source": [
    "## Assess explanation"
   ]
  },
  {
   "cell_type": "code",
   "execution_count": 96,
   "id": "eb37b136",
   "metadata": {},
   "outputs": [
    {
     "data": {
      "text/plain": [
       "<All keys matched successfully>"
      ]
     },
     "execution_count": 96,
     "metadata": {},
     "output_type": "execute_result"
    }
   ],
   "source": [
    "# load model\n",
    "saved_data = torch.load('results/models/model_6/best_model.pt')\n",
    "\n",
    "model.load_state_dict(saved_data['model_state_dict'])"
   ]
  },
  {
   "cell_type": "code",
   "execution_count": 140,
   "id": "453f2de9",
   "metadata": {
    "scrolled": true
   },
   "outputs": [
    {
     "name": "stdout",
     "output_type": "stream",
     "text": [
      "tensor([[0., 0., 0., 0., 0., 0., 0., 0., 0., 0., 0., 0., 0., 0., 0., 0., 0., 0.,\n",
      "         0., 0., 1., 0., 0., 0., 0., 0., 0., 0., 0., 0., 0., 0., 0., 0., 0., 0.,\n",
      "         0., 0., 0., 0., 0., 0., 0., 0., 0., 0., 0., 0., 0., 0., 0., 0., 0., 0.,\n",
      "         0., 0., 0., 0., 0., 0., 0., 0., 0., 0., 0., 0., 0., 0., 0., 0., 0., 0.,\n",
      "         0., 0., 0., 0., 0., 0., 0., 0., 0., 0., 0., 0., 0., 0., 0., 0., 0., 0.,\n",
      "         0., 0., 0., 0., 0., 0., 0., 0., 0., 0., 0., 0., 0., 0., 0., 0., 0., 0.,\n",
      "         0., 0., 0., 0., 0., 0., 0., 0., 0., 0., 0.]], device='cuda:0')\n",
      "26.937028408050537\n"
     ]
    }
   ],
   "source": [
    "a0 = time.time()\n",
    "GC = GradCam(model.cuda())\n",
    "img = sample['image'].float()\n",
    "attentions = GC.get_explanations(img.cuda(), resize=True, to_cpu=True, volume_index=20)\n",
    "#GC.visualize_cams(img)\n",
    "print(time.time() - a0)"
   ]
  },
  {
   "cell_type": "code",
   "execution_count": 139,
   "id": "c9c11aca",
   "metadata": {
    "scrolled": false
   },
   "outputs": [
    {
     "name": "stdout",
     "output_type": "stream",
     "text": [
      "Image shape: 169 208 179\n"
     ]
    },
    {
     "data": {
      "application/vnd.jupyter.widget-view+json": {
       "model_id": "fde6a740e8d84741a67087d077c3d5dc",
       "version_major": 2,
       "version_minor": 0
      },
      "text/plain": [
       "interactive(children=(IntSlider(value=103, description='layer', max=207), IntSlider(value=0, description='chan…"
      ]
     },
     "metadata": {},
     "output_type": "display_data"
    }
   ],
   "source": [
    "# for key in attentions:\n",
    "#     attentions[key] = attentions[key].cpu()\n",
    "visualize_explanations(img, attentions, targets='volumes')"
   ]
  },
  {
   "cell_type": "markdown",
   "id": "6006ddc6",
   "metadata": {
    "heading_collapsed": true
   },
   "source": [
    "### max-sensitivity"
   ]
  },
  {
   "cell_type": "code",
   "execution_count": 162,
   "id": "62552349",
   "metadata": {
    "collapsed": true,
    "hidden": true
   },
   "outputs": [
    {
     "name": "stderr",
     "output_type": "stream",
     "text": [
      "\r",
      "  0%|          | 0/25 [00:00<?, ?it/s]"
     ]
    },
    {
     "name": "stdout",
     "output_type": "stream",
     "text": [
      "hello\n",
      "hello\n",
      "hello\n",
      "hello\n",
      "hello2\n"
     ]
    },
    {
     "name": "stderr",
     "output_type": "stream",
     "text": [
      "\r",
      "  4%|▍         | 1/25 [00:33<13:25, 33.55s/it]"
     ]
    },
    {
     "name": "stdout",
     "output_type": "stream",
     "text": [
      "hello3\n",
      "hello\n",
      "hello\n"
     ]
    },
    {
     "name": "stderr",
     "output_type": "stream",
     "text": [
      "  4%|▍         | 1/25 [00:50<20:08, 50.34s/it]\n"
     ]
    },
    {
     "ename": "KeyboardInterrupt",
     "evalue": "",
     "output_type": "error",
     "traceback": [
      "\u001b[0;31m---------------------------------------------------------------------------\u001b[0m",
      "\u001b[0;31mKeyboardInterrupt\u001b[0m                         Traceback (most recent call last)",
      "\u001b[0;32m<ipython-input-162-554de30ee644>\u001b[0m in \u001b[0;36m<module>\u001b[0;34m\u001b[0m\n\u001b[1;32m      6\u001b[0m     \u001b[0mrandom\u001b[0m\u001b[0;34m.\u001b[0m\u001b[0mseed\u001b[0m\u001b[0;34m(\u001b[0m\u001b[0;36m0\u001b[0m\u001b[0;34m)\u001b[0m\u001b[0;34m\u001b[0m\u001b[0;34m\u001b[0m\u001b[0m\n\u001b[1;32m      7\u001b[0m     \u001b[0mtorch\u001b[0m\u001b[0;34m.\u001b[0m\u001b[0mmanual_seed\u001b[0m\u001b[0;34m(\u001b[0m\u001b[0;36m0\u001b[0m\u001b[0;34m)\u001b[0m\u001b[0;34m\u001b[0m\u001b[0;34m\u001b[0m\u001b[0m\n\u001b[0;32m----> 8\u001b[0;31m     \u001b[0mresu\u001b[0m \u001b[0;34m=\u001b[0m \u001b[0mmax_sensitivity\u001b[0m\u001b[0;34m(\u001b[0m\u001b[0mimg\u001b[0m\u001b[0;34m,\u001b[0m \u001b[0mGC\u001b[0m\u001b[0;34m,\u001b[0m \u001b[0mk\u001b[0m\u001b[0;34m)\u001b[0m\u001b[0;34m\u001b[0m\u001b[0;34m\u001b[0m\u001b[0m\n\u001b[0m\u001b[1;32m      9\u001b[0m     \u001b[0ma\u001b[0m\u001b[0;34m.\u001b[0m\u001b[0mappend\u001b[0m\u001b[0;34m(\u001b[0m\u001b[0mresu\u001b[0m\u001b[0;34m[\u001b[0m\u001b[0;34m'branch1'\u001b[0m\u001b[0;34m]\u001b[0m\u001b[0;34m)\u001b[0m\u001b[0;34m\u001b[0m\u001b[0;34m\u001b[0m\u001b[0m\n\u001b[1;32m     10\u001b[0m     \u001b[0mb\u001b[0m\u001b[0;34m.\u001b[0m\u001b[0mappend\u001b[0m\u001b[0;34m(\u001b[0m\u001b[0mresu\u001b[0m\u001b[0;34m[\u001b[0m\u001b[0;34m'branch2'\u001b[0m\u001b[0;34m]\u001b[0m\u001b[0;34m)\u001b[0m\u001b[0;34m\u001b[0m\u001b[0;34m\u001b[0m\u001b[0m\n",
      "\u001b[0;32m<ipython-input-161-c799edb2756f>\u001b[0m in \u001b[0;36mmax_sensitivity\u001b[0;34m(X, exp_method, N, alpha)\u001b[0m\n\u001b[1;32m     19\u001b[0m         \u001b[0;31m# create noisy image\u001b[0m\u001b[0;34m\u001b[0m\u001b[0;34m\u001b[0m\u001b[0;34m\u001b[0m\u001b[0m\n\u001b[1;32m     20\u001b[0m         \u001b[0mprint\u001b[0m\u001b[0;34m(\u001b[0m\u001b[0;34m'hello'\u001b[0m\u001b[0;34m)\u001b[0m\u001b[0;34m\u001b[0m\u001b[0;34m\u001b[0m\u001b[0m\n\u001b[0;32m---> 21\u001b[0;31m         \u001b[0mnoisy_X\u001b[0m \u001b[0;34m=\u001b[0m \u001b[0mX\u001b[0m \u001b[0;34m+\u001b[0m \u001b[0mX\u001b[0m\u001b[0;34m.\u001b[0m\u001b[0mdata\u001b[0m\u001b[0;34m.\u001b[0m\u001b[0mnew\u001b[0m\u001b[0;34m(\u001b[0m\u001b[0mX\u001b[0m\u001b[0;34m.\u001b[0m\u001b[0msize\u001b[0m\u001b[0;34m(\u001b[0m\u001b[0;34m)\u001b[0m\u001b[0;34m)\u001b[0m\u001b[0;34m.\u001b[0m\u001b[0mnormal_\u001b[0m\u001b[0;34m(\u001b[0m\u001b[0;36m0\u001b[0m\u001b[0;34m,\u001b[0m \u001b[0malpha\u001b[0m \u001b[0;34m*\u001b[0m \u001b[0mX\u001b[0m\u001b[0;34m.\u001b[0m\u001b[0mstd\u001b[0m\u001b[0;34m(\u001b[0m\u001b[0;34m)\u001b[0m\u001b[0;34m.\u001b[0m\u001b[0mitem\u001b[0m\u001b[0;34m(\u001b[0m\u001b[0;34m)\u001b[0m\u001b[0;34m)\u001b[0m\u001b[0;34m.\u001b[0m\u001b[0mcuda\u001b[0m\u001b[0;34m(\u001b[0m\u001b[0;34m)\u001b[0m\u001b[0;34m\u001b[0m\u001b[0;34m\u001b[0m\u001b[0m\n\u001b[0m\u001b[1;32m     22\u001b[0m         \u001b[0mprint\u001b[0m\u001b[0;34m(\u001b[0m\u001b[0;34m'hello'\u001b[0m\u001b[0;34m)\u001b[0m\u001b[0;34m\u001b[0m\u001b[0;34m\u001b[0m\u001b[0m\n\u001b[1;32m     23\u001b[0m         \u001b[0mnoisy_X\u001b[0m \u001b[0;34m=\u001b[0m \u001b[0mtorch\u001b[0m\u001b[0;34m.\u001b[0m\u001b[0mmax\u001b[0m\u001b[0;34m(\u001b[0m\u001b[0mnoisy_X\u001b[0m\u001b[0;34m,\u001b[0m \u001b[0mX\u001b[0m\u001b[0;34m.\u001b[0m\u001b[0mmin\u001b[0m\u001b[0;34m(\u001b[0m\u001b[0;34m)\u001b[0m\u001b[0;34m.\u001b[0m\u001b[0mexpand_as\u001b[0m\u001b[0;34m(\u001b[0m\u001b[0mX\u001b[0m\u001b[0;34m)\u001b[0m\u001b[0;34m)\u001b[0m\u001b[0;34m\u001b[0m\u001b[0;34m\u001b[0m\u001b[0m\n",
      "\u001b[0;31mKeyboardInterrupt\u001b[0m: "
     ]
    }
   ],
   "source": [
    "a,b,c,d = [], [], [], []\n",
    "n_max = 500\n",
    "step = 20\n",
    "for k in tqdm(range(1, n_max, step)):\n",
    "    np.random.seed(0)\n",
    "    random.seed(0)\n",
    "    torch.manual_seed(0)\n",
    "    resu = max_sensitivity(img, GC, k)\n",
    "    a.append(resu['branch1'])\n",
    "    b.append(resu['branch2'])\n",
    "    c.append(resu['branch3'])\n",
    "    d.append(resu['branch4'])"
   ]
  },
  {
   "cell_type": "code",
   "execution_count": 260,
   "id": "6ca86141",
   "metadata": {
    "hidden": true
   },
   "outputs": [
    {
     "name": "stdout",
     "output_type": "stream",
     "text": [
      "hello\n",
      "16.66270351409912\n"
     ]
    }
   ],
   "source": [
    "t = time.time()\n",
    "max_sensitivity(img, GC, N=1)\n",
    "print(time.time() - t)"
   ]
  },
  {
   "cell_type": "code",
   "execution_count": 65,
   "id": "2d4ed76d",
   "metadata": {
    "hidden": true,
    "scrolled": true
   },
   "outputs": [
    {
     "data": {
      "image/png": "[encoded data removed]",
      "text/plain": [
       "<Figure size 432x288 with 1 Axes>"
      ]
     },
     "metadata": {
      "needs_background": "light"
     },
     "output_type": "display_data"
    },
    {
     "data": {
      "image/png": "[encoded data removed]",
      "text/plain": [
       "<Figure size 432x288 with 1 Axes>"
      ]
     },
     "metadata": {
      "needs_background": "light"
     },
     "output_type": "display_data"
    },
    {
     "data": {
      "image/png": "[encoded data removed]",
      "text/plain": [
       "<Figure size 432x288 with 1 Axes>"
      ]
     },
     "metadata": {
      "needs_background": "light"
     },
     "output_type": "display_data"
    },
    {
     "data": {
      "image/png": "[encoded data removed]",
      "text/plain": [
       "<Figure size 432x288 with 1 Axes>"
      ]
     },
     "metadata": {
      "needs_background": "light"
     },
     "output_type": "display_data"
    }
   ],
   "source": [
    "for elem in (a, b, c ,d):\n",
    "    plt.figure()\n",
    "    plt.plot(np.arange(1,n_max,step), elem)"
   ]
  },
  {
   "cell_type": "markdown",
   "id": "8fe7be98",
   "metadata": {
    "heading_collapsed": true
   },
   "source": [
    "### MoRF"
   ]
  },
  {
   "cell_type": "code",
   "execution_count": 23,
   "id": "709d3410",
   "metadata": {
    "hidden": true
   },
   "outputs": [],
   "source": [
    "attention = attentions['branch1']"
   ]
  },
  {
   "cell_type": "code",
   "execution_count": 24,
   "id": "9ee8e733",
   "metadata": {
    "hidden": true
   },
   "outputs": [],
   "source": [
    "ids = np.unravel_index(np.argsort(-attention, axis=None), attention.shape)"
   ]
  },
  {
   "cell_type": "code",
   "execution_count": 65,
   "id": "92c76b26",
   "metadata": {
    "hidden": true
   },
   "outputs": [],
   "source": [
    "batch_size = 16\n",
    "group_size = 20000\n",
    "batch_X = torch.tile(img[None,...], (batch_size,1,1,1,1))\n",
    "for k in range(1, batch_size):\n",
    "    index = k*group_size\n",
    "    batch_X[k,0,ids[0][:index], ids[1][:index], ids[2][:index]] = 0"
   ]
  },
  {
   "cell_type": "code",
   "execution_count": 58,
   "id": "3715326f",
   "metadata": {
    "hidden": true
   },
   "outputs": [],
   "source": [
    "model2 = model.cpu()"
   ]
  },
  {
   "cell_type": "code",
   "execution_count": null,
   "id": "d31e5b58",
   "metadata": {
    "hidden": true
   },
   "outputs": [],
   "source": [
    "resu = model2(batch_X)"
   ]
  },
  {
   "cell_type": "code",
   "execution_count": 14,
   "id": "5e5a2c89",
   "metadata": {
    "hidden": true
   },
   "outputs": [
    {
     "data": {
      "text/plain": [
       "786526"
      ]
     },
     "execution_count": 14,
     "metadata": {},
     "output_type": "execute_result"
    }
   ],
   "source": [
    "img = sample['image'].float()\n",
    "np.prod(img.shape)//8"
   ]
  },
  {
   "cell_type": "code",
   "execution_count": null,
   "id": "cde01433",
   "metadata": {
    "hidden": true
   },
   "outputs": [],
   "source": [
    "def MoRF(X, model, exp_method, K=None, group_size=20000, AUC=False, batch_size=16, to_cuda=False):\n",
    "    \"\"\"\n",
    "    Most relevant first: measures the reliability of an explanation by testing \n",
    "    how fast the output decreases, while we progressively remove information (e.g., perturb pixels) \n",
    "    from the input 𝑥𝑥 (e.g., image), that appears as the most relevant by the explanation.\n",
    "    Args:\n",
    "        X: tensor, brain image, with shape (1, n_channels, depth, height, width). The two first dimensions\n",
    "            are optional.\n",
    "        exp_method: explanation method. Must have a get_explanations(self, input_image) attribute function\n",
    "            which takes an image as input and returns a dictionary mapping branches to explanation maps\n",
    "        K: number of group of relevant pixels to remove\n",
    "        group_size: int, size of a group of pixels to remove\n",
    "        AUC: bool. If True: compute and return area under the curve obtained after removing successively \n",
    "            the K most relevant pixels.\n",
    "        batch_size: int, number of images passed to the model each time\n",
    "            \n",
    "    TO DO:\n",
    "        - add several methods to perturb pixels\n",
    "    \"\"\"\n",
    "    if to_cuda and torch.cuda.is_available():\n",
    "        X = X.cuda()\n",
    "        \n",
    "    if K is None:\n",
    "        K = np.prod(X.shape)//8\n",
    "    \n",
    "    # reshpae X if necessary\n",
    "    while len(X.shape) < 5:\n",
    "        X = X[None,...]\n",
    "    \n",
    "    # original predictions\n",
    "    preds = model(X)\n",
    "    # explanations for original image\n",
    "    expls = exp_method.get_explanations(X, resize=True)\n",
    "    # explanations for new images\n",
    "    new_preds = dict()\n",
    "    \n",
    "    # def update_dict\n",
    "    \n",
    "    for target in expls:\n",
    "        # Indices of the sorted elements of the explanations:\n",
    "        ids = np.unravel_index(np.argsort(-expls[target], axis=None), expls[target].shape)\n",
    "    \n",
    "        if AUC:\n",
    "            # number of \n",
    "            removed_pixels = 0\n",
    "            while removed_pixels < K:\n",
    "                # create batch of images\n",
    "                bs = min(batch_size,(K - removed_pixels)%group_size)\n",
    "                batch_X = torch.tile(X, (bs,1,1,1,1))\n",
    "                for k in range(1, batch_size):\n",
    "                    index = k*group_size\n",
    "                    batch_X[k,0,ids[0][:index], ids[1][:index], ids[2][:index]] = 0\n",
    "                    new_preds[target] = model(batch_X)\n",
    "        else:\n",
    "            # compute MoRF removing the K most relevant pixels\n",
    "            batch_X = X.copy()\n",
    "            batch_X[0,0,ids[0][:K], ids[1][:K], ids[2][:K]]\n",
    "            new_preds[target] = model(batch_X)\n",
    "        "
   ]
  },
  {
   "cell_type": "markdown",
   "id": "1a89dc28",
   "metadata": {
    "heading_collapsed": true
   },
   "source": [
    "# random"
   ]
  },
  {
   "cell_type": "code",
   "execution_count": 12,
   "id": "4c8a1bc3",
   "metadata": {
    "hidden": true
   },
   "outputs": [],
   "source": [
    "losses = pd.read_csv('train_losses_3D_2.csv')\n",
    "test_losses = pd.read_csv('val_losses_3D_2.csv')"
   ]
  },
  {
   "cell_type": "code",
   "execution_count": 13,
   "id": "65649095",
   "metadata": {
    "collapsed": true,
    "hidden": true
   },
   "outputs": [
    {
     "data": {
      "text/html": [
       "<div>\n",
       "<style scoped>\n",
       "    .dataframe tbody tr th:only-of-type {\n",
       "        vertical-align: middle;\n",
       "    }\n",
       "\n",
       "    .dataframe tbody tr th {\n",
       "        vertical-align: top;\n",
       "    }\n",
       "\n",
       "    .dataframe thead th {\n",
       "        text-align: right;\n",
       "    }\n",
       "</style>\n",
       "<table border=\"1\" class=\"dataframe\">\n",
       "  <thead>\n",
       "    <tr style=\"text-align: right;\">\n",
       "      <th></th>\n",
       "      <th>disease</th>\n",
       "      <th>volumes</th>\n",
       "      <th>age</th>\n",
       "      <th>sex</th>\n",
       "      <th>train</th>\n",
       "    </tr>\n",
       "  </thead>\n",
       "  <tbody>\n",
       "    <tr>\n",
       "      <th>0</th>\n",
       "      <td>100.886792</td>\n",
       "      <td>208.577956</td>\n",
       "      <td>203.672194</td>\n",
       "      <td>108.274373</td>\n",
       "      <td>621.411314</td>\n",
       "    </tr>\n",
       "    <tr>\n",
       "      <th>1</th>\n",
       "      <td>99.300285</td>\n",
       "      <td>189.136253</td>\n",
       "      <td>181.978068</td>\n",
       "      <td>102.553474</td>\n",
       "      <td>572.968082</td>\n",
       "    </tr>\n",
       "    <tr>\n",
       "      <th>2</th>\n",
       "      <td>99.611135</td>\n",
       "      <td>177.060827</td>\n",
       "      <td>179.713241</td>\n",
       "      <td>96.790141</td>\n",
       "      <td>553.175344</td>\n",
       "    </tr>\n",
       "    <tr>\n",
       "      <th>3</th>\n",
       "      <td>98.597355</td>\n",
       "      <td>175.775614</td>\n",
       "      <td>161.555070</td>\n",
       "      <td>91.401181</td>\n",
       "      <td>527.329220</td>\n",
       "    </tr>\n",
       "    <tr>\n",
       "      <th>4</th>\n",
       "      <td>99.769326</td>\n",
       "      <td>169.524786</td>\n",
       "      <td>174.342649</td>\n",
       "      <td>90.024557</td>\n",
       "      <td>533.661319</td>\n",
       "    </tr>\n",
       "    <tr>\n",
       "      <th>5</th>\n",
       "      <td>91.561733</td>\n",
       "      <td>163.977378</td>\n",
       "      <td>162.120004</td>\n",
       "      <td>87.552520</td>\n",
       "      <td>505.211633</td>\n",
       "    </tr>\n",
       "    <tr>\n",
       "      <th>6</th>\n",
       "      <td>94.134592</td>\n",
       "      <td>155.408946</td>\n",
       "      <td>162.077803</td>\n",
       "      <td>82.099967</td>\n",
       "      <td>493.721307</td>\n",
       "    </tr>\n",
       "    <tr>\n",
       "      <th>7</th>\n",
       "      <td>97.508589</td>\n",
       "      <td>161.753081</td>\n",
       "      <td>167.885044</td>\n",
       "      <td>89.548769</td>\n",
       "      <td>516.695483</td>\n",
       "    </tr>\n",
       "    <tr>\n",
       "      <th>8</th>\n",
       "      <td>93.852117</td>\n",
       "      <td>153.788083</td>\n",
       "      <td>164.738980</td>\n",
       "      <td>83.998479</td>\n",
       "      <td>496.377658</td>\n",
       "    </tr>\n",
       "    <tr>\n",
       "      <th>9</th>\n",
       "      <td>94.444805</td>\n",
       "      <td>146.427590</td>\n",
       "      <td>164.837805</td>\n",
       "      <td>78.804526</td>\n",
       "      <td>484.514724</td>\n",
       "    </tr>\n",
       "    <tr>\n",
       "      <th>10</th>\n",
       "      <td>98.783080</td>\n",
       "      <td>139.510704</td>\n",
       "      <td>152.492642</td>\n",
       "      <td>77.436433</td>\n",
       "      <td>468.222859</td>\n",
       "    </tr>\n",
       "    <tr>\n",
       "      <th>11</th>\n",
       "      <td>93.940435</td>\n",
       "      <td>133.484404</td>\n",
       "      <td>147.476345</td>\n",
       "      <td>70.494428</td>\n",
       "      <td>445.395611</td>\n",
       "    </tr>\n",
       "    <tr>\n",
       "      <th>12</th>\n",
       "      <td>92.147922</td>\n",
       "      <td>131.595114</td>\n",
       "      <td>151.843219</td>\n",
       "      <td>72.638961</td>\n",
       "      <td>448.225215</td>\n",
       "    </tr>\n",
       "    <tr>\n",
       "      <th>13</th>\n",
       "      <td>87.201780</td>\n",
       "      <td>130.680836</td>\n",
       "      <td>146.156102</td>\n",
       "      <td>70.436672</td>\n",
       "      <td>434.475389</td>\n",
       "    </tr>\n",
       "    <tr>\n",
       "      <th>14</th>\n",
       "      <td>87.378515</td>\n",
       "      <td>124.094156</td>\n",
       "      <td>142.218319</td>\n",
       "      <td>68.442704</td>\n",
       "      <td>422.133692</td>\n",
       "    </tr>\n",
       "    <tr>\n",
       "      <th>15</th>\n",
       "      <td>81.399928</td>\n",
       "      <td>126.845585</td>\n",
       "      <td>138.311209</td>\n",
       "      <td>67.176051</td>\n",
       "      <td>413.732774</td>\n",
       "    </tr>\n",
       "    <tr>\n",
       "      <th>16</th>\n",
       "      <td>76.400589</td>\n",
       "      <td>119.661533</td>\n",
       "      <td>137.849386</td>\n",
       "      <td>63.841958</td>\n",
       "      <td>397.753466</td>\n",
       "    </tr>\n",
       "    <tr>\n",
       "      <th>17</th>\n",
       "      <td>78.586154</td>\n",
       "      <td>121.484760</td>\n",
       "      <td>152.870238</td>\n",
       "      <td>65.131122</td>\n",
       "      <td>418.072276</td>\n",
       "    </tr>\n",
       "    <tr>\n",
       "      <th>18</th>\n",
       "      <td>76.987845</td>\n",
       "      <td>118.344467</td>\n",
       "      <td>137.306255</td>\n",
       "      <td>66.932107</td>\n",
       "      <td>399.570672</td>\n",
       "    </tr>\n",
       "    <tr>\n",
       "      <th>19</th>\n",
       "      <td>83.107224</td>\n",
       "      <td>126.756557</td>\n",
       "      <td>145.627205</td>\n",
       "      <td>63.784528</td>\n",
       "      <td>419.275515</td>\n",
       "    </tr>\n",
       "    <tr>\n",
       "      <th>20</th>\n",
       "      <td>85.614103</td>\n",
       "      <td>125.936525</td>\n",
       "      <td>141.793370</td>\n",
       "      <td>60.954835</td>\n",
       "      <td>414.298833</td>\n",
       "    </tr>\n",
       "    <tr>\n",
       "      <th>21</th>\n",
       "      <td>81.800417</td>\n",
       "      <td>127.838215</td>\n",
       "      <td>148.978398</td>\n",
       "      <td>69.495369</td>\n",
       "      <td>428.112397</td>\n",
       "    </tr>\n",
       "  </tbody>\n",
       "</table>\n",
       "</div>"
      ],
      "text/plain": [
       "       disease     volumes         age         sex       train\n",
       "0   100.886792  208.577956  203.672194  108.274373  621.411314\n",
       "1    99.300285  189.136253  181.978068  102.553474  572.968082\n",
       "2    99.611135  177.060827  179.713241   96.790141  553.175344\n",
       "3    98.597355  175.775614  161.555070   91.401181  527.329220\n",
       "4    99.769326  169.524786  174.342649   90.024557  533.661319\n",
       "5    91.561733  163.977378  162.120004   87.552520  505.211633\n",
       "6    94.134592  155.408946  162.077803   82.099967  493.721307\n",
       "7    97.508589  161.753081  167.885044   89.548769  516.695483\n",
       "8    93.852117  153.788083  164.738980   83.998479  496.377658\n",
       "9    94.444805  146.427590  164.837805   78.804526  484.514724\n",
       "10   98.783080  139.510704  152.492642   77.436433  468.222859\n",
       "11   93.940435  133.484404  147.476345   70.494428  445.395611\n",
       "12   92.147922  131.595114  151.843219   72.638961  448.225215\n",
       "13   87.201780  130.680836  146.156102   70.436672  434.475389\n",
       "14   87.378515  124.094156  142.218319   68.442704  422.133692\n",
       "15   81.399928  126.845585  138.311209   67.176051  413.732774\n",
       "16   76.400589  119.661533  137.849386   63.841958  397.753466\n",
       "17   78.586154  121.484760  152.870238   65.131122  418.072276\n",
       "18   76.987845  118.344467  137.306255   66.932107  399.570672\n",
       "19   83.107224  126.756557  145.627205   63.784528  419.275515\n",
       "20   85.614103  125.936525  141.793370   60.954835  414.298833\n",
       "21   81.800417  127.838215  148.978398   69.495369  428.112397"
      ]
     },
     "execution_count": 13,
     "metadata": {},
     "output_type": "execute_result"
    }
   ],
   "source": [
    "losses"
   ]
  },
  {
   "cell_type": "code",
   "execution_count": 17,
   "id": "7f319ae7",
   "metadata": {
    "hidden": true
   },
   "outputs": [
    {
     "data": {
      "text/plain": [
       "<matplotlib.legend.Legend at 0x7f8296126950>"
      ]
     },
     "execution_count": 17,
     "metadata": {},
     "output_type": "execute_result"
    },
    {
     "data": {
      "image/png": "[encoded data removed]",
      "text/plain": [
       "<Figure size 432x288 with 1 Axes>"
      ]
     },
     "metadata": {
      "needs_background": "light"
     },
     "output_type": "display_data"
    }
   ],
   "source": [
    "plt.plot(test_losses[['disease', 'volumes', 'age', 'sex']])\n",
    "plt.ylim([0,150])\n",
    "plt.legend(['disease', 'volumes', 'age', 'sex'])"
   ]
  },
  {
   "cell_type": "code",
   "execution_count": 16,
   "id": "8991ce04",
   "metadata": {
    "hidden": true
   },
   "outputs": [
    {
     "data": {
      "text/plain": [
       "<matplotlib.legend.Legend at 0x7f8295a5d9d0>"
      ]
     },
     "execution_count": 16,
     "metadata": {},
     "output_type": "execute_result"
    },
    {
     "data": {
      "image/png": "[encoded data removed]",
      "text/plain": [
       "<Figure size 432x288 with 1 Axes>"
      ]
     },
     "metadata": {
      "needs_background": "light"
     },
     "output_type": "display_data"
    }
   ],
   "source": [
    "plt.plot(losses[['disease', 'volumes', 'age', 'sex']])\n",
    "plt.legend(['disease', 'volumes', 'age', 'sex'])"
   ]
  },
  {
   "cell_type": "code",
   "execution_count": 9,
   "id": "4a09078e",
   "metadata": {
    "hidden": true
   },
   "outputs": [
    {
     "data": {
      "text/plain": [
       "{'Accuracy': tensor(0.3750),\n",
       " 'Precision': tensor(0.3750),\n",
       " 'Recall': tensor(0.2500)}"
      ]
     },
     "execution_count": 9,
     "metadata": {},
     "output_type": "execute_result"
    }
   ],
   "source": [
    "import torch\n",
    "from pprint import pprint\n",
    "from torchmetrics import MetricCollection, Accuracy, Precision, Recall\n",
    "target = torch.tensor([0, 1, 0, 1, 0, 1, 0, 1])\n",
    "preds = torch.tensor([1, 1, 1, 0, 1, 1, 1, 1])\n",
    "metrics = MetricCollection([Accuracy(),\n",
    "                            Precision(num_classes=2, average='micro'),\n",
    "                            Recall(num_classes=3, average='macro')])\n",
    "metrics(preds, target)"
   ]
  },
  {
   "cell_type": "markdown",
   "id": "d200ac0a",
   "metadata": {},
   "source": [
    "# assess gradient norms"
   ]
  },
  {
   "cell_type": "code",
   "execution_count": 117,
   "id": "825c8190",
   "metadata": {},
   "outputs": [],
   "source": [
    "def get_gradient_norms(model): \n",
    "    path = 'results/models/model_{}/log.out'.format(model)\n",
    "    \n",
    "    file = None\n",
    "    with open(path, 'r') as f:\n",
    "        file = f.read()\n",
    "\n",
    "    data = [ s[36:] for s in file.split('\\n') if 'STDOUT' in s]\n",
    "    data = [ s for k,s in enumerate(data[1:]) if data[k] == 'GRADIENT']\n",
    "    data = np.array(data, dtype=np.float32)\n",
    "    return data\n",
    "\n",
    "def compute_metrics(data, name):\n",
    "    dict_ = {'mean': data.mean(),\n",
    "             'min': data.min(),\n",
    "             'max': data.max(), \n",
    "             'std': data.std(), \n",
    "             'median': np.median(data)}\n",
    "    return pd.DataFrame(dict_, index=[name])\n",
    "\n",
    "def get_all_metrics():\n",
    "    df = None\n",
    "    for k in range(4):\n",
    "        data = get_gradient_norms(9+k)\n",
    "        if df is None:\n",
    "            df = compute_metrics(data,BRANCH2TARGET['branch' + str(k+1)])\n",
    "        else:\n",
    "            df = df.combine_first(compute_metrics(data,BRANCH2TARGET['branch' + str(k+1)]))\n",
    "    return df\n",
    "\n",
    "def plot_training(model):\n",
    "    fig, ax = plt.subplots(1,4,figsize=(16,4))\n",
    "    for k, target in enumerate(TARGET2BRANCH):\n",
    "        df_train = pd.read_csv('results/models/model_{}/train_losses.csv'.format(model))\n",
    "        df_val = pd.read_csv('results/models/model_{}/val_losses.csv'.format(model))\n",
    "        ax[k].plot(getattr(df_train, target), label='train')\n",
    "        #ax[k].plot(getattr(df_val, target), label='val')\n",
    "        ax[k].set_title(target)\n",
    "    plt.legend()\n",
    "        "
   ]
  },
  {
   "cell_type": "code",
   "execution_count": 92,
   "id": "8a867985",
   "metadata": {},
   "outputs": [
    {
     "data": {
      "text/html": [
       "<div>\n",
       "<style scoped>\n",
       "    .dataframe tbody tr th:only-of-type {\n",
       "        vertical-align: middle;\n",
       "    }\n",
       "\n",
       "    .dataframe tbody tr th {\n",
       "        vertical-align: top;\n",
       "    }\n",
       "\n",
       "    .dataframe thead th {\n",
       "        text-align: right;\n",
       "    }\n",
       "</style>\n",
       "<table border=\"1\" class=\"dataframe\">\n",
       "  <thead>\n",
       "    <tr style=\"text-align: right;\">\n",
       "      <th></th>\n",
       "      <th>mean</th>\n",
       "      <th>min</th>\n",
       "      <th>max</th>\n",
       "      <th>std</th>\n",
       "      <th>median</th>\n",
       "    </tr>\n",
       "  </thead>\n",
       "  <tbody>\n",
       "    <tr>\n",
       "      <th>age</th>\n",
       "      <td>0.696073</td>\n",
       "      <td>0.010850</td>\n",
       "      <td>41.023468</td>\n",
       "      <td>1.705376</td>\n",
       "      <td>0.385398</td>\n",
       "    </tr>\n",
       "    <tr>\n",
       "      <th>disease</th>\n",
       "      <td>0.188464</td>\n",
       "      <td>0.005411</td>\n",
       "      <td>7.756394</td>\n",
       "      <td>0.386848</td>\n",
       "      <td>0.099351</td>\n",
       "    </tr>\n",
       "    <tr>\n",
       "      <th>sex</th>\n",
       "      <td>0.268893</td>\n",
       "      <td>0.012274</td>\n",
       "      <td>19.799255</td>\n",
       "      <td>0.812758</td>\n",
       "      <td>0.144058</td>\n",
       "    </tr>\n",
       "    <tr>\n",
       "      <th>volumes</th>\n",
       "      <td>0.137535</td>\n",
       "      <td>0.014951</td>\n",
       "      <td>3.329639</td>\n",
       "      <td>0.226319</td>\n",
       "      <td>0.080742</td>\n",
       "    </tr>\n",
       "  </tbody>\n",
       "</table>\n",
       "</div>"
      ],
      "text/plain": [
       "             mean       min        max       std    median\n",
       "age      0.696073  0.010850  41.023468  1.705376  0.385398\n",
       "disease  0.188464  0.005411   7.756394  0.386848  0.099351\n",
       "sex      0.268893  0.012274  19.799255  0.812758  0.144058\n",
       "volumes  0.137535  0.014951   3.329639  0.226319  0.080742"
      ]
     },
     "execution_count": 92,
     "metadata": {},
     "output_type": "execute_result"
    }
   ],
   "source": [
    "df = get_all_metrics()\n",
    "df"
   ]
  },
  {
   "cell_type": "code",
   "execution_count": 100,
   "id": "cf8f8b83",
   "metadata": {},
   "outputs": [
    {
     "data": {
      "text/plain": [
       "array([0.08101671, 0.29922685, 0.20972505, 0.41003135], dtype=float32)"
      ]
     },
     "execution_count": 100,
     "metadata": {},
     "output_type": "execute_result"
    }
   ],
   "source": [
    "weights = (1/df['mean']).to_numpy()\n",
    "weights = weights/weights.sum()\n",
    "weights"
   ]
  },
  {
   "cell_type": "code",
   "execution_count": 118,
   "id": "a62cda8c",
   "metadata": {},
   "outputs": [
    {
     "data": {
      "image/png": "[encoded data removed]",
      "text/plain": [
       "<Figure size 1152x288 with 4 Axes>"
      ]
     },
     "metadata": {
      "needs_background": "light"
     },
     "output_type": "display_data"
    }
   ],
   "source": [
    "plot_training(model=7)"
   ]
  },
  {
   "cell_type": "code",
   "execution_count": 91,
   "id": "29e3b610",
   "metadata": {},
   "outputs": [
    {
     "data": {
      "text/html": [
       "<div>\n",
       "<style scoped>\n",
       "    .dataframe tbody tr th:only-of-type {\n",
       "        vertical-align: middle;\n",
       "    }\n",
       "\n",
       "    .dataframe tbody tr th {\n",
       "        vertical-align: top;\n",
       "    }\n",
       "\n",
       "    .dataframe thead th {\n",
       "        text-align: right;\n",
       "    }\n",
       "</style>\n",
       "<table border=\"1\" class=\"dataframe\">\n",
       "  <thead>\n",
       "    <tr style=\"text-align: right;\">\n",
       "      <th></th>\n",
       "      <th>disease</th>\n",
       "      <th>volumes</th>\n",
       "      <th>age</th>\n",
       "      <th>sex</th>\n",
       "      <th>test</th>\n",
       "      <th>b1_Accuracy</th>\n",
       "      <th>b1_Recall</th>\n",
       "      <th>b1_Precision</th>\n",
       "      <th>b2_R2Score</th>\n",
       "      <th>b3_R2Score</th>\n",
       "      <th>b4_Accuracy</th>\n",
       "      <th>b4_Recall</th>\n",
       "      <th>b4_Precision</th>\n",
       "    </tr>\n",
       "  </thead>\n",
       "  <tbody>\n",
       "    <tr>\n",
       "      <th>0</th>\n",
       "      <td>0.232553</td>\n",
       "      <td>0.440282</td>\n",
       "      <td>0.255980</td>\n",
       "      <td>0.174854</td>\n",
       "      <td>0.255980</td>\n",
       "      <td>0.414474</td>\n",
       "      <td>0.333333</td>\n",
       "      <td>0.369231</td>\n",
       "      <td>-0.751944</td>\n",
       "      <td>-0.003484</td>\n",
       "      <td>0.546053</td>\n",
       "      <td>0.515625</td>\n",
       "      <td>0.464789</td>\n",
       "    </tr>\n",
       "    <tr>\n",
       "      <th>1</th>\n",
       "      <td>0.189516</td>\n",
       "      <td>0.585372</td>\n",
       "      <td>0.404152</td>\n",
       "      <td>0.173714</td>\n",
       "      <td>0.404152</td>\n",
       "      <td>0.473684</td>\n",
       "      <td>0.430556</td>\n",
       "      <td>0.442857</td>\n",
       "      <td>-1.344662</td>\n",
       "      <td>-0.584341</td>\n",
       "      <td>0.539474</td>\n",
       "      <td>0.453125</td>\n",
       "      <td>0.453125</td>\n",
       "    </tr>\n",
       "    <tr>\n",
       "      <th>2</th>\n",
       "      <td>0.184124</td>\n",
       "      <td>0.384682</td>\n",
       "      <td>0.792370</td>\n",
       "      <td>0.181709</td>\n",
       "      <td>0.792370</td>\n",
       "      <td>0.460526</td>\n",
       "      <td>0.527778</td>\n",
       "      <td>0.441860</td>\n",
       "      <td>-0.525131</td>\n",
       "      <td>-2.106217</td>\n",
       "      <td>0.519737</td>\n",
       "      <td>0.640625</td>\n",
       "      <td>0.450549</td>\n",
       "    </tr>\n",
       "    <tr>\n",
       "      <th>3</th>\n",
       "      <td>0.184901</td>\n",
       "      <td>0.364226</td>\n",
       "      <td>0.413377</td>\n",
       "      <td>0.170288</td>\n",
       "      <td>0.413377</td>\n",
       "      <td>0.440789</td>\n",
       "      <td>0.458333</td>\n",
       "      <td>0.417722</td>\n",
       "      <td>-0.444514</td>\n",
       "      <td>-0.620504</td>\n",
       "      <td>0.546053</td>\n",
       "      <td>0.593750</td>\n",
       "      <td>0.469136</td>\n",
       "    </tr>\n",
       "    <tr>\n",
       "      <th>4</th>\n",
       "      <td>0.188924</td>\n",
       "      <td>0.386190</td>\n",
       "      <td>0.397492</td>\n",
       "      <td>0.175560</td>\n",
       "      <td>0.397492</td>\n",
       "      <td>0.453947</td>\n",
       "      <td>0.513889</td>\n",
       "      <td>0.435294</td>\n",
       "      <td>-0.531701</td>\n",
       "      <td>-0.558231</td>\n",
       "      <td>0.539474</td>\n",
       "      <td>0.546875</td>\n",
       "      <td>0.460526</td>\n",
       "    </tr>\n",
       "    <tr>\n",
       "      <th>5</th>\n",
       "      <td>0.185544</td>\n",
       "      <td>0.402069</td>\n",
       "      <td>0.222738</td>\n",
       "      <td>0.174960</td>\n",
       "      <td>0.222738</td>\n",
       "      <td>0.421053</td>\n",
       "      <td>0.500000</td>\n",
       "      <td>0.409091</td>\n",
       "      <td>-0.588974</td>\n",
       "      <td>0.126829</td>\n",
       "      <td>0.546053</td>\n",
       "      <td>0.640625</td>\n",
       "      <td>0.471264</td>\n",
       "    </tr>\n",
       "    <tr>\n",
       "      <th>6</th>\n",
       "      <td>0.181434</td>\n",
       "      <td>0.457373</td>\n",
       "      <td>0.324836</td>\n",
       "      <td>0.177021</td>\n",
       "      <td>0.324836</td>\n",
       "      <td>0.519737</td>\n",
       "      <td>0.597222</td>\n",
       "      <td>0.494253</td>\n",
       "      <td>-0.802874</td>\n",
       "      <td>-0.273409</td>\n",
       "      <td>0.559211</td>\n",
       "      <td>0.640625</td>\n",
       "      <td>0.482353</td>\n",
       "    </tr>\n",
       "    <tr>\n",
       "      <th>7</th>\n",
       "      <td>0.176390</td>\n",
       "      <td>0.370177</td>\n",
       "      <td>0.216566</td>\n",
       "      <td>0.180116</td>\n",
       "      <td>0.216566</td>\n",
       "      <td>0.493421</td>\n",
       "      <td>0.513889</td>\n",
       "      <td>0.468354</td>\n",
       "      <td>-0.460444</td>\n",
       "      <td>0.151027</td>\n",
       "      <td>0.519737</td>\n",
       "      <td>0.656250</td>\n",
       "      <td>0.451613</td>\n",
       "    </tr>\n",
       "    <tr>\n",
       "      <th>8</th>\n",
       "      <td>0.177259</td>\n",
       "      <td>0.468929</td>\n",
       "      <td>0.883003</td>\n",
       "      <td>0.172782</td>\n",
       "      <td>0.883003</td>\n",
       "      <td>0.480263</td>\n",
       "      <td>0.541667</td>\n",
       "      <td>0.458824</td>\n",
       "      <td>-0.863033</td>\n",
       "      <td>-2.461512</td>\n",
       "      <td>0.572368</td>\n",
       "      <td>0.421875</td>\n",
       "      <td>0.490909</td>\n",
       "    </tr>\n",
       "    <tr>\n",
       "      <th>9</th>\n",
       "      <td>0.175614</td>\n",
       "      <td>0.465898</td>\n",
       "      <td>0.212179</td>\n",
       "      <td>0.181196</td>\n",
       "      <td>0.212179</td>\n",
       "      <td>0.526316</td>\n",
       "      <td>0.513889</td>\n",
       "      <td>0.500000</td>\n",
       "      <td>-0.849218</td>\n",
       "      <td>0.168225</td>\n",
       "      <td>0.500000</td>\n",
       "      <td>0.562500</td>\n",
       "      <td>0.428571</td>\n",
       "    </tr>\n",
       "    <tr>\n",
       "      <th>10</th>\n",
       "      <td>0.177491</td>\n",
       "      <td>0.457471</td>\n",
       "      <td>0.214055</td>\n",
       "      <td>0.174654</td>\n",
       "      <td>0.214055</td>\n",
       "      <td>0.519737</td>\n",
       "      <td>0.486111</td>\n",
       "      <td>0.492958</td>\n",
       "      <td>-0.806743</td>\n",
       "      <td>0.160869</td>\n",
       "      <td>0.552632</td>\n",
       "      <td>0.578125</td>\n",
       "      <td>0.474359</td>\n",
       "    </tr>\n",
       "    <tr>\n",
       "      <th>11</th>\n",
       "      <td>0.182659</td>\n",
       "      <td>0.395213</td>\n",
       "      <td>0.237351</td>\n",
       "      <td>0.186301</td>\n",
       "      <td>0.237351</td>\n",
       "      <td>0.467105</td>\n",
       "      <td>0.597222</td>\n",
       "      <td>0.452632</td>\n",
       "      <td>-0.576305</td>\n",
       "      <td>0.069545</td>\n",
       "      <td>0.500000</td>\n",
       "      <td>0.515625</td>\n",
       "      <td>0.423077</td>\n",
       "    </tr>\n",
       "    <tr>\n",
       "      <th>12</th>\n",
       "      <td>0.175575</td>\n",
       "      <td>0.367880</td>\n",
       "      <td>0.211613</td>\n",
       "      <td>0.187460</td>\n",
       "      <td>0.211613</td>\n",
       "      <td>0.526316</td>\n",
       "      <td>0.666667</td>\n",
       "      <td>0.500000</td>\n",
       "      <td>-0.455048</td>\n",
       "      <td>0.170444</td>\n",
       "      <td>0.526316</td>\n",
       "      <td>0.515625</td>\n",
       "      <td>0.445946</td>\n",
       "    </tr>\n",
       "    <tr>\n",
       "      <th>13</th>\n",
       "      <td>0.177708</td>\n",
       "      <td>0.457748</td>\n",
       "      <td>0.213113</td>\n",
       "      <td>0.178479</td>\n",
       "      <td>0.213113</td>\n",
       "      <td>0.526316</td>\n",
       "      <td>0.541667</td>\n",
       "      <td>0.500000</td>\n",
       "      <td>-0.828552</td>\n",
       "      <td>0.164564</td>\n",
       "      <td>0.539474</td>\n",
       "      <td>0.390625</td>\n",
       "      <td>0.446429</td>\n",
       "    </tr>\n",
       "    <tr>\n",
       "      <th>14</th>\n",
       "      <td>0.197593</td>\n",
       "      <td>0.488881</td>\n",
       "      <td>1.209064</td>\n",
       "      <td>0.180971</td>\n",
       "      <td>1.209064</td>\n",
       "      <td>0.453947</td>\n",
       "      <td>0.361111</td>\n",
       "      <td>0.412698</td>\n",
       "      <td>-0.958247</td>\n",
       "      <td>-3.739726</td>\n",
       "      <td>0.519737</td>\n",
       "      <td>0.312500</td>\n",
       "      <td>0.408163</td>\n",
       "    </tr>\n",
       "    <tr>\n",
       "      <th>15</th>\n",
       "      <td>0.181375</td>\n",
       "      <td>0.429424</td>\n",
       "      <td>3.357429</td>\n",
       "      <td>0.193971</td>\n",
       "      <td>3.357429</td>\n",
       "      <td>0.480263</td>\n",
       "      <td>0.652778</td>\n",
       "      <td>0.465347</td>\n",
       "      <td>-0.709347</td>\n",
       "      <td>-12.161662</td>\n",
       "      <td>0.513158</td>\n",
       "      <td>0.468750</td>\n",
       "      <td>0.428571</td>\n",
       "    </tr>\n",
       "    <tr>\n",
       "      <th>16</th>\n",
       "      <td>0.190351</td>\n",
       "      <td>0.430856</td>\n",
       "      <td>0.188163</td>\n",
       "      <td>0.174635</td>\n",
       "      <td>0.188163</td>\n",
       "      <td>0.473684</td>\n",
       "      <td>0.583333</td>\n",
       "      <td>0.456522</td>\n",
       "      <td>-0.708819</td>\n",
       "      <td>0.262370</td>\n",
       "      <td>0.519737</td>\n",
       "      <td>0.515625</td>\n",
       "      <td>0.440000</td>\n",
       "    </tr>\n",
       "    <tr>\n",
       "      <th>17</th>\n",
       "      <td>0.183247</td>\n",
       "      <td>0.362491</td>\n",
       "      <td>0.212374</td>\n",
       "      <td>0.181342</td>\n",
       "      <td>0.212374</td>\n",
       "      <td>0.447368</td>\n",
       "      <td>0.541667</td>\n",
       "      <td>0.433333</td>\n",
       "      <td>-0.429469</td>\n",
       "      <td>0.167460</td>\n",
       "      <td>0.480263</td>\n",
       "      <td>0.343750</td>\n",
       "      <td>0.372881</td>\n",
       "    </tr>\n",
       "    <tr>\n",
       "      <th>18</th>\n",
       "      <td>0.197756</td>\n",
       "      <td>0.397080</td>\n",
       "      <td>0.203738</td>\n",
       "      <td>0.170866</td>\n",
       "      <td>0.203738</td>\n",
       "      <td>0.486842</td>\n",
       "      <td>0.444444</td>\n",
       "      <td>0.457143</td>\n",
       "      <td>-0.574155</td>\n",
       "      <td>0.201316</td>\n",
       "      <td>0.546053</td>\n",
       "      <td>0.562500</td>\n",
       "      <td>0.467532</td>\n",
       "    </tr>\n",
       "    <tr>\n",
       "      <th>19</th>\n",
       "      <td>0.180645</td>\n",
       "      <td>0.403282</td>\n",
       "      <td>0.204152</td>\n",
       "      <td>0.181714</td>\n",
       "      <td>0.204152</td>\n",
       "      <td>0.532895</td>\n",
       "      <td>0.361111</td>\n",
       "      <td>0.509804</td>\n",
       "      <td>-0.603872</td>\n",
       "      <td>0.199691</td>\n",
       "      <td>0.500000</td>\n",
       "      <td>0.531250</td>\n",
       "      <td>0.425000</td>\n",
       "    </tr>\n",
       "    <tr>\n",
       "      <th>20</th>\n",
       "      <td>0.178646</td>\n",
       "      <td>0.563834</td>\n",
       "      <td>0.199168</td>\n",
       "      <td>0.180868</td>\n",
       "      <td>0.199168</td>\n",
       "      <td>0.598684</td>\n",
       "      <td>0.430556</td>\n",
       "      <td>0.607843</td>\n",
       "      <td>-1.252645</td>\n",
       "      <td>0.219229</td>\n",
       "      <td>0.526316</td>\n",
       "      <td>0.531250</td>\n",
       "      <td>0.447368</td>\n",
       "    </tr>\n",
       "    <tr>\n",
       "      <th>21</th>\n",
       "      <td>0.188603</td>\n",
       "      <td>0.753815</td>\n",
       "      <td>111.569259</td>\n",
       "      <td>0.178555</td>\n",
       "      <td>111.569259</td>\n",
       "      <td>0.552632</td>\n",
       "      <td>0.416667</td>\n",
       "      <td>0.535714</td>\n",
       "      <td>-1.999556</td>\n",
       "      <td>-436.369537</td>\n",
       "      <td>0.493421</td>\n",
       "      <td>0.437500</td>\n",
       "      <td>0.405797</td>\n",
       "    </tr>\n",
       "    <tr>\n",
       "      <th>22</th>\n",
       "      <td>0.199815</td>\n",
       "      <td>0.507403</td>\n",
       "      <td>19.242430</td>\n",
       "      <td>0.176780</td>\n",
       "      <td>19.242430</td>\n",
       "      <td>0.414474</td>\n",
       "      <td>0.375000</td>\n",
       "      <td>0.380282</td>\n",
       "      <td>-1.019658</td>\n",
       "      <td>-74.433395</td>\n",
       "      <td>0.506579</td>\n",
       "      <td>0.500000</td>\n",
       "      <td>0.426667</td>\n",
       "    </tr>\n",
       "    <tr>\n",
       "      <th>23</th>\n",
       "      <td>0.192022</td>\n",
       "      <td>0.543551</td>\n",
       "      <td>0.215928</td>\n",
       "      <td>0.177709</td>\n",
       "      <td>0.215928</td>\n",
       "      <td>0.473684</td>\n",
       "      <td>0.444444</td>\n",
       "      <td>0.444444</td>\n",
       "      <td>-1.163361</td>\n",
       "      <td>0.153529</td>\n",
       "      <td>0.539474</td>\n",
       "      <td>0.515625</td>\n",
       "      <td>0.458333</td>\n",
       "    </tr>\n",
       "    <tr>\n",
       "      <th>24</th>\n",
       "      <td>0.185267</td>\n",
       "      <td>0.497466</td>\n",
       "      <td>0.187755</td>\n",
       "      <td>0.177422</td>\n",
       "      <td>0.187755</td>\n",
       "      <td>0.513158</td>\n",
       "      <td>0.541667</td>\n",
       "      <td>0.487500</td>\n",
       "      <td>-0.983127</td>\n",
       "      <td>0.263972</td>\n",
       "      <td>0.539474</td>\n",
       "      <td>0.421875</td>\n",
       "      <td>0.450000</td>\n",
       "    </tr>\n",
       "    <tr>\n",
       "      <th>25</th>\n",
       "      <td>0.200860</td>\n",
       "      <td>0.711636</td>\n",
       "      <td>0.186903</td>\n",
       "      <td>0.191448</td>\n",
       "      <td>0.186903</td>\n",
       "      <td>0.506579</td>\n",
       "      <td>0.444444</td>\n",
       "      <td>0.477612</td>\n",
       "      <td>-1.852629</td>\n",
       "      <td>0.267309</td>\n",
       "      <td>0.447368</td>\n",
       "      <td>0.375000</td>\n",
       "      <td>0.352941</td>\n",
       "    </tr>\n",
       "    <tr>\n",
       "      <th>26</th>\n",
       "      <td>0.190635</td>\n",
       "      <td>0.374100</td>\n",
       "      <td>80.674624</td>\n",
       "      <td>0.188789</td>\n",
       "      <td>80.674624</td>\n",
       "      <td>0.513158</td>\n",
       "      <td>0.416667</td>\n",
       "      <td>0.483871</td>\n",
       "      <td>-0.488448</td>\n",
       "      <td>-315.257507</td>\n",
       "      <td>0.434211</td>\n",
       "      <td>0.343750</td>\n",
       "      <td>0.333333</td>\n",
       "    </tr>\n",
       "    <tr>\n",
       "      <th>27</th>\n",
       "      <td>0.238050</td>\n",
       "      <td>0.523661</td>\n",
       "      <td>1.619940</td>\n",
       "      <td>0.182262</td>\n",
       "      <td>1.619940</td>\n",
       "      <td>0.480263</td>\n",
       "      <td>0.263889</td>\n",
       "      <td>0.422222</td>\n",
       "      <td>-1.073427</td>\n",
       "      <td>-5.350423</td>\n",
       "      <td>0.506579</td>\n",
       "      <td>0.515625</td>\n",
       "      <td>0.428571</td>\n",
       "    </tr>\n",
       "    <tr>\n",
       "      <th>28</th>\n",
       "      <td>0.172215</td>\n",
       "      <td>0.558044</td>\n",
       "      <td>495.881552</td>\n",
       "      <td>0.187208</td>\n",
       "      <td>495.881552</td>\n",
       "      <td>0.526316</td>\n",
       "      <td>0.527778</td>\n",
       "      <td>0.500000</td>\n",
       "      <td>-1.235375</td>\n",
       "      <td>-1942.934692</td>\n",
       "      <td>0.460526</td>\n",
       "      <td>0.375000</td>\n",
       "      <td>0.363636</td>\n",
       "    </tr>\n",
       "    <tr>\n",
       "      <th>29</th>\n",
       "      <td>0.175154</td>\n",
       "      <td>0.438630</td>\n",
       "      <td>4.487266</td>\n",
       "      <td>0.185264</td>\n",
       "      <td>4.487266</td>\n",
       "      <td>0.578947</td>\n",
       "      <td>0.555556</td>\n",
       "      <td>0.555556</td>\n",
       "      <td>-0.750862</td>\n",
       "      <td>-16.590801</td>\n",
       "      <td>0.447368</td>\n",
       "      <td>0.453125</td>\n",
       "      <td>0.371795</td>\n",
       "    </tr>\n",
       "  </tbody>\n",
       "</table>\n",
       "</div>"
      ],
      "text/plain": [
       "     disease   volumes         age       sex        test  b1_Accuracy  \\\n",
       "0   0.232553  0.440282    0.255980  0.174854    0.255980     0.414474   \n",
       "1   0.189516  0.585372    0.404152  0.173714    0.404152     0.473684   \n",
       "2   0.184124  0.384682    0.792370  0.181709    0.792370     0.460526   \n",
       "3   0.184901  0.364226    0.413377  0.170288    0.413377     0.440789   \n",
       "4   0.188924  0.386190    0.397492  0.175560    0.397492     0.453947   \n",
       "5   0.185544  0.402069    0.222738  0.174960    0.222738     0.421053   \n",
       "6   0.181434  0.457373    0.324836  0.177021    0.324836     0.519737   \n",
       "7   0.176390  0.370177    0.216566  0.180116    0.216566     0.493421   \n",
       "8   0.177259  0.468929    0.883003  0.172782    0.883003     0.480263   \n",
       "9   0.175614  0.465898    0.212179  0.181196    0.212179     0.526316   \n",
       "10  0.177491  0.457471    0.214055  0.174654    0.214055     0.519737   \n",
       "11  0.182659  0.395213    0.237351  0.186301    0.237351     0.467105   \n",
       "12  0.175575  0.367880    0.211613  0.187460    0.211613     0.526316   \n",
       "13  0.177708  0.457748    0.213113  0.178479    0.213113     0.526316   \n",
       "14  0.197593  0.488881    1.209064  0.180971    1.209064     0.453947   \n",
       "15  0.181375  0.429424    3.357429  0.193971    3.357429     0.480263   \n",
       "16  0.190351  0.430856    0.188163  0.174635    0.188163     0.473684   \n",
       "17  0.183247  0.362491    0.212374  0.181342    0.212374     0.447368   \n",
       "18  0.197756  0.397080    0.203738  0.170866    0.203738     0.486842   \n",
       "19  0.180645  0.403282    0.204152  0.181714    0.204152     0.532895   \n",
       "20  0.178646  0.563834    0.199168  0.180868    0.199168     0.598684   \n",
       "21  0.188603  0.753815  111.569259  0.178555  111.569259     0.552632   \n",
       "22  0.199815  0.507403   19.242430  0.176780   19.242430     0.414474   \n",
       "23  0.192022  0.543551    0.215928  0.177709    0.215928     0.473684   \n",
       "24  0.185267  0.497466    0.187755  0.177422    0.187755     0.513158   \n",
       "25  0.200860  0.711636    0.186903  0.191448    0.186903     0.506579   \n",
       "26  0.190635  0.374100   80.674624  0.188789   80.674624     0.513158   \n",
       "27  0.238050  0.523661    1.619940  0.182262    1.619940     0.480263   \n",
       "28  0.172215  0.558044  495.881552  0.187208  495.881552     0.526316   \n",
       "29  0.175154  0.438630    4.487266  0.185264    4.487266     0.578947   \n",
       "\n",
       "    b1_Recall  b1_Precision  b2_R2Score   b3_R2Score  b4_Accuracy  b4_Recall  \\\n",
       "0    0.333333      0.369231   -0.751944    -0.003484     0.546053   0.515625   \n",
       "1    0.430556      0.442857   -1.344662    -0.584341     0.539474   0.453125   \n",
       "2    0.527778      0.441860   -0.525131    -2.106217     0.519737   0.640625   \n",
       "3    0.458333      0.417722   -0.444514    -0.620504     0.546053   0.593750   \n",
       "4    0.513889      0.435294   -0.531701    -0.558231     0.539474   0.546875   \n",
       "5    0.500000      0.409091   -0.588974     0.126829     0.546053   0.640625   \n",
       "6    0.597222      0.494253   -0.802874    -0.273409     0.559211   0.640625   \n",
       "7    0.513889      0.468354   -0.460444     0.151027     0.519737   0.656250   \n",
       "8    0.541667      0.458824   -0.863033    -2.461512     0.572368   0.421875   \n",
       "9    0.513889      0.500000   -0.849218     0.168225     0.500000   0.562500   \n",
       "10   0.486111      0.492958   -0.806743     0.160869     0.552632   0.578125   \n",
       "11   0.597222      0.452632   -0.576305     0.069545     0.500000   0.515625   \n",
       "12   0.666667      0.500000   -0.455048     0.170444     0.526316   0.515625   \n",
       "13   0.541667      0.500000   -0.828552     0.164564     0.539474   0.390625   \n",
       "14   0.361111      0.412698   -0.958247    -3.739726     0.519737   0.312500   \n",
       "15   0.652778      0.465347   -0.709347   -12.161662     0.513158   0.468750   \n",
       "16   0.583333      0.456522   -0.708819     0.262370     0.519737   0.515625   \n",
       "17   0.541667      0.433333   -0.429469     0.167460     0.480263   0.343750   \n",
       "18   0.444444      0.457143   -0.574155     0.201316     0.546053   0.562500   \n",
       "19   0.361111      0.509804   -0.603872     0.199691     0.500000   0.531250   \n",
       "20   0.430556      0.607843   -1.252645     0.219229     0.526316   0.531250   \n",
       "21   0.416667      0.535714   -1.999556  -436.369537     0.493421   0.437500   \n",
       "22   0.375000      0.380282   -1.019658   -74.433395     0.506579   0.500000   \n",
       "23   0.444444      0.444444   -1.163361     0.153529     0.539474   0.515625   \n",
       "24   0.541667      0.487500   -0.983127     0.263972     0.539474   0.421875   \n",
       "25   0.444444      0.477612   -1.852629     0.267309     0.447368   0.375000   \n",
       "26   0.416667      0.483871   -0.488448  -315.257507     0.434211   0.343750   \n",
       "27   0.263889      0.422222   -1.073427    -5.350423     0.506579   0.515625   \n",
       "28   0.527778      0.500000   -1.235375 -1942.934692     0.460526   0.375000   \n",
       "29   0.555556      0.555556   -0.750862   -16.590801     0.447368   0.453125   \n",
       "\n",
       "    b4_Precision  \n",
       "0       0.464789  \n",
       "1       0.453125  \n",
       "2       0.450549  \n",
       "3       0.469136  \n",
       "4       0.460526  \n",
       "5       0.471264  \n",
       "6       0.482353  \n",
       "7       0.451613  \n",
       "8       0.490909  \n",
       "9       0.428571  \n",
       "10      0.474359  \n",
       "11      0.423077  \n",
       "12      0.445946  \n",
       "13      0.446429  \n",
       "14      0.408163  \n",
       "15      0.428571  \n",
       "16      0.440000  \n",
       "17      0.372881  \n",
       "18      0.467532  \n",
       "19      0.425000  \n",
       "20      0.447368  \n",
       "21      0.405797  \n",
       "22      0.426667  \n",
       "23      0.458333  \n",
       "24      0.450000  \n",
       "25      0.352941  \n",
       "26      0.333333  \n",
       "27      0.428571  \n",
       "28      0.363636  \n",
       "29      0.371795  "
      ]
     },
     "execution_count": 91,
     "metadata": {},
     "output_type": "execute_result"
    }
   ],
   "source": [
    "pd.read_csv('results/models/model_{}/val_losses.csv'.format(7))"
   ]
  },
  {
   "cell_type": "markdown",
   "id": "975ac80d",
   "metadata": {
    "heading_collapsed": true
   },
   "source": [
    "# Age investigation"
   ]
  },
  {
   "cell_type": "code",
   "execution_count": null,
   "id": "b8443126",
   "metadata": {
    "hidden": true
   },
   "outputs": [],
   "source": [
    "df = pd.concat([training_df, valid_df], ignore_index=True)\n",
    "df2 = df_add_data.merge(df, on =['participant_id', 'session_id'], how='right')"
   ]
  },
  {
   "cell_type": "code",
   "execution_count": 69,
   "id": "ba2f3e28",
   "metadata": {
    "hidden": true
   },
   "outputs": [
    {
     "data": {
      "text/plain": [
       "<matplotlib.legend.Legend at 0x7f8412811a50>"
      ]
     },
     "execution_count": 69,
     "metadata": {},
     "output_type": "execute_result"
    },
    {
     "data": {
      "image/png": "[encoded data removed]",
      "text/plain": [
       "<Figure size 432x288 with 1 Axes>"
      ]
     },
     "metadata": {
      "needs_background": "light"
     },
     "output_type": "display_data"
    }
   ],
   "source": [
    "plt.title('Age Distribution')\n",
    "plt.hist(training_df.age, label='training')\n",
    "plt.hist(valid_df.age, label='validation')\n",
    "plt.xlabel('age')\n",
    "plt.legend()"
   ]
  },
  {
   "cell_type": "markdown",
   "id": "99854d6c",
   "metadata": {
    "heading_collapsed": true
   },
   "source": [
    "# RANDOM"
   ]
  },
  {
   "cell_type": "code",
   "execution_count": 33,
   "id": "5ab833fb",
   "metadata": {
    "hidden": true
   },
   "outputs": [
    {
     "data": {
      "text/plain": [
       "participant_id                                                                                      0\n",
       "session_id                                                                                          0\n",
       "sex                                                                                                 1\n",
       "age                                                                                              1178\n",
       "t1-volume_group-adni2021_atlas-Neuromorphometrics_ROI-Background_intensity                       1173\n",
       "                                                                                                 ... \n",
       "t1-volume_group-adni2021_atlas-Neuromorphometrics_ROI-Right-Posterior-Orbital-Gyrus_intensity    1173\n",
       "t1-volume_group-adni2021_atlas-Neuromorphometrics_ROI-Left-Planum-Polare_intensity               1173\n",
       "t1-volume_group-adni2021_atlas-Neuromorphometrics_ROI-Right-Planum-Polare_intensity              1173\n",
       "t1-volume_group-adni2021_atlas-Neuromorphometrics_ROI-Left-Precentral-Gyrus_intensity            1173\n",
       "t1-volume_group-adni2021_atlas-Neuromorphometrics_ROI-Right-Precentral-Gyrus_intensity           1173\n",
       "Length: 123, dtype: int64"
      ]
     },
     "execution_count": 33,
     "metadata": {},
     "output_type": "execute_result"
    }
   ],
   "source": [
    "df_add_data[df_add_data.iloc[:,3].isna()].isna().sum(axis=0)"
   ]
  },
  {
   "cell_type": "markdown",
   "id": "ed4cbb3a",
   "metadata": {
    "hidden": true
   },
   "source": [
    "I am using working with the file '/network/lustre/dtlake01/aramis/datasets/adni/caps/caps_v2021.tsv' and using the 't1-volume' pipeline and the atlas 'AAL2'.\n",
    "6267 samples (i.e. couples (participant_id, session_id)) do not have any volume value (i.e. NaN). 1 sample has no sex value and 1178 samples have no age values.\n"
   ]
  },
  {
   "cell_type": "code",
   "execution_count": 31,
   "id": "293be254",
   "metadata": {
    "hidden": true
   },
   "outputs": [
    {
     "data": {
      "text/plain": [
       "participant_id                                                                                      0\n",
       "session_id                                                                                          0\n",
       "sex                                                                                                 1\n",
       "age                                                                                              1178\n",
       "t1-volume_group-adni2021_atlas-Neuromorphometrics_ROI-Background_intensity                       6267\n",
       "                                                                                                 ... \n",
       "t1-volume_group-adni2021_atlas-Neuromorphometrics_ROI-Right-Posterior-Orbital-Gyrus_intensity    6267\n",
       "t1-volume_group-adni2021_atlas-Neuromorphometrics_ROI-Left-Planum-Polare_intensity               6267\n",
       "t1-volume_group-adni2021_atlas-Neuromorphometrics_ROI-Right-Planum-Polare_intensity              6267\n",
       "t1-volume_group-adni2021_atlas-Neuromorphometrics_ROI-Left-Precentral-Gyrus_intensity            6267\n",
       "t1-volume_group-adni2021_atlas-Neuromorphometrics_ROI-Right-Precentral-Gyrus_intensity           6267\n",
       "Length: 123, dtype: int64"
      ]
     },
     "execution_count": 31,
     "metadata": {},
     "output_type": "execute_result"
    }
   ],
   "source": [
    "df_add_data.isna().sum(axis=0)"
   ]
  },
  {
   "cell_type": "code",
   "execution_count": 64,
   "id": "21ea7ed0",
   "metadata": {
    "hidden": true
   },
   "outputs": [],
   "source": [
    "\n",
    "# initialize the model\n",
    "convolutions = {\n",
    "    'conv0':{\n",
    "        'n_conv':1,\n",
    "        'in_channels':None,\n",
    "        'out_channels':16,\n",
    "        'd_reduction': \"MaxPooling\"\n",
    "    },\n",
    "    'conv1':{\n",
    "        'n_conv':1,\n",
    "        'in_channels':None,\n",
    "        'out_channels':32,\n",
    "        'd_reduction': \"MaxPooling\"\n",
    "    },\n",
    "    'conv2':{\n",
    "        'n_conv':1,\n",
    "        'in_channels':None,\n",
    "        'out_channels':32,\n",
    "        'd_reduction': \"MaxPooling\"\n",
    "    },\n",
    "    'conv3':{\n",
    "        'n_conv':1,\n",
    "        'in_channels':None,\n",
    "        'out_channels':64,\n",
    "        'd_reduction': \"MaxPooling\"\n",
    "    },\n",
    "    'conv4':{\n",
    "        'n_conv':1,\n",
    "        'in_channels':None,\n",
    "        'out_channels':128,\n",
    "        'd_reduction': \"MaxPooling\"\n",
    "    }\n",
    "}\n",
    "model = RandomArchitecture(convolutions,1,data_train.size)\n",
    "\n",
    "\n",
    "# Define criterion and optimizer\n",
    "criterion = get_criterion(loss)\n",
    "optimizer = getattr(torch.optim, optimizer_name)(filter(lambda x: x.requires_grad, model.parameters()),\n",
    "                                                   lr=learning_rate,\n",
    "                                                   weight_decay=weight_decay)"
   ]
  },
  {
   "cell_type": "code",
   "execution_count": 8,
   "id": "ad3ee7d7",
   "metadata": {
    "hidden": true
   },
   "outputs": [],
   "source": [
    "class Options:\n",
    "    def __init__(self):\n",
    "        self.beginning_epoch = 0\n",
    "        self.tolerance = 0\n",
    "        self.patience = 10\n",
    "        self.epochs = 10\n",
    "        self.gpu = True\n",
    "        self.batch_size = 1"
   ]
  },
  {
   "cell_type": "code",
   "execution_count": 9,
   "id": "94cb8367",
   "metadata": {
    "hidden": true,
    "scrolled": true
   },
   "outputs": [
    {
     "name": "stderr",
     "output_type": "stream",
     "text": [
      "INFO:root:Beginning epoch 0.\n"
     ]
    },
    {
     "ename": "KeyError",
     "evalue": "Caught KeyError in DataLoader worker process 0.\nOriginal Traceback (most recent call last):\n  File \"/network/lustre/dtlake01/aramis/users/sasha.collin/miniconda3/envs/venv/lib/python3.7/site-packages/pandas/core/indexes/base.py\", line 3080, in get_loc\n    return self._engine.get_loc(casted_key)\n  File \"pandas/_libs/index.pyx\", line 70, in pandas._libs.index.IndexEngine.get_loc\n  File \"pandas/_libs/index.pyx\", line 101, in pandas._libs.index.IndexEngine.get_loc\n  File \"pandas/_libs/hashtable_class_helper.pxi\", line 1625, in pandas._libs.hashtable.Int64HashTable.get_item\n  File \"pandas/_libs/hashtable_class_helper.pxi\", line 1632, in pandas._libs.hashtable.Int64HashTable.get_item\nKeyError: 5\n\nThe above exception was the direct cause of the following exception:\n\nTraceback (most recent call last):\n  File \"/network/lustre/dtlake01/aramis/users/sasha.collin/miniconda3/envs/venv/lib/python3.7/site-packages/torch/utils/data/_utils/worker.py\", line 185, in _worker_loop\n    data = fetcher.fetch(index)\n  File \"/network/lustre/dtlake01/aramis/users/sasha.collin/miniconda3/envs/venv/lib/python3.7/site-packages/torch/utils/data/_utils/fetch.py\", line 44, in fetch\n    data = [self.dataset[idx] for idx in possibly_batched_index]\n  File \"/network/lustre/dtlake01/aramis/users/sasha.collin/miniconda3/envs/venv/lib/python3.7/site-packages/torch/utils/data/_utils/fetch.py\", line 44, in <listcomp>\n    data = [self.dataset[idx] for idx in possibly_batched_index]\n  File \"/network/lustre/dtlake01/aramis/users/sasha.collin/miniconda3/envs/venv/lib/python3.7/site-packages/clinicadl/tools/deep_learning/data.py\", line 566, in __getitem__\n    participant, session, cohort, slice_idx, label = self._get_meta_data(idx)\n  File \"/network/lustre/dtlake01/aramis/users/sasha.collin/miniconda3/envs/venv/lib/python3.7/site-packages/clinicadl/tools/deep_learning/data.py\", line 140, in _get_meta_data\n    participant = self.df.loc[image_idx, 'participant_id']\n  File \"/network/lustre/dtlake01/aramis/users/sasha.collin/miniconda3/envs/venv/lib/python3.7/site-packages/pandas/core/indexing.py\", line 889, in __getitem__\n    return self._getitem_tuple(key)\n  File \"/network/lustre/dtlake01/aramis/users/sasha.collin/miniconda3/envs/venv/lib/python3.7/site-packages/pandas/core/indexing.py\", line 1060, in _getitem_tuple\n    return self._getitem_lowerdim(tup)\n  File \"/network/lustre/dtlake01/aramis/users/sasha.collin/miniconda3/envs/venv/lib/python3.7/site-packages/pandas/core/indexing.py\", line 807, in _getitem_lowerdim\n    section = self._getitem_axis(key, axis=i)\n  File \"/network/lustre/dtlake01/aramis/users/sasha.collin/miniconda3/envs/venv/lib/python3.7/site-packages/pandas/core/indexing.py\", line 1124, in _getitem_axis\n    return self._get_label(key, axis=axis)\n  File \"/network/lustre/dtlake01/aramis/users/sasha.collin/miniconda3/envs/venv/lib/python3.7/site-packages/pandas/core/indexing.py\", line 1073, in _get_label\n    return self.obj.xs(label, axis=axis)\n  File \"/network/lustre/dtlake01/aramis/users/sasha.collin/miniconda3/envs/venv/lib/python3.7/site-packages/pandas/core/generic.py\", line 3739, in xs\n    loc = index.get_loc(key)\n  File \"/network/lustre/dtlake01/aramis/users/sasha.collin/miniconda3/envs/venv/lib/python3.7/site-packages/pandas/core/indexes/base.py\", line 3082, in get_loc\n    raise KeyError(key) from err\nKeyError: 5\n",
     "output_type": "error",
     "traceback": [
      "\u001b[0;31m---------------------------------------------------------------------------\u001b[0m",
      "\u001b[0;31mKeyError\u001b[0m                                  Traceback (most recent call last)",
      "\u001b[0;32m<ipython-input-9-3cc90ec1a0e4>\u001b[0m in \u001b[0;36m<module>\u001b[0;34m\u001b[0m\n\u001b[0;32m----> 1\u001b[0;31m \u001b[0mtrain\u001b[0m\u001b[0;34m(\u001b[0m\u001b[0mmodel\u001b[0m\u001b[0;34m,\u001b[0m \u001b[0mtrain_loader\u001b[0m\u001b[0;34m,\u001b[0m \u001b[0mvalid_loader\u001b[0m\u001b[0;34m,\u001b[0m \u001b[0mcriterion\u001b[0m\u001b[0;34m,\u001b[0m \u001b[0moptimizer\u001b[0m\u001b[0;34m,\u001b[0m\u001b[0;32mFalse\u001b[0m\u001b[0;34m,\u001b[0m\u001b[0;34m'log_dir'\u001b[0m\u001b[0;34m,\u001b[0m\u001b[0;34m'model_dir'\u001b[0m\u001b[0;34m,\u001b[0m \u001b[0mOptions\u001b[0m\u001b[0;34m(\u001b[0m\u001b[0;34m)\u001b[0m\u001b[0;34m)\u001b[0m\u001b[0;34m\u001b[0m\u001b[0;34m\u001b[0m\u001b[0m\n\u001b[0m",
      "\u001b[0;32m/network/lustre/dtlake01/aramis/users/sasha.collin/miniconda3/envs/venv/lib/python3.7/site-packages/clinicadl/tools/deep_learning/cnn_utils.py\u001b[0m in \u001b[0;36mtrain\u001b[0;34m(model, train_loader, valid_loader, criterion, optimizer, resume, log_dir, model_dir, options, logger)\u001b[0m\n\u001b[1;32m     93\u001b[0m         \u001b[0mtotal_time\u001b[0m \u001b[0;34m=\u001b[0m \u001b[0;36m0\u001b[0m\u001b[0;34m\u001b[0m\u001b[0;34m\u001b[0m\u001b[0m\n\u001b[1;32m     94\u001b[0m \u001b[0;34m\u001b[0m\u001b[0m\n\u001b[0;32m---> 95\u001b[0;31m         \u001b[0;32mfor\u001b[0m \u001b[0mi\u001b[0m\u001b[0;34m,\u001b[0m \u001b[0mdata\u001b[0m \u001b[0;32min\u001b[0m \u001b[0menumerate\u001b[0m\u001b[0;34m(\u001b[0m\u001b[0mtrain_loader\u001b[0m\u001b[0;34m,\u001b[0m \u001b[0;36m0\u001b[0m\u001b[0;34m)\u001b[0m\u001b[0;34m:\u001b[0m\u001b[0;34m\u001b[0m\u001b[0;34m\u001b[0m\u001b[0m\n\u001b[0m\u001b[1;32m     96\u001b[0m             \u001b[0mt0\u001b[0m \u001b[0;34m=\u001b[0m \u001b[0mtime\u001b[0m\u001b[0;34m(\u001b[0m\u001b[0;34m)\u001b[0m\u001b[0;34m\u001b[0m\u001b[0;34m\u001b[0m\u001b[0m\n\u001b[1;32m     97\u001b[0m             \u001b[0mtotal_time\u001b[0m \u001b[0;34m=\u001b[0m \u001b[0mtotal_time\u001b[0m \u001b[0;34m+\u001b[0m \u001b[0mt0\u001b[0m \u001b[0;34m-\u001b[0m \u001b[0mtend\u001b[0m\u001b[0;34m\u001b[0m\u001b[0;34m\u001b[0m\u001b[0m\n",
      "\u001b[0;32m/network/lustre/dtlake01/aramis/users/sasha.collin/miniconda3/envs/venv/lib/python3.7/site-packages/torch/utils/data/dataloader.py\u001b[0m in \u001b[0;36m__next__\u001b[0;34m(self)\u001b[0m\n\u001b[1;32m    361\u001b[0m \u001b[0;34m\u001b[0m\u001b[0m\n\u001b[1;32m    362\u001b[0m     \u001b[0;32mdef\u001b[0m \u001b[0m__next__\u001b[0m\u001b[0;34m(\u001b[0m\u001b[0mself\u001b[0m\u001b[0;34m)\u001b[0m\u001b[0;34m:\u001b[0m\u001b[0;34m\u001b[0m\u001b[0;34m\u001b[0m\u001b[0m\n\u001b[0;32m--> 363\u001b[0;31m         \u001b[0mdata\u001b[0m \u001b[0;34m=\u001b[0m \u001b[0mself\u001b[0m\u001b[0;34m.\u001b[0m\u001b[0m_next_data\u001b[0m\u001b[0;34m(\u001b[0m\u001b[0;34m)\u001b[0m\u001b[0;34m\u001b[0m\u001b[0;34m\u001b[0m\u001b[0m\n\u001b[0m\u001b[1;32m    364\u001b[0m         \u001b[0mself\u001b[0m\u001b[0;34m.\u001b[0m\u001b[0m_num_yielded\u001b[0m \u001b[0;34m+=\u001b[0m \u001b[0;36m1\u001b[0m\u001b[0;34m\u001b[0m\u001b[0;34m\u001b[0m\u001b[0m\n\u001b[1;32m    365\u001b[0m         \u001b[0;32mif\u001b[0m \u001b[0mself\u001b[0m\u001b[0;34m.\u001b[0m\u001b[0m_dataset_kind\u001b[0m \u001b[0;34m==\u001b[0m \u001b[0m_DatasetKind\u001b[0m\u001b[0;34m.\u001b[0m\u001b[0mIterable\u001b[0m \u001b[0;32mand\u001b[0m\u001b[0;31m \u001b[0m\u001b[0;31m\\\u001b[0m\u001b[0;34m\u001b[0m\u001b[0;34m\u001b[0m\u001b[0m\n",
      "\u001b[0;32m/network/lustre/dtlake01/aramis/users/sasha.collin/miniconda3/envs/venv/lib/python3.7/site-packages/torch/utils/data/dataloader.py\u001b[0m in \u001b[0;36m_next_data\u001b[0;34m(self)\u001b[0m\n\u001b[1;32m    987\u001b[0m             \u001b[0;32melse\u001b[0m\u001b[0;34m:\u001b[0m\u001b[0;34m\u001b[0m\u001b[0;34m\u001b[0m\u001b[0m\n\u001b[1;32m    988\u001b[0m                 \u001b[0;32mdel\u001b[0m \u001b[0mself\u001b[0m\u001b[0;34m.\u001b[0m\u001b[0m_task_info\u001b[0m\u001b[0;34m[\u001b[0m\u001b[0midx\u001b[0m\u001b[0;34m]\u001b[0m\u001b[0;34m\u001b[0m\u001b[0;34m\u001b[0m\u001b[0m\n\u001b[0;32m--> 989\u001b[0;31m                 \u001b[0;32mreturn\u001b[0m \u001b[0mself\u001b[0m\u001b[0;34m.\u001b[0m\u001b[0m_process_data\u001b[0m\u001b[0;34m(\u001b[0m\u001b[0mdata\u001b[0m\u001b[0;34m)\u001b[0m\u001b[0;34m\u001b[0m\u001b[0;34m\u001b[0m\u001b[0m\n\u001b[0m\u001b[1;32m    990\u001b[0m \u001b[0;34m\u001b[0m\u001b[0m\n\u001b[1;32m    991\u001b[0m     \u001b[0;32mdef\u001b[0m \u001b[0m_try_put_index\u001b[0m\u001b[0;34m(\u001b[0m\u001b[0mself\u001b[0m\u001b[0;34m)\u001b[0m\u001b[0;34m:\u001b[0m\u001b[0;34m\u001b[0m\u001b[0;34m\u001b[0m\u001b[0m\n",
      "\u001b[0;32m/network/lustre/dtlake01/aramis/users/sasha.collin/miniconda3/envs/venv/lib/python3.7/site-packages/torch/utils/data/dataloader.py\u001b[0m in \u001b[0;36m_process_data\u001b[0;34m(self, data)\u001b[0m\n\u001b[1;32m   1012\u001b[0m         \u001b[0mself\u001b[0m\u001b[0;34m.\u001b[0m\u001b[0m_try_put_index\u001b[0m\u001b[0;34m(\u001b[0m\u001b[0;34m)\u001b[0m\u001b[0;34m\u001b[0m\u001b[0;34m\u001b[0m\u001b[0m\n\u001b[1;32m   1013\u001b[0m         \u001b[0;32mif\u001b[0m \u001b[0misinstance\u001b[0m\u001b[0;34m(\u001b[0m\u001b[0mdata\u001b[0m\u001b[0;34m,\u001b[0m \u001b[0mExceptionWrapper\u001b[0m\u001b[0;34m)\u001b[0m\u001b[0;34m:\u001b[0m\u001b[0;34m\u001b[0m\u001b[0;34m\u001b[0m\u001b[0m\n\u001b[0;32m-> 1014\u001b[0;31m             \u001b[0mdata\u001b[0m\u001b[0;34m.\u001b[0m\u001b[0mreraise\u001b[0m\u001b[0;34m(\u001b[0m\u001b[0;34m)\u001b[0m\u001b[0;34m\u001b[0m\u001b[0;34m\u001b[0m\u001b[0m\n\u001b[0m\u001b[1;32m   1015\u001b[0m         \u001b[0;32mreturn\u001b[0m \u001b[0mdata\u001b[0m\u001b[0;34m\u001b[0m\u001b[0;34m\u001b[0m\u001b[0m\n\u001b[1;32m   1016\u001b[0m \u001b[0;34m\u001b[0m\u001b[0m\n",
      "\u001b[0;32m/network/lustre/dtlake01/aramis/users/sasha.collin/miniconda3/envs/venv/lib/python3.7/site-packages/torch/_utils.py\u001b[0m in \u001b[0;36mreraise\u001b[0;34m(self)\u001b[0m\n\u001b[1;32m    393\u001b[0m             \u001b[0;31m# (https://bugs.python.org/issue2651), so we work around it.\u001b[0m\u001b[0;34m\u001b[0m\u001b[0;34m\u001b[0m\u001b[0;34m\u001b[0m\u001b[0m\n\u001b[1;32m    394\u001b[0m             \u001b[0mmsg\u001b[0m \u001b[0;34m=\u001b[0m \u001b[0mKeyErrorMessage\u001b[0m\u001b[0;34m(\u001b[0m\u001b[0mmsg\u001b[0m\u001b[0;34m)\u001b[0m\u001b[0;34m\u001b[0m\u001b[0;34m\u001b[0m\u001b[0m\n\u001b[0;32m--> 395\u001b[0;31m         \u001b[0;32mraise\u001b[0m \u001b[0mself\u001b[0m\u001b[0;34m.\u001b[0m\u001b[0mexc_type\u001b[0m\u001b[0;34m(\u001b[0m\u001b[0mmsg\u001b[0m\u001b[0;34m)\u001b[0m\u001b[0;34m\u001b[0m\u001b[0;34m\u001b[0m\u001b[0m\n\u001b[0m",
      "\u001b[0;31mKeyError\u001b[0m: Caught KeyError in DataLoader worker process 0.\nOriginal Traceback (most recent call last):\n  File \"/network/lustre/dtlake01/aramis/users/sasha.collin/miniconda3/envs/venv/lib/python3.7/site-packages/pandas/core/indexes/base.py\", line 3080, in get_loc\n    return self._engine.get_loc(casted_key)\n  File \"pandas/_libs/index.pyx\", line 70, in pandas._libs.index.IndexEngine.get_loc\n  File \"pandas/_libs/index.pyx\", line 101, in pandas._libs.index.IndexEngine.get_loc\n  File \"pandas/_libs/hashtable_class_helper.pxi\", line 1625, in pandas._libs.hashtable.Int64HashTable.get_item\n  File \"pandas/_libs/hashtable_class_helper.pxi\", line 1632, in pandas._libs.hashtable.Int64HashTable.get_item\nKeyError: 5\n\nThe above exception was the direct cause of the following exception:\n\nTraceback (most recent call last):\n  File \"/network/lustre/dtlake01/aramis/users/sasha.collin/miniconda3/envs/venv/lib/python3.7/site-packages/torch/utils/data/_utils/worker.py\", line 185, in _worker_loop\n    data = fetcher.fetch(index)\n  File \"/network/lustre/dtlake01/aramis/users/sasha.collin/miniconda3/envs/venv/lib/python3.7/site-packages/torch/utils/data/_utils/fetch.py\", line 44, in fetch\n    data = [self.dataset[idx] for idx in possibly_batched_index]\n  File \"/network/lustre/dtlake01/aramis/users/sasha.collin/miniconda3/envs/venv/lib/python3.7/site-packages/torch/utils/data/_utils/fetch.py\", line 44, in <listcomp>\n    data = [self.dataset[idx] for idx in possibly_batched_index]\n  File \"/network/lustre/dtlake01/aramis/users/sasha.collin/miniconda3/envs/venv/lib/python3.7/site-packages/clinicadl/tools/deep_learning/data.py\", line 566, in __getitem__\n    participant, session, cohort, slice_idx, label = self._get_meta_data(idx)\n  File \"/network/lustre/dtlake01/aramis/users/sasha.collin/miniconda3/envs/venv/lib/python3.7/site-packages/clinicadl/tools/deep_learning/data.py\", line 140, in _get_meta_data\n    participant = self.df.loc[image_idx, 'participant_id']\n  File \"/network/lustre/dtlake01/aramis/users/sasha.collin/miniconda3/envs/venv/lib/python3.7/site-packages/pandas/core/indexing.py\", line 889, in __getitem__\n    return self._getitem_tuple(key)\n  File \"/network/lustre/dtlake01/aramis/users/sasha.collin/miniconda3/envs/venv/lib/python3.7/site-packages/pandas/core/indexing.py\", line 1060, in _getitem_tuple\n    return self._getitem_lowerdim(tup)\n  File \"/network/lustre/dtlake01/aramis/users/sasha.collin/miniconda3/envs/venv/lib/python3.7/site-packages/pandas/core/indexing.py\", line 807, in _getitem_lowerdim\n    section = self._getitem_axis(key, axis=i)\n  File \"/network/lustre/dtlake01/aramis/users/sasha.collin/miniconda3/envs/venv/lib/python3.7/site-packages/pandas/core/indexing.py\", line 1124, in _getitem_axis\n    return self._get_label(key, axis=axis)\n  File \"/network/lustre/dtlake01/aramis/users/sasha.collin/miniconda3/envs/venv/lib/python3.7/site-packages/pandas/core/indexing.py\", line 1073, in _get_label\n    return self.obj.xs(label, axis=axis)\n  File \"/network/lustre/dtlake01/aramis/users/sasha.collin/miniconda3/envs/venv/lib/python3.7/site-packages/pandas/core/generic.py\", line 3739, in xs\n    loc = index.get_loc(key)\n  File \"/network/lustre/dtlake01/aramis/users/sasha.collin/miniconda3/envs/venv/lib/python3.7/site-packages/pandas/core/indexes/base.py\", line 3082, in get_loc\n    raise KeyError(key) from err\nKeyError: 5\n"
     ]
    }
   ],
   "source": [
    "train(model, train_loader, valid_loader, criterion, optimizer,False,'log_dir','model_dir', Options())"
   ]
  }
 ],
 "metadata": {
  "kernelspec": {
   "display_name": "Python 3",
   "language": "python",
   "name": "python3"
  },
  "language_info": {
   "codemirror_mode": {
    "name": "ipython",
    "version": 3
   },
   "file_extension": ".py",
   "mimetype": "text/x-python",
   "name": "python",
   "nbconvert_exporter": "python",
   "pygments_lexer": "ipython3",
   "version": "3.7.10"
  }
 },
 "nbformat": 4,
 "nbformat_minor": 5
}
