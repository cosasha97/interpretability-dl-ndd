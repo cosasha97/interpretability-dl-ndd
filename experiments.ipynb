{
 "cells": [
  {
   "cell_type": "code",
   "execution_count": 45,
   "id": "5b423de3",
   "metadata": {},
   "outputs": [],
   "source": [
    "import torch\n",
    "import torchvision\n",
    "import numpy as np\n",
    "from nilearn import plotting\n",
    "import clinicadl\n",
    "import pandas as pd\n",
    "import matplotlib.pyplot as plt\n",
    "from torchsummary import summary\n",
    "from sklearn.metrics import log_loss\n",
    "from collections import OrderedDict\n",
    "from PIL import Image\n",
    "from tqdm import tqdm\n",
    "from math import floor\n",
    "import pickle\n",
    "\n",
    "# torch\n",
    "import torch.nn as nn\n",
    "import torch.nn.functional as F\n",
    "import torch.optim as optim\n",
    "\n",
    "# clinicaDL\n",
    "from clinicadl.tools.tsv.data_split import create_split\n",
    "from clinicadl.tools.deep_learning.data import generate_sampler, return_dataset, MRIDataset, MRIDatasetImage, MRIDatasetSlice, get_transforms\n",
    "from torch.utils.data import DataLoader\n",
    "from clinicadl.tools.deep_learning.cnn_utils import train, get_criterion, test\n",
    "from clinicadl.tools.deep_learning.models.random import RandomArchitecture\n",
    "from clinicadl.tools.deep_learning import EarlyStopping\n",
    "\n",
    "# ignore warnings\n",
    "import warnings\n",
    "warnings.filterwarnings('ignore')"
   ]
  },
  {
   "cell_type": "code",
   "execution_count": 15,
   "id": "29293b59",
   "metadata": {},
   "outputs": [],
   "source": [
    "data_path = '/network/lustre/dtlake01/aramis/datasets/adni/caps/caps_v2021.tsv'\n",
    "summary_path = '/network/lustre/dtlake01/aramis/datasets/adni/caps/caps_v2021_summary.tsv'\n",
    "df_data = pd.read_csv(data_path,sep='\\t',nrows=10)\n",
    "df_summary = pd.read_csv(summary_path,sep='\\t',nrows=10)"
   ]
  },
  {
   "cell_type": "code",
   "execution_count": 16,
   "id": "f3899621",
   "metadata": {},
   "outputs": [
    {
     "data": {
      "text/plain": [
       "torch.Size([1, 169, 208, 179])"
      ]
     },
     "execution_count": 16,
     "metadata": {},
     "output_type": "execute_result"
    }
   ],
   "source": [
    "file = '/network/lustre/dtlake01/aramis/datasets/adni/caps/caps_v2021/subjects/sub-ADNI052S1251/ses-M00/deeplearning_prepare_data/image_based/t1_linear/sub-ADNI052S1251_ses-M00_T1w_space-MNI152NLin2009cSym_desc-Crop_res-1x1x1_T1w.pt'\n",
    "ts = torch.load(file)\n",
    "ts.shape"
   ]
  },
  {
   "cell_type": "code",
   "execution_count": 17,
   "id": "ac337024",
   "metadata": {},
   "outputs": [],
   "source": [
    "input_type = ''\n",
    "network_type = ''\n",
    "caps_directory = ''\n",
    "preprocessing = ''\n",
    "tsv_path = ''"
   ]
  },
  {
   "cell_type": "markdown",
   "id": "8b548628",
   "metadata": {
    "heading_collapsed": true
   },
   "source": [
    "# Iterator"
   ]
  },
  {
   "cell_type": "code",
   "execution_count": 18,
   "id": "1a61ab74",
   "metadata": {
    "hidden": true
   },
   "outputs": [],
   "source": [
    "def fetch_add_data(training_data, pipeline_name = 't1-volume',atlas_id = 'AAL2'):\n",
    "    \"\"\"\n",
    "    Fetch additional data: age, sex and volumes.\n",
    "    Normalize scalar data.\n",
    "    \"\"\"\n",
    "    # paths\n",
    "    data_path = '/network/lustre/dtlake01/aramis/datasets/adni/caps/caps_v2021.tsv'\n",
    "    summary_path = '/network/lustre/dtlake01/aramis/datasets/adni/caps/caps_v2021_summary.tsv'\n",
    "\n",
    "    # fetch indexes\n",
    "    df_summary = pd.read_csv(summary_path,sep='\\t')\n",
    "    df_summary = df_summary[(df_summary.pipeline_name == pipeline_name) & (df_summary.atlas_id == atlas_id)]\n",
    "    first_column_index = df_summary.first_column_index.item()\n",
    "    last_column_index = df_summary.last_column_index.item()\n",
    "    \n",
    "    # other data to fetch\n",
    "    df_data = pd.read_csv(data_path, sep='\\t', nrows=1)\n",
    "    col_names = ['participant_id', 'session_id', 'sex', 'age']\n",
    "    add_indexes = [df_data.columns.get_loc(col_name) for col_name in col_names]\n",
    "    \n",
    "    # compute df_add_data\n",
    "    df_add_data = pd.read_csv(data_path,sep='\\t', usecols=np.hstack([add_indexes, \\\n",
    "            np.arange(first_column_index,last_column_index+1)]).flatten()).dropna(axis=1,how='all')\n",
    "    \n",
    "    # normalization\n",
    "    temp_df = pd.merge(training_data[['participant_id', 'session_id']], \n",
    "                  df_add_data, on=['participant_id', 'session_id'], how='left')\n",
    "    scalar_cols = temp_df.columns.difference(['participant_id', 'session_id', 'sex'])\n",
    "    df_add_data[scalar_cols] = (df_add_data[scalar_cols] - temp_df.mean())/temp_df.std()\n",
    "    \n",
    "    \n",
    "    return df_add_data"
   ]
  },
  {
   "cell_type": "code",
   "execution_count": 19,
   "id": "51d16a1e",
   "metadata": {
    "code_folding": [
     96
    ],
    "hidden": true
   },
   "outputs": [],
   "source": [
    "class MRIDatasetSlice(MRIDataset):\n",
    "\n",
    "    def __init__(self, caps_directory, data_file, slice_index=None, preprocessing=\"t1-linear\",\n",
    "                 train_transformations=None, mri_plane=0, prepare_dl=False,\n",
    "                 discarded_slices=20, mixed=False, labels=True, all_transformations=None,\n",
    "                 multi_cohort=False,\n",
    "                 df_add_data=None):\n",
    "        \"\"\"\n",
    "        Args:\n",
    "            caps_directory (string): Directory of all the images.\n",
    "            data_file (string or DataFrame): Path to the tsv file or DataFrame containing the subject/session list.\n",
    "            preprocessing (string): Defines the path to the data in CAPS.\n",
    "            slice_index (int, optional): If a value is given the same slice will be extracted for each image.\n",
    "                else the dataset will load all the slices possible for one image.\n",
    "            train_transformations (callable, optional): Optional transform to be applied only on training mode.\n",
    "            prepare_dl (bool): If true pre-extracted patches will be loaded.\n",
    "            mri_plane (int): Defines which mri plane is used for slice extraction.\n",
    "            discarded_slices (int or list): number of slices discarded at the beginning and the end of the image.\n",
    "                If one single value is given, the same amount is discarded at the beginning and at the end.\n",
    "            mixed (bool): If True will look for a 'slice_id' column in the input DataFrame to load each slice\n",
    "                independently.\n",
    "            labels (bool): If True the diagnosis will be extracted from the given DataFrame.\n",
    "            all_transformations (callable, options): Optional transform to be applied during training and evaluation.\n",
    "            multi_cohort (bool): If True caps_directory is the path to a TSV file linking cohort names and paths.\n",
    "            df_add_data (DataFrame): dataframe containing additional data to predict, such as volumes\n",
    "            training_data_file: dataframe containing the subject/session list for training. \n",
    "                If None, data_file is selected as training_data_file\n",
    "        \"\"\"\n",
    "        # additional data\n",
    "        self.df_add_data = df_add_data\n",
    "        \n",
    "        # Rename MRI plane\n",
    "        if preprocessing == \"shepplogan\":\n",
    "            raise ValueError(\"Slice mode is not available for preprocessing %s\" % preprocessing)\n",
    "        self.elem_index = slice_index\n",
    "        self.mri_plane = mri_plane\n",
    "        self.direction_list = ['sag', 'cor', 'axi']\n",
    "        if self.mri_plane >= len(self.direction_list):\n",
    "            raise ValueError(\n",
    "                \"mri_plane value %i > %i\" %\n",
    "                (self.mri_plane, len(\n",
    "                    self.direction_list)))\n",
    "\n",
    "        # Manage discarded_slices\n",
    "        if isinstance(discarded_slices, int):\n",
    "            discarded_slices = [discarded_slices, discarded_slices]\n",
    "        if isinstance(discarded_slices, list) and len(discarded_slices) == 1:\n",
    "            discarded_slices = discarded_slices * 2\n",
    "        self.discarded_slices = discarded_slices\n",
    "\n",
    "        if mixed:\n",
    "            self.elem_index = \"mixed\"\n",
    "        else:\n",
    "            self.elem_index = None\n",
    "\n",
    "        self.mode = \"slice\"\n",
    "        self.prepare_dl = prepare_dl\n",
    "        super().__init__(caps_directory, data_file, preprocessing,\n",
    "                         augmentation_transformations=train_transformations, labels=labels,\n",
    "                         transformations=all_transformations, multi_cohort=multi_cohort)\n",
    "        \n",
    "\n",
    "    def __getitem__(self, idx):\n",
    "        participant, session, cohort, slice_idx, label = self._get_meta_data(idx)\n",
    "        slice_idx = slice_idx + self.discarded_slices[0]\n",
    "\n",
    "        if self.prepare_dl:\n",
    "            # read the slices directly\n",
    "            slice_path = path.join(self._get_path(participant, session, cohort, \"slice\")[0:-7]\n",
    "                                   + '_axis-%s' % self.direction_list[self.mri_plane]\n",
    "                                   + '_channel-rgb_slice-%i_T1w.pt' % slice_idx)\n",
    "            image = torch.load(slice_path)\n",
    "        else:\n",
    "            image_path = self._get_path(participant, session, cohort, \"image\")\n",
    "            full_image = torch.load(image_path)\n",
    "            image = self.extract_slice_from_mri(full_image, slice_idx)\n",
    "\n",
    "        if self.transformations:\n",
    "            image = self.transformations(image)\n",
    "\n",
    "        if self.augmentation_transformations and not self.eval_mode:\n",
    "            image = self.augmentation_transformations(image)\n",
    "            \n",
    "        ## fetch additional data\n",
    "        temp_df = self.df_add_data[(self.df_add_data.participant_id == participant) & \n",
    "                              (self.df_add_data.session_id == session)]\n",
    "        sex  = (temp_df.sex.to_numpy().item() == 'F') + 0.\n",
    "        age  = temp_df.age.to_numpy().item()\n",
    "        volumes = temp_df.drop(columns=['participant_id', 'session_id', 'sex', 'age']).to_numpy().squeeze()\n",
    "\n",
    "        sample = {'image': image, 'label': label,\n",
    "                  'participant_id': participant, 'session_id': session,\n",
    "                  'slice_id': slice_idx, 'age': age, 'sex': sex, 'volumes': volumes}\n",
    "\n",
    "        return sample\n",
    "\n",
    "    def num_elem_per_image(self):\n",
    "        if self.elem_index is not None:\n",
    "            return 1\n",
    "\n",
    "        image = self._get_full_image()\n",
    "        return image.size(self.mri_plane + 1) - \\\n",
    "            self.discarded_slices[0] - self.discarded_slices[1]\n",
    "    \n",
    "    def extract_slice_from_mri(self, image, index_slice):\n",
    "        \"\"\"\n",
    "        This is a function to grab one slice in each view and create a rgb image for transferring learning: duplicate the slices into R, G, B channel\n",
    "        :param image: (tensor)\n",
    "        :param index_slice: (int) index of the wanted slice\n",
    "        :return:\n",
    "        To note, for each view:\n",
    "        Axial_view = \"[:, :, slice_i]\"\n",
    "        Coronal_view = \"[:, slice_i, :]\"\n",
    "        Sagittal_view= \"[slice_i, :, :]\"\n",
    "        \"\"\"\n",
    "        image = image.squeeze(0)\n",
    "        simple_slice = image[(slice(None),) * self.mri_plane + (index_slice,)]\n",
    "        triple_slice = torch.stack((simple_slice, simple_slice, simple_slice))\n",
    "\n",
    "        return triple_slice"
   ]
  },
  {
   "cell_type": "markdown",
   "id": "72756ae6",
   "metadata": {
    "heading_collapsed": true
   },
   "source": [
    "# Models"
   ]
  },
  {
   "cell_type": "code",
   "execution_count": 20,
   "id": "2af6a936",
   "metadata": {
    "code_folding": [],
    "hidden": true
   },
   "outputs": [],
   "source": [
    "class Net(nn.Module):\n",
    "    def __init__(self, sample, convolutions):\n",
    "        super().__init__()\n",
    "        self.image_size = sample['image'].shape\n",
    "        self.features = nn.Sequential()\n",
    "        input_size = self.image_size[0]\n",
    "        h_w = self.image_size[1:]\n",
    "        \n",
    "        # default parameters\n",
    "        kernel_size = 3\n",
    "        \n",
    "        for index, nb_conv in enumerate(convolutions):\n",
    "            self.features.add_module('conv' + str(index), nn.Conv2d(input_size, nb_conv, kernel_size))\n",
    "            h_w = self.conv_output_shape(h_w, 3)\n",
    "            self.features.add_module('relu' + str(index), nn.ReLU())\n",
    "            self.features.add_module('bnn' + str(index), nn.BatchNorm2d(nb_conv))\n",
    "            self.features.add_module('pool' + str(index), nn.MaxPool2d(2,2))\n",
    "            h_w = self.conv_output_shape(h_w, 2, stride=2)\n",
    "            input_size = nb_conv\n",
    "            \n",
    "        \n",
    "        self.features_output_size = np.prod(h_w) * nb_conv\n",
    "        self.dense_size_1 = 32\n",
    "        self.dense_size_2 = 16\n",
    "        \n",
    "        # classifyer\n",
    "        self.branch1 = nn.Sequential(\n",
    "            nn.Linear(self.features_output_size, self.dense_size_1),\n",
    "            nn.ReLU(),\n",
    "            nn.BatchNorm1d(self.dense_size_1),\n",
    "            nn.Linear(self.dense_size_1, self.dense_size_2),\n",
    "            nn.ReLU(),\n",
    "            nn.BatchNorm1d(self.dense_size_2),\n",
    "            nn.Linear(self.dense_size_2, 1),\n",
    "            nn.Sigmoid()\n",
    "        )\n",
    "        # volumes\n",
    "        n_volumes = np.prod(sample['volumes'].shape)\n",
    "        self.branch2 = nn.Sequential(\n",
    "            nn.Linear(self.features_output_size, 4*n_volumes),\n",
    "            nn.ReLU(),\n",
    "            nn.BatchNorm1d(4*n_volumes),\n",
    "            nn.Linear(4*n_volumes, 2*n_volumes),\n",
    "            nn.ReLU(),\n",
    "            nn.BatchNorm1d(2*n_volumes),\n",
    "            nn.Linear(2*n_volumes, n_volumes)\n",
    "        )\n",
    "        # age\n",
    "        self.branch3 = nn.Sequential(\n",
    "            nn.Linear(self.features_output_size, self.dense_size_1),\n",
    "            nn.ReLU(),\n",
    "            nn.BatchNorm1d(self.dense_size_1),\n",
    "            nn.Linear(self.dense_size_1, self.dense_size_2),\n",
    "            nn.ReLU(),\n",
    "            nn.BatchNorm1d(self.dense_size_2),\n",
    "            nn.Linear(self.dense_size_2, 1)\n",
    "        )\n",
    "        # sex\n",
    "        self.branch4 = nn.Sequential(\n",
    "            nn.Linear(self.features_output_size, self.dense_size_1),\n",
    "            nn.ReLU(),\n",
    "            nn.BatchNorm1d(self.dense_size_1),\n",
    "            nn.Linear(self.dense_size_1, self.dense_size_2),\n",
    "            nn.ReLU(),\n",
    "            nn.BatchNorm1d(self.dense_size_2),\n",
    "            nn.Linear(self.dense_size_2, 1),\n",
    "            nn.Sigmoid()\n",
    "        )\n",
    "    \n",
    "    @staticmethod\n",
    "    def conv_output_shape(h_w, kernel_size=1, stride=1, pad=0, dilation=1):\n",
    "        if type(kernel_size) is not tuple:\n",
    "            kernel_size = (kernel_size, kernel_size)\n",
    "        h = floor( ((h_w[0] + (2 * pad) - ( dilation * (kernel_size[0] - 1) ) - 1 )/ stride) + 1)\n",
    "        w = floor( ((h_w[1] + (2 * pad) - ( dilation * (kernel_size[1] - 1) ) - 1 )/ stride) + 1)\n",
    "        return h, w\n",
    "    \n",
    "    def forward(self, x):\n",
    "        x = self.features(x)\n",
    "        x = x.view(-1, self.features_output_size)\n",
    "        c = self.branch1(x)\n",
    "        v = self.branch2(x)\n",
    "        age = self.branch3(x)\n",
    "        sex = self.branch4(x)\n",
    "        return c, v, age, sex\n",
    "    \n",
    "    def summary(self):\n",
    "        \"\"\"\n",
    "        Print a summary of the model.\n",
    "        \"\"\"\n",
    "        summary(self, input_size=self.image_size)\n"
   ]
  },
  {
   "cell_type": "markdown",
   "id": "a269a79f",
   "metadata": {
    "heading_collapsed": true
   },
   "source": [
    "# Utils"
   ]
  },
  {
   "cell_type": "code",
   "execution_count": 21,
   "id": "a0abc7a1",
   "metadata": {
    "code_folding": [],
    "hidden": true
   },
   "outputs": [],
   "source": [
    "def compute_loss(output_x, true_x, output_v, true_v, output_age, true_age, output_sex, true_sex):\n",
    "    \"\"\"\n",
    "    Compute loss L\n",
    "    \n",
    "    \"\"\"\n",
    "    #print(output_x.flatten(), output_v.flatten(), output_age.flatten(), output_sex.flatten())\n",
    "    #L1 = nn.L1Loss(reduction='mean')\n",
    "    #L_class = L1(output_x.flatten(), true_x)\n",
    "    BCE = nn.BCELoss()\n",
    "    L_class = BCE(output_x.flatten(), true_x)\n",
    "    MSE = nn.MSELoss(reduction='mean')\n",
    "    L_vol = MSE(output_v, true_v)\n",
    "    L_age = MSE(output_age.flatten(), true_age)\n",
    "    #L_sex = L1(output_sex, true_sex)\n",
    "    L_sex = BCE(output_sex.flatten(), true_sex)\n",
    "    #print(L_class, L_mse, L_age, L_sex, L_class + L_mse + L_age + L_sex)\n",
    "    return L_class, L_vol, L_age, L_sex, L_class + L_vol + L_age + L_sex\n",
    "\n",
    "def train(epoch, model, optimizer_, device, loader):\n",
    "    \"\"\"\n",
    "    Training of a vae model\n",
    "    :param epoch: int, epoch index\n",
    "    :param vae_: pytorch model\n",
    "    :param optimizer_: pytorch optimizer\n",
    "    \"\"\"\n",
    "\n",
    "    model.train()\n",
    "    train_loss = 0\n",
    "    L_class, L_vol, L_age, L_sex = 0, 0, 0, 0\n",
    "    # accuracy\n",
    "    correct = 0\n",
    "    for batch_idx, data in tqdm(enumerate(loader)):\n",
    "        if torch.cuda.is_available():\n",
    "            for key in data.keys():\n",
    "                try:\n",
    "                    data[key] = data[key].to(device)\n",
    "                except AttributeError:\n",
    "                    pass\n",
    "        # zero the parameter gradients\n",
    "        optimizer_.zero_grad()\n",
    "        # forward\n",
    "        classification, volumes, age, sex = model(data['image'])\n",
    "        losses = compute_loss(classification.float(), data['label'].float(), \n",
    "                              volumes.float(), data['volumes'].float(),\n",
    "                              age.float(), data['age'].float(),\n",
    "                              sex.float(), data['sex'].float())\n",
    "\n",
    "        # update current losses\n",
    "        train_loss += losses[-1].item()\n",
    "        L_class += losses[0].item()\n",
    "        L_vol += losses[1].item()\n",
    "        L_age += losses[2].item()\n",
    "        L_sex += losses[3].item()\n",
    "        \n",
    "        # compute other metrics\n",
    "        correct += ( (classification.float()>0.5).flatten() == data['label']).float().sum().item()\n",
    "        \n",
    "        # backward + optimize\n",
    "        losses[-1].backward()\n",
    "        optimizer_.step()\n",
    "        \n",
    "    # scale losses\n",
    "    for l in [train_loss, L_class, L_vol, L_age, L_sex]:\n",
    "        l = l / len(loader.dataset)\n",
    "    # other metrics\n",
    "    accuracy = 100 * correct / len(loader.dataset)\n",
    "    \n",
    "    print('Epoch: {}, Average loss: {:.4f}, Accuracy: {:.2f}'.format(epoch, train_loss, accuracy))\n",
    "\n",
    "    return {'classification': L_class, \n",
    "            'volumes': L_vol, \n",
    "            'age': L_age, \n",
    "            'sex': L_sex, \n",
    "            'train': train_loss}\n",
    "\n",
    "def test(model, device, loader):\n",
    "    \"\"\"\n",
    "    Test a trained vae model\n",
    "    :param vae_: pytorch model\n",
    "    \"\"\"\n",
    "    model.eval()\n",
    "    test_loss = 0\n",
    "    L_class, L_vol, L_age, L_sex = 0, 0, 0, 0\n",
    "    correct = 0.\n",
    "    with torch.no_grad():\n",
    "        for batch_idx, data in enumerate(loader):\n",
    "            for key in data.keys():\n",
    "                try:\n",
    "                    data[key] = data[key].to(device)\n",
    "                except AttributeError:\n",
    "                    pass\n",
    "            classification, volumes, age, sex = model(data['image'])\n",
    "            losses = compute_loss(classification.float(), data['label'].float(), \n",
    "                                  volumes.float(), data['volumes'].float(),\n",
    "                                  age.float(), data['age'].float(),\n",
    "                                  sex.float(), data['sex'].float())\n",
    "            # update current losses\n",
    "            test_loss += losses[-1].item()\n",
    "            L_class += losses[0].item()\n",
    "            L_vol += losses[1].item()\n",
    "            L_age += losses[2].item()\n",
    "            L_sex += losses[3].item()\n",
    "            \n",
    "            # compute other metrics\n",
    "            correct += ( (classification.float()>0.5).flatten() == data['label']).float().sum().item()\n",
    "            \n",
    "    for l in [test_loss, L_class, L_vol, L_age, L_sex]:\n",
    "        l = l / len(loader.dataset)\n",
    "    # other metrics\n",
    "    accuracy = 100 * correct / len(loader.dataset)    \n",
    "    \n",
    "    print('Test set loss: {:.4f}, Accuracy: {:.2f}'.format(test_loss, accuracy))\n",
    "    \n",
    "    return {'classification': L_class, \n",
    "            'volumes': L_vol, \n",
    "            'age': L_age, \n",
    "            'sex': L_sex, \n",
    "            'test': test_loss}\n",
    "\n",
    "def update_dict(dictionary, values, epoch):\n",
    "    \"\"\"\n",
    "    Update dictionary using values.\n",
    "    \"\"\"\n",
    "    for key in values.keys():\n",
    "        dictionary[key][epoch] = values[key]"
   ]
  },
  {
   "cell_type": "markdown",
   "id": "d36debb0",
   "metadata": {
    "heading_collapsed": true
   },
   "source": [
    "# Callbacks"
   ]
  },
  {
   "cell_type": "code",
   "execution_count": 22,
   "id": "c971d805",
   "metadata": {
    "code_folding": [],
    "hidden": true
   },
   "outputs": [],
   "source": [
    "class ModelCheckpoint(object):\n",
    "    def __init__(self, mode='min', min_delta=0):\n",
    "        self.mode = mode\n",
    "        self.min_delta = min_delta\n",
    "        self.best = None\n",
    "        self.is_better = None\n",
    "        self._init_is_better(mode, min_delta)\n",
    "\n",
    "    def step(self, metrics, epoch, model, optimizer, path=\"model_0.pt\"):\n",
    "        import numpy as np\n",
    "\n",
    "        if self.best is None:\n",
    "            self.best = metrics\n",
    "            self.save_model(metrics, epoch, model, optimizer, path)\n",
    "            return True\n",
    "\n",
    "        if np.isnan(metrics):\n",
    "            raise Exception(\"Metric is NaN\")\n",
    "\n",
    "        if self.is_better(metrics, self.best):\n",
    "            self.best = metrics\n",
    "            self.save_model(metrics, epoch, model, optimizer, path)\n",
    "            return True\n",
    "\n",
    "        return False\n",
    "\n",
    "    def _init_is_better(self, mode, min_delta):\n",
    "        if mode not in {'min', 'max'}:\n",
    "            raise ValueError('mode ' + mode + ' is unknown!')\n",
    "\n",
    "        if mode == 'min':\n",
    "            self.is_better = lambda a, best: a < best - best * min_delta\n",
    "        if mode == 'max':\n",
    "            self.is_better = lambda a, best: a > best + best * min_delta\n",
    "            \n",
    "    def save_model(self, metrics, epoch, model, optimizer, path):\n",
    "        torch.save({\n",
    "            'epoch': epoch,\n",
    "            'model_state_dict': model.state_dict(),\n",
    "            'optimizer_state_dict': optimizer.state_dict(),\n",
    "            'loss': metrics,\n",
    "            }, path)"
   ]
  },
  {
   "cell_type": "markdown",
   "id": "f9829b23",
   "metadata": {},
   "source": [
    "# Grad-CAM"
   ]
  },
  {
   "cell_type": "code",
   "execution_count": 165,
   "id": "088a710c",
   "metadata": {
    "code_folding": [
     9,
     12,
     24,
     46
    ]
   },
   "outputs": [],
   "source": [
    "class CamExtractor():\n",
    "    \"\"\"\n",
    "    Extracts cam features from the model\n",
    "    \"\"\"\n",
    "    def __init__(self, model, target_layer):\n",
    "        self.model = model\n",
    "        self.target_layer = target_layer\n",
    "        self.gradients = None\n",
    "\n",
    "    def save_gradient(self, grad):\n",
    "        self.gradients = grad\n",
    "\n",
    "    def forward_pass_on_convolutions(self, x):\n",
    "        \"\"\"\n",
    "        Does a forward pass on convolutions, hooks the function at given layer\n",
    "        \"\"\"\n",
    "        conv_output = None\n",
    "        for module_pos, module in self.model.features._modules.items():\n",
    "            x = module(x)  # Forward\n",
    "            if module_pos == self.target_layer:\n",
    "                x.register_hook(self.save_gradient)\n",
    "                conv_output = x  # Save the convolution output on that layer\n",
    "        return conv_output, x\n",
    "\n",
    "    def forward_pass(self, x, branch):\n",
    "        \"\"\"\n",
    "        Does a full forward pass on the model\n",
    "        \"\"\"\n",
    "        # Forward pass on the convolutions\n",
    "        conv_output, x = self.forward_pass_on_convolutions(x)\n",
    "        x = x.view(x.size(0), -1)  # Flatten\n",
    "        # Forward pass on the classifier\n",
    "        x = getattr(self.model, branch)(x)\n",
    "        return conv_output, x\n",
    "\n",
    "\n",
    "class GradCam():\n",
    "    \"\"\"\n",
    "        Produces class activation map\n",
    "    \"\"\"\n",
    "    def __init__(self, model, target_layer):\n",
    "        self.model = model\n",
    "        self.model.eval()\n",
    "        # Define extractor\n",
    "        self.extractor = CamExtractor(self.model, target_layer)\n",
    "        # grad-cam attention maps\n",
    "        self.cams = {}\n",
    "\n",
    "    def generate_cam(self, input_image, branch='branch1'):\n",
    "        \"\"\"\n",
    "        Args:\n",
    "            input_image: array\n",
    "            branch: string, name of the branch\n",
    "        \"\"\"\n",
    "        # Full forward pass\n",
    "        # conv_output is the output of convolutions at specified layer\n",
    "        # model_output is the final output of the model (1, 1000)\n",
    "        if torch.cuda.is_available():\n",
    "            input_image = input_image.cuda()\n",
    "        conv_output, model_output = self.extractor.forward_pass(input_image, branch)\n",
    "        # Zero grads\n",
    "        self.model.features.zero_grad()\n",
    "        getattr(self.model, branch).zero_grad()\n",
    "        # Backward pass with specified target\n",
    "        if torch.cuda.is_available():\n",
    "            model_output.sum().backward(retain_graph=True)\n",
    "        else:\n",
    "            model_output.sum().backward(retain_graph=True)\n",
    "        # Get hooked gradients\n",
    "        guided_gradients = self.extractor.gradients.cpu().data.numpy()[0]\n",
    "        # Get convolution outputs\n",
    "        target = conv_output.cpu().data.numpy()[0]\n",
    "        # Get weights from gradients\n",
    "        weights = np.mean(guided_gradients, axis=(1, 2))  # Take averages for each gradient\n",
    "        # Create empty numpy array for cam\n",
    "        cam = np.ones(target.shape[1:], dtype=np.float32)\n",
    "        # Multiply each weight with its conv output and then, sum\n",
    "        for i, w in enumerate(weights):\n",
    "            cam += w * target[i, :, :]\n",
    "        cam = np.maximum(cam, 0)\n",
    "        cam = (cam - np.min(cam)) / (np.max(cam) - np.min(cam))  # Normalize between 0-1\n",
    "        cam = np.uint8(cam * 255)  # Scale between 0-255 to visualize\n",
    "        cam = np.uint8(Image.fromarray(cam).resize((input_image.shape[3],\n",
    "                       input_image.shape[2]), Image.ANTIALIAS))/255\n",
    "        return cam\n",
    "    \n",
    "    def generate_all_cams(self, input_image):\n",
    "        \"\"\"\n",
    "        Generate Grad-CAM attention maps for all branches.\n",
    "        \"\"\"\n",
    "        branches = ['branch' + str(k) for k in range(1, 5)]\n",
    "        for branch in branches:\n",
    "            self.cams[branch] = self.generate_cam(input_image, branch=branch)\n",
    "        return self.cams\n",
    "    \n",
    "    def visualize_cams(self):\n",
    "        \"\"\"\n",
    "        Visualize cams for all branches.\n",
    "        \"\"\"\n",
    "        if not self.cams:\n",
    "            raise Exception(\"No cams already computed!\")\n",
    "        \n",
    "        branch2target = {\n",
    "            'branch1': 'disease',\n",
    "            'b\n",
    "        }"
   ]
  },
  {
   "cell_type": "code",
   "execution_count": 175,
   "id": "f062919a",
   "metadata": {},
   "outputs": [
    {
     "data": {
      "text/plain": [
       "{}"
      ]
     },
     "execution_count": 175,
     "metadata": {},
     "output_type": "execute_result"
    }
   ],
   "source": [
    "a = {}\n",
    "a"
   ]
  },
  {
   "cell_type": "markdown",
   "id": "eb619243",
   "metadata": {},
   "source": [
    "# Train Single CNN"
   ]
  },
  {
   "cell_type": "markdown",
   "id": "bc1e3401",
   "metadata": {
    "heading_collapsed": true
   },
   "source": [
    "## Initialization"
   ]
  },
  {
   "cell_type": "code",
   "execution_count": 24,
   "id": "a67523b0",
   "metadata": {
    "code_folding": [],
    "hidden": true
   },
   "outputs": [],
   "source": [
    "# global parameters\n",
    "caps_directory = '/network/lustre/dtlake01/aramis/datasets/adni/caps/caps_v2021/'\n",
    "batch_size = 512\n",
    "num_workers = 1\n",
    "loss = 'default'\n",
    "optimizer_name = 'Adam'\n",
    "learning_rate = 1e-4\n",
    "weight_decay = 1e-4"
   ]
  },
  {
   "cell_type": "code",
   "execution_count": 25,
   "id": "efac0b65",
   "metadata": {
    "code_folding": [],
    "hidden": true,
    "scrolled": true
   },
   "outputs": [
    {
     "name": "stderr",
     "output_type": "stream",
     "text": [
      "DEBUG:root:p_age=0.81, p_sex=0.8008\n",
      "INFO:root:Split for diagnosis AD was found after 1 trials\n",
      "DEBUG:root:p_age=0.53, p_sex=0.9204\n",
      "DEBUG:root:p_age=0.87, p_sex=0.8955\n",
      "INFO:root:Split for diagnosis CN was found after 2 trials\n"
     ]
    }
   ],
   "source": [
    "# fold iterator\n",
    "fold_iterator = range(2)\n",
    "\n",
    "# load dataframes\n",
    "AD = pd.read_csv('subjects/AD.tsv',sep='\\t')\n",
    "CN = pd.read_csv('subjects/CN.tsv',sep='\\t')\n",
    "\n",
    "# remove samples with NaN\n",
    "AD.drop(AD[AD.isna().sum(axis=1) > 0].index, inplace=True)\n",
    "CN.drop(CN[CN.isna().sum(axis=1) > 0].index, inplace=True)\n",
    "\n",
    "# split data between training and validation sets\n",
    "training_df, valid_df = create_split('AD', AD, 'diagnosis',0.2)\n",
    "df_CN = create_split('CN', CN, 'diagnosis',0.2)\n",
    "training_df = training_df.append(df_CN[0]).reset_index()#.iloc[np.array([0,1,2,-1,-2,-3])]\n",
    "valid_df = valid_df.append(df_CN[1]).reset_index()#.iloc[np.array([0,1,2,-1,-2,-3])]\n",
    "\n",
    "# drop index column\n",
    "training_df.drop(columns = ['index'], inplace=True)\n",
    "valid_df.drop(columns = ['index'], inplace=True)\n",
    "\n",
    "train_transforms, all_transforms = get_transforms('image',\n",
    "                                                  minmaxnormalization=False,\n",
    "                                                  data_augmentation=None )\n",
    "# fetch volumetric data\n",
    "df_add_data = fetch_add_data(training_df)\n",
    "\n",
    "# all_transforms = torchvision.transforms.Compose([])"
   ]
  },
  {
   "cell_type": "code",
   "execution_count": 26,
   "id": "fa898c26",
   "metadata": {
    "hidden": true
   },
   "outputs": [],
   "source": [
    "# follow structure of ``train_single_cnn``\n",
    "\n",
    "# training_df['slice_id'] = 85\n",
    "# valid_df['slice_id'] = 85\n",
    "# dataset iterator\n",
    "# data_train = MRIDatasetSlice(caps_directory, training_df, slice_index=85, mixed=True, df_add_data=df_add_data) #train_transformations=all_transforms\n",
    "# data_valid = MRIDatasetSlice(caps_directory, valid_df, slice_index=85, mixed=True, df_add_data=df_add_data) #train_transformations=all_transforms,\n",
    "\n",
    "data_train = MRIDatasetSlice(caps_directory, training_df, df_add_data=df_add_data) #train_transformations=all_transforms\n",
    "data_valid = MRIDatasetSlice(caps_directory, valid_df, df_add_data=df_add_data) #train_transformations=all_transforms,\n",
    "\n",
    "\n",
    "# sampler\n",
    "train_sampler = generate_sampler(data_train)\n",
    "valid_sampler = generate_sampler(data_valid)\n",
    "# loaders\n",
    "train_loader = DataLoader(data_train,\n",
    "                         batch_size=batch_size,\n",
    "                         sampler=train_sampler,\n",
    "                         num_workers=num_workers,\n",
    "                         pin_memory=True)\n",
    "\n",
    "valid_loader = DataLoader(data_valid,\n",
    "                         batch_size=batch_size,\n",
    "                         sampler=valid_sampler,\n",
    "                         num_workers=num_workers,\n",
    "                         pin_memory=True)"
   ]
  },
  {
   "cell_type": "markdown",
   "id": "fe9be74e",
   "metadata": {
    "heading_collapsed": true
   },
   "source": [
    "## Training"
   ]
  },
  {
   "cell_type": "code",
   "execution_count": 37,
   "id": "47b66241",
   "metadata": {
    "hidden": true,
    "scrolled": true
   },
   "outputs": [
    {
     "name": "stdout",
     "output_type": "stream",
     "text": [
      "To cuda\n",
      "----------------------------------------------------------------\n",
      "        Layer (type)               Output Shape         Param #\n",
      "================================================================\n",
      "            Conv2d-1          [-1, 8, 206, 177]             224\n",
      "              ReLU-2          [-1, 8, 206, 177]               0\n",
      "       BatchNorm2d-3          [-1, 8, 206, 177]              16\n",
      "         MaxPool2d-4           [-1, 8, 103, 88]               0\n",
      "            Conv2d-5          [-1, 16, 101, 86]           1,168\n",
      "              ReLU-6          [-1, 16, 101, 86]               0\n",
      "       BatchNorm2d-7          [-1, 16, 101, 86]              32\n",
      "         MaxPool2d-8           [-1, 16, 50, 43]               0\n",
      "            Conv2d-9           [-1, 32, 48, 41]           4,640\n",
      "             ReLU-10           [-1, 32, 48, 41]               0\n",
      "      BatchNorm2d-11           [-1, 32, 48, 41]              64\n",
      "        MaxPool2d-12           [-1, 32, 24, 20]               0\n",
      "           Conv2d-13           [-1, 64, 22, 18]          18,496\n",
      "             ReLU-14           [-1, 64, 22, 18]               0\n",
      "      BatchNorm2d-15           [-1, 64, 22, 18]             128\n",
      "        MaxPool2d-16            [-1, 64, 11, 9]               0\n",
      "           Conv2d-17            [-1, 128, 9, 7]          73,856\n",
      "             ReLU-18            [-1, 128, 9, 7]               0\n",
      "      BatchNorm2d-19            [-1, 128, 9, 7]             256\n",
      "        MaxPool2d-20            [-1, 128, 4, 3]               0\n",
      "           Linear-21                   [-1, 32]          49,184\n",
      "             ReLU-22                   [-1, 32]               0\n",
      "      BatchNorm1d-23                   [-1, 32]              64\n",
      "           Linear-24                   [-1, 16]             528\n",
      "             ReLU-25                   [-1, 16]               0\n",
      "      BatchNorm1d-26                   [-1, 16]              32\n",
      "           Linear-27                    [-1, 1]              17\n",
      "          Sigmoid-28                    [-1, 1]               0\n",
      "           Linear-29                  [-1, 476]         731,612\n",
      "             ReLU-30                  [-1, 476]               0\n",
      "      BatchNorm1d-31                  [-1, 476]             952\n",
      "           Linear-32                  [-1, 238]         113,526\n",
      "             ReLU-33                  [-1, 238]               0\n",
      "      BatchNorm1d-34                  [-1, 238]             476\n",
      "           Linear-35                  [-1, 119]          28,441\n",
      "           Linear-36                   [-1, 32]          49,184\n",
      "             ReLU-37                   [-1, 32]               0\n",
      "      BatchNorm1d-38                   [-1, 32]              64\n",
      "           Linear-39                   [-1, 16]             528\n",
      "             ReLU-40                   [-1, 16]               0\n",
      "      BatchNorm1d-41                   [-1, 16]              32\n",
      "           Linear-42                    [-1, 1]              17\n",
      "           Linear-43                   [-1, 32]          49,184\n",
      "             ReLU-44                   [-1, 32]               0\n",
      "      BatchNorm1d-45                   [-1, 32]              64\n",
      "           Linear-46                   [-1, 16]             528\n",
      "             ReLU-47                   [-1, 16]               0\n",
      "      BatchNorm1d-48                   [-1, 16]              32\n",
      "           Linear-49                    [-1, 1]              17\n",
      "          Sigmoid-50                    [-1, 1]               0\n",
      "================================================================\n",
      "Total params: 1,123,362\n",
      "Trainable params: 1,123,362\n",
      "Non-trainable params: 0\n",
      "----------------------------------------------------------------\n",
      "Input size (MB): 0.43\n",
      "Forward/backward pass size (MB): 13.08\n",
      "Params size (MB): 4.29\n",
      "Estimated Total Size (MB): 17.79\n",
      "----------------------------------------------------------------\n"
     ]
    }
   ],
   "source": [
    "# get sample\n",
    "sample = data_train[0]\n",
    "# build model\n",
    "model = Net(sample, [8, 16, 32, 64, 128])\n",
    "if torch.cuda.is_available():\n",
    "    print(\"To cuda\")\n",
    "    model.cuda()\n",
    "model.summary()"
   ]
  },
  {
   "cell_type": "code",
   "execution_count": 19,
   "id": "578fa9e2",
   "metadata": {
    "hidden": true
   },
   "outputs": [
    {
     "data": {
      "text/plain": [
       "16.166666666666664"
      ]
     },
     "execution_count": 19,
     "metadata": {},
     "output_type": "execute_result"
    }
   ],
   "source": [
    "len(train_loader)*5/60 + len(valid_loader)*5/60"
   ]
  },
  {
   "cell_type": "code",
   "execution_count": 15,
   "id": "0d596761",
   "metadata": {
    "hidden": true,
    "scrolled": true
   },
   "outputs": [
    {
     "name": "stderr",
     "output_type": "stream",
     "text": [
      "40it [03:12,  4.82s/it]\n"
     ]
    },
    {
     "ename": "KeyboardInterrupt",
     "evalue": "",
     "output_type": "error",
     "traceback": [
      "\u001b[0;31m---------------------------------------------------------------------------\u001b[0m",
      "\u001b[0;31mKeyboardInterrupt\u001b[0m                         Traceback (most recent call last)",
      "\u001b[0;32m<ipython-input-15-dd0fab412178>\u001b[0m in \u001b[0;36m<module>\u001b[0;34m\u001b[0m\n\u001b[1;32m     26\u001b[0m \u001b[0;31m# training\u001b[0m\u001b[0;34m\u001b[0m\u001b[0;34m\u001b[0m\u001b[0;34m\u001b[0m\u001b[0m\n\u001b[1;32m     27\u001b[0m \u001b[0;32mfor\u001b[0m \u001b[0mepoch\u001b[0m \u001b[0;32min\u001b[0m \u001b[0mrange\u001b[0m\u001b[0;34m(\u001b[0m\u001b[0mnb_epochs\u001b[0m\u001b[0;34m)\u001b[0m\u001b[0;34m:\u001b[0m\u001b[0;34m\u001b[0m\u001b[0;34m\u001b[0m\u001b[0m\n\u001b[0;32m---> 28\u001b[0;31m     \u001b[0mupdate_dict\u001b[0m\u001b[0;34m(\u001b[0m\u001b[0mtrain_losses\u001b[0m\u001b[0;34m,\u001b[0m \u001b[0mtrain\u001b[0m\u001b[0;34m(\u001b[0m\u001b[0mepoch\u001b[0m\u001b[0;34m,\u001b[0m \u001b[0mmodel\u001b[0m\u001b[0;34m,\u001b[0m \u001b[0moptimizer\u001b[0m\u001b[0;34m,\u001b[0m \u001b[0mcuda\u001b[0m\u001b[0;34m,\u001b[0m \u001b[0mtrain_loader\u001b[0m\u001b[0;34m)\u001b[0m\u001b[0;34m,\u001b[0m \u001b[0mepoch\u001b[0m\u001b[0;34m)\u001b[0m\u001b[0;34m\u001b[0m\u001b[0;34m\u001b[0m\u001b[0m\n\u001b[0m\u001b[1;32m     29\u001b[0m     \u001b[0mupdate_dict\u001b[0m\u001b[0;34m(\u001b[0m\u001b[0mtest_losses\u001b[0m\u001b[0;34m,\u001b[0m \u001b[0mtest\u001b[0m\u001b[0;34m(\u001b[0m\u001b[0mmodel\u001b[0m\u001b[0;34m,\u001b[0m \u001b[0mcuda\u001b[0m\u001b[0;34m,\u001b[0m \u001b[0mvalid_loader\u001b[0m\u001b[0;34m)\u001b[0m\u001b[0;34m,\u001b[0m \u001b[0mepoch\u001b[0m\u001b[0;34m)\u001b[0m\u001b[0;34m\u001b[0m\u001b[0;34m\u001b[0m\u001b[0m\n\u001b[1;32m     30\u001b[0m     \u001b[0;32mif\u001b[0m \u001b[0mES\u001b[0m\u001b[0;34m.\u001b[0m\u001b[0mstep\u001b[0m\u001b[0;34m(\u001b[0m\u001b[0mtrain_losses\u001b[0m\u001b[0;34m[\u001b[0m\u001b[0;34m'train'\u001b[0m\u001b[0;34m]\u001b[0m\u001b[0;34m[\u001b[0m\u001b[0mepoch\u001b[0m\u001b[0;34m]\u001b[0m\u001b[0;34m)\u001b[0m\u001b[0;34m:\u001b[0m\u001b[0;34m\u001b[0m\u001b[0;34m\u001b[0m\u001b[0m\n",
      "\u001b[0;32m<ipython-input-8-78a860315f9c>\u001b[0m in \u001b[0;36mtrain\u001b[0;34m(epoch, model, optimizer_, device, loader)\u001b[0m\n\u001b[1;32m     30\u001b[0m     \u001b[0;31m# accuracy\u001b[0m\u001b[0;34m\u001b[0m\u001b[0;34m\u001b[0m\u001b[0;34m\u001b[0m\u001b[0m\n\u001b[1;32m     31\u001b[0m     \u001b[0mcorrect\u001b[0m \u001b[0;34m=\u001b[0m \u001b[0;36m0\u001b[0m\u001b[0;34m\u001b[0m\u001b[0;34m\u001b[0m\u001b[0m\n\u001b[0;32m---> 32\u001b[0;31m     \u001b[0;32mfor\u001b[0m \u001b[0mbatch_idx\u001b[0m\u001b[0;34m,\u001b[0m \u001b[0mdata\u001b[0m \u001b[0;32min\u001b[0m \u001b[0mtqdm\u001b[0m\u001b[0;34m(\u001b[0m\u001b[0menumerate\u001b[0m\u001b[0;34m(\u001b[0m\u001b[0mloader\u001b[0m\u001b[0;34m)\u001b[0m\u001b[0;34m)\u001b[0m\u001b[0;34m:\u001b[0m\u001b[0;34m\u001b[0m\u001b[0;34m\u001b[0m\u001b[0m\n\u001b[0m\u001b[1;32m     33\u001b[0m         \u001b[0;32mif\u001b[0m \u001b[0mtorch\u001b[0m\u001b[0;34m.\u001b[0m\u001b[0mcuda\u001b[0m\u001b[0;34m.\u001b[0m\u001b[0mis_available\u001b[0m\u001b[0;34m(\u001b[0m\u001b[0;34m)\u001b[0m\u001b[0;34m:\u001b[0m\u001b[0;34m\u001b[0m\u001b[0;34m\u001b[0m\u001b[0m\n\u001b[1;32m     34\u001b[0m             \u001b[0;32mfor\u001b[0m \u001b[0mkey\u001b[0m \u001b[0;32min\u001b[0m \u001b[0mdata\u001b[0m\u001b[0;34m.\u001b[0m\u001b[0mkeys\u001b[0m\u001b[0;34m(\u001b[0m\u001b[0;34m)\u001b[0m\u001b[0;34m:\u001b[0m\u001b[0;34m\u001b[0m\u001b[0;34m\u001b[0m\u001b[0m\n",
      "\u001b[0;32m/network/lustre/dtlake01/aramis/users/sasha.collin/miniconda3/envs/venv/lib/python3.7/site-packages/tqdm/std.py\u001b[0m in \u001b[0;36m__iter__\u001b[0;34m(self)\u001b[0m\n\u001b[1;32m   1176\u001b[0m \u001b[0;34m\u001b[0m\u001b[0m\n\u001b[1;32m   1177\u001b[0m         \u001b[0;32mtry\u001b[0m\u001b[0;34m:\u001b[0m\u001b[0;34m\u001b[0m\u001b[0;34m\u001b[0m\u001b[0m\n\u001b[0;32m-> 1178\u001b[0;31m             \u001b[0;32mfor\u001b[0m \u001b[0mobj\u001b[0m \u001b[0;32min\u001b[0m \u001b[0miterable\u001b[0m\u001b[0;34m:\u001b[0m\u001b[0;34m\u001b[0m\u001b[0;34m\u001b[0m\u001b[0m\n\u001b[0m\u001b[1;32m   1179\u001b[0m                 \u001b[0;32myield\u001b[0m \u001b[0mobj\u001b[0m\u001b[0;34m\u001b[0m\u001b[0;34m\u001b[0m\u001b[0m\n\u001b[1;32m   1180\u001b[0m                 \u001b[0;31m# Update and possibly print the progressbar.\u001b[0m\u001b[0;34m\u001b[0m\u001b[0;34m\u001b[0m\u001b[0;34m\u001b[0m\u001b[0m\n",
      "\u001b[0;32m/network/lustre/dtlake01/aramis/users/sasha.collin/miniconda3/envs/venv/lib/python3.7/site-packages/torch/utils/data/dataloader.py\u001b[0m in \u001b[0;36m__next__\u001b[0;34m(self)\u001b[0m\n\u001b[1;32m    515\u001b[0m             \u001b[0;32mif\u001b[0m \u001b[0mself\u001b[0m\u001b[0;34m.\u001b[0m\u001b[0m_sampler_iter\u001b[0m \u001b[0;32mis\u001b[0m \u001b[0;32mNone\u001b[0m\u001b[0;34m:\u001b[0m\u001b[0;34m\u001b[0m\u001b[0;34m\u001b[0m\u001b[0m\n\u001b[1;32m    516\u001b[0m                 \u001b[0mself\u001b[0m\u001b[0;34m.\u001b[0m\u001b[0m_reset\u001b[0m\u001b[0;34m(\u001b[0m\u001b[0;34m)\u001b[0m\u001b[0;34m\u001b[0m\u001b[0;34m\u001b[0m\u001b[0m\n\u001b[0;32m--> 517\u001b[0;31m             \u001b[0mdata\u001b[0m \u001b[0;34m=\u001b[0m \u001b[0mself\u001b[0m\u001b[0;34m.\u001b[0m\u001b[0m_next_data\u001b[0m\u001b[0;34m(\u001b[0m\u001b[0;34m)\u001b[0m\u001b[0;34m\u001b[0m\u001b[0;34m\u001b[0m\u001b[0m\n\u001b[0m\u001b[1;32m    518\u001b[0m             \u001b[0mself\u001b[0m\u001b[0;34m.\u001b[0m\u001b[0m_num_yielded\u001b[0m \u001b[0;34m+=\u001b[0m \u001b[0;36m1\u001b[0m\u001b[0;34m\u001b[0m\u001b[0;34m\u001b[0m\u001b[0m\n\u001b[1;32m    519\u001b[0m             \u001b[0;32mif\u001b[0m \u001b[0mself\u001b[0m\u001b[0;34m.\u001b[0m\u001b[0m_dataset_kind\u001b[0m \u001b[0;34m==\u001b[0m \u001b[0m_DatasetKind\u001b[0m\u001b[0;34m.\u001b[0m\u001b[0mIterable\u001b[0m \u001b[0;32mand\u001b[0m\u001b[0;31m \u001b[0m\u001b[0;31m\\\u001b[0m\u001b[0;34m\u001b[0m\u001b[0;34m\u001b[0m\u001b[0m\n",
      "\u001b[0;32m/network/lustre/dtlake01/aramis/users/sasha.collin/miniconda3/envs/venv/lib/python3.7/site-packages/torch/utils/data/dataloader.py\u001b[0m in \u001b[0;36m_next_data\u001b[0;34m(self)\u001b[0m\n\u001b[1;32m   1180\u001b[0m \u001b[0;34m\u001b[0m\u001b[0m\n\u001b[1;32m   1181\u001b[0m             \u001b[0;32massert\u001b[0m \u001b[0;32mnot\u001b[0m \u001b[0mself\u001b[0m\u001b[0;34m.\u001b[0m\u001b[0m_shutdown\u001b[0m \u001b[0;32mand\u001b[0m \u001b[0mself\u001b[0m\u001b[0;34m.\u001b[0m\u001b[0m_tasks_outstanding\u001b[0m \u001b[0;34m>\u001b[0m \u001b[0;36m0\u001b[0m\u001b[0;34m\u001b[0m\u001b[0;34m\u001b[0m\u001b[0m\n\u001b[0;32m-> 1182\u001b[0;31m             \u001b[0midx\u001b[0m\u001b[0;34m,\u001b[0m \u001b[0mdata\u001b[0m \u001b[0;34m=\u001b[0m \u001b[0mself\u001b[0m\u001b[0;34m.\u001b[0m\u001b[0m_get_data\u001b[0m\u001b[0;34m(\u001b[0m\u001b[0;34m)\u001b[0m\u001b[0;34m\u001b[0m\u001b[0;34m\u001b[0m\u001b[0m\n\u001b[0m\u001b[1;32m   1183\u001b[0m             \u001b[0mself\u001b[0m\u001b[0;34m.\u001b[0m\u001b[0m_tasks_outstanding\u001b[0m \u001b[0;34m-=\u001b[0m \u001b[0;36m1\u001b[0m\u001b[0;34m\u001b[0m\u001b[0;34m\u001b[0m\u001b[0m\n\u001b[1;32m   1184\u001b[0m             \u001b[0;32mif\u001b[0m \u001b[0mself\u001b[0m\u001b[0;34m.\u001b[0m\u001b[0m_dataset_kind\u001b[0m \u001b[0;34m==\u001b[0m \u001b[0m_DatasetKind\u001b[0m\u001b[0;34m.\u001b[0m\u001b[0mIterable\u001b[0m\u001b[0;34m:\u001b[0m\u001b[0;34m\u001b[0m\u001b[0;34m\u001b[0m\u001b[0m\n",
      "\u001b[0;32m/network/lustre/dtlake01/aramis/users/sasha.collin/miniconda3/envs/venv/lib/python3.7/site-packages/torch/utils/data/dataloader.py\u001b[0m in \u001b[0;36m_get_data\u001b[0;34m(self)\u001b[0m\n\u001b[1;32m   1136\u001b[0m         \u001b[0;32melif\u001b[0m \u001b[0mself\u001b[0m\u001b[0;34m.\u001b[0m\u001b[0m_pin_memory\u001b[0m\u001b[0;34m:\u001b[0m\u001b[0;34m\u001b[0m\u001b[0;34m\u001b[0m\u001b[0m\n\u001b[1;32m   1137\u001b[0m             \u001b[0;32mwhile\u001b[0m \u001b[0mself\u001b[0m\u001b[0;34m.\u001b[0m\u001b[0m_pin_memory_thread\u001b[0m\u001b[0;34m.\u001b[0m\u001b[0mis_alive\u001b[0m\u001b[0;34m(\u001b[0m\u001b[0;34m)\u001b[0m\u001b[0;34m:\u001b[0m\u001b[0;34m\u001b[0m\u001b[0;34m\u001b[0m\u001b[0m\n\u001b[0;32m-> 1138\u001b[0;31m                 \u001b[0msuccess\u001b[0m\u001b[0;34m,\u001b[0m \u001b[0mdata\u001b[0m \u001b[0;34m=\u001b[0m \u001b[0mself\u001b[0m\u001b[0;34m.\u001b[0m\u001b[0m_try_get_data\u001b[0m\u001b[0;34m(\u001b[0m\u001b[0;34m)\u001b[0m\u001b[0;34m\u001b[0m\u001b[0;34m\u001b[0m\u001b[0m\n\u001b[0m\u001b[1;32m   1139\u001b[0m                 \u001b[0;32mif\u001b[0m \u001b[0msuccess\u001b[0m\u001b[0;34m:\u001b[0m\u001b[0;34m\u001b[0m\u001b[0;34m\u001b[0m\u001b[0m\n\u001b[1;32m   1140\u001b[0m                     \u001b[0;32mreturn\u001b[0m \u001b[0mdata\u001b[0m\u001b[0;34m\u001b[0m\u001b[0;34m\u001b[0m\u001b[0m\n",
      "\u001b[0;32m/network/lustre/dtlake01/aramis/users/sasha.collin/miniconda3/envs/venv/lib/python3.7/site-packages/torch/utils/data/dataloader.py\u001b[0m in \u001b[0;36m_try_get_data\u001b[0;34m(self, timeout)\u001b[0m\n\u001b[1;32m    984\u001b[0m         \u001b[0;31m#   (bool: whether successfully get data, any: data if successful else None)\u001b[0m\u001b[0;34m\u001b[0m\u001b[0;34m\u001b[0m\u001b[0;34m\u001b[0m\u001b[0m\n\u001b[1;32m    985\u001b[0m         \u001b[0;32mtry\u001b[0m\u001b[0;34m:\u001b[0m\u001b[0;34m\u001b[0m\u001b[0;34m\u001b[0m\u001b[0m\n\u001b[0;32m--> 986\u001b[0;31m             \u001b[0mdata\u001b[0m \u001b[0;34m=\u001b[0m \u001b[0mself\u001b[0m\u001b[0;34m.\u001b[0m\u001b[0m_data_queue\u001b[0m\u001b[0;34m.\u001b[0m\u001b[0mget\u001b[0m\u001b[0;34m(\u001b[0m\u001b[0mtimeout\u001b[0m\u001b[0;34m=\u001b[0m\u001b[0mtimeout\u001b[0m\u001b[0;34m)\u001b[0m\u001b[0;34m\u001b[0m\u001b[0;34m\u001b[0m\u001b[0m\n\u001b[0m\u001b[1;32m    987\u001b[0m             \u001b[0;32mreturn\u001b[0m \u001b[0;34m(\u001b[0m\u001b[0;32mTrue\u001b[0m\u001b[0;34m,\u001b[0m \u001b[0mdata\u001b[0m\u001b[0;34m)\u001b[0m\u001b[0;34m\u001b[0m\u001b[0;34m\u001b[0m\u001b[0m\n\u001b[1;32m    988\u001b[0m         \u001b[0;32mexcept\u001b[0m \u001b[0mException\u001b[0m \u001b[0;32mas\u001b[0m \u001b[0me\u001b[0m\u001b[0;34m:\u001b[0m\u001b[0;34m\u001b[0m\u001b[0;34m\u001b[0m\u001b[0m\n",
      "\u001b[0;32m/network/lustre/dtlake01/aramis/users/sasha.collin/miniconda3/envs/venv/lib/python3.7/queue.py\u001b[0m in \u001b[0;36mget\u001b[0;34m(self, block, timeout)\u001b[0m\n\u001b[1;32m    177\u001b[0m                     \u001b[0;32mif\u001b[0m \u001b[0mremaining\u001b[0m \u001b[0;34m<=\u001b[0m \u001b[0;36m0.0\u001b[0m\u001b[0;34m:\u001b[0m\u001b[0;34m\u001b[0m\u001b[0;34m\u001b[0m\u001b[0m\n\u001b[1;32m    178\u001b[0m                         \u001b[0;32mraise\u001b[0m \u001b[0mEmpty\u001b[0m\u001b[0;34m\u001b[0m\u001b[0;34m\u001b[0m\u001b[0m\n\u001b[0;32m--> 179\u001b[0;31m                     \u001b[0mself\u001b[0m\u001b[0;34m.\u001b[0m\u001b[0mnot_empty\u001b[0m\u001b[0;34m.\u001b[0m\u001b[0mwait\u001b[0m\u001b[0;34m(\u001b[0m\u001b[0mremaining\u001b[0m\u001b[0;34m)\u001b[0m\u001b[0;34m\u001b[0m\u001b[0;34m\u001b[0m\u001b[0m\n\u001b[0m\u001b[1;32m    180\u001b[0m             \u001b[0mitem\u001b[0m \u001b[0;34m=\u001b[0m \u001b[0mself\u001b[0m\u001b[0;34m.\u001b[0m\u001b[0m_get\u001b[0m\u001b[0;34m(\u001b[0m\u001b[0;34m)\u001b[0m\u001b[0;34m\u001b[0m\u001b[0;34m\u001b[0m\u001b[0m\n\u001b[1;32m    181\u001b[0m             \u001b[0mself\u001b[0m\u001b[0;34m.\u001b[0m\u001b[0mnot_full\u001b[0m\u001b[0;34m.\u001b[0m\u001b[0mnotify\u001b[0m\u001b[0;34m(\u001b[0m\u001b[0;34m)\u001b[0m\u001b[0;34m\u001b[0m\u001b[0;34m\u001b[0m\u001b[0m\n",
      "\u001b[0;32m/network/lustre/dtlake01/aramis/users/sasha.collin/miniconda3/envs/venv/lib/python3.7/threading.py\u001b[0m in \u001b[0;36mwait\u001b[0;34m(self, timeout)\u001b[0m\n\u001b[1;32m    298\u001b[0m             \u001b[0;32melse\u001b[0m\u001b[0;34m:\u001b[0m\u001b[0;34m\u001b[0m\u001b[0;34m\u001b[0m\u001b[0m\n\u001b[1;32m    299\u001b[0m                 \u001b[0;32mif\u001b[0m \u001b[0mtimeout\u001b[0m \u001b[0;34m>\u001b[0m \u001b[0;36m0\u001b[0m\u001b[0;34m:\u001b[0m\u001b[0;34m\u001b[0m\u001b[0;34m\u001b[0m\u001b[0m\n\u001b[0;32m--> 300\u001b[0;31m                     \u001b[0mgotit\u001b[0m \u001b[0;34m=\u001b[0m \u001b[0mwaiter\u001b[0m\u001b[0;34m.\u001b[0m\u001b[0macquire\u001b[0m\u001b[0;34m(\u001b[0m\u001b[0;32mTrue\u001b[0m\u001b[0;34m,\u001b[0m \u001b[0mtimeout\u001b[0m\u001b[0;34m)\u001b[0m\u001b[0;34m\u001b[0m\u001b[0;34m\u001b[0m\u001b[0m\n\u001b[0m\u001b[1;32m    301\u001b[0m                 \u001b[0;32melse\u001b[0m\u001b[0;34m:\u001b[0m\u001b[0;34m\u001b[0m\u001b[0;34m\u001b[0m\u001b[0m\n\u001b[1;32m    302\u001b[0m                     \u001b[0mgotit\u001b[0m \u001b[0;34m=\u001b[0m \u001b[0mwaiter\u001b[0m\u001b[0;34m.\u001b[0m\u001b[0macquire\u001b[0m\u001b[0;34m(\u001b[0m\u001b[0;32mFalse\u001b[0m\u001b[0;34m)\u001b[0m\u001b[0;34m\u001b[0m\u001b[0;34m\u001b[0m\u001b[0m\n",
      "\u001b[0;31mKeyboardInterrupt\u001b[0m: "
     ]
    }
   ],
   "source": [
    "nb_epochs = 20\n",
    "# optimizer\n",
    "optimizer = optim.Adam(model.parameters(),lr=learning_rate)\n",
    "# device\n",
    "cuda = torch.device('cuda')\n",
    "# record losses\n",
    "train_losses = {\n",
    "    'classification': np.zeros(nb_epochs),\n",
    "    'volumes': np.zeros(nb_epochs),\n",
    "    'age': np.zeros(nb_epochs),\n",
    "    'sex': np.zeros(nb_epochs),\n",
    "    'train': np.zeros(nb_epochs)\n",
    "}\n",
    "test_losses = {\n",
    "    'classification': np.zeros(nb_epochs),\n",
    "    'volumes': np.zeros(nb_epochs),\n",
    "    'age': np.zeros(nb_epochs),\n",
    "    'sex': np.zeros(nb_epochs),\n",
    "    'test': np.zeros(nb_epochs)\n",
    "}\n",
    "\n",
    "# callbacks\n",
    "ES = EarlyStopping(patience=5)\n",
    "MC = ModelCheckpoint()\n",
    "\n",
    "# training\n",
    "for epoch in range(nb_epochs):\n",
    "    update_dict(train_losses, train(epoch, model, optimizer, cuda, train_loader), epoch)\n",
    "    update_dict(test_losses, test(model, cuda, valid_loader), epoch)\n",
    "    if ES.step(train_losses['train'][epoch]):\n",
    "        break\n",
    "    MC.step(train_losses['train'][epoch], epoch, model, optimizer) # path\n",
    "\n",
    "# save training curves\n",
    "f = open(\"train_losses.pkl\",\"wb\")\n",
    "pickle.dump(train_losses,f)\n",
    "f.close()\n",
    "\n",
    "f = open(\"val_losses.pkl\",\"wb\")\n",
    "pickle.dump(test_losses,f)\n",
    "f.close()"
   ]
  },
  {
   "cell_type": "markdown",
   "id": "2742939e",
   "metadata": {},
   "source": [
    "## Visualization"
   ]
  },
  {
   "cell_type": "code",
   "execution_count": 29,
   "id": "8f08832b",
   "metadata": {},
   "outputs": [],
   "source": [
    "def plot_losses(dict_losses, title=\"\"):\n",
    "    \"\"\"\n",
    "    Plot the different losses.\n",
    "    \n",
    "    Args:\n",
    "        dict_losses: dictionnary of losses\n",
    "    \"\"\"\n",
    "    plt.figure()\n",
    "    plt.title(title)\n",
    "    for key in dict_losses.keys():\n",
    "        plt.plot(dict_losses[key], label=key)\n",
    "    plt.legend()\n",
    "    plt.show()"
   ]
  },
  {
   "cell_type": "code",
   "execution_count": 32,
   "id": "6f7f6ecb",
   "metadata": {},
   "outputs": [
    {
     "data": {
      "image/png": "[encoded data removed]",
      "text/plain": [
       "<Figure size 432x288 with 1 Axes>"
      ]
     },
     "metadata": {
      "needs_background": "light"
     },
     "output_type": "display_data"
    }
   ],
   "source": [
    "plot_losses(train_losses, \"Training losses\")"
   ]
  },
  {
   "cell_type": "code",
   "execution_count": 38,
   "id": "9b2302b0",
   "metadata": {},
   "outputs": [],
   "source": [
    "# load model\n",
    "saved_data = torch.load('model_0.pt')"
   ]
  },
  {
   "cell_type": "code",
   "execution_count": 40,
   "id": "23a523fc",
   "metadata": {},
   "outputs": [
    {
     "data": {
      "text/plain": [
       "<All keys matched successfully>"
      ]
     },
     "execution_count": 40,
     "metadata": {},
     "output_type": "execute_result"
    }
   ],
   "source": [
    "model.load_state_dict(saved_data['model_state_dict'])"
   ]
  },
  {
   "cell_type": "code",
   "execution_count": 168,
   "id": "453f2de9",
   "metadata": {},
   "outputs": [],
   "source": [
    "GC = GradCam(model,'conv4')\n",
    "img = sample['image'][None,...].float()\n",
    "attention_map = GC.generate_cam(img)"
   ]
  },
  {
   "cell_type": "code",
   "execution_count": 169,
   "id": "cdbb1bfd",
   "metadata": {},
   "outputs": [],
   "source": [
    "maps = GC.generate_all_cams(img)"
   ]
  },
  {
   "cell_type": "code",
   "execution_count": 120,
   "id": "7dead8ea",
   "metadata": {},
   "outputs": [],
   "source": [
    "img2 = np.transpose(img, (0,2,3,1))[0,...]\n",
    "img_scaled = (img2-img2.min())/img2.max()"
   ]
  },
  {
   "cell_type": "code",
   "execution_count": 137,
   "id": "4fbade78",
   "metadata": {},
   "outputs": [
    {
     "data": {
      "text/plain": [
       "<matplotlib.image.AxesImage at 0x7f25d0f5ad50>"
      ]
     },
     "execution_count": 137,
     "metadata": {},
     "output_type": "execute_result"
    },
    {
     "data": {
      "image/png": "[encoded data removed]",
      "text/plain": [
       "<Figure size 432x288 with 1 Axes>"
      ]
     },
     "metadata": {
      "needs_background": "light"
     },
     "output_type": "display_data"
    }
   ],
   "source": [
    "fig, ax = plt.subplots()\n",
    "ax.imshow(img_scaled)\n",
    "ax.imshow(attention_map, cmap='bwr', alpha=0.3)"
   ]
  },
  {
   "cell_type": "code",
   "execution_count": 123,
   "id": "f6c4ddf8",
   "metadata": {},
   "outputs": [
    {
     "data": {
      "text/plain": [
       "<matplotlib.image.AxesImage at 0x7f25d1c25cd0>"
      ]
     },
     "execution_count": 123,
     "metadata": {},
     "output_type": "execute_result"
    },
    {
     "data": {
      "image/png": "[encoded data removed]",
      "text/plain": [
       "<Figure size 432x288 with 1 Axes>"
      ]
     },
     "metadata": {
      "needs_background": "light"
     },
     "output_type": "display_data"
    }
   ],
   "source": [
    "fig, ax = plt.subplots()\n",
    "ax.imshow(img_scaled)\n",
    "ax.imshow(attention_map, cmap='bwr', alpha=0.3)"
   ]
  },
  {
   "cell_type": "markdown",
   "id": "99854d6c",
   "metadata": {
    "heading_collapsed": true
   },
   "source": [
    "# RANDOM"
   ]
  },
  {
   "cell_type": "code",
   "execution_count": 33,
   "id": "5ab833fb",
   "metadata": {
    "hidden": true
   },
   "outputs": [
    {
     "data": {
      "text/plain": [
       "participant_id                                                                                      0\n",
       "session_id                                                                                          0\n",
       "sex                                                                                                 1\n",
       "age                                                                                              1178\n",
       "t1-volume_group-adni2021_atlas-Neuromorphometrics_ROI-Background_intensity                       1173\n",
       "                                                                                                 ... \n",
       "t1-volume_group-adni2021_atlas-Neuromorphometrics_ROI-Right-Posterior-Orbital-Gyrus_intensity    1173\n",
       "t1-volume_group-adni2021_atlas-Neuromorphometrics_ROI-Left-Planum-Polare_intensity               1173\n",
       "t1-volume_group-adni2021_atlas-Neuromorphometrics_ROI-Right-Planum-Polare_intensity              1173\n",
       "t1-volume_group-adni2021_atlas-Neuromorphometrics_ROI-Left-Precentral-Gyrus_intensity            1173\n",
       "t1-volume_group-adni2021_atlas-Neuromorphometrics_ROI-Right-Precentral-Gyrus_intensity           1173\n",
       "Length: 123, dtype: int64"
      ]
     },
     "execution_count": 33,
     "metadata": {},
     "output_type": "execute_result"
    }
   ],
   "source": [
    "df_add_data[df_add_data.iloc[:,3].isna()].isna().sum(axis=0)"
   ]
  },
  {
   "cell_type": "markdown",
   "id": "ed4cbb3a",
   "metadata": {
    "hidden": true
   },
   "source": [
    "I am using working with the file '/network/lustre/dtlake01/aramis/datasets/adni/caps/caps_v2021.tsv' and using the 't1-volume' pipeline and the atlas 'AAL2'.\n",
    "6267 samples (i.e. couples (participant_id, session_id)) do not have any volume value (i.e. NaN). 1 sample has no sex value and 1178 samples have no age values.\n"
   ]
  },
  {
   "cell_type": "code",
   "execution_count": 31,
   "id": "293be254",
   "metadata": {
    "hidden": true
   },
   "outputs": [
    {
     "data": {
      "text/plain": [
       "participant_id                                                                                      0\n",
       "session_id                                                                                          0\n",
       "sex                                                                                                 1\n",
       "age                                                                                              1178\n",
       "t1-volume_group-adni2021_atlas-Neuromorphometrics_ROI-Background_intensity                       6267\n",
       "                                                                                                 ... \n",
       "t1-volume_group-adni2021_atlas-Neuromorphometrics_ROI-Right-Posterior-Orbital-Gyrus_intensity    6267\n",
       "t1-volume_group-adni2021_atlas-Neuromorphometrics_ROI-Left-Planum-Polare_intensity               6267\n",
       "t1-volume_group-adni2021_atlas-Neuromorphometrics_ROI-Right-Planum-Polare_intensity              6267\n",
       "t1-volume_group-adni2021_atlas-Neuromorphometrics_ROI-Left-Precentral-Gyrus_intensity            6267\n",
       "t1-volume_group-adni2021_atlas-Neuromorphometrics_ROI-Right-Precentral-Gyrus_intensity           6267\n",
       "Length: 123, dtype: int64"
      ]
     },
     "execution_count": 31,
     "metadata": {},
     "output_type": "execute_result"
    }
   ],
   "source": [
    "df_add_data.isna().sum(axis=0)"
   ]
  },
  {
   "cell_type": "code",
   "execution_count": 64,
   "id": "21ea7ed0",
   "metadata": {
    "hidden": true
   },
   "outputs": [],
   "source": [
    "\n",
    "# initialize the model\n",
    "convolutions = {\n",
    "    'conv0':{\n",
    "        'n_conv':1,\n",
    "        'in_channels':None,\n",
    "        'out_channels':16,\n",
    "        'd_reduction': \"MaxPooling\"\n",
    "    },\n",
    "    'conv1':{\n",
    "        'n_conv':1,\n",
    "        'in_channels':None,\n",
    "        'out_channels':32,\n",
    "        'd_reduction': \"MaxPooling\"\n",
    "    },\n",
    "    'conv2':{\n",
    "        'n_conv':1,\n",
    "        'in_channels':None,\n",
    "        'out_channels':32,\n",
    "        'd_reduction': \"MaxPooling\"\n",
    "    },\n",
    "    'conv3':{\n",
    "        'n_conv':1,\n",
    "        'in_channels':None,\n",
    "        'out_channels':64,\n",
    "        'd_reduction': \"MaxPooling\"\n",
    "    },\n",
    "    'conv4':{\n",
    "        'n_conv':1,\n",
    "        'in_channels':None,\n",
    "        'out_channels':128,\n",
    "        'd_reduction': \"MaxPooling\"\n",
    "    }\n",
    "}\n",
    "model = RandomArchitecture(convolutions,1,data_train.size)\n",
    "\n",
    "\n",
    "# Define criterion and optimizer\n",
    "criterion = get_criterion(loss)\n",
    "optimizer = getattr(torch.optim, optimizer_name)(filter(lambda x: x.requires_grad, model.parameters()),\n",
    "                                                   lr=learning_rate,\n",
    "                                                   weight_decay=weight_decay)"
   ]
  },
  {
   "cell_type": "code",
   "execution_count": 8,
   "id": "ad3ee7d7",
   "metadata": {
    "hidden": true
   },
   "outputs": [],
   "source": [
    "class Options:\n",
    "    def __init__(self):\n",
    "        self.beginning_epoch = 0\n",
    "        self.tolerance = 0\n",
    "        self.patience = 10\n",
    "        self.epochs = 10\n",
    "        self.gpu = True\n",
    "        self.batch_size = 1"
   ]
  },
  {
   "cell_type": "code",
   "execution_count": 9,
   "id": "94cb8367",
   "metadata": {
    "hidden": true,
    "scrolled": true
   },
   "outputs": [
    {
     "name": "stderr",
     "output_type": "stream",
     "text": [
      "INFO:root:Beginning epoch 0.\n"
     ]
    },
    {
     "ename": "KeyError",
     "evalue": "Caught KeyError in DataLoader worker process 0.\nOriginal Traceback (most recent call last):\n  File \"/network/lustre/dtlake01/aramis/users/sasha.collin/miniconda3/envs/venv/lib/python3.7/site-packages/pandas/core/indexes/base.py\", line 3080, in get_loc\n    return self._engine.get_loc(casted_key)\n  File \"pandas/_libs/index.pyx\", line 70, in pandas._libs.index.IndexEngine.get_loc\n  File \"pandas/_libs/index.pyx\", line 101, in pandas._libs.index.IndexEngine.get_loc\n  File \"pandas/_libs/hashtable_class_helper.pxi\", line 1625, in pandas._libs.hashtable.Int64HashTable.get_item\n  File \"pandas/_libs/hashtable_class_helper.pxi\", line 1632, in pandas._libs.hashtable.Int64HashTable.get_item\nKeyError: 5\n\nThe above exception was the direct cause of the following exception:\n\nTraceback (most recent call last):\n  File \"/network/lustre/dtlake01/aramis/users/sasha.collin/miniconda3/envs/venv/lib/python3.7/site-packages/torch/utils/data/_utils/worker.py\", line 185, in _worker_loop\n    data = fetcher.fetch(index)\n  File \"/network/lustre/dtlake01/aramis/users/sasha.collin/miniconda3/envs/venv/lib/python3.7/site-packages/torch/utils/data/_utils/fetch.py\", line 44, in fetch\n    data = [self.dataset[idx] for idx in possibly_batched_index]\n  File \"/network/lustre/dtlake01/aramis/users/sasha.collin/miniconda3/envs/venv/lib/python3.7/site-packages/torch/utils/data/_utils/fetch.py\", line 44, in <listcomp>\n    data = [self.dataset[idx] for idx in possibly_batched_index]\n  File \"/network/lustre/dtlake01/aramis/users/sasha.collin/miniconda3/envs/venv/lib/python3.7/site-packages/clinicadl/tools/deep_learning/data.py\", line 566, in __getitem__\n    participant, session, cohort, slice_idx, label = self._get_meta_data(idx)\n  File \"/network/lustre/dtlake01/aramis/users/sasha.collin/miniconda3/envs/venv/lib/python3.7/site-packages/clinicadl/tools/deep_learning/data.py\", line 140, in _get_meta_data\n    participant = self.df.loc[image_idx, 'participant_id']\n  File \"/network/lustre/dtlake01/aramis/users/sasha.collin/miniconda3/envs/venv/lib/python3.7/site-packages/pandas/core/indexing.py\", line 889, in __getitem__\n    return self._getitem_tuple(key)\n  File \"/network/lustre/dtlake01/aramis/users/sasha.collin/miniconda3/envs/venv/lib/python3.7/site-packages/pandas/core/indexing.py\", line 1060, in _getitem_tuple\n    return self._getitem_lowerdim(tup)\n  File \"/network/lustre/dtlake01/aramis/users/sasha.collin/miniconda3/envs/venv/lib/python3.7/site-packages/pandas/core/indexing.py\", line 807, in _getitem_lowerdim\n    section = self._getitem_axis(key, axis=i)\n  File \"/network/lustre/dtlake01/aramis/users/sasha.collin/miniconda3/envs/venv/lib/python3.7/site-packages/pandas/core/indexing.py\", line 1124, in _getitem_axis\n    return self._get_label(key, axis=axis)\n  File \"/network/lustre/dtlake01/aramis/users/sasha.collin/miniconda3/envs/venv/lib/python3.7/site-packages/pandas/core/indexing.py\", line 1073, in _get_label\n    return self.obj.xs(label, axis=axis)\n  File \"/network/lustre/dtlake01/aramis/users/sasha.collin/miniconda3/envs/venv/lib/python3.7/site-packages/pandas/core/generic.py\", line 3739, in xs\n    loc = index.get_loc(key)\n  File \"/network/lustre/dtlake01/aramis/users/sasha.collin/miniconda3/envs/venv/lib/python3.7/site-packages/pandas/core/indexes/base.py\", line 3082, in get_loc\n    raise KeyError(key) from err\nKeyError: 5\n",
     "output_type": "error",
     "traceback": [
      "\u001b[0;31m---------------------------------------------------------------------------\u001b[0m",
      "\u001b[0;31mKeyError\u001b[0m                                  Traceback (most recent call last)",
      "\u001b[0;32m<ipython-input-9-3cc90ec1a0e4>\u001b[0m in \u001b[0;36m<module>\u001b[0;34m\u001b[0m\n\u001b[0;32m----> 1\u001b[0;31m \u001b[0mtrain\u001b[0m\u001b[0;34m(\u001b[0m\u001b[0mmodel\u001b[0m\u001b[0;34m,\u001b[0m \u001b[0mtrain_loader\u001b[0m\u001b[0;34m,\u001b[0m \u001b[0mvalid_loader\u001b[0m\u001b[0;34m,\u001b[0m \u001b[0mcriterion\u001b[0m\u001b[0;34m,\u001b[0m \u001b[0moptimizer\u001b[0m\u001b[0;34m,\u001b[0m\u001b[0;32mFalse\u001b[0m\u001b[0;34m,\u001b[0m\u001b[0;34m'log_dir'\u001b[0m\u001b[0;34m,\u001b[0m\u001b[0;34m'model_dir'\u001b[0m\u001b[0;34m,\u001b[0m \u001b[0mOptions\u001b[0m\u001b[0;34m(\u001b[0m\u001b[0;34m)\u001b[0m\u001b[0;34m)\u001b[0m\u001b[0;34m\u001b[0m\u001b[0;34m\u001b[0m\u001b[0m\n\u001b[0m",
      "\u001b[0;32m/network/lustre/dtlake01/aramis/users/sasha.collin/miniconda3/envs/venv/lib/python3.7/site-packages/clinicadl/tools/deep_learning/cnn_utils.py\u001b[0m in \u001b[0;36mtrain\u001b[0;34m(model, train_loader, valid_loader, criterion, optimizer, resume, log_dir, model_dir, options, logger)\u001b[0m\n\u001b[1;32m     93\u001b[0m         \u001b[0mtotal_time\u001b[0m \u001b[0;34m=\u001b[0m \u001b[0;36m0\u001b[0m\u001b[0;34m\u001b[0m\u001b[0;34m\u001b[0m\u001b[0m\n\u001b[1;32m     94\u001b[0m \u001b[0;34m\u001b[0m\u001b[0m\n\u001b[0;32m---> 95\u001b[0;31m         \u001b[0;32mfor\u001b[0m \u001b[0mi\u001b[0m\u001b[0;34m,\u001b[0m \u001b[0mdata\u001b[0m \u001b[0;32min\u001b[0m \u001b[0menumerate\u001b[0m\u001b[0;34m(\u001b[0m\u001b[0mtrain_loader\u001b[0m\u001b[0;34m,\u001b[0m \u001b[0;36m0\u001b[0m\u001b[0;34m)\u001b[0m\u001b[0;34m:\u001b[0m\u001b[0;34m\u001b[0m\u001b[0;34m\u001b[0m\u001b[0m\n\u001b[0m\u001b[1;32m     96\u001b[0m             \u001b[0mt0\u001b[0m \u001b[0;34m=\u001b[0m \u001b[0mtime\u001b[0m\u001b[0;34m(\u001b[0m\u001b[0;34m)\u001b[0m\u001b[0;34m\u001b[0m\u001b[0;34m\u001b[0m\u001b[0m\n\u001b[1;32m     97\u001b[0m             \u001b[0mtotal_time\u001b[0m \u001b[0;34m=\u001b[0m \u001b[0mtotal_time\u001b[0m \u001b[0;34m+\u001b[0m \u001b[0mt0\u001b[0m \u001b[0;34m-\u001b[0m \u001b[0mtend\u001b[0m\u001b[0;34m\u001b[0m\u001b[0;34m\u001b[0m\u001b[0m\n",
      "\u001b[0;32m/network/lustre/dtlake01/aramis/users/sasha.collin/miniconda3/envs/venv/lib/python3.7/site-packages/torch/utils/data/dataloader.py\u001b[0m in \u001b[0;36m__next__\u001b[0;34m(self)\u001b[0m\n\u001b[1;32m    361\u001b[0m \u001b[0;34m\u001b[0m\u001b[0m\n\u001b[1;32m    362\u001b[0m     \u001b[0;32mdef\u001b[0m \u001b[0m__next__\u001b[0m\u001b[0;34m(\u001b[0m\u001b[0mself\u001b[0m\u001b[0;34m)\u001b[0m\u001b[0;34m:\u001b[0m\u001b[0;34m\u001b[0m\u001b[0;34m\u001b[0m\u001b[0m\n\u001b[0;32m--> 363\u001b[0;31m         \u001b[0mdata\u001b[0m \u001b[0;34m=\u001b[0m \u001b[0mself\u001b[0m\u001b[0;34m.\u001b[0m\u001b[0m_next_data\u001b[0m\u001b[0;34m(\u001b[0m\u001b[0;34m)\u001b[0m\u001b[0;34m\u001b[0m\u001b[0;34m\u001b[0m\u001b[0m\n\u001b[0m\u001b[1;32m    364\u001b[0m         \u001b[0mself\u001b[0m\u001b[0;34m.\u001b[0m\u001b[0m_num_yielded\u001b[0m \u001b[0;34m+=\u001b[0m \u001b[0;36m1\u001b[0m\u001b[0;34m\u001b[0m\u001b[0;34m\u001b[0m\u001b[0m\n\u001b[1;32m    365\u001b[0m         \u001b[0;32mif\u001b[0m \u001b[0mself\u001b[0m\u001b[0;34m.\u001b[0m\u001b[0m_dataset_kind\u001b[0m \u001b[0;34m==\u001b[0m \u001b[0m_DatasetKind\u001b[0m\u001b[0;34m.\u001b[0m\u001b[0mIterable\u001b[0m \u001b[0;32mand\u001b[0m\u001b[0;31m \u001b[0m\u001b[0;31m\\\u001b[0m\u001b[0;34m\u001b[0m\u001b[0;34m\u001b[0m\u001b[0m\n",
      "\u001b[0;32m/network/lustre/dtlake01/aramis/users/sasha.collin/miniconda3/envs/venv/lib/python3.7/site-packages/torch/utils/data/dataloader.py\u001b[0m in \u001b[0;36m_next_data\u001b[0;34m(self)\u001b[0m\n\u001b[1;32m    987\u001b[0m             \u001b[0;32melse\u001b[0m\u001b[0;34m:\u001b[0m\u001b[0;34m\u001b[0m\u001b[0;34m\u001b[0m\u001b[0m\n\u001b[1;32m    988\u001b[0m                 \u001b[0;32mdel\u001b[0m \u001b[0mself\u001b[0m\u001b[0;34m.\u001b[0m\u001b[0m_task_info\u001b[0m\u001b[0;34m[\u001b[0m\u001b[0midx\u001b[0m\u001b[0;34m]\u001b[0m\u001b[0;34m\u001b[0m\u001b[0;34m\u001b[0m\u001b[0m\n\u001b[0;32m--> 989\u001b[0;31m                 \u001b[0;32mreturn\u001b[0m \u001b[0mself\u001b[0m\u001b[0;34m.\u001b[0m\u001b[0m_process_data\u001b[0m\u001b[0;34m(\u001b[0m\u001b[0mdata\u001b[0m\u001b[0;34m)\u001b[0m\u001b[0;34m\u001b[0m\u001b[0;34m\u001b[0m\u001b[0m\n\u001b[0m\u001b[1;32m    990\u001b[0m \u001b[0;34m\u001b[0m\u001b[0m\n\u001b[1;32m    991\u001b[0m     \u001b[0;32mdef\u001b[0m \u001b[0m_try_put_index\u001b[0m\u001b[0;34m(\u001b[0m\u001b[0mself\u001b[0m\u001b[0;34m)\u001b[0m\u001b[0;34m:\u001b[0m\u001b[0;34m\u001b[0m\u001b[0;34m\u001b[0m\u001b[0m\n",
      "\u001b[0;32m/network/lustre/dtlake01/aramis/users/sasha.collin/miniconda3/envs/venv/lib/python3.7/site-packages/torch/utils/data/dataloader.py\u001b[0m in \u001b[0;36m_process_data\u001b[0;34m(self, data)\u001b[0m\n\u001b[1;32m   1012\u001b[0m         \u001b[0mself\u001b[0m\u001b[0;34m.\u001b[0m\u001b[0m_try_put_index\u001b[0m\u001b[0;34m(\u001b[0m\u001b[0;34m)\u001b[0m\u001b[0;34m\u001b[0m\u001b[0;34m\u001b[0m\u001b[0m\n\u001b[1;32m   1013\u001b[0m         \u001b[0;32mif\u001b[0m \u001b[0misinstance\u001b[0m\u001b[0;34m(\u001b[0m\u001b[0mdata\u001b[0m\u001b[0;34m,\u001b[0m \u001b[0mExceptionWrapper\u001b[0m\u001b[0;34m)\u001b[0m\u001b[0;34m:\u001b[0m\u001b[0;34m\u001b[0m\u001b[0;34m\u001b[0m\u001b[0m\n\u001b[0;32m-> 1014\u001b[0;31m             \u001b[0mdata\u001b[0m\u001b[0;34m.\u001b[0m\u001b[0mreraise\u001b[0m\u001b[0;34m(\u001b[0m\u001b[0;34m)\u001b[0m\u001b[0;34m\u001b[0m\u001b[0;34m\u001b[0m\u001b[0m\n\u001b[0m\u001b[1;32m   1015\u001b[0m         \u001b[0;32mreturn\u001b[0m \u001b[0mdata\u001b[0m\u001b[0;34m\u001b[0m\u001b[0;34m\u001b[0m\u001b[0m\n\u001b[1;32m   1016\u001b[0m \u001b[0;34m\u001b[0m\u001b[0m\n",
      "\u001b[0;32m/network/lustre/dtlake01/aramis/users/sasha.collin/miniconda3/envs/venv/lib/python3.7/site-packages/torch/_utils.py\u001b[0m in \u001b[0;36mreraise\u001b[0;34m(self)\u001b[0m\n\u001b[1;32m    393\u001b[0m             \u001b[0;31m# (https://bugs.python.org/issue2651), so we work around it.\u001b[0m\u001b[0;34m\u001b[0m\u001b[0;34m\u001b[0m\u001b[0;34m\u001b[0m\u001b[0m\n\u001b[1;32m    394\u001b[0m             \u001b[0mmsg\u001b[0m \u001b[0;34m=\u001b[0m \u001b[0mKeyErrorMessage\u001b[0m\u001b[0;34m(\u001b[0m\u001b[0mmsg\u001b[0m\u001b[0;34m)\u001b[0m\u001b[0;34m\u001b[0m\u001b[0;34m\u001b[0m\u001b[0m\n\u001b[0;32m--> 395\u001b[0;31m         \u001b[0;32mraise\u001b[0m \u001b[0mself\u001b[0m\u001b[0;34m.\u001b[0m\u001b[0mexc_type\u001b[0m\u001b[0;34m(\u001b[0m\u001b[0mmsg\u001b[0m\u001b[0;34m)\u001b[0m\u001b[0;34m\u001b[0m\u001b[0;34m\u001b[0m\u001b[0m\n\u001b[0m",
      "\u001b[0;31mKeyError\u001b[0m: Caught KeyError in DataLoader worker process 0.\nOriginal Traceback (most recent call last):\n  File \"/network/lustre/dtlake01/aramis/users/sasha.collin/miniconda3/envs/venv/lib/python3.7/site-packages/pandas/core/indexes/base.py\", line 3080, in get_loc\n    return self._engine.get_loc(casted_key)\n  File \"pandas/_libs/index.pyx\", line 70, in pandas._libs.index.IndexEngine.get_loc\n  File \"pandas/_libs/index.pyx\", line 101, in pandas._libs.index.IndexEngine.get_loc\n  File \"pandas/_libs/hashtable_class_helper.pxi\", line 1625, in pandas._libs.hashtable.Int64HashTable.get_item\n  File \"pandas/_libs/hashtable_class_helper.pxi\", line 1632, in pandas._libs.hashtable.Int64HashTable.get_item\nKeyError: 5\n\nThe above exception was the direct cause of the following exception:\n\nTraceback (most recent call last):\n  File \"/network/lustre/dtlake01/aramis/users/sasha.collin/miniconda3/envs/venv/lib/python3.7/site-packages/torch/utils/data/_utils/worker.py\", line 185, in _worker_loop\n    data = fetcher.fetch(index)\n  File \"/network/lustre/dtlake01/aramis/users/sasha.collin/miniconda3/envs/venv/lib/python3.7/site-packages/torch/utils/data/_utils/fetch.py\", line 44, in fetch\n    data = [self.dataset[idx] for idx in possibly_batched_index]\n  File \"/network/lustre/dtlake01/aramis/users/sasha.collin/miniconda3/envs/venv/lib/python3.7/site-packages/torch/utils/data/_utils/fetch.py\", line 44, in <listcomp>\n    data = [self.dataset[idx] for idx in possibly_batched_index]\n  File \"/network/lustre/dtlake01/aramis/users/sasha.collin/miniconda3/envs/venv/lib/python3.7/site-packages/clinicadl/tools/deep_learning/data.py\", line 566, in __getitem__\n    participant, session, cohort, slice_idx, label = self._get_meta_data(idx)\n  File \"/network/lustre/dtlake01/aramis/users/sasha.collin/miniconda3/envs/venv/lib/python3.7/site-packages/clinicadl/tools/deep_learning/data.py\", line 140, in _get_meta_data\n    participant = self.df.loc[image_idx, 'participant_id']\n  File \"/network/lustre/dtlake01/aramis/users/sasha.collin/miniconda3/envs/venv/lib/python3.7/site-packages/pandas/core/indexing.py\", line 889, in __getitem__\n    return self._getitem_tuple(key)\n  File \"/network/lustre/dtlake01/aramis/users/sasha.collin/miniconda3/envs/venv/lib/python3.7/site-packages/pandas/core/indexing.py\", line 1060, in _getitem_tuple\n    return self._getitem_lowerdim(tup)\n  File \"/network/lustre/dtlake01/aramis/users/sasha.collin/miniconda3/envs/venv/lib/python3.7/site-packages/pandas/core/indexing.py\", line 807, in _getitem_lowerdim\n    section = self._getitem_axis(key, axis=i)\n  File \"/network/lustre/dtlake01/aramis/users/sasha.collin/miniconda3/envs/venv/lib/python3.7/site-packages/pandas/core/indexing.py\", line 1124, in _getitem_axis\n    return self._get_label(key, axis=axis)\n  File \"/network/lustre/dtlake01/aramis/users/sasha.collin/miniconda3/envs/venv/lib/python3.7/site-packages/pandas/core/indexing.py\", line 1073, in _get_label\n    return self.obj.xs(label, axis=axis)\n  File \"/network/lustre/dtlake01/aramis/users/sasha.collin/miniconda3/envs/venv/lib/python3.7/site-packages/pandas/core/generic.py\", line 3739, in xs\n    loc = index.get_loc(key)\n  File \"/network/lustre/dtlake01/aramis/users/sasha.collin/miniconda3/envs/venv/lib/python3.7/site-packages/pandas/core/indexes/base.py\", line 3082, in get_loc\n    raise KeyError(key) from err\nKeyError: 5\n"
     ]
    }
   ],
   "source": [
    "train(model, train_loader, valid_loader, criterion, optimizer,False,'log_dir','model_dir', Options())"
   ]
  }
 ],
 "metadata": {
  "kernelspec": {
   "display_name": "Python 3",
   "language": "python",
   "name": "python3"
  },
  "language_info": {
   "codemirror_mode": {
    "name": "ipython",
    "version": 3
   },
   "file_extension": ".py",
   "mimetype": "text/x-python",
   "name": "python",
   "nbconvert_exporter": "python",
   "pygments_lexer": "ipython3",
   "version": "3.7.10"
  }
 },
 "nbformat": 4,
 "nbformat_minor": 5
}
